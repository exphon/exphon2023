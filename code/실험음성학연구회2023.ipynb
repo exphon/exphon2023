{
 "cells": [
  {
   "cell_type": "markdown",
   "id": "64248552",
   "metadata": {},
   "source": [
    "# 실험음성학 연구회 2023"
   ]
  },
  {
   "cell_type": "code",
   "execution_count": 125,
   "id": "c6ceb0c2",
   "metadata": {},
   "outputs": [
    {
     "name": "stdout",
     "output_type": "stream",
     "text": [
      "['ALICE', 'ALICE', 'ALICE', 'ALICE', 'ALICE']\n"
     ]
    }
   ],
   "source": [
    "capital_letter_list = []\n",
    "words = ['Alice', 'alice', 'ALICE', 'aLIce', 'aLICE']\n",
    "\n",
    "for word in words:\n",
    "    capital = word.upper()\n",
    "    capital_letter_list.append(capital)\n",
    "\n",
    "print(capital_letter_list)\n"
   ]
  },
  {
   "cell_type": "code",
   "execution_count": 126,
   "id": "d73c3010",
   "metadata": {},
   "outputs": [
    {
     "name": "stdout",
     "output_type": "stream",
     "text": [
      "<class 'str'>\n",
      "{\n",
      "    \"id\": \"SDRW2100000001\",\n",
      "    \"metadata\": {\n",
      "        \"title\": \"국립국어원 구어 말뭉치 SDRW2100000001\",\n",
      "        \"creator\": \"국립국어원\",\n",
      "        \"distributor\": \"국립국어원\",\n",
      "        \"year\": \"2021\",\n",
      "        \"category\": \"구어 > 사적대화 > 일상대화\",\n",
      "        \"annotation_level\": [\n",
      "            \"원시\"\n",
      "        ],\n",
      "        \"sampling\": \"본문 전체\"\n",
      "    },\n",
      "    \"document\": [\n",
      "        {\n",
      "            \"id\": \"SDRW2100000001.1\",\n",
      "            \"metadata\": {\n",
      "                \"title\": \"2인 일상 대화\",\n",
      "                \"author\": \"개인 발화자\",\n",
      "                \"publisher\": \"개인 발화 녹음\",\n",
      "                \"date\": \"20210805\",\n",
      "                \"topic\": \"음악 > 음악취향, 아이돌\",\n",
      "                \"speaker\": [\n",
      "                    {\n",
      "                        \"id\": \"SD2100001\",\n",
      "                        \"age\": \"20대\",\n",
      "                        \"occupation\": \"학생\",\n",
      "                        \"sex\": \"여성\",\n",
      "                        \"birthplace\": \"서울\",\n",
      "                        \"principal_residence\": \"경기\",\n",
      "                        \"current_residence\": \"서울\",\n",
      "                        \"education\": \"대재\"\n",
      "                    },\n",
      "                    {\n",
      "                        \"id\": \"SD2100002\",\n",
      "                        \"age\": \"20대\",\n",
      "                        \"occupation\": \"학생\",\n",
      "                        \"sex\": \"여성\",\n",
      "                        \"birthplace\": \"전남\",\n",
      "                        \"principal_residence\": \"서울\",\n",
      "                        \"current_residence\": \"서울\",\n",
      "                        \"education\": \"대재\"\n",
      "                    }\n",
      "                ],\n",
      "                \"setting\": {\n",
      "                    \"relation\": \"친구\"\n",
      "                }\n",
      "            },\n",
      "            \"utterance\": [\n",
      "                {\n",
      "                    \"id\": \"SDRW2100000001.1.1.1\",\n",
      "                    \"form\": \"너 그래 가지고 우리 저번에 호텔 갔을 때\",\n",
      "                    \"original_form\": \"너 그래 가지고 우리 저번에 호텔 갔을 때\",\n",
      "                    \"speaker_id\": \"SD2100001\",\n",
      "                    \"start\": \"1.58000\",\n",
      "                    \"end\": \"5.30400\",\n",
      "                    \"note\": \"\"\n",
      "                },\n",
      "                {\n",
      "                    \"id\": \"SDRW2100000001.1.1.421\",\n",
      "                    \"form\": \"스트리밍 하는 게 나을 것 같아.\",\n",
      "                    \"original_form\": \"쓰트리밍 하는 게 나을 것 같아.\",\n",
      "                    \"speaker_id\": \"SD2100002\",\n",
      "                    \"start\": \"915.10000\",\n",
      "                    \"end\": \"917.48898\",\n",
      "                    \"note\": \"발화겹침\"\n",
      "                },\n",
      "                {\n",
      "                    \"id\": \"SDRW2100000001.1.1.422\",\n",
      "                    \"form\": \"음\",\n",
      "                    \"original_form\": \"음\",\n",
      "                    \"speaker_id\": \"SD2100001\",\n",
      "                    \"start\": \"917.47903\",\n",
      "                    \"end\": \"918.38900\",\n",
      "                    \"note\": \"발화겹침\"\n",
      "                }\n",
      "            ]\n",
      "        }\n",
      "    ]\n",
      "}\n"
     ]
    }
   ],
   "source": [
    "fname = \"./data/SDRW2100000001_test.json\"\n",
    "f = open(fname, encoding=\"utf8\")\n",
    "text = f.read()\n",
    "f.close()\n",
    "print(type(text))\n",
    "print(text)"
   ]
  },
  {
   "cell_type": "code",
   "execution_count": 1,
   "id": "98b4c081",
   "metadata": {},
   "outputs": [
    {
     "name": "stdout",
     "output_type": "stream",
     "text": [
      "<class 'str'>\n",
      "{\n",
      "    \"id\": \"SDRW2100000001\",\n",
      "    \"metadata\": {\n",
      "        \"title\": \"국립국어원 구어 말뭉치 SDRW2100000001\",\n",
      "        \"creator\": \"국립국어원\",\n",
      "        \"distributor\": \"국립국어원\",\n",
      "        \"year\": \"2021\",\n",
      "        \"category\": \"구어 > 사적대화 > 일상대화\",\n",
      "        \"annotation_level\": [\n",
      "            \"원시\"\n",
      "        ],\n",
      "        \"sampling\": \"본문 전체\"\n",
      "    },\n",
      "    \"document\": [\n",
      "        {\n",
      "            \"id\": \"SDRW2100000001.1\",\n",
      "            \"metadata\": {\n",
      "                \"title\": \"2인 일상 대화\",\n",
      "                \"author\": \"개인 발화자\",\n",
      "                \"publisher\": \"개인 발화 녹음\",\n",
      "                \"date\": \"20210805\",\n",
      "                \"topic\": \"음악 > 음악취향, 아이돌\",\n",
      "                \"speaker\": [\n",
      "                    {\n",
      "                        \"id\": \"SD2100001\",\n",
      "                        \"age\": \"20대\",\n",
      "                        \"occupation\": \"학생\",\n",
      "                        \"sex\": \"여성\",\n",
      "                        \"birthplace\": \"서울\",\n",
      "                        \"principal_residence\": \"경기\",\n",
      "                        \"current_residence\": \"서울\",\n",
      "                        \"education\": \"대재\"\n",
      "                    },\n",
      "                    {\n",
      "                        \"id\": \"SD2100002\",\n",
      "                        \"age\": \"20대\",\n",
      "                        \"occupation\": \"학생\",\n",
      "                        \"sex\": \"여성\",\n",
      "                        \"birthplace\": \"전남\",\n",
      "                        \"principal_residence\": \"서울\",\n",
      "                        \"current_residence\": \"서울\",\n",
      "                        \"education\": \"대재\"\n",
      "                    }\n",
      "                ],\n",
      "                \"setting\": {\n",
      "                    \"relation\": \"친구\"\n",
      "                }\n",
      "            },\n",
      "            \"utterance\": [\n",
      "                {\n",
      "                    \"id\": \"SDRW2100000001.1.1.1\",\n",
      "                    \"form\": \"너 그래 가지고 우리 저번에 호텔 갔을 때\",\n",
      "                    \"original_form\": \"너 그래 가지고 우리 저번에 호텔 갔을 때\",\n",
      "                    \"speaker_id\": \"SD2100001\",\n",
      "                    \"start\": \"1.58000\",\n",
      "                    \"end\": \"5.30400\",\n",
      "                    \"note\": \"\"\n",
      "                },\n",
      "                {\n",
      "                    \"id\": \"SDRW2100000001.1.1.421\",\n",
      "                    \"form\": \"스트리밍 하는 게 나을 것 같아.\",\n",
      "                    \"original_form\": \"쓰트리밍 하는 게 나을 것 같아.\",\n",
      "                    \"speaker_id\": \"SD2100002\",\n",
      "                    \"start\": \"915.10000\",\n",
      "                    \"end\": \"917.48898\",\n",
      "                    \"note\": \"발화겹침\"\n",
      "                },\n",
      "                {\n",
      "                    \"id\": \"SDRW2100000001.1.1.422\",\n",
      "                    \"form\": \"음\",\n",
      "                    \"original_form\": \"음\",\n",
      "                    \"speaker_id\": \"SD2100001\",\n",
      "                    \"start\": \"917.47903\",\n",
      "                    \"end\": \"918.38900\",\n",
      "                    \"note\": \"발화겹침\"\n",
      "                }\n",
      "            ]\n",
      "        }\n",
      "    ]\n",
      "}\n"
     ]
    }
   ],
   "source": [
    "with open(\"./data/SDRW2100000001_test.json\", encoding=\"utf8\") as f:\n",
    "    text = f.read()\n",
    "print(type(text))\n",
    "print(text)"
   ]
  },
  {
   "cell_type": "code",
   "execution_count": null,
   "id": "da750981",
   "metadata": {},
   "outputs": [],
   "source": []
  },
  {
   "cell_type": "code",
   "execution_count": 128,
   "id": "77013f26",
   "metadata": {},
   "outputs": [],
   "source": [
    "# 절대 경로 vs. 상대 경로\n",
    "file = \"/Users/tyoo/Dropbox/work/실험음성학연구회2023/data/SDRW2100000001_test.json\"\n",
    "file = \"./data/SDRW2100000001_test.json\""
   ]
  },
  {
   "cell_type": "code",
   "execution_count": 129,
   "id": "21e278f0",
   "metadata": {},
   "outputs": [
    {
     "name": "stdout",
     "output_type": "stream",
     "text": [
      "<class 'str'>\n",
      "{\n",
      "    \"id\": \"SDRW2100000001\",\n",
      "    \"metadata\": {\n",
      "        \"title\": \"국립국어원 구어 말뭉치 SDRW2100000001\",\n",
      "        \"creator\": \"국립국어원\",\n",
      "        \"distributor\": \"국립국어원\",\n",
      "        \"year\": \"2021\",\n",
      "        \"category\": \"구어 > 사적대화 > 일상대화\",\n",
      "        \"annotation_level\": [\n",
      "            \"원시\"\n",
      "        ],\n",
      "        \"sampling\": \"본문 전체\"\n",
      "    },\n",
      "    \"document\": [\n",
      "        {\n",
      "            \"id\": \"SDRW2100000001.1\",\n",
      "            \"metadata\": {\n",
      "                \"title\": \"2인 일상 대화\",\n",
      "                \"author\": \"개인 발화자\",\n",
      "                \"publisher\": \"개인 발화 녹음\",\n",
      "                \"date\": \"20210805\",\n",
      "                \"topic\": \"음악 > 음악취향, 아이돌\",\n",
      "                \"speaker\": [\n",
      "                    {\n",
      "                        \"id\": \"SD2100001\",\n",
      "                        \"age\": \"20대\",\n",
      "                        \"occupation\": \"학생\",\n",
      "                        \"sex\": \"여성\",\n",
      "                        \"birthplace\": \"서울\",\n",
      "                        \"principal_residence\": \"경기\",\n",
      "                        \"current_residence\": \"서울\",\n",
      "                        \"education\": \"대재\"\n",
      "                    },\n",
      "                    {\n",
      "                        \"id\": \"SD2100002\",\n",
      "                        \"age\": \"20대\",\n",
      "                        \"occupation\": \"학생\",\n",
      "                        \"sex\": \"여성\",\n",
      "                        \"birthplace\": \"전남\",\n",
      "                        \"principal_residence\": \"서울\",\n",
      "                        \"current_residence\": \"서울\",\n",
      "                        \"education\": \"대재\"\n",
      "                    }\n",
      "                ],\n",
      "                \"setting\": {\n",
      "                    \"relation\": \"친구\"\n",
      "                }\n",
      "            },\n",
      "            \"utterance\": [\n",
      "                {\n",
      "                    \"id\": \"SDRW2100000001.1.1.1\",\n",
      "                    \"form\": \"너 그래 가지고 우리 저번에 호텔 갔을 때\",\n",
      "                    \"original_form\": \"너 그래 가지고 우리 저번에 호텔 갔을 때\",\n",
      "                    \"speaker_id\": \"SD2100001\",\n",
      "                    \"start\": \"1.58000\",\n",
      "                    \"end\": \"5.30400\",\n",
      "                    \"note\": \"\"\n",
      "                },\n",
      "                {\n",
      "                    \"id\": \"SDRW2100000001.1.1.421\",\n",
      "                    \"form\": \"스트리밍 하는 게 나을 것 같아.\",\n",
      "                    \"original_form\": \"쓰트리밍 하는 게 나을 것 같아.\",\n",
      "                    \"speaker_id\": \"SD2100002\",\n",
      "                    \"start\": \"915.10000\",\n",
      "                    \"end\": \"917.48898\",\n",
      "                    \"note\": \"발화겹침\"\n",
      "                },\n",
      "                {\n",
      "                    \"id\": \"SDRW2100000001.1.1.422\",\n",
      "                    \"form\": \"음\",\n",
      "                    \"original_form\": \"음\",\n",
      "                    \"speaker_id\": \"SD2100001\",\n",
      "                    \"start\": \"917.47903\",\n",
      "                    \"end\": \"918.38900\",\n",
      "                    \"note\": \"발화겹침\"\n",
      "                }\n",
      "            ]\n",
      "        }\n",
      "    ]\n",
      "}\n"
     ]
    }
   ],
   "source": [
    "file = \"./data/SDRW2100000001_test.json\"\n",
    "with open(file, encoding=\"utf8\") as f:\n",
    "    text = f.read()\n",
    "print(type(text))\n",
    "print(text)"
   ]
  },
  {
   "cell_type": "code",
   "execution_count": null,
   "id": "68007da8",
   "metadata": {},
   "outputs": [],
   "source": []
  },
  {
   "cell_type": "code",
   "execution_count": 130,
   "id": "2ee87d07",
   "metadata": {},
   "outputs": [
    {
     "name": "stdout",
     "output_type": "stream",
     "text": [
      "<class 'dict'>\n",
      "{'id': 'SDRW2100000001', 'metadata': {'title': '국립국어원 구어 말뭉치 SDRW2100000001', 'creator': '국립국어원', 'distributor': '국립국어원', 'year': '2021', 'category': '구어 > 사적대화 > 일상대화', 'annotation_level': ['원시'], 'sampling': '본문 전체'}, 'document': [{'id': 'SDRW2100000001.1', 'metadata': {'title': '2인 일상 대화', 'author': '개인 발화자', 'publisher': '개인 발화 녹음', 'date': '20210805', 'topic': '음악 > 음악취향, 아이돌', 'speaker': [{'id': 'SD2100001', 'age': '20대', 'occupation': '학생', 'sex': '여성', 'birthplace': '서울', 'principal_residence': '경기', 'current_residence': '서울', 'education': '대재'}, {'id': 'SD2100002', 'age': '20대', 'occupation': '학생', 'sex': '여성', 'birthplace': '전남', 'principal_residence': '서울', 'current_residence': '서울', 'education': '대재'}], 'setting': {'relation': '친구'}}, 'utterance': [{'id': 'SDRW2100000001.1.1.1', 'form': '너 그래 가지고 우리 저번에 호텔 갔을 때', 'original_form': '너 그래 가지고 우리 저번에 호텔 갔을 때', 'speaker_id': 'SD2100001', 'start': '1.58000', 'end': '5.30400', 'note': ''}, {'id': 'SDRW2100000001.1.1.421', 'form': '스트리밍 하는 게 나을 것 같아.', 'original_form': '쓰트리밍 하는 게 나을 것 같아.', 'speaker_id': 'SD2100002', 'start': '915.10000', 'end': '917.48898', 'note': '발화겹침'}, {'id': 'SDRW2100000001.1.1.422', 'form': '음', 'original_form': '음', 'speaker_id': 'SD2100001', 'start': '917.47903', 'end': '918.38900', 'note': '발화겹침'}]}]}\n"
     ]
    }
   ],
   "source": [
    "import json\n",
    "with open(file, encoding=\"utf8\") as f:\n",
    "    docs = json.loads(f.read())\n",
    "print(type(docs))\n",
    "print(docs)"
   ]
  },
  {
   "cell_type": "code",
   "execution_count": 131,
   "id": "a26f8dbc",
   "metadata": {},
   "outputs": [
    {
     "name": "stdout",
     "output_type": "stream",
     "text": [
      "{\n",
      "  \"id\": \"SDRW2100000001\",\n",
      "  \"metadata\": {\n",
      "    \"title\": \"국립국어원 구어 말뭉치 SDRW2100000001\",\n",
      "    \"creator\": \"국립국어원\",\n",
      "    \"distributor\": \"국립국어원\",\n",
      "    \"year\": \"2021\",\n",
      "    \"category\": \"구어 > 사적대화 > 일상대화\",\n",
      "    \"annotation_level\": [\n",
      "      \"원시\"\n",
      "    ],\n",
      "    \"sampling\": \"본문 전체\"\n",
      "  },\n",
      "  \"document\": [\n",
      "    {\n",
      "      \"id\": \"SDRW2100000001.1\",\n",
      "      \"metadata\": {\n",
      "        \"title\": \"2인 일상 대화\",\n",
      "        \"author\": \"개인 발화자\",\n",
      "        \"publisher\": \"개인 발화 녹음\",\n",
      "        \"date\": \"20210805\",\n",
      "        \"topic\": \"음악 > 음악취향, 아이돌\",\n",
      "        \"speaker\": [\n",
      "          {\n",
      "            \"id\": \"SD2100001\",\n",
      "            \"age\": \"20대\",\n",
      "            \"occupation\": \"학생\",\n",
      "            \"sex\": \"여성\",\n",
      "            \"birthplace\": \"서울\",\n",
      "            \"principal_residence\": \"경기\",\n",
      "            \"current_residence\": \"서울\",\n",
      "            \"education\": \"대재\"\n",
      "          },\n",
      "          {\n",
      "            \"id\": \"SD2100002\",\n",
      "            \"age\": \"20대\",\n",
      "            \"occupation\": \"학생\",\n",
      "            \"sex\": \"여성\",\n",
      "            \"birthplace\": \"전남\",\n",
      "            \"principal_residence\": \"서울\",\n",
      "            \"current_residence\": \"서울\",\n",
      "            \"education\": \"대재\"\n",
      "          }\n",
      "        ],\n",
      "        \"setting\": {\n",
      "          \"relation\": \"친구\"\n",
      "        }\n",
      "      },\n",
      "      \"utterance\": [\n",
      "        {\n",
      "          \"id\": \"SDRW2100000001.1.1.1\",\n",
      "          \"form\": \"너 그래 가지고 우리 저번에 호텔 갔을 때\",\n",
      "          \"original_form\": \"너 그래 가지고 우리 저번에 호텔 갔을 때\",\n",
      "          \"speaker_id\": \"SD2100001\",\n",
      "          \"start\": \"1.58000\",\n",
      "          \"end\": \"5.30400\",\n",
      "          \"note\": \"\"\n",
      "        },\n",
      "        {\n",
      "          \"id\": \"SDRW2100000001.1.1.421\",\n",
      "          \"form\": \"스트리밍 하는 게 나을 것 같아.\",\n",
      "          \"original_form\": \"쓰트리밍 하는 게 나을 것 같아.\",\n",
      "          \"speaker_id\": \"SD2100002\",\n",
      "          \"start\": \"915.10000\",\n",
      "          \"end\": \"917.48898\",\n",
      "          \"note\": \"발화겹침\"\n",
      "        },\n",
      "        {\n",
      "          \"id\": \"SDRW2100000001.1.1.422\",\n",
      "          \"form\": \"음\",\n",
      "          \"original_form\": \"음\",\n",
      "          \"speaker_id\": \"SD2100001\",\n",
      "          \"start\": \"917.47903\",\n",
      "          \"end\": \"918.38900\",\n",
      "          \"note\": \"발화겹침\"\n",
      "        }\n",
      "      ]\n",
      "    }\n",
      "  ]\n",
      "}\n"
     ]
    }
   ],
   "source": [
    "json_formatted_str = json.dumps(docs, indent=2, ensure_ascii=False)\n",
    "print(json_formatted_str)"
   ]
  },
  {
   "cell_type": "code",
   "execution_count": 132,
   "id": "f15c6d9b",
   "metadata": {},
   "outputs": [
    {
     "data": {
      "text/plain": [
       "'one'"
      ]
     },
     "execution_count": 132,
     "metadata": {},
     "output_type": "execute_result"
    }
   ],
   "source": [
    "# p 31. dict\n",
    "dict_ex = {'하나':'one', '둘':{'two': 'duo'}, '셋': {\"삼\": 'trio'}}\n",
    "dict_ex['하나']"
   ]
  },
  {
   "cell_type": "code",
   "execution_count": 133,
   "id": "c39dc127",
   "metadata": {},
   "outputs": [
    {
     "data": {
      "text/plain": [
       "{'two': 'duo'}"
      ]
     },
     "execution_count": 133,
     "metadata": {},
     "output_type": "execute_result"
    }
   ],
   "source": [
    "dict_ex['둘']"
   ]
  },
  {
   "cell_type": "code",
   "execution_count": 134,
   "id": "2f8f0035",
   "metadata": {},
   "outputs": [
    {
     "data": {
      "text/plain": [
       "'trio'"
      ]
     },
     "execution_count": 134,
     "metadata": {},
     "output_type": "execute_result"
    }
   ],
   "source": [
    "dict_ex['셋']['삼']"
   ]
  },
  {
   "cell_type": "markdown",
   "id": "59f25f9f",
   "metadata": {},
   "source": [
    "## Handling JSON data like a dict"
   ]
  },
  {
   "cell_type": "code",
   "execution_count": 135,
   "id": "13737185",
   "metadata": {},
   "outputs": [
    {
     "data": {
      "text/plain": [
       "'SDRW2100000001'"
      ]
     },
     "execution_count": 135,
     "metadata": {},
     "output_type": "execute_result"
    }
   ],
   "source": [
    "docs['id']"
   ]
  },
  {
   "cell_type": "code",
   "execution_count": 136,
   "id": "4f07b2d7",
   "metadata": {},
   "outputs": [
    {
     "name": "stdout",
     "output_type": "stream",
     "text": [
      "***metadata***\n",
      "{'title': '국립국어원 구어 말뭉치 SDRW2100000001', 'creator': '국립국어원', 'distributor': '국립국어원', 'year': '2021', 'category': '구어 > 사적대화 > 일상대화', 'annotation_level': ['원시'], 'sampling': '본문 전체'}\n",
      "***metadata/title***\n",
      "국립국어원 구어 말뭉치 SDRW2100000001\n"
     ]
    }
   ],
   "source": [
    "print(\"***metadata***\")\n",
    "print(docs['metadata'])\n",
    "print(\"***metadata/title***\")\n",
    "print(docs['metadata']['title'])\n",
    "\n",
    "docs_id = docs['id']\n",
    "docs_meta = docs['metadata']\n",
    "docs_title = docs['metadata']['title']\n"
   ]
  },
  {
   "cell_type": "markdown",
   "id": "6a17e88b",
   "metadata": {},
   "source": [
    "- p. 32 Pandas 소개"
   ]
  },
  {
   "cell_type": "markdown",
   "id": "76623156",
   "metadata": {},
   "source": [
    "### From List to DataFrame\n"
   ]
  },
  {
   "cell_type": "code",
   "execution_count": 137,
   "id": "a579db93",
   "metadata": {},
   "outputs": [
    {
     "data": {
      "text/html": [
       "<div>\n",
       "<style scoped>\n",
       "    .dataframe tbody tr th:only-of-type {\n",
       "        vertical-align: middle;\n",
       "    }\n",
       "\n",
       "    .dataframe tbody tr th {\n",
       "        vertical-align: top;\n",
       "    }\n",
       "\n",
       "    .dataframe thead th {\n",
       "        text-align: right;\n",
       "    }\n",
       "</style>\n",
       "<table border=\"1\" class=\"dataframe\">\n",
       "  <thead>\n",
       "    <tr style=\"text-align: right;\">\n",
       "      <th></th>\n",
       "      <th>subject</th>\n",
       "    </tr>\n",
       "  </thead>\n",
       "  <tbody>\n",
       "    <tr>\n",
       "      <th>0</th>\n",
       "      <td>phonetics</td>\n",
       "    </tr>\n",
       "    <tr>\n",
       "      <th>1</th>\n",
       "      <td>phonology</td>\n",
       "    </tr>\n",
       "    <tr>\n",
       "      <th>2</th>\n",
       "      <td>syntax</td>\n",
       "    </tr>\n",
       "    <tr>\n",
       "      <th>3</th>\n",
       "      <td>morphology</td>\n",
       "    </tr>\n",
       "  </tbody>\n",
       "</table>\n",
       "</div>"
      ],
      "text/plain": [
       "      subject\n",
       "0   phonetics\n",
       "1   phonology\n",
       "2      syntax\n",
       "3  morphology"
      ]
     },
     "execution_count": 137,
     "metadata": {},
     "output_type": "execute_result"
    }
   ],
   "source": [
    "import pandas as pd\n",
    "sample_list = ['phonetics', 'phonology', 'syntax', 'morphology']\n",
    "df = pd.DataFrame(sample_list, columns=['subject'])\n",
    "df"
   ]
  },
  {
   "cell_type": "code",
   "execution_count": 138,
   "id": "dec077f7",
   "metadata": {},
   "outputs": [
    {
     "data": {
      "text/html": [
       "<div>\n",
       "<style scoped>\n",
       "    .dataframe tbody tr th:only-of-type {\n",
       "        vertical-align: middle;\n",
       "    }\n",
       "\n",
       "    .dataframe tbody tr th {\n",
       "        vertical-align: top;\n",
       "    }\n",
       "\n",
       "    .dataframe thead th {\n",
       "        text-align: right;\n",
       "    }\n",
       "</style>\n",
       "<table border=\"1\" class=\"dataframe\">\n",
       "  <thead>\n",
       "    <tr style=\"text-align: right;\">\n",
       "      <th></th>\n",
       "      <th>doc_id</th>\n",
       "    </tr>\n",
       "  </thead>\n",
       "  <tbody>\n",
       "    <tr>\n",
       "      <th>0</th>\n",
       "      <td>SDRW2100000001</td>\n",
       "    </tr>\n",
       "  </tbody>\n",
       "</table>\n",
       "</div>"
      ],
      "text/plain": [
       "           doc_id\n",
       "0  SDRW2100000001"
      ]
     },
     "execution_count": 138,
     "metadata": {},
     "output_type": "execute_result"
    }
   ],
   "source": [
    "import pandas as pd\n",
    "docs_id_list = []\n",
    "docs_id_list.append(docs['id'])\n",
    "docs_id_df = pd.DataFrame(docs_id_list, columns = ['doc_id'])\n",
    "docs_id_df"
   ]
  },
  {
   "cell_type": "markdown",
   "id": "2d9ac358",
   "metadata": {},
   "source": [
    "## metadata 처리하기"
   ]
  },
  {
   "cell_type": "code",
   "execution_count": 139,
   "id": "3856e16b",
   "metadata": {},
   "outputs": [
    {
     "data": {
      "text/plain": [
       "{'title': '국립국어원 구어 말뭉치 SDRW2100000001',\n",
       " 'creator': '국립국어원',\n",
       " 'distributor': '국립국어원',\n",
       " 'year': '2021',\n",
       " 'category': '구어 > 사적대화 > 일상대화',\n",
       " 'annotation_level': ['원시'],\n",
       " 'sampling': '본문 전체'}"
      ]
     },
     "execution_count": 139,
     "metadata": {},
     "output_type": "execute_result"
    }
   ],
   "source": [
    "docs['metadata']"
   ]
  },
  {
   "cell_type": "code",
   "execution_count": 140,
   "id": "2a8b115e",
   "metadata": {},
   "outputs": [
    {
     "data": {
      "text/plain": [
       "'국립국어원 구어 말뭉치 SDRW2100000001'"
      ]
     },
     "execution_count": 140,
     "metadata": {},
     "output_type": "execute_result"
    }
   ],
   "source": [
    "docs['metadata']['title']"
   ]
  },
  {
   "cell_type": "code",
   "execution_count": 141,
   "id": "4c4a90db",
   "metadata": {},
   "outputs": [],
   "source": [
    "docs_title = docs['metadata']['title']"
   ]
  },
  {
   "cell_type": "code",
   "execution_count": 142,
   "id": "8f2095de",
   "metadata": {},
   "outputs": [
    {
     "data": {
      "text/plain": [
       "'국립국어원'"
      ]
     },
     "execution_count": 142,
     "metadata": {},
     "output_type": "execute_result"
    }
   ],
   "source": [
    "docs['metadata']['creator']"
   ]
  },
  {
   "cell_type": "code",
   "execution_count": 143,
   "id": "6836a818",
   "metadata": {},
   "outputs": [
    {
     "data": {
      "text/plain": [
       "'국립국어원'"
      ]
     },
     "execution_count": 143,
     "metadata": {},
     "output_type": "execute_result"
    }
   ],
   "source": [
    "docs_creator = docs['metadata']['creator']\n",
    "docs_creator "
   ]
  },
  {
   "cell_type": "markdown",
   "id": "bcab28f7",
   "metadata": {},
   "source": [
    "### From JSON to LIST"
   ]
  },
  {
   "cell_type": "code",
   "execution_count": 144,
   "id": "e1155c42",
   "metadata": {},
   "outputs": [
    {
     "name": "stdout",
     "output_type": "stream",
     "text": [
      "TITLE: ['국립국어원 구어 말뭉치 SDRW2100000001']\n",
      "CREATOR: ['국립국어원']\n"
     ]
    }
   ],
   "source": [
    "docs_title_list = []; docs_creator_list = []\n",
    "docs_title_list.append(docs_title)\n",
    "docs_creator_list.append(docs_creator)\n",
    "print(\"TITLE:\", docs_title_list)\n",
    "print(\"CREATOR:\", docs_creator_list)"
   ]
  },
  {
   "cell_type": "markdown",
   "id": "d71ae895",
   "metadata": {},
   "source": [
    "### FROM LISTS to DataFrames"
   ]
  },
  {
   "cell_type": "code",
   "execution_count": 145,
   "id": "5305bceb",
   "metadata": {},
   "outputs": [
    {
     "data": {
      "text/html": [
       "<div>\n",
       "<style scoped>\n",
       "    .dataframe tbody tr th:only-of-type {\n",
       "        vertical-align: middle;\n",
       "    }\n",
       "\n",
       "    .dataframe tbody tr th {\n",
       "        vertical-align: top;\n",
       "    }\n",
       "\n",
       "    .dataframe thead th {\n",
       "        text-align: right;\n",
       "    }\n",
       "</style>\n",
       "<table border=\"1\" class=\"dataframe\">\n",
       "  <thead>\n",
       "    <tr style=\"text-align: right;\">\n",
       "      <th></th>\n",
       "      <th>docs_title</th>\n",
       "    </tr>\n",
       "  </thead>\n",
       "  <tbody>\n",
       "    <tr>\n",
       "      <th>0</th>\n",
       "      <td>국립국어원 구어 말뭉치 SDRW2100000001</td>\n",
       "    </tr>\n",
       "  </tbody>\n",
       "</table>\n",
       "</div>"
      ],
      "text/plain": [
       "                    docs_title\n",
       "0  국립국어원 구어 말뭉치 SDRW2100000001"
      ]
     },
     "execution_count": 145,
     "metadata": {},
     "output_type": "execute_result"
    }
   ],
   "source": [
    "docs_title_df = pd.DataFrame(docs_title_list, \n",
    "                             columns = ['docs_title'])\n",
    "docs_title_df"
   ]
  },
  {
   "cell_type": "code",
   "execution_count": 146,
   "id": "f4d8be45",
   "metadata": {},
   "outputs": [
    {
     "data": {
      "text/html": [
       "<div>\n",
       "<style scoped>\n",
       "    .dataframe tbody tr th:only-of-type {\n",
       "        vertical-align: middle;\n",
       "    }\n",
       "\n",
       "    .dataframe tbody tr th {\n",
       "        vertical-align: top;\n",
       "    }\n",
       "\n",
       "    .dataframe thead th {\n",
       "        text-align: right;\n",
       "    }\n",
       "</style>\n",
       "<table border=\"1\" class=\"dataframe\">\n",
       "  <thead>\n",
       "    <tr style=\"text-align: right;\">\n",
       "      <th></th>\n",
       "      <th>docs_creator</th>\n",
       "    </tr>\n",
       "  </thead>\n",
       "  <tbody>\n",
       "    <tr>\n",
       "      <th>0</th>\n",
       "      <td>국립국어원</td>\n",
       "    </tr>\n",
       "  </tbody>\n",
       "</table>\n",
       "</div>"
      ],
      "text/plain": [
       "  docs_creator\n",
       "0        국립국어원"
      ]
     },
     "execution_count": 146,
     "metadata": {},
     "output_type": "execute_result"
    }
   ],
   "source": [
    "docs_creator_df = pd.DataFrame(docs_creator_list, \n",
    "                               columns = ['docs_creator'])\n",
    "docs_creator_df"
   ]
  },
  {
   "cell_type": "markdown",
   "id": "17d041d9",
   "metadata": {},
   "source": [
    "### Concatenating two DataFrames"
   ]
  },
  {
   "cell_type": "code",
   "execution_count": 147,
   "id": "08552c2b",
   "metadata": {},
   "outputs": [
    {
     "data": {
      "text/html": [
       "<div>\n",
       "<style scoped>\n",
       "    .dataframe tbody tr th:only-of-type {\n",
       "        vertical-align: middle;\n",
       "    }\n",
       "\n",
       "    .dataframe tbody tr th {\n",
       "        vertical-align: top;\n",
       "    }\n",
       "\n",
       "    .dataframe thead th {\n",
       "        text-align: right;\n",
       "    }\n",
       "</style>\n",
       "<table border=\"1\" class=\"dataframe\">\n",
       "  <thead>\n",
       "    <tr style=\"text-align: right;\">\n",
       "      <th></th>\n",
       "      <th>docs_title</th>\n",
       "      <th>docs_creator</th>\n",
       "    </tr>\n",
       "  </thead>\n",
       "  <tbody>\n",
       "    <tr>\n",
       "      <th>0</th>\n",
       "      <td>국립국어원 구어 말뭉치 SDRW2100000001</td>\n",
       "      <td>국립국어원</td>\n",
       "    </tr>\n",
       "  </tbody>\n",
       "</table>\n",
       "</div>"
      ],
      "text/plain": [
       "                    docs_title docs_creator\n",
       "0  국립국어원 구어 말뭉치 SDRW2100000001        국립국어원"
      ]
     },
     "execution_count": 147,
     "metadata": {},
     "output_type": "execute_result"
    }
   ],
   "source": [
    "docs_metadata_df = pd.concat([docs_title_df, docs_creator_df], \n",
    "                             axis=1)\n",
    "docs_metadata_df"
   ]
  },
  {
   "cell_type": "markdown",
   "id": "ae105190",
   "metadata": {},
   "source": [
    "### DIY\n",
    "\n",
    "- docs['metadata']\n",
    "\n",
    "```\n",
    "{'title': '국립국어원 구어 말뭉치 SDRW2100000001', \n",
    " 'creator': '국립국어원',\n",
    " 'distributor': '국립국어원',\n",
    " 'year': '2021',\n",
    " 'category': '구어 > 사적대화 > 일상대화',\n",
    " 'annotation_level': ['원시'],\n",
    " 'sampling': '본문 전체'}\n",
    "```"
   ]
  },
  {
   "cell_type": "code",
   "execution_count": 148,
   "id": "29c32d98",
   "metadata": {},
   "outputs": [
    {
     "data": {
      "text/plain": [
       "{'title': '국립국어원 구어 말뭉치 SDRW2100000001',\n",
       " 'creator': '국립국어원',\n",
       " 'distributor': '국립국어원',\n",
       " 'year': '2021',\n",
       " 'category': '구어 > 사적대화 > 일상대화',\n",
       " 'annotation_level': ['원시'],\n",
       " 'sampling': '본문 전체'}"
      ]
     },
     "execution_count": 148,
     "metadata": {},
     "output_type": "execute_result"
    }
   ],
   "source": [
    "docs['metadata']"
   ]
  },
  {
   "cell_type": "markdown",
   "id": "f194231d",
   "metadata": {},
   "source": [
    "### DIY Answer Key"
   ]
  },
  {
   "cell_type": "code",
   "execution_count": null,
   "id": "d8a090ff",
   "metadata": {},
   "outputs": [],
   "source": []
  },
  {
   "cell_type": "markdown",
   "id": "9f9155ef",
   "metadata": {},
   "source": [
    "## document 처리하기"
   ]
  },
  {
   "cell_type": "code",
   "execution_count": 149,
   "id": "9fc57923",
   "metadata": {},
   "outputs": [
    {
     "data": {
      "text/plain": [
       "[{'id': 'SDRW2100000001.1',\n",
       "  'metadata': {'title': '2인 일상 대화',\n",
       "   'author': '개인 발화자',\n",
       "   'publisher': '개인 발화 녹음',\n",
       "   'date': '20210805',\n",
       "   'topic': '음악 > 음악취향, 아이돌',\n",
       "   'speaker': [{'id': 'SD2100001',\n",
       "     'age': '20대',\n",
       "     'occupation': '학생',\n",
       "     'sex': '여성',\n",
       "     'birthplace': '서울',\n",
       "     'principal_residence': '경기',\n",
       "     'current_residence': '서울',\n",
       "     'education': '대재'},\n",
       "    {'id': 'SD2100002',\n",
       "     'age': '20대',\n",
       "     'occupation': '학생',\n",
       "     'sex': '여성',\n",
       "     'birthplace': '전남',\n",
       "     'principal_residence': '서울',\n",
       "     'current_residence': '서울',\n",
       "     'education': '대재'}],\n",
       "   'setting': {'relation': '친구'}},\n",
       "  'utterance': [{'id': 'SDRW2100000001.1.1.1',\n",
       "    'form': '너 그래 가지고 우리 저번에 호텔 갔을 때',\n",
       "    'original_form': '너 그래 가지고 우리 저번에 호텔 갔을 때',\n",
       "    'speaker_id': 'SD2100001',\n",
       "    'start': '1.58000',\n",
       "    'end': '5.30400',\n",
       "    'note': ''},\n",
       "   {'id': 'SDRW2100000001.1.1.421',\n",
       "    'form': '스트리밍 하는 게 나을 것 같아.',\n",
       "    'original_form': '쓰트리밍 하는 게 나을 것 같아.',\n",
       "    'speaker_id': 'SD2100002',\n",
       "    'start': '915.10000',\n",
       "    'end': '917.48898',\n",
       "    'note': '발화겹침'},\n",
       "   {'id': 'SDRW2100000001.1.1.422',\n",
       "    'form': '음',\n",
       "    'original_form': '음',\n",
       "    'speaker_id': 'SD2100001',\n",
       "    'start': '917.47903',\n",
       "    'end': '918.38900',\n",
       "    'note': '발화겹침'}]}]"
      ]
     },
     "execution_count": 149,
     "metadata": {},
     "output_type": "execute_result"
    }
   ],
   "source": [
    "docs['document']"
   ]
  },
  {
   "cell_type": "code",
   "execution_count": 150,
   "id": "b302d46b",
   "metadata": {},
   "outputs": [],
   "source": [
    "#docs['document']['metadata']['speaker']"
   ]
  },
  {
   "cell_type": "code",
   "execution_count": 151,
   "id": "9f5876bf",
   "metadata": {},
   "outputs": [
    {
     "name": "stdout",
     "output_type": "stream",
     "text": [
      "<class 'list'>\n"
     ]
    }
   ],
   "source": [
    "print(type(docs['document']))\n"
   ]
  },
  {
   "cell_type": "code",
   "execution_count": 152,
   "id": "0114c48d",
   "metadata": {},
   "outputs": [
    {
     "data": {
      "text/plain": [
       "{'id': 'SDRW2100000001.1',\n",
       " 'metadata': {'title': '2인 일상 대화',\n",
       "  'author': '개인 발화자',\n",
       "  'publisher': '개인 발화 녹음',\n",
       "  'date': '20210805',\n",
       "  'topic': '음악 > 음악취향, 아이돌',\n",
       "  'speaker': [{'id': 'SD2100001',\n",
       "    'age': '20대',\n",
       "    'occupation': '학생',\n",
       "    'sex': '여성',\n",
       "    'birthplace': '서울',\n",
       "    'principal_residence': '경기',\n",
       "    'current_residence': '서울',\n",
       "    'education': '대재'},\n",
       "   {'id': 'SD2100002',\n",
       "    'age': '20대',\n",
       "    'occupation': '학생',\n",
       "    'sex': '여성',\n",
       "    'birthplace': '전남',\n",
       "    'principal_residence': '서울',\n",
       "    'current_residence': '서울',\n",
       "    'education': '대재'}],\n",
       "  'setting': {'relation': '친구'}},\n",
       " 'utterance': [{'id': 'SDRW2100000001.1.1.1',\n",
       "   'form': '너 그래 가지고 우리 저번에 호텔 갔을 때',\n",
       "   'original_form': '너 그래 가지고 우리 저번에 호텔 갔을 때',\n",
       "   'speaker_id': 'SD2100001',\n",
       "   'start': '1.58000',\n",
       "   'end': '5.30400',\n",
       "   'note': ''},\n",
       "  {'id': 'SDRW2100000001.1.1.421',\n",
       "   'form': '스트리밍 하는 게 나을 것 같아.',\n",
       "   'original_form': '쓰트리밍 하는 게 나을 것 같아.',\n",
       "   'speaker_id': 'SD2100002',\n",
       "   'start': '915.10000',\n",
       "   'end': '917.48898',\n",
       "   'note': '발화겹침'},\n",
       "  {'id': 'SDRW2100000001.1.1.422',\n",
       "   'form': '음',\n",
       "   'original_form': '음',\n",
       "   'speaker_id': 'SD2100001',\n",
       "   'start': '917.47903',\n",
       "   'end': '918.38900',\n",
       "   'note': '발화겹침'}]}"
      ]
     },
     "execution_count": 152,
     "metadata": {},
     "output_type": "execute_result"
    }
   ],
   "source": [
    "docs['document'][0]"
   ]
  },
  {
   "cell_type": "code",
   "execution_count": 153,
   "id": "08c4220f",
   "metadata": {},
   "outputs": [
    {
     "data": {
      "text/plain": [
       "[{'id': 'SD2100001',\n",
       "  'age': '20대',\n",
       "  'occupation': '학생',\n",
       "  'sex': '여성',\n",
       "  'birthplace': '서울',\n",
       "  'principal_residence': '경기',\n",
       "  'current_residence': '서울',\n",
       "  'education': '대재'},\n",
       " {'id': 'SD2100002',\n",
       "  'age': '20대',\n",
       "  'occupation': '학생',\n",
       "  'sex': '여성',\n",
       "  'birthplace': '전남',\n",
       "  'principal_residence': '서울',\n",
       "  'current_residence': '서울',\n",
       "  'education': '대재'}]"
      ]
     },
     "execution_count": 153,
     "metadata": {},
     "output_type": "execute_result"
    }
   ],
   "source": [
    "docs['document'][0]['metadata']['speaker']"
   ]
  },
  {
   "cell_type": "code",
   "execution_count": 154,
   "id": "696914e5",
   "metadata": {},
   "outputs": [
    {
     "name": "stdout",
     "output_type": "stream",
     "text": [
      "{'id': 'SDRW2100000001.1', 'metadata': {'title': '2인 일상 대화', 'author': '개인 발화자', 'publisher': '개인 발화 녹음', 'date': '20210805', 'topic': '음악 > 음악취향, 아이돌', 'speaker': [{'id': 'SD2100001', 'age': '20대', 'occupation': '학생', 'sex': '여성', 'birthplace': '서울', 'principal_residence': '경기', 'current_residence': '서울', 'education': '대재'}, {'id': 'SD2100002', 'age': '20대', 'occupation': '학생', 'sex': '여성', 'birthplace': '전남', 'principal_residence': '서울', 'current_residence': '서울', 'education': '대재'}], 'setting': {'relation': '친구'}}, 'utterance': [{'id': 'SDRW2100000001.1.1.1', 'form': '너 그래 가지고 우리 저번에 호텔 갔을 때', 'original_form': '너 그래 가지고 우리 저번에 호텔 갔을 때', 'speaker_id': 'SD2100001', 'start': '1.58000', 'end': '5.30400', 'note': ''}, {'id': 'SDRW2100000001.1.1.421', 'form': '스트리밍 하는 게 나을 것 같아.', 'original_form': '쓰트리밍 하는 게 나을 것 같아.', 'speaker_id': 'SD2100002', 'start': '915.10000', 'end': '917.48898', 'note': '발화겹침'}, {'id': 'SDRW2100000001.1.1.422', 'form': '음', 'original_form': '음', 'speaker_id': 'SD2100001', 'start': '917.47903', 'end': '918.38900', 'note': '발화겹침'}]}\n",
      "--------------------\n",
      "SDRW2100000001.1\n",
      "------------------------------\n",
      "{'title': '2인 일상 대화', 'author': '개인 발화자', 'publisher': '개인 발화 녹음', 'date': '20210805', 'topic': '음악 > 음악취향, 아이돌', 'speaker': [{'id': 'SD2100001', 'age': '20대', 'occupation': '학생', 'sex': '여성', 'birthplace': '서울', 'principal_residence': '경기', 'current_residence': '서울', 'education': '대재'}, {'id': 'SD2100002', 'age': '20대', 'occupation': '학생', 'sex': '여성', 'birthplace': '전남', 'principal_residence': '서울', 'current_residence': '서울', 'education': '대재'}], 'setting': {'relation': '친구'}}\n"
     ]
    }
   ],
   "source": [
    "for doc in docs['document']: \n",
    "    print(doc)\n",
    "    print('--'*10)\n",
    "    print(doc['id'])\n",
    "    print('---'*10)\n",
    "    print(doc['metadata'])"
   ]
  },
  {
   "cell_type": "markdown",
   "id": "518ab5cb",
   "metadata": {},
   "source": [
    "## Speaker Processing"
   ]
  },
  {
   "cell_type": "code",
   "execution_count": 155,
   "id": "146e3897",
   "metadata": {},
   "outputs": [
    {
     "name": "stdout",
     "output_type": "stream",
     "text": [
      "[{'id': 'SD2100001', 'age': '20대', 'occupation': '학생', 'sex': '여성', 'birthplace': '서울', 'principal_residence': '경기', 'current_residence': '서울', 'education': '대재'}, {'id': 'SD2100002', 'age': '20대', 'occupation': '학생', 'sex': '여성', 'birthplace': '전남', 'principal_residence': '서울', 'current_residence': '서울', 'education': '대재'}]\n"
     ]
    }
   ],
   "source": [
    "speaker = docs['document'][0]['metadata']['speaker']\n",
    "print(speaker)"
   ]
  },
  {
   "cell_type": "code",
   "execution_count": 156,
   "id": "62c93cfd",
   "metadata": {},
   "outputs": [
    {
     "name": "stdout",
     "output_type": "stream",
     "text": [
      "[{'id': 'SD2100001', 'age': '20대', 'occupation': '학생', 'sex': '여성', 'birthplace': '서울', 'principal_residence': '경기', 'current_residence': '서울', 'education': '대재'}, {'id': 'SD2100002', 'age': '20대', 'occupation': '학생', 'sex': '여성', 'birthplace': '전남', 'principal_residence': '서울', 'current_residence': '서울', 'education': '대재'}]\n"
     ]
    }
   ],
   "source": [
    "for doc in docs['document']:\n",
    "    speakers = doc['metadata']['speaker']\n",
    "    print(speakers)\n"
   ]
  },
  {
   "cell_type": "code",
   "execution_count": 157,
   "id": "d8f3ee6d",
   "metadata": {},
   "outputs": [
    {
     "name": "stdout",
     "output_type": "stream",
     "text": [
      "[{'id': 'SD2100001', 'age': '20대', 'occupation': '학생', 'sex': '여성', 'birthplace': '서울', 'principal_residence': '경기', 'current_residence': '서울', 'education': '대재'}, {'id': 'SD2100002', 'age': '20대', 'occupation': '학생', 'sex': '여성', 'birthplace': '전남', 'principal_residence': '서울', 'current_residence': '서울', 'education': '대재'}]\n",
      "====================\n",
      "speaker_1 SD2100001 20대 학생 여성 서울\n",
      "speaker_2 SD2100002 20대 학생 여성 전남\n"
     ]
    }
   ],
   "source": [
    "for doc in docs['document']:\n",
    "    speakers = doc['metadata']['speaker']\n",
    "    print(speakers)\n",
    "    print('='*20)\n",
    "    speaker_index = 1\n",
    "    for sp in speakers:\n",
    "        print(f\"speaker_{speaker_index}\", \n",
    "              sp['id'], \n",
    "              sp['age'], \n",
    "              sp['occupation'], \n",
    "              sp['sex'], \n",
    "              sp['birthplace'])\n",
    "        speaker_index += 1"
   ]
  },
  {
   "cell_type": "code",
   "execution_count": 158,
   "id": "5e1f2800",
   "metadata": {},
   "outputs": [
    {
     "name": "stdout",
     "output_type": "stream",
     "text": [
      "speaker_1 SD2100001 20대 학생 여성 서울 경기 서울 대재\n",
      "speaker_2 SD2100002 20대 학생 여성 전남 서울 서울 대재\n"
     ]
    }
   ],
   "source": [
    "for doc in docs['document']:\n",
    "    #speakers = doc['metadata']['speaker']\n",
    "    speaker_index = 1\n",
    "    for sp in speakers:\n",
    "        print(f\"speaker_{speaker_index}\", \n",
    "              sp['id'], \n",
    "              sp['age'], \n",
    "              sp['occupation'], \n",
    "              sp['sex'], \n",
    "              sp['birthplace'], end=\" \")\n",
    "        print(sp['principal_residence'], \n",
    "              sp['current_residence'], \n",
    "              sp['education'])\n",
    "        speaker_index += 1"
   ]
  },
  {
   "cell_type": "markdown",
   "id": "9c75e1e0",
   "metadata": {},
   "source": [
    "### Speakers: From JSON to LIST\n"
   ]
  },
  {
   "cell_type": "code",
   "execution_count": 159,
   "id": "b7521f8e",
   "metadata": {},
   "outputs": [
    {
     "name": "stdout",
     "output_type": "stream",
     "text": [
      "speaker_1 SD2100001 20대 학생 여성 서울 경기 서울 대재\n",
      "speaker_2 SD2100002 20대 학생 여성 전남 서울 서울 대재\n",
      "['speaker_1', 'speaker_2'] ['SD2100001', 'SD2100002']\n"
     ]
    }
   ],
   "source": [
    "speaker_indices = []; speaker_ids = []; speaker_ages = []\n",
    "speaker_occupations = []; speaker_principal_residences = []\n",
    "speaker_sexes = []; speaker_birthplaces = []\n",
    "speaker_current_residences = []; speaker_educations = []\n",
    "\n",
    "for doc in docs['document']:\n",
    "    #print(doc['metadata']['speaker'])\n",
    "    speakers = doc['metadata']['speaker']\n",
    "    #print(type(speakers), dir(list(speakers)))\n",
    "    #print(speakers)\n",
    "    speaker_index = 1\n",
    "    \n",
    "    speaker_list = []\n",
    "    \n",
    "    for sp in speakers:\n",
    "        print(f\"speaker_{speaker_index}\", sp['id'], sp['age'], end=\" \") \n",
    "        print(sp['occupation'], sp['sex'], sp['birthplace'], end=\" \")\n",
    "        print(sp['principal_residence'], sp['current_residence'], end=\" \")\n",
    "        print(sp['education'])\n",
    "        speaker_indices.append(f\"speaker_{speaker_index}\")\n",
    "        speaker_ids.append(sp['id'])\n",
    "        \n",
    "        speaker_index += 1\n",
    "print(speaker_indices, speaker_ids)"
   ]
  },
  {
   "cell_type": "markdown",
   "id": "8633d3d2",
   "metadata": {},
   "source": [
    "### Speakers: From List to DataFrame"
   ]
  },
  {
   "cell_type": "code",
   "execution_count": 160,
   "id": "2af43803",
   "metadata": {},
   "outputs": [],
   "source": [
    "speaker_index_df = pd.DataFrame(speaker_indices, \n",
    "                                columns = ['speaker_index'])\n",
    "speaker_id_df = pd.DataFrame(speaker_ids, \n",
    "                             columns = ['speaker_id'])"
   ]
  },
  {
   "cell_type": "code",
   "execution_count": 161,
   "id": "f40d7778",
   "metadata": {},
   "outputs": [
    {
     "data": {
      "text/html": [
       "<div>\n",
       "<style scoped>\n",
       "    .dataframe tbody tr th:only-of-type {\n",
       "        vertical-align: middle;\n",
       "    }\n",
       "\n",
       "    .dataframe tbody tr th {\n",
       "        vertical-align: top;\n",
       "    }\n",
       "\n",
       "    .dataframe thead th {\n",
       "        text-align: right;\n",
       "    }\n",
       "</style>\n",
       "<table border=\"1\" class=\"dataframe\">\n",
       "  <thead>\n",
       "    <tr style=\"text-align: right;\">\n",
       "      <th></th>\n",
       "      <th>speaker_index</th>\n",
       "    </tr>\n",
       "  </thead>\n",
       "  <tbody>\n",
       "    <tr>\n",
       "      <th>0</th>\n",
       "      <td>speaker_1</td>\n",
       "    </tr>\n",
       "    <tr>\n",
       "      <th>1</th>\n",
       "      <td>speaker_2</td>\n",
       "    </tr>\n",
       "  </tbody>\n",
       "</table>\n",
       "</div>"
      ],
      "text/plain": [
       "  speaker_index\n",
       "0     speaker_1\n",
       "1     speaker_2"
      ]
     },
     "execution_count": 161,
     "metadata": {},
     "output_type": "execute_result"
    }
   ],
   "source": [
    "speaker_index_df"
   ]
  },
  {
   "cell_type": "code",
   "execution_count": 162,
   "id": "4b034d43",
   "metadata": {},
   "outputs": [
    {
     "data": {
      "text/html": [
       "<div>\n",
       "<style scoped>\n",
       "    .dataframe tbody tr th:only-of-type {\n",
       "        vertical-align: middle;\n",
       "    }\n",
       "\n",
       "    .dataframe tbody tr th {\n",
       "        vertical-align: top;\n",
       "    }\n",
       "\n",
       "    .dataframe thead th {\n",
       "        text-align: right;\n",
       "    }\n",
       "</style>\n",
       "<table border=\"1\" class=\"dataframe\">\n",
       "  <thead>\n",
       "    <tr style=\"text-align: right;\">\n",
       "      <th></th>\n",
       "      <th>speaker_id</th>\n",
       "    </tr>\n",
       "  </thead>\n",
       "  <tbody>\n",
       "    <tr>\n",
       "      <th>0</th>\n",
       "      <td>SD2100001</td>\n",
       "    </tr>\n",
       "    <tr>\n",
       "      <th>1</th>\n",
       "      <td>SD2100002</td>\n",
       "    </tr>\n",
       "  </tbody>\n",
       "</table>\n",
       "</div>"
      ],
      "text/plain": [
       "  speaker_id\n",
       "0  SD2100001\n",
       "1  SD2100002"
      ]
     },
     "execution_count": 162,
     "metadata": {},
     "output_type": "execute_result"
    }
   ],
   "source": [
    "speaker_id_df"
   ]
  },
  {
   "cell_type": "code",
   "execution_count": 163,
   "id": "f68628c3",
   "metadata": {},
   "outputs": [
    {
     "data": {
      "text/html": [
       "<div>\n",
       "<style scoped>\n",
       "    .dataframe tbody tr th:only-of-type {\n",
       "        vertical-align: middle;\n",
       "    }\n",
       "\n",
       "    .dataframe tbody tr th {\n",
       "        vertical-align: top;\n",
       "    }\n",
       "\n",
       "    .dataframe thead th {\n",
       "        text-align: right;\n",
       "    }\n",
       "</style>\n",
       "<table border=\"1\" class=\"dataframe\">\n",
       "  <thead>\n",
       "    <tr style=\"text-align: right;\">\n",
       "      <th></th>\n",
       "      <th>speaker_index</th>\n",
       "      <th>speaker_id</th>\n",
       "    </tr>\n",
       "  </thead>\n",
       "  <tbody>\n",
       "    <tr>\n",
       "      <th>0</th>\n",
       "      <td>speaker_1</td>\n",
       "      <td>SD2100001</td>\n",
       "    </tr>\n",
       "    <tr>\n",
       "      <th>1</th>\n",
       "      <td>speaker_2</td>\n",
       "      <td>SD2100002</td>\n",
       "    </tr>\n",
       "  </tbody>\n",
       "</table>\n",
       "</div>"
      ],
      "text/plain": [
       "  speaker_index speaker_id\n",
       "0     speaker_1  SD2100001\n",
       "1     speaker_2  SD2100002"
      ]
     },
     "execution_count": 163,
     "metadata": {},
     "output_type": "execute_result"
    }
   ],
   "source": [
    "speaker_df = pd.concat([speaker_index_df, speaker_id_df], axis=1)\n",
    "speaker_df"
   ]
  },
  {
   "cell_type": "markdown",
   "id": "f4fc4c08",
   "metadata": {},
   "source": [
    "### Speakers: to_csv() & to_excel"
   ]
  },
  {
   "cell_type": "code",
   "execution_count": 164,
   "id": "78f25254",
   "metadata": {},
   "outputs": [],
   "source": [
    "speaker_df.to_csv('speaker.csv')"
   ]
  },
  {
   "cell_type": "code",
   "execution_count": 165,
   "id": "f661b4e3",
   "metadata": {},
   "outputs": [],
   "source": [
    "speaker_df.to_excel('speaker.xlsx')"
   ]
  },
  {
   "cell_type": "markdown",
   "id": "855cf6fe",
   "metadata": {},
   "source": [
    "### Speakers: DIY \n",
    "\n",
    "다른 화자 정보들도 DataFrame의 columns로 만들어 보기\n",
    "\n",
    "- speaker_1 SD2100001 20대 학생 여성 서울 경기 서울 대재\n",
    "- speaker_2 SD2100002 20대 학생 여성 전남 서울 서울 대재\n",
    "\n"
   ]
  },
  {
   "cell_type": "markdown",
   "id": "06990666",
   "metadata": {},
   "source": [
    "### DIY \n",
    "\n",
    "setting 처리하기?\n",
    "```\n",
    "'setting': {'relation': '친구'}},\n",
    "```\n",
    "\n"
   ]
  },
  {
   "cell_type": "code",
   "execution_count": 166,
   "id": "c7705efa",
   "metadata": {},
   "outputs": [],
   "source": [
    "#docs"
   ]
  },
  {
   "cell_type": "markdown",
   "id": "d34fdf85",
   "metadata": {},
   "source": [
    "`docs['documnet']`의 데이터타입은 list"
   ]
  },
  {
   "cell_type": "code",
   "execution_count": 167,
   "id": "246d1fa4",
   "metadata": {},
   "outputs": [
    {
     "data": {
      "text/plain": [
       "{'id': 'SDRW2100000001.1',\n",
       " 'metadata': {'title': '2인 일상 대화',\n",
       "  'author': '개인 발화자',\n",
       "  'publisher': '개인 발화 녹음',\n",
       "  'date': '20210805',\n",
       "  'topic': '음악 > 음악취향, 아이돌',\n",
       "  'speaker': [{'id': 'SD2100001',\n",
       "    'age': '20대',\n",
       "    'occupation': '학생',\n",
       "    'sex': '여성',\n",
       "    'birthplace': '서울',\n",
       "    'principal_residence': '경기',\n",
       "    'current_residence': '서울',\n",
       "    'education': '대재'},\n",
       "   {'id': 'SD2100002',\n",
       "    'age': '20대',\n",
       "    'occupation': '학생',\n",
       "    'sex': '여성',\n",
       "    'birthplace': '전남',\n",
       "    'principal_residence': '서울',\n",
       "    'current_residence': '서울',\n",
       "    'education': '대재'}],\n",
       "  'setting': {'relation': '친구'}},\n",
       " 'utterance': [{'id': 'SDRW2100000001.1.1.1',\n",
       "   'form': '너 그래 가지고 우리 저번에 호텔 갔을 때',\n",
       "   'original_form': '너 그래 가지고 우리 저번에 호텔 갔을 때',\n",
       "   'speaker_id': 'SD2100001',\n",
       "   'start': '1.58000',\n",
       "   'end': '5.30400',\n",
       "   'note': ''},\n",
       "  {'id': 'SDRW2100000001.1.1.421',\n",
       "   'form': '스트리밍 하는 게 나을 것 같아.',\n",
       "   'original_form': '쓰트리밍 하는 게 나을 것 같아.',\n",
       "   'speaker_id': 'SD2100002',\n",
       "   'start': '915.10000',\n",
       "   'end': '917.48898',\n",
       "   'note': '발화겹침'},\n",
       "  {'id': 'SDRW2100000001.1.1.422',\n",
       "   'form': '음',\n",
       "   'original_form': '음',\n",
       "   'speaker_id': 'SD2100001',\n",
       "   'start': '917.47903',\n",
       "   'end': '918.38900',\n",
       "   'note': '발화겹침'}]}"
      ]
     },
     "execution_count": 167,
     "metadata": {},
     "output_type": "execute_result"
    }
   ],
   "source": [
    "docs['document'][0]"
   ]
  },
  {
   "cell_type": "code",
   "execution_count": 168,
   "id": "775c0c1a",
   "metadata": {},
   "outputs": [
    {
     "data": {
      "text/plain": [
       "{'relation': '친구'}"
      ]
     },
     "execution_count": 168,
     "metadata": {},
     "output_type": "execute_result"
    }
   ],
   "source": [
    "docs['document'][0]['metadata']['setting']"
   ]
  },
  {
   "cell_type": "code",
   "execution_count": 169,
   "id": "be0f95d1",
   "metadata": {},
   "outputs": [
    {
     "name": "stdout",
     "output_type": "stream",
     "text": [
      "{'relation': '친구'}\n"
     ]
    }
   ],
   "source": [
    "for doc in docs['document']:\n",
    "    setting = doc['metadata']['setting']\n",
    "    print(setting)"
   ]
  },
  {
   "cell_type": "markdown",
   "id": "60241299",
   "metadata": {},
   "source": [
    "## Utterance Processing"
   ]
  },
  {
   "cell_type": "code",
   "execution_count": 170,
   "id": "1a6bab9b",
   "metadata": {},
   "outputs": [
    {
     "data": {
      "text/plain": [
       "[{'id': 'SDRW2100000001.1.1.1',\n",
       "  'form': '너 그래 가지고 우리 저번에 호텔 갔을 때',\n",
       "  'original_form': '너 그래 가지고 우리 저번에 호텔 갔을 때',\n",
       "  'speaker_id': 'SD2100001',\n",
       "  'start': '1.58000',\n",
       "  'end': '5.30400',\n",
       "  'note': ''},\n",
       " {'id': 'SDRW2100000001.1.1.421',\n",
       "  'form': '스트리밍 하는 게 나을 것 같아.',\n",
       "  'original_form': '쓰트리밍 하는 게 나을 것 같아.',\n",
       "  'speaker_id': 'SD2100002',\n",
       "  'start': '915.10000',\n",
       "  'end': '917.48898',\n",
       "  'note': '발화겹침'},\n",
       " {'id': 'SDRW2100000001.1.1.422',\n",
       "  'form': '음',\n",
       "  'original_form': '음',\n",
       "  'speaker_id': 'SD2100001',\n",
       "  'start': '917.47903',\n",
       "  'end': '918.38900',\n",
       "  'note': '발화겹침'}]"
      ]
     },
     "execution_count": 170,
     "metadata": {},
     "output_type": "execute_result"
    }
   ],
   "source": [
    "docs['document'][0]['utterance']"
   ]
  },
  {
   "cell_type": "code",
   "execution_count": 171,
   "id": "faeaed69",
   "metadata": {},
   "outputs": [
    {
     "name": "stdout",
     "output_type": "stream",
     "text": [
      "{'id': 'SDRW2100000001.1.1.1', 'form': '너 그래 가지고 우리 저번에 호텔 갔을 때', 'original_form': '너 그래 가지고 우리 저번에 호텔 갔을 때', 'speaker_id': 'SD2100001', 'start': '1.58000', 'end': '5.30400', 'note': ''}\n",
      "------------------------------------------------------------\n",
      "SDRW2100000001.1.1.1 | SD2100001 | 너 그래 가지고 우리 저번에 호텔 갔을 때 | 너 그래 가지고 우리 저번에 호텔 갔을 때 | 1.58000 | 5.30400 |  |\n",
      "------------------------------------------------------------\n",
      "{'id': 'SDRW2100000001.1.1.421', 'form': '스트리밍 하는 게 나을 것 같아.', 'original_form': '쓰트리밍 하는 게 나을 것 같아.', 'speaker_id': 'SD2100002', 'start': '915.10000', 'end': '917.48898', 'note': '발화겹침'}\n",
      "------------------------------------------------------------\n",
      "SDRW2100000001.1.1.421 | SD2100002 | 스트리밍 하는 게 나을 것 같아. | 쓰트리밍 하는 게 나을 것 같아. | 915.10000 | 917.48898 | 발화겹침 |\n",
      "------------------------------------------------------------\n",
      "{'id': 'SDRW2100000001.1.1.422', 'form': '음', 'original_form': '음', 'speaker_id': 'SD2100001', 'start': '917.47903', 'end': '918.38900', 'note': '발화겹침'}\n",
      "------------------------------------------------------------\n",
      "SDRW2100000001.1.1.422 | SD2100001 | 음 | 음 | 917.47903 | 918.38900 | 발화겹침 |\n",
      "------------------------------------------------------------\n"
     ]
    }
   ],
   "source": [
    "for doc in docs['document']:\n",
    "    #print(doc['utterance'])\n",
    "    utts = doc['utterance']\n",
    "    utt_index = 1\n",
    "    for utt in utts:\n",
    "        print(utt)\n",
    "        print('-'*60)\n",
    "        utt_id = utt['id']\n",
    "        utt_form = utt['form']\n",
    "        utt_oform = utt['original_form']\n",
    "        # for merge \n",
    "        speaker_id = utt['speaker_id']\n",
    "        utt_start = utt['start']\n",
    "        utt_end = utt['end']\n",
    "        utt_note = utt['note']\n",
    "        utt_index += 1\n",
    "        print(utt_id, '|', speaker_id, '|', utt_form, '|', \n",
    "              utt_oform, '|', utt_start, '|', utt_end, '|',\n",
    "              utt_note, '|' )\n",
    "        print('-'*60)"
   ]
  },
  {
   "cell_type": "code",
   "execution_count": 172,
   "id": "137f4011",
   "metadata": {},
   "outputs": [],
   "source": [
    "utt_ids = []; utt_forms = []; utt_oforms = []\n",
    "speaker_ids = []; utt_starts = []; utt_ends = []\n",
    "utt_notes = []; utt_indices = []\n",
    "for doc in docs['document']:\n",
    "    #print(doc['utterance'])\n",
    "    utts = doc['utterance']\n",
    "    utt_index = 1\n",
    "    for utt in utts:\n",
    "        #print(utt)\n",
    "        utt_id = utt['id']\n",
    "        utt_form = utt['form']\n",
    "        utt_oform = utt['original_form']\n",
    "        speaker_id = utt['speaker_id']\n",
    "        utt_start = utt['start']\n",
    "        utt_end = utt['end']\n",
    "        if utt['note'] == '': utt['note'] = \"NA\"\n",
    "        utt_note = utt['note']\n",
    "        utt_index += 1\n",
    "        #print(utt_id, utt_speaker_id, utt_form, '|', utt_oform, '|', utt_start, utt_end, utt_note)\n",
    "        utt_ids.append(utt_id); utt_forms.append(utt_form); \n",
    "        utt_oforms.append(utt_oform)\n",
    "        speaker_ids.append(speaker_id); \n",
    "        utt_starts.append(utt_start)\n",
    "        utt_ends.append(utt_end); utt_notes.append(utt_note); utt_indices.append('utt_index')\n",
    "#print(utt_ids)\n",
    "#print(utt_speaker_ids)\n",
    "#print(utt_forms)\n",
    "#print(utt_oforms)\n"
   ]
  },
  {
   "cell_type": "markdown",
   "id": "9e665fde",
   "metadata": {},
   "source": [
    "### Utterance: from list to DataFrame"
   ]
  },
  {
   "cell_type": "code",
   "execution_count": 173,
   "id": "6ee4d316",
   "metadata": {},
   "outputs": [],
   "source": [
    "utt_ids = []; utt_forms = []; utt_oforms = []\n",
    "utt_speaker_ids = []; utt_starts = []; utt_ends = []\n",
    "utt_notes = []; utt_indices = []\n",
    "for doc in docs['document']:\n",
    "    utts = doc['utterance']\n",
    "    utt_index = 1\n",
    "    for utt in utts:\n",
    "        utt_id = utt['id']\n",
    "        utt_form = utt['form']\n",
    "        utt_oform = utt['original_form']\n",
    "        utt_speaker_id = utt['speaker_id']\n",
    "        utt_start = utt['start']\n",
    "        utt_end = utt['end']\n",
    "        if utt['note'] == '': utt['note'] = \"NA\"\n",
    "        utt_note = utt['note']\n",
    "        utt_index += 1\n",
    "        #print(utt_id, utt_speaker_id, utt_form, '|', utt_oform, '|', \n",
    "        #utt_start, utt_end, utt_note)\n",
    "        utt_ids.append(utt_id); utt_forms.append(utt_form); \n",
    "        utt_oforms.append(utt_oform)\n",
    "        utt_speaker_ids.append(utt_speaker_id); \n",
    "        utt_starts.append(utt_start)\n",
    "        utt_ends.append(utt_end); \n",
    "        utt_notes.append(utt_note); \n",
    "        utt_indices.append('utt_index')\n",
    "utt_ids_df = pd.DataFrame(utt_ids, columns = ['utt_id'])\n",
    "utt_forms_df = pd.DataFrame(utt_forms, columns = ['utt_form'])\n",
    "utt_speaker_ids_df = pd.DataFrame(utt_speaker_ids, \n",
    "                                  columns = ['speaker_id'])\n"
   ]
  },
  {
   "cell_type": "code",
   "execution_count": 174,
   "id": "545a4a34",
   "metadata": {},
   "outputs": [
    {
     "data": {
      "text/html": [
       "<div>\n",
       "<style scoped>\n",
       "    .dataframe tbody tr th:only-of-type {\n",
       "        vertical-align: middle;\n",
       "    }\n",
       "\n",
       "    .dataframe tbody tr th {\n",
       "        vertical-align: top;\n",
       "    }\n",
       "\n",
       "    .dataframe thead th {\n",
       "        text-align: right;\n",
       "    }\n",
       "</style>\n",
       "<table border=\"1\" class=\"dataframe\">\n",
       "  <thead>\n",
       "    <tr style=\"text-align: right;\">\n",
       "      <th></th>\n",
       "      <th>utt_id</th>\n",
       "    </tr>\n",
       "  </thead>\n",
       "  <tbody>\n",
       "    <tr>\n",
       "      <th>0</th>\n",
       "      <td>SDRW2100000001.1.1.1</td>\n",
       "    </tr>\n",
       "    <tr>\n",
       "      <th>1</th>\n",
       "      <td>SDRW2100000001.1.1.421</td>\n",
       "    </tr>\n",
       "    <tr>\n",
       "      <th>2</th>\n",
       "      <td>SDRW2100000001.1.1.422</td>\n",
       "    </tr>\n",
       "  </tbody>\n",
       "</table>\n",
       "</div>"
      ],
      "text/plain": [
       "                   utt_id\n",
       "0    SDRW2100000001.1.1.1\n",
       "1  SDRW2100000001.1.1.421\n",
       "2  SDRW2100000001.1.1.422"
      ]
     },
     "execution_count": 174,
     "metadata": {},
     "output_type": "execute_result"
    }
   ],
   "source": [
    "utt_ids_df"
   ]
  },
  {
   "cell_type": "code",
   "execution_count": 175,
   "id": "5ac8de06",
   "metadata": {},
   "outputs": [
    {
     "data": {
      "text/html": [
       "<div>\n",
       "<style scoped>\n",
       "    .dataframe tbody tr th:only-of-type {\n",
       "        vertical-align: middle;\n",
       "    }\n",
       "\n",
       "    .dataframe tbody tr th {\n",
       "        vertical-align: top;\n",
       "    }\n",
       "\n",
       "    .dataframe thead th {\n",
       "        text-align: right;\n",
       "    }\n",
       "</style>\n",
       "<table border=\"1\" class=\"dataframe\">\n",
       "  <thead>\n",
       "    <tr style=\"text-align: right;\">\n",
       "      <th></th>\n",
       "      <th>utt_form</th>\n",
       "    </tr>\n",
       "  </thead>\n",
       "  <tbody>\n",
       "    <tr>\n",
       "      <th>0</th>\n",
       "      <td>너 그래 가지고 우리 저번에 호텔 갔을 때</td>\n",
       "    </tr>\n",
       "    <tr>\n",
       "      <th>1</th>\n",
       "      <td>스트리밍 하는 게 나을 것 같아.</td>\n",
       "    </tr>\n",
       "    <tr>\n",
       "      <th>2</th>\n",
       "      <td>음</td>\n",
       "    </tr>\n",
       "  </tbody>\n",
       "</table>\n",
       "</div>"
      ],
      "text/plain": [
       "                  utt_form\n",
       "0  너 그래 가지고 우리 저번에 호텔 갔을 때\n",
       "1       스트리밍 하는 게 나을 것 같아.\n",
       "2                        음"
      ]
     },
     "execution_count": 175,
     "metadata": {},
     "output_type": "execute_result"
    }
   ],
   "source": [
    "utt_forms_df"
   ]
  },
  {
   "cell_type": "code",
   "execution_count": 176,
   "id": "f5b7ede4",
   "metadata": {},
   "outputs": [
    {
     "data": {
      "text/html": [
       "<div>\n",
       "<style scoped>\n",
       "    .dataframe tbody tr th:only-of-type {\n",
       "        vertical-align: middle;\n",
       "    }\n",
       "\n",
       "    .dataframe tbody tr th {\n",
       "        vertical-align: top;\n",
       "    }\n",
       "\n",
       "    .dataframe thead th {\n",
       "        text-align: right;\n",
       "    }\n",
       "</style>\n",
       "<table border=\"1\" class=\"dataframe\">\n",
       "  <thead>\n",
       "    <tr style=\"text-align: right;\">\n",
       "      <th></th>\n",
       "      <th>speaker_id</th>\n",
       "    </tr>\n",
       "  </thead>\n",
       "  <tbody>\n",
       "    <tr>\n",
       "      <th>0</th>\n",
       "      <td>SD2100001</td>\n",
       "    </tr>\n",
       "    <tr>\n",
       "      <th>1</th>\n",
       "      <td>SD2100002</td>\n",
       "    </tr>\n",
       "    <tr>\n",
       "      <th>2</th>\n",
       "      <td>SD2100001</td>\n",
       "    </tr>\n",
       "  </tbody>\n",
       "</table>\n",
       "</div>"
      ],
      "text/plain": [
       "  speaker_id\n",
       "0  SD2100001\n",
       "1  SD2100002\n",
       "2  SD2100001"
      ]
     },
     "execution_count": 176,
     "metadata": {},
     "output_type": "execute_result"
    }
   ],
   "source": [
    "utt_speaker_ids_df"
   ]
  },
  {
   "cell_type": "code",
   "execution_count": 177,
   "id": "29fe2ebc",
   "metadata": {},
   "outputs": [],
   "source": [
    "utt_df = pd.concat([utt_ids_df, utt_speaker_ids_df, utt_forms_df], axis=1)"
   ]
  },
  {
   "cell_type": "code",
   "execution_count": 178,
   "id": "ec5257dd",
   "metadata": {},
   "outputs": [
    {
     "data": {
      "text/html": [
       "<div>\n",
       "<style scoped>\n",
       "    .dataframe tbody tr th:only-of-type {\n",
       "        vertical-align: middle;\n",
       "    }\n",
       "\n",
       "    .dataframe tbody tr th {\n",
       "        vertical-align: top;\n",
       "    }\n",
       "\n",
       "    .dataframe thead th {\n",
       "        text-align: right;\n",
       "    }\n",
       "</style>\n",
       "<table border=\"1\" class=\"dataframe\">\n",
       "  <thead>\n",
       "    <tr style=\"text-align: right;\">\n",
       "      <th></th>\n",
       "      <th>utt_id</th>\n",
       "      <th>speaker_id</th>\n",
       "      <th>utt_form</th>\n",
       "    </tr>\n",
       "  </thead>\n",
       "  <tbody>\n",
       "    <tr>\n",
       "      <th>0</th>\n",
       "      <td>SDRW2100000001.1.1.1</td>\n",
       "      <td>SD2100001</td>\n",
       "      <td>너 그래 가지고 우리 저번에 호텔 갔을 때</td>\n",
       "    </tr>\n",
       "    <tr>\n",
       "      <th>1</th>\n",
       "      <td>SDRW2100000001.1.1.421</td>\n",
       "      <td>SD2100002</td>\n",
       "      <td>스트리밍 하는 게 나을 것 같아.</td>\n",
       "    </tr>\n",
       "    <tr>\n",
       "      <th>2</th>\n",
       "      <td>SDRW2100000001.1.1.422</td>\n",
       "      <td>SD2100001</td>\n",
       "      <td>음</td>\n",
       "    </tr>\n",
       "  </tbody>\n",
       "</table>\n",
       "</div>"
      ],
      "text/plain": [
       "                   utt_id speaker_id                 utt_form\n",
       "0    SDRW2100000001.1.1.1  SD2100001  너 그래 가지고 우리 저번에 호텔 갔을 때\n",
       "1  SDRW2100000001.1.1.421  SD2100002       스트리밍 하는 게 나을 것 같아.\n",
       "2  SDRW2100000001.1.1.422  SD2100001                        음"
      ]
     },
     "execution_count": 178,
     "metadata": {},
     "output_type": "execute_result"
    }
   ],
   "source": [
    "utt_df"
   ]
  },
  {
   "cell_type": "code",
   "execution_count": 179,
   "id": "f843c4a5",
   "metadata": {},
   "outputs": [],
   "source": [
    "utt_df.to_csv('utterance.csv')"
   ]
  },
  {
   "cell_type": "code",
   "execution_count": null,
   "id": "30716b6a",
   "metadata": {},
   "outputs": [],
   "source": []
  },
  {
   "cell_type": "markdown",
   "id": "7cdcfe99",
   "metadata": {},
   "source": [
    "## doc의 metadata와 utterance의 metadata 합치기"
   ]
  },
  {
   "cell_type": "markdown",
   "id": "ab997e6d",
   "metadata": {},
   "source": [
    "## speaker & utterance 합치기 "
   ]
  },
  {
   "cell_type": "markdown",
   "id": "e60edf59",
   "metadata": {},
   "source": [
    "1. utterance dataframe에는 utt_speaker가 있고, 이를 토대로 speaker에 대한 정보를 붙여야 하지 않을까\n",
    "2. 그렇다면 utt_df와 spk_df를 따로 처리한 후, utt_df의 speaker_id 정보를 토대로 spk_df의 speaker_id에 대한 정보를 가지고 와서 병합해야 하지 않을까?\n",
    "3. 따라서 utt_df를 만들 때 우리가 utt_speaker_id라고 했던 column name을 speaker_id로 수정할 필요가 있음."
   ]
  },
  {
   "cell_type": "markdown",
   "id": "e4d39371",
   "metadata": {},
   "source": [
    "### merge "
   ]
  },
  {
   "cell_type": "code",
   "execution_count": 189,
   "id": "2b292a76",
   "metadata": {},
   "outputs": [
    {
     "data": {
      "text/html": [
       "<div>\n",
       "<style scoped>\n",
       "    .dataframe tbody tr th:only-of-type {\n",
       "        vertical-align: middle;\n",
       "    }\n",
       "\n",
       "    .dataframe tbody tr th {\n",
       "        vertical-align: top;\n",
       "    }\n",
       "\n",
       "    .dataframe thead th {\n",
       "        text-align: right;\n",
       "    }\n",
       "</style>\n",
       "<table border=\"1\" class=\"dataframe\">\n",
       "  <thead>\n",
       "    <tr style=\"text-align: right;\">\n",
       "      <th></th>\n",
       "      <th>utt_id</th>\n",
       "      <th>speaker_id</th>\n",
       "      <th>utt_form</th>\n",
       "    </tr>\n",
       "  </thead>\n",
       "  <tbody>\n",
       "    <tr>\n",
       "      <th>0</th>\n",
       "      <td>SDRW2100000001.1.1.1</td>\n",
       "      <td>SD2100001</td>\n",
       "      <td>너 그래 가지고 우리 저번에 호텔 갔을 때</td>\n",
       "    </tr>\n",
       "    <tr>\n",
       "      <th>1</th>\n",
       "      <td>SDRW2100000001.1.1.421</td>\n",
       "      <td>SD2100002</td>\n",
       "      <td>스트리밍 하는 게 나을 것 같아.</td>\n",
       "    </tr>\n",
       "    <tr>\n",
       "      <th>2</th>\n",
       "      <td>SDRW2100000001.1.1.422</td>\n",
       "      <td>SD2100001</td>\n",
       "      <td>음</td>\n",
       "    </tr>\n",
       "  </tbody>\n",
       "</table>\n",
       "</div>"
      ],
      "text/plain": [
       "                   utt_id speaker_id                 utt_form\n",
       "0    SDRW2100000001.1.1.1  SD2100001  너 그래 가지고 우리 저번에 호텔 갔을 때\n",
       "1  SDRW2100000001.1.1.421  SD2100002       스트리밍 하는 게 나을 것 같아.\n",
       "2  SDRW2100000001.1.1.422  SD2100001                        음"
      ]
     },
     "execution_count": 189,
     "metadata": {},
     "output_type": "execute_result"
    }
   ],
   "source": [
    "utt_df"
   ]
  },
  {
   "cell_type": "code",
   "execution_count": 190,
   "id": "d4afcd4b",
   "metadata": {},
   "outputs": [
    {
     "data": {
      "text/html": [
       "<div>\n",
       "<style scoped>\n",
       "    .dataframe tbody tr th:only-of-type {\n",
       "        vertical-align: middle;\n",
       "    }\n",
       "\n",
       "    .dataframe tbody tr th {\n",
       "        vertical-align: top;\n",
       "    }\n",
       "\n",
       "    .dataframe thead th {\n",
       "        text-align: right;\n",
       "    }\n",
       "</style>\n",
       "<table border=\"1\" class=\"dataframe\">\n",
       "  <thead>\n",
       "    <tr style=\"text-align: right;\">\n",
       "      <th></th>\n",
       "      <th>speaker_index</th>\n",
       "      <th>speaker_id</th>\n",
       "    </tr>\n",
       "  </thead>\n",
       "  <tbody>\n",
       "    <tr>\n",
       "      <th>0</th>\n",
       "      <td>speaker_1</td>\n",
       "      <td>SD2100001</td>\n",
       "    </tr>\n",
       "    <tr>\n",
       "      <th>1</th>\n",
       "      <td>speaker_2</td>\n",
       "      <td>SD2100002</td>\n",
       "    </tr>\n",
       "  </tbody>\n",
       "</table>\n",
       "</div>"
      ],
      "text/plain": [
       "  speaker_index speaker_id\n",
       "0     speaker_1  SD2100001\n",
       "1     speaker_2  SD2100002"
      ]
     },
     "execution_count": 190,
     "metadata": {},
     "output_type": "execute_result"
    }
   ],
   "source": [
    "speaker_df"
   ]
  },
  {
   "cell_type": "code",
   "execution_count": 86,
   "id": "e9ac349c",
   "metadata": {},
   "outputs": [
    {
     "data": {
      "text/html": [
       "<div>\n",
       "<style scoped>\n",
       "    .dataframe tbody tr th:only-of-type {\n",
       "        vertical-align: middle;\n",
       "    }\n",
       "\n",
       "    .dataframe tbody tr th {\n",
       "        vertical-align: top;\n",
       "    }\n",
       "\n",
       "    .dataframe thead th {\n",
       "        text-align: right;\n",
       "    }\n",
       "</style>\n",
       "<table border=\"1\" class=\"dataframe\">\n",
       "  <thead>\n",
       "    <tr style=\"text-align: right;\">\n",
       "      <th></th>\n",
       "      <th>utt_id</th>\n",
       "      <th>speaker_id</th>\n",
       "      <th>utt_form</th>\n",
       "      <th>speaker_index</th>\n",
       "    </tr>\n",
       "  </thead>\n",
       "  <tbody>\n",
       "    <tr>\n",
       "      <th>0</th>\n",
       "      <td>SDRW2100000001.1.1.1</td>\n",
       "      <td>SD2100001</td>\n",
       "      <td>너 그래 가지고 우리 저번에 호텔 갔을 때</td>\n",
       "      <td>speaker_1</td>\n",
       "    </tr>\n",
       "    <tr>\n",
       "      <th>1</th>\n",
       "      <td>SDRW2100000001.1.1.422</td>\n",
       "      <td>SD2100001</td>\n",
       "      <td>음</td>\n",
       "      <td>speaker_1</td>\n",
       "    </tr>\n",
       "    <tr>\n",
       "      <th>2</th>\n",
       "      <td>SDRW2100000001.1.1.421</td>\n",
       "      <td>SD2100002</td>\n",
       "      <td>스트리밍 하는 게 나을 것 같아.</td>\n",
       "      <td>speaker_2</td>\n",
       "    </tr>\n",
       "  </tbody>\n",
       "</table>\n",
       "</div>"
      ],
      "text/plain": [
       "                   utt_id speaker_id                 utt_form speaker_index\n",
       "0    SDRW2100000001.1.1.1  SD2100001  너 그래 가지고 우리 저번에 호텔 갔을 때     speaker_1\n",
       "1  SDRW2100000001.1.1.422  SD2100001                        음     speaker_1\n",
       "2  SDRW2100000001.1.1.421  SD2100002       스트리밍 하는 게 나을 것 같아.     speaker_2"
      ]
     },
     "execution_count": 86,
     "metadata": {},
     "output_type": "execute_result"
    }
   ],
   "source": [
    "utt_df.merge(speaker_df, on=\"speaker_id\")"
   ]
  },
  {
   "cell_type": "markdown",
   "id": "ab44d815",
   "metadata": {},
   "source": [
    "- 잘못된 예"
   ]
  },
  {
   "cell_type": "code",
   "execution_count": 181,
   "id": "75216121",
   "metadata": {},
   "outputs": [
    {
     "data": {
      "text/html": [
       "<div>\n",
       "<style scoped>\n",
       "    .dataframe tbody tr th:only-of-type {\n",
       "        vertical-align: middle;\n",
       "    }\n",
       "\n",
       "    .dataframe tbody tr th {\n",
       "        vertical-align: top;\n",
       "    }\n",
       "\n",
       "    .dataframe thead th {\n",
       "        text-align: right;\n",
       "    }\n",
       "</style>\n",
       "<table border=\"1\" class=\"dataframe\">\n",
       "  <thead>\n",
       "    <tr style=\"text-align: right;\">\n",
       "      <th></th>\n",
       "      <th>docs_title</th>\n",
       "      <th>docs_creator</th>\n",
       "      <th>utt_id</th>\n",
       "      <th>speaker_id</th>\n",
       "      <th>utt_form</th>\n",
       "    </tr>\n",
       "  </thead>\n",
       "  <tbody>\n",
       "    <tr>\n",
       "      <th>0</th>\n",
       "      <td>국립국어원 구어 말뭉치 SDRW2100000001</td>\n",
       "      <td>국립국어원</td>\n",
       "      <td>SDRW2100000001.1.1.1</td>\n",
       "      <td>SD2100001</td>\n",
       "      <td>너 그래 가지고 우리 저번에 호텔 갔을 때</td>\n",
       "    </tr>\n",
       "    <tr>\n",
       "      <th>1</th>\n",
       "      <td>NaN</td>\n",
       "      <td>NaN</td>\n",
       "      <td>SDRW2100000001.1.1.421</td>\n",
       "      <td>SD2100002</td>\n",
       "      <td>스트리밍 하는 게 나을 것 같아.</td>\n",
       "    </tr>\n",
       "    <tr>\n",
       "      <th>2</th>\n",
       "      <td>NaN</td>\n",
       "      <td>NaN</td>\n",
       "      <td>SDRW2100000001.1.1.422</td>\n",
       "      <td>SD2100001</td>\n",
       "      <td>음</td>\n",
       "    </tr>\n",
       "  </tbody>\n",
       "</table>\n",
       "</div>"
      ],
      "text/plain": [
       "                    docs_title docs_creator                  utt_id  \\\n",
       "0  국립국어원 구어 말뭉치 SDRW2100000001        국립국어원    SDRW2100000001.1.1.1   \n",
       "1                          NaN          NaN  SDRW2100000001.1.1.421   \n",
       "2                          NaN          NaN  SDRW2100000001.1.1.422   \n",
       "\n",
       "  speaker_id                 utt_form  \n",
       "0  SD2100001  너 그래 가지고 우리 저번에 호텔 갔을 때  \n",
       "1  SD2100002       스트리밍 하는 게 나을 것 같아.  \n",
       "2  SD2100001                        음  "
      ]
     },
     "execution_count": 181,
     "metadata": {},
     "output_type": "execute_result"
    }
   ],
   "source": [
    "pd.concat([docs_metadata_df, utt_df], axis=1)"
   ]
  },
  {
   "cell_type": "markdown",
   "id": "06517e63",
   "metadata": {},
   "source": [
    "### metadata 정보는 utt_df 혹은 speaker_df 에 columns로 첨가할 필요가 있음. "
   ]
  },
  {
   "cell_type": "code",
   "execution_count": 88,
   "id": "4d56d194",
   "metadata": {},
   "outputs": [],
   "source": [
    "doc_ids = []\n",
    "utt_ids = []; utt_forms = []; utt_oforms = []\n",
    "utt_speaker_ids = []; utt_starts = []; utt_ends = []\n",
    "utt_notes = []; utt_indices = []\n",
    "for doc in docs['document']:\n",
    "    #print(doc['utterance'])\n",
    "    utts = doc['utterance']\n",
    "    utt_index = 1\n",
    "    for utt in utts:\n",
    "        #print(utt)\n",
    "        utt_id = utt['id']\n",
    "        utt_form = utt['form']\n",
    "        utt_oform = utt['original_form']\n",
    "        utt_speaker_id = utt['speaker_id']\n",
    "        utt_start = utt['start']\n",
    "        utt_end = utt['end']\n",
    "        if utt['note'] == '': utt['note'] = \"NA\"\n",
    "        utt_note = utt['note']\n",
    "        utt_index += 1\n",
    "        #print(utt_id, utt_speaker_id, utt_form, '|', utt_oform, '|', utt_start, utt_end, utt_note)\n",
    "        utt_ids.append(utt_id); utt_forms.append(utt_form); utt_oforms.append(utt_oform)\n",
    "        utt_speaker_ids.append(utt_speaker_id); utt_starts.append(utt_start)\n",
    "        utt_ends.append(utt_end); utt_notes.append(utt_note); utt_indices.append('utt_index')\n",
    "        # 기존의 docs_id\n",
    "        doc_ids.append(docs['id'])\n",
    "        \n",
    "doc_ids_df = pd.DataFrame(doc_ids, columns = ['doc_id'])\n",
    "utt_ids_df = pd.DataFrame(utt_ids, columns = ['utt_id'])\n",
    "utt_forms_df = pd.DataFrame(utt_forms, columns = ['utt_form'])\n",
    "utt_speaker_ids_df = pd.DataFrame(utt_speaker_ids, columns = ['utt_speaker_id'])"
   ]
  },
  {
   "cell_type": "code",
   "execution_count": 89,
   "id": "e3882a6d",
   "metadata": {},
   "outputs": [],
   "source": [
    "utt_df = pd.concat([doc_ids_df, utt_ids_df, utt_speaker_ids_df, utt_forms_df], axis=1)"
   ]
  },
  {
   "cell_type": "code",
   "execution_count": 90,
   "id": "9799170f",
   "metadata": {},
   "outputs": [
    {
     "data": {
      "text/html": [
       "<div>\n",
       "<style scoped>\n",
       "    .dataframe tbody tr th:only-of-type {\n",
       "        vertical-align: middle;\n",
       "    }\n",
       "\n",
       "    .dataframe tbody tr th {\n",
       "        vertical-align: top;\n",
       "    }\n",
       "\n",
       "    .dataframe thead th {\n",
       "        text-align: right;\n",
       "    }\n",
       "</style>\n",
       "<table border=\"1\" class=\"dataframe\">\n",
       "  <thead>\n",
       "    <tr style=\"text-align: right;\">\n",
       "      <th></th>\n",
       "      <th>doc_id</th>\n",
       "      <th>utt_id</th>\n",
       "      <th>utt_speaker_id</th>\n",
       "      <th>utt_form</th>\n",
       "    </tr>\n",
       "  </thead>\n",
       "  <tbody>\n",
       "    <tr>\n",
       "      <th>0</th>\n",
       "      <td>SDRW2100000001</td>\n",
       "      <td>SDRW2100000001.1.1.1</td>\n",
       "      <td>SD2100001</td>\n",
       "      <td>너 그래 가지고 우리 저번에 호텔 갔을 때</td>\n",
       "    </tr>\n",
       "    <tr>\n",
       "      <th>1</th>\n",
       "      <td>SDRW2100000001</td>\n",
       "      <td>SDRW2100000001.1.1.421</td>\n",
       "      <td>SD2100002</td>\n",
       "      <td>스트리밍 하는 게 나을 것 같아.</td>\n",
       "    </tr>\n",
       "    <tr>\n",
       "      <th>2</th>\n",
       "      <td>SDRW2100000001</td>\n",
       "      <td>SDRW2100000001.1.1.422</td>\n",
       "      <td>SD2100001</td>\n",
       "      <td>음</td>\n",
       "    </tr>\n",
       "  </tbody>\n",
       "</table>\n",
       "</div>"
      ],
      "text/plain": [
       "           doc_id                  utt_id utt_speaker_id  \\\n",
       "0  SDRW2100000001    SDRW2100000001.1.1.1      SD2100001   \n",
       "1  SDRW2100000001  SDRW2100000001.1.1.421      SD2100002   \n",
       "2  SDRW2100000001  SDRW2100000001.1.1.422      SD2100001   \n",
       "\n",
       "                  utt_form  \n",
       "0  너 그래 가지고 우리 저번에 호텔 갔을 때  \n",
       "1       스트리밍 하는 게 나을 것 같아.  \n",
       "2                        음  "
      ]
     },
     "execution_count": 90,
     "metadata": {},
     "output_type": "execute_result"
    }
   ],
   "source": [
    "utt_df"
   ]
  },
  {
   "cell_type": "markdown",
   "id": "1a8e877b",
   "metadata": {},
   "source": [
    "## DIY \n",
    "- Can you do similarly with the other metadata?"
   ]
  },
  {
   "cell_type": "markdown",
   "id": "3c9a1e17",
   "metadata": {},
   "source": [
    "## Handling files in a directory"
   ]
  },
  {
   "cell_type": "code",
   "execution_count": 91,
   "id": "3ec70c25",
   "metadata": {},
   "outputs": [
    {
     "data": {
      "text/plain": [
       "['data/SDRW2100000001',\n",
       " 'data/SDRW2100000001.json',\n",
       " 'data/SDRW2100000001_test.json',\n",
       " 'data/SDRW2100000002',\n",
       " 'data/SDRW2100000002.json']"
      ]
     },
     "execution_count": 91,
     "metadata": {},
     "output_type": "execute_result"
    }
   ],
   "source": [
    "import glob\n",
    "glob.glob(\"data/*\")"
   ]
  },
  {
   "cell_type": "code",
   "execution_count": 92,
   "id": "88a0b79f",
   "metadata": {},
   "outputs": [
    {
     "name": "stdout",
     "output_type": "stream",
     "text": [
      "data/SDRW2100000001.json\n",
      "data/SDRW2100000001_test.json\n",
      "data/SDRW2100000002.json\n"
     ]
    }
   ],
   "source": [
    "for file in glob.glob('data/*.json'):\n",
    "    print(file)"
   ]
  },
  {
   "cell_type": "code",
   "execution_count": 93,
   "id": "f628f0d2",
   "metadata": {},
   "outputs": [
    {
     "name": "stdout",
     "output_type": "stream",
     "text": [
      "data/SDRW2100000001.json\n",
      "data/SDRW2100000002.json\n"
     ]
    }
   ],
   "source": [
    "for file in glob.glob('data/*[12].json'):\n",
    "    print(file)"
   ]
  },
  {
   "cell_type": "code",
   "execution_count": 94,
   "id": "ffec4a04",
   "metadata": {},
   "outputs": [
    {
     "name": "stdout",
     "output_type": "stream",
     "text": [
      "<class 'dict'>\n",
      "{'id': 'SDRW2100000001', 'metadata': {'title': '국립국어원 구어 말뭉치 SDRW2100000001', 'creator': '국립국어원', 'distributor': '국립국어원', 'year': '2021', 'category': '구어 > 사적대화 > 일상대화', 'annotation_level': ['원시'], 'sampling': '본문 전체'}, 'document': [{'id': 'SDRW2100000001.1', 'metadata': {'title': '2인 일상 대화', 'author': '개인 발화자', 'publisher': '개인 발화 녹음', 'date': '20210805', 'topic': '음악 > 음악취향, 아이돌', 'speaker': [{'id': 'SD2100001', 'age': '20대', 'occupation': '학생', 'sex': '여성', 'birthplace': '서울', 'principal_residence': '경기', 'current_residence': '서울', 'education': '대재'}, {'id': 'SD2100002', 'age': '20대', 'occupation': '학생', 'sex': '여성', 'birthplace': '전남', 'principal_residence': '서울', 'current_residence': '서울', 'education': '대재'}], 'setting': {'relation': '친구'}}, 'utterance': [{'id': 'SDRW2100000001.1.1.1', 'form': '너 그래 가지고 우리 저번에 호텔 갔을 때', 'original_form': '너 그래 가지고 우리 저번에 호텔 갔을 때', 'speaker_id': 'SD2100001', 'start': '1.58000', 'end': '5.30400', 'note': ''}, {'id': 'SDRW2100000001.1.1.2', 'form': '나랑 음악 중심 켜 놓고 봤잖아 name1이 잘 때.', 'original_form': '나랑 음악 중심 켜 놓고 봤잖아 &name1&이 잘 때.', 'speaker_id': 'SD2100001', 'start': '5.30400', 'end': '8.32000', 'note': '발화겹침'}, {'id': 'SDRW2100000001.1.1.3', 'form': '아 그 음악 중심이 아니라 유희열의 스케치북', 'original_form': '아 그 음악 중심이 아니라 유희열의 스케치북', 'speaker_id': 'SD2100002', 'start': '8.04000', 'end': '11.22900', 'note': '발화겹침'}, {'id': 'SDRW2100000001.1.1.4', 'form': '아 아니 아니 아니야 유희열의 스케치북 말고도 다른 것도 있었어.', 'original_form': '아 아니 아니 아니야 유희열의 스케치북 말고도 딴 것도 있었어.', 'speaker_id': 'SD2100001', 'start': '10.34900', 'end': '13.62807', 'note': '발화겹침'}, {'id': 'SDRW2100000001.1.1.5', 'form': '아 어.', 'original_form': '아 어.', 'speaker_id': 'SD2100002', 'start': '12.89900', 'end': '13.56900', 'note': '발화겹침'}, {'id': 'SDRW2100000001.1.1.6', 'form': '그', 'original_form': '그~', 'speaker_id': 'SD2100001', 'start': '13.62807', 'end': '14.23900', 'note': ''}, {'id': 'SDRW2100000001.1.1.7', 'form': '엠넷에서 하는 거 엠카 보다가', 'original_form': '엠넷에서 하는 거 엠카 보다가', 'speaker_id': 'SD2100001', 'start': '14.23900', 'end': '16.95500', 'note': ''}, {'id': 'SDRW2100000001.1.1.8', 'form': '어 어 어.', 'original_form': '어 어 어.', 'speaker_id': 'SD2100002', 'start': '15.67900', 'end': '16.91900', 'note': '발화겹침'}, {'id': 'SDRW2100000001.1.1.9', 'form': '너 엔시티 나왔다고 따라서 춤추고', 'original_form': '너 엔씨티 나왔다고 {laughing} 따라서 춤추고', 'speaker_id': 'SD2100001', 'start': '16.95500', 'end': '20.41000', 'note': ''}, {'id': 'SDRW2100000001.1.1.10', 'form': '그랬던 거 기억나?', 'original_form': '그랬던 거 기억나?', 'speaker_id': 'SD2100001', 'start': '20.41000', 'end': '21.70000', 'note': '발화겹침'}, {'id': 'SDRW2100000001.1.1.11', 'form': '어.', 'original_form': '어.', 'speaker_id': 'SD2100002', 'start': '20.49000', 'end': '21.04000', 'note': '발화겹침'}, {'id': 'SDRW2100000001.1.1.12', 'form': '어 기억 나', 'original_form': '어 기억 나 {laughing}', 'speaker_id': 'SD2100002', 'start': '21.44041', 'end': '22.87000', 'note': '발화겹침'}, {'id': 'SDRW2100000001.1.1.13', 'form': '엔시티 아직도 좋아해 그래서?', 'original_form': '엔씨티 아직도 좋아해 그래서?', 'speaker_id': 'SD2100001', 'start': '22.95000', 'end': '24.74000', 'note': ''}, {'id': 'SDRW2100000001.1.1.14', 'form': '어 좋아하지.', 'original_form': '어 좋아하지.', 'speaker_id': 'SD2100002', 'start': '25.03000', 'end': '26.12000', 'note': '발화겹침'}, {'id': 'SDRW2100000001.1.1.15', 'form': '아 맞아.', 'original_form': '아 맞아.', 'speaker_id': 'SD2100001', 'start': '25.90000', 'end': '26.60539', 'note': '발화겹침'}, {'id': 'SDRW2100000001.1.1.16', 'form': '너 어제 이마크랑 옷 똑같다고 사진도 보냈었잖아.', 'original_form': '니 어제 이마크랑 옷 똑같다고 사진도 보냈었잖아.', 'speaker_id': 'SD2100001', 'start': '26.60539', 'end': '30.15000', 'note': ''}, {'id': 'SDRW2100000001.1.1.17', 'form': '맞아.', 'original_form': '맞아.', 'speaker_id': 'SD2100002', 'start': '30.38000', 'end': '31.03814', 'note': ''}, {'id': 'SDRW2100000001.1.1.18', 'form': '근데', 'original_form': '근데', 'speaker_id': 'SD2100002', 'start': '31.03814', 'end': '32.35600', 'note': ''}, {'id': 'SDRW2100000001.1.1.19', 'form': '오늘도 내가 알바하면서', 'original_form': '오늘도 내가 알바하면서', 'speaker_id': 'SD2100002', 'start': '32.35600', 'end': '35.04000', 'note': ''}, {'id': 'SDRW2100000001.1.1.20', 'form': '내 생각에는 그 노래를 트는 사람이', 'original_form': '내 생각에는 그 노래를 트는 사람이', 'speaker_id': 'SD2100002', 'start': '35.64000', 'end': '38.97547', 'note': ''}, {'id': 'SDRW2100000001.1.1.21', 'form': '매장에서 노래를 트는 사람이', 'original_form': '매장에서 노래를 트는 사람이', 'speaker_id': 'SD2100002', 'start': '38.97547', 'end': '41.07293', 'note': ''}, {'id': 'SDRW2100000001.1.1.22', 'form': '에스엠을 쪼금 좋아하는 것 같아.', 'original_form': '에스엠을 쪼금 좋아하는 것 같아.', 'speaker_id': 'SD2100002', 'start': '41.07293', 'end': '43.40000', 'note': ''}, {'id': 'SDRW2100000001.1.1.23', 'form': '그래 가지고 오늘도 되게 많이 들었어.', 'original_form': '그래 가지고 오늘도 되게 많이 들었어.', 'speaker_id': 'SD2100002', 'start': '43.41000', 'end': '46.78000', 'note': ''}, {'id': 'SDRW2100000001.1.1.24', 'form': '엔시티 노래를?', 'original_form': '엔씨티 노래를?', 'speaker_id': 'SD2100001', 'start': '46.95000', 'end': '48.04000', 'note': '발화겹침'}, {'id': 'SDRW2100000001.1.1.25', 'form': '어.', 'original_form': '어.', 'speaker_id': 'SD2100002', 'start': '47.79000', 'end': '48.40000', 'note': '발화겹침'}, {'id': 'SDRW2100000001.1.1.26', 'form': '그럼 엔시티 말고는 듣는 거 없어 요새?', 'original_form': '그럼 엔씨티 말고는 듣는 거 없어 요새?', 'speaker_id': 'SD2100001', 'start': '48.32000', 'end': '50.50000', 'note': '발화겹침'}, {'id': 'SDRW2100000001.1.1.27', 'form': '아니 나 뭐 많이 듣지.', 'original_form': '아니 나 뭐 많이 듣지.', 'speaker_id': 'SD2100002', 'start': '51.06000', 'end': '53.72846', 'note': ''}, {'id': 'SDRW2100000001.1.1.28', 'form': '나', 'original_form': '나', 'speaker_id': 'SD2100002', 'start': '53.72846', 'end': '54.65000', 'note': ''}, {'id': 'SDRW2100000001.1.1.29', 'form': '어', 'original_form': '어~', 'speaker_id': 'SD2100002', 'start': '56.14949', 'end': '57.06000', 'note': '발화겹침'}, {'id': 'SDRW2100000001.1.1.30', 'form': '뭐 듣는데?', 'original_form': '뭐 듣는데?', 'speaker_id': 'SD2100001', 'start': '56.99000', 'end': '57.87000', 'note': '발화겹침'}, {'id': 'SDRW2100000001.1.1.31', 'form': '크러쉬나', 'original_form': '크러쉬나', 'speaker_id': 'SD2100002', 'start': '57.23000', 'end': '58.62000', 'note': '발화겹침'}, {'id': 'SDRW2100000001.1.1.32', 'form': '아 맞다.', 'original_form': '아 맞다.', 'speaker_id': 'SD2100001', 'start': '58.45714', 'end': '60.48000', 'note': '발화겹침'}, {'id': 'SDRW2100000001.1.1.33', 'form': '알앤비도', 'original_form': '알앤비도', 'speaker_id': 'SD2100002', 'start': '59.13660', 'end': '60.51000', 'note': '발화겹침'}, {'id': 'SDRW2100000001.1.1.34', 'form': '알앤비도 많이 듣고', 'original_form': '알앤비도 많이 듣고', 'speaker_id': 'SD2100002', 'start': '60.91300', 'end': '62.89000', 'note': ''}, {'id': 'SDRW2100000001.1.1.35', 'form': '데이식스 노래도 많이 들어.', 'original_form': '데이식스 노래도 많이 들어.', 'speaker_id': 'SD2100002', 'start': '63.46469', 'end': '65.50000', 'note': '발화겹침'}, {'id': 'SDRW2100000001.1.1.36', 'form': '너 크러쉬 콘서트도 갔다 그랬었나?', 'original_form': '너 크러쉬 콘서트도 갔다 그랬었나?', 'speaker_id': 'SD2100001', 'start': '65.43000', 'end': '67.60000', 'note': '발화겹침'}, {'id': 'SDRW2100000001.1.1.37', 'form': 'name1이랑?', 'original_form': '&name1&이랑?', 'speaker_id': 'SD2100001', 'start': '67.96929', 'end': '68.80000', 'note': '발화겹침'}, {'id': 'SDRW2100000001.1.1.38', 'form': '어', 'original_form': '어~', 'speaker_id': 'SD2100002', 'start': '68.46000', 'end': '69.31000', 'note': '발화겹침'}, {'id': 'SDRW2100000001.1.1.39', 'form': '어.', 'original_form': '어.', 'speaker_id': 'SD2100002', 'start': '70.35000', 'end': '70.94170', 'note': ''}, {'id': 'SDRW2100000001.1.1.40', 'form': '그 단독 콘서트는 아니고', 'original_form': '그 단독 콘서트는 아니고', 'speaker_id': 'SD2100002', 'start': '70.94170', 'end': '73.64959', 'note': ''}, {'id': 'SDRW2100000001.1.1.41', 'form': '페스티벌?', 'original_form': '페스티벌?', 'speaker_id': 'SD2100001', 'start': '73.79000', 'end': '74.58000', 'note': '발화겹침'}, {'id': 'SDRW2100000001.1.1.42', 'form': '그냥', 'original_form': '그냥', 'speaker_id': 'SD2100002', 'start': '73.88000', 'end': '74.67000', 'note': '발화겹침'}, {'id': 'SDRW2100000001.1.1.43', 'form': '어 많이 나오는데', 'original_form': '어 많이 나오는데', 'speaker_id': 'SD2100002', 'start': '75.16614', 'end': '77.02000', 'note': ''}, {'id': 'SDRW2100000001.1.1.44', 'form': '아', 'original_form': '아', 'speaker_id': 'SD2100001', 'start': '75.32108', 'end': '76.78000', 'note': '발화겹침'}, {'id': 'SDRW2100000001.1.1.45', 'form': '그중에 크러쉬도 나오는 거.', 'original_form': '그중에 크러쉬도 나오는 거.', 'speaker_id': 'SD2100002', 'start': '77.02000', 'end': '79.58000', 'note': ''}, {'id': 'SDRW2100000001.1.1.46', 'form': '어 부럽다 야.', 'original_form': '어 부럽다 야.', 'speaker_id': 'SD2100001', 'start': '79.60000', 'end': '81.00290', 'note': ''}, {'id': 'SDRW2100000001.1.1.47', 'form': '코로나 없을 때 오프를 많이 다녔어야 됐는데', 'original_form': '코로나 없을 때 오프를 많이 다녔어야 됐는데', 'speaker_id': 'SD2100001', 'start': '81.00290', 'end': '83.88000', 'note': '발화겹침'}, {'id': 'SDRW2100000001.1.1.48', 'form': '아 근데 나 너 인스타에서 봤는데', 'original_form': '아 근데 나 너 인스타에서 봤는데', 'speaker_id': 'SD2100002', 'start': '83.84000', 'end': '86.89398', 'note': '발화겹침'}, {'id': 'SDRW2100000001.1.1.49', 'form': '너 무슨 온라인 콘서트를 가는 거야?', 'original_form': '너 무슨 온라인 콘서트를 가는 거야?', 'speaker_id': 'SD2100002', 'start': '86.89398', 'end': '90.46982', 'note': '발화겹침'}, {'id': 'SDRW2100000001.1.1.50', 'form': '아니 가는 게 아니라 근데 그게 되게 웃긴 게', 'original_form': '아니 가는 게 아니라 근데 그게 되게 웃긴 게', 'speaker_id': 'SD2100001', 'start': '90.44000', 'end': '92.94622', 'note': '발화겹침'}, {'id': 'SDRW2100000001.1.1.51', 'form': '집에서 그 브이앱 있잖아.', 'original_form': '집에서 그 브이앱 있잖아.', 'speaker_id': 'SD2100001', 'start': '92.94622', 'end': '95.17071', 'note': ''}, {'id': 'SDRW2100000001.1.1.52', 'form': '브이앱으로 보는 건데 그거를 산다고 일단 돈을 내면', 'original_form': '브이앱으로 보는 건데 그거를 산다고 일단 돈을 내면', 'speaker_id': 'SD2100001', 'start': '95.17071', 'end': '98.93000', 'note': ''}, {'id': 'SDRW2100000001.1.1.53', 'form': '소속사에서 그 코드를 줘 입장 코드를.', 'original_form': '소속사에서 그 코드를 줘 입장 코드를.', 'speaker_id': 'SD2100001', 'start': '99.09000', 'end': '101.73772', 'note': ''}, {'id': 'SDRW2100000001.1.1.54', 'form': '그러면', 'original_form': '그러면', 'speaker_id': 'SD2100001', 'start': '101.73772', 'end': '102.46000', 'note': ''}, {'id': 'SDRW2100000001.1.1.55', 'form': '그거를 받아 가지고 당일에 입력을 해서 내가 들어가야 되는 거야.', 'original_form': '그거를 받아 가지고 당일에 입력을 해서 내가 들어가야 되는 거야.', 'speaker_id': 'SD2100001', 'start': '102.46000', 'end': '106.31000', 'note': ''}, {'id': 'SDRW2100000001.1.1.56', 'form': '근데 나는 온라인 콘서트니까', 'original_form': '근데 나는 온라인 콘서트니까', 'speaker_id': 'SD2100001', 'start': '106.31000', 'end': '108.28137', 'note': ''}, {'id': 'SDRW2100000001.1.1.57', 'form': '좀 그래도 약간 뭐라 해야 되지?', 'original_form': '쫌 그래도 약간 뭐라 해야 되지?', 'speaker_id': 'SD2100001', 'start': '108.28137', 'end': '110.46228', 'note': ''}, {'id': 'SDRW2100000001.1.1.58', 'form': '그 가격 면에서 좀 이점이 있겠지라고 생각을 했단 말이야.', 'original_form': '그 가격 면에서 쫌 이점이 있겠지라고 생각을 했단 말이야.', 'speaker_id': 'SD2100001', 'start': '110.46228', 'end': '114.35000', 'note': ''}, {'id': 'SDRW2100000001.1.1.59', 'form': '근데', 'original_form': '근데', 'speaker_id': 'SD2100001', 'start': '114.53000', 'end': '115.32502', 'note': ''}, {'id': 'SDRW2100000001.1.1.60', 'form': '원래 우리가 콘서트를 그냥 오프라인으로 다닐 때 내가 10 한', 'original_form': '원래 우리가 콘서트를 그냥 오프라인으로 다닐 때 내가 십 한', 'speaker_id': 'SD2100001', 'start': '115.32502', 'end': '119.26320', 'note': ''}, {'id': 'SDRW2100000001.1.1.61', 'form': '11만 원 12만 원 이 정도 주고 다녔거든.', 'original_form': '십일만 원 십이만 원 이 정도 주고 다녔거든.', 'speaker_id': 'SD2100001', 'start': '119.26320', 'end': '121.73000', 'note': ''}, {'id': 'SDRW2100000001.1.1.62', 'form': '근데 이게 그 팬 클럽 할인가를 받아도 3만 9천 원인거야.', 'original_form': '근데 이게 그 팬 클럽 할인가를 받아도 삼만 구천 원인거야.', 'speaker_id': 'SD2100001', 'start': '121.73000', 'end': '125.59290', 'note': ''}, {'id': 'SDRW2100000001.1.1.63', 'form': '그래서 내가 약간 가격을 보고 아 이거는', 'original_form': '그래서 내가 약간 가격을 보고 아 이거는', 'speaker_id': 'SD2100001', 'start': '125.59290', 'end': '127.48761', 'note': ''}, {'id': 'SDRW2100000001.1.1.64', 'form': '아무리 노래를 듣고 싶어도 가격이 약간 두 시간밖에 안 하는데', 'original_form': '아무리 노래를 듣고 싶어도 가격이 약간 (()) 두 시간밖에 안 하는데', 'speaker_id': 'SD2100001', 'start': '127.48761', 'end': '131.53999', 'note': ''}, {'id': 'SDRW2100000001.1.1.65', 'form': '그래 가지고 고민을 하다가 그래도', 'original_form': '그래 가주고 고민을 하다가 그래도', 'speaker_id': 'SD2100001', 'start': '131.79000', 'end': '134.79000', 'note': ''}, {'id': 'SDRW2100000001.1.1.66', 'form': '입대하기 전에 마지막인데', 'original_form': '입대하기 전에 {laughing} 마지막인데', 'speaker_id': 'SD2100001', 'start': '135.26000', 'end': '137.07191', 'note': ''}, {'id': 'SDRW2100000001.1.1.67', 'form': '이건 봐야 되지 않나 싶어서 샀어 친구도 영업했어.', 'original_form': '이건 봐야 되지 않나 싶어서 샀어 친구도 영업했어.', 'speaker_id': 'SD2100001', 'start': '137.07191', 'end': '140.33000', 'note': ''}, {'id': 'SDRW2100000001.1.1.68', 'form': '그러면 거기에 네 명 나오는 거야?', 'original_form': '그러면 거기에 네 명 나오는 거야?', 'speaker_id': 'SD2100002', 'start': '141.49000', 'end': '144.59000', 'note': ''}, {'id': 'SDRW2100000001.1.1.69', 'form': '아니 세 명.', 'original_form': '아니 세 명.', 'speaker_id': 'SD2100001', 'start': '144.68000', 'end': '145.68000', 'note': '발화겹침'}, {'id': 'SDRW2100000001.1.1.70', 'form': '세 명?', 'original_form': '세 명?', 'speaker_id': 'SD2100002', 'start': '145.33274', 'end': '146.07000', 'note': '발화겹침'}, {'id': 'SDRW2100000001.1.1.71', 'form': '응.', 'original_form': '응.', 'speaker_id': 'SD2100001', 'start': '145.68000', 'end': '146.37000', 'note': '발화겹침'}, {'id': 'SDRW2100000001.1.1.72', 'form': '아 그', 'original_form': '아 그', 'speaker_id': 'SD2100002', 'start': '146.07000', 'end': '147.04000', 'note': '발화겹침'}, {'id': 'SDRW2100000001.1.1.73', 'form': '그 세 명?', 'original_form': '그 세 명?', 'speaker_id': 'SD2100002', 'start': '147.66959', 'end': '148.91855', 'note': '발화겹침'}, {'id': 'SDRW2100000001.1.1.74', 'form': '어 그 유닛 하는 세 명.', 'original_form': '어 그 유닛 하는 세 명.', 'speaker_id': 'SD2100001', 'start': '148.40000', 'end': '149.94923', 'note': '발화겹침'}, {'id': 'SDRW2100000001.1.1.75', 'form': '어.', 'original_form': '어.', 'speaker_id': 'SD2100002', 'start': '148.91855', 'end': '149.85000', 'note': '발화겹침'}, {'id': 'SDRW2100000001.1.1.76', 'form': '그래서 근데 내가 원래 안 사려 그랬거든.', 'original_form': '그래서 근데 내가 원래 안 살라 그랬거든.', 'speaker_id': 'SD2100001', 'start': '149.94923', 'end': '152.90063', 'note': ''}, {'id': 'SDRW2100000001.1.1.77', 'form': '왜냐하면 이제 또 개강하면 돈 많이 들고 하니까', 'original_form': '왜냐면 이제 또 개강하면 돈 많이 들고 하니까', 'speaker_id': 'SD2100001', 'start': '152.90063', 'end': '155.83051', 'note': ''}, {'id': 'SDRW2100000001.1.1.78', 'form': '돈 아껴야 돼 갖고 근데', 'original_form': '돈 아껴야 돼 갖고 근데', 'speaker_id': 'SD2100001', 'start': '155.83051', 'end': '157.56000', 'note': ''}, {'id': 'SDRW2100000001.1.1.79', 'form': '딱 그 뭐라 해야 되지 홍보하는 글 있잖아.', 'original_form': '딱 그~ 뭐라 해야 되지 홍보하는 글 있잖아.', 'speaker_id': 'SD2100001', 'start': '158.16996', 'end': '161.63100', 'note': ''}, {'id': 'SDRW2100000001.1.1.80', 'form': '근데 거기에다가', 'original_form': '근데 거기에다가', 'speaker_id': 'SD2100001', 'start': '161.63100', 'end': '162.86001', 'note': ''}, {'id': 'SDRW2100000001.1.1.81', 'form': '지금까지 한번도', 'original_form': '지금까지 한번도', 'speaker_id': 'SD2100001', 'start': '163.24797', 'end': '165.09200', 'note': ''}, {'id': 'SDRW2100000001.1.1.82', 'form': '들려 드리지 않은 곡 일이 있는 거야 그 플레이 리스트에 그거를 하겠다고.', 'original_form': '들려 드리지 않은 곡 ((일이)) 있는 거야 그 플레이 리스트에 그거를 하겠다고.', 'speaker_id': 'SD2100001', 'start': '165.09200', 'end': '168.79159', 'note': ''}, {'id': 'SDRW2100000001.1.1.83', 'form': '그래 가지고', 'original_form': '그래 가주고', 'speaker_id': 'SD2100001', 'start': '168.79159', 'end': '169.55001', 'note': ''}, {'id': 'SDRW2100000001.1.1.84', 'form': '아 이거는 들어야 된다.', 'original_form': '아 이거는 들어야 된다.', 'speaker_id': 'SD2100001', 'start': '169.55001', 'end': '170.80667', 'note': ''}, {'id': 'SDRW2100000001.1.1.85', 'form': '왜냐하면 내가 예전에 너희랑 일본 여행 갔을 때 있잖아.', 'original_form': '왜냐면 내가 예전에 너네랑 일본 여행 갔을 때 있잖아.', 'speaker_id': 'SD2100001', 'start': '170.80667', 'end': '173.86001', 'note': ''}, {'id': 'SDRW2100000001.1.1.86', 'form': '그때 우리 돌아 오는 날이', 'original_form': '그때 우리 돌아 오는 날이', 'speaker_id': 'SD2100001', 'start': '173.86001', 'end': '176.36000', 'note': ''}, {'id': 'SDRW2100000001.1.1.87', 'form': '콘서트 아니 팬 미팅날이었거든.', 'original_form': '콘서트 아이 팬 미팅날이었거든.', 'speaker_id': 'SD2100001', 'start': '176.36000', 'end': '178.36706', 'note': ''}, {'id': 'SDRW2100000001.1.1.88', 'form': '근데 거기서 미공개 곡 막 보여 주고 그래 가지고', 'original_form': '근데 거기서 미공개 곡 막 보여 주고 그래 가지고', 'speaker_id': 'SD2100001', 'start': '178.58000', 'end': '181.84000', 'note': ''}, {'id': 'SDRW2100000001.1.1.89', 'form': '그런데 그게', 'original_form': '그런데 그게', 'speaker_id': 'SD2100002', 'start': '183.69001', 'end': '184.99954', 'note': ''}, {'id': 'SDRW2100000001.1.1.90', 'form': '쪼금 돈이 비싸다 보니까', 'original_form': '쪼금 돈이 비싸다 보니까', 'speaker_id': 'SD2100002', 'start': '184.99954', 'end': '188.18999', 'note': ''}, {'id': 'SDRW2100000001.1.1.91', 'form': '내 생각에는', 'original_form': '내 생각에는', 'speaker_id': 'SD2100002', 'start': '188.18999', 'end': '189.77000', 'note': ''}, {'id': 'SDRW2100000001.1.1.92', 'form': '뭔가 후회하지 않을 만한', 'original_form': '뭔가 후회하지 않을 만한', 'speaker_id': 'SD2100002', 'start': '189.77000', 'end': '192.62011', 'note': ''}, {'id': 'SDRW2100000001.1.1.93', 'form': '뭔가 있을 것 같아.', 'original_form': '뭔가 있을 것 같아.', 'speaker_id': 'SD2100002', 'start': '192.62011', 'end': '194.25000', 'note': ''}, {'id': 'SDRW2100000001.1.1.94', 'form': '아이 사실은 그 그랬으면 좋겠다.', 'original_form': '아이 사실은 -그- 그랬으면 좋겠다.', 'speaker_id': 'SD2100001', 'start': '194.30001', 'end': '196.52000', 'note': ''}, {'id': 'SDRW2100000001.1.1.95', 'form': '그게 예전에도 한번 하긴 했었거든 온라인 콘서트를.', 'original_form': '그게 예전에도 한번 하긴 했었거든 온라인 콘서트를.', 'speaker_id': 'SD2100001', 'start': '196.52000', 'end': '199.64400', 'note': ''}, {'id': 'SDRW2100000001.1.1.96', 'form': '내가 그때도 한번 샀다가', 'original_form': '내가 그때도 한번 샀다가', 'speaker_id': 'SD2100001', 'start': '199.64400', 'end': '201.90400', 'note': ''}, {'id': 'SDRW2100000001.1.1.97', 'form': '시간이 안 돼 갖고 취소했었는데 모르겠다.', 'original_form': '시간이 안 돼 갖고 취소했었는데 모르겠다.', 'speaker_id': 'SD2100001', 'start': '201.90400', 'end': '204.80996', 'note': ''}, {'id': 'SDRW2100000001.1.1.98', 'form': '근데 좀 웃긴 게 이게 온라인 콘서트면', 'original_form': '근데 쫌 웃긴 게 이게 온라인 콘서트면', 'speaker_id': 'SD2100001', 'start': '204.80996', 'end': '207.61328', 'note': ''}, {'id': 'SDRW2100000001.1.1.99', 'form': '집에서 내가 노트북 갖고 들어야 되잖아.', 'original_form': '집에서 내가 노트북 갖고 들어야 되잖아.', 'speaker_id': 'SD2100001', 'start': '207.61328', 'end': '209.78674', 'note': ''}, {'id': 'SDRW2100000001.1.1.100', 'form': '방 밖에 엄마 아빠 있는데 혼자 막 거기서', 'original_form': '방 밖에 엄마 아빠 있는데 혼자 막 거기서', 'speaker_id': 'SD2100001', 'start': '209.78674', 'end': '213.00700', 'note': ''}, {'id': 'SDRW2100000001.1.1.101', 'form': '응원봉 들고 이러고 있기가 너무 창피한거야.', 'original_form': '응원봉 들고 이러고 있기가 너무 창피한거야.', 'speaker_id': 'SD2100001', 'start': '213.00700', 'end': '215.36526', 'note': ''}, {'id': 'SDRW2100000001.1.1.102', 'form': '그래서', 'original_form': '그래서', 'speaker_id': 'SD2100001', 'start': '215.36526', 'end': '216.68003', 'note': ''}, {'id': 'SDRW2100000001.1.1.103', 'form': '오늘까지 취소할 거면 오늘까지 해야 되거든.', 'original_form': '오늘까지 취소할 거면 오늘까지 해야 되거든.', 'speaker_id': 'SD2100001', 'start': '216.68003', 'end': '219.11610', 'note': ''}, {'id': 'SDRW2100000001.1.1.104', 'form': '그래서 약간 고민 중이야.', 'original_form': '그래서 약간 고민 중이야.', 'speaker_id': 'SD2100001', 'start': '219.11610', 'end': '220.79000', 'note': ''}, {'id': 'SDRW2100000001.1.1.105', 'form': '그래도 그 취소하면은', 'original_form': '그래도 그 취소하면은', 'speaker_id': 'SD2100002', 'start': '221.86000', 'end': '224.03200', 'note': ''}, {'id': 'SDRW2100000001.1.1.106', 'form': '그 쪼금 아쉽지 않을까?', 'original_form': '그 쪼금 아쉽지 않을까?', 'speaker_id': 'SD2100002', 'start': '224.03200', 'end': '226.33000', 'note': ''}, {'id': 'SDRW2100000001.1.1.107', 'form': '그렇지.', 'original_form': '그치.', 'speaker_id': 'SD2100001', 'start': '226.44000', 'end': '226.84110', 'note': ''}, {'id': 'SDRW2100000001.1.1.108', 'form': '그냥 하는 게 낫겠지?', 'original_form': '그냥 하는 게 낫겠지?', 'speaker_id': 'SD2100001', 'start': '226.84110', 'end': '228.30001', 'note': ''}, {'id': 'SDRW2100000001.1.1.109', 'form': '너 친구도 하는 것 같은데', 'original_form': '너 친구도 하는 것 같은은데', 'speaker_id': 'SD2100002', 'start': '228.68000', 'end': '231.51000', 'note': '발화겹침'}, {'id': 'SDRW2100000001.1.1.110', 'form': '어 맞아 그래서 약간 내가 여기서 취소해 버리면', 'original_form': '어 맞아 그래서 약간 내가 여기서 취소해 버리면', 'speaker_id': 'SD2100001', 'start': '231.37999', 'end': '234.31454', 'note': '발화겹침'}, {'id': 'SDRW2100000001.1.1.111', 'form': '내가 영업하고 걔만 남기고 가는 거라서', 'original_form': '내가 영업하고 {laughing} 걔만 남기고 가는 거라서', 'speaker_id': 'SD2100001', 'start': '234.31454', 'end': '237.18254', 'note': ''}, {'id': 'SDRW2100000001.1.1.112', 'form': '안 될 것 같고', 'original_form': '안 될 것 같고', 'speaker_id': 'SD2100001', 'start': '237.52000', 'end': '238.96000', 'note': '발화겹침'}, {'id': 'SDRW2100000001.1.1.113', 'form': '근데 궁금한 게 걔가', 'original_form': '근데 궁금한 게 걔가', 'speaker_id': 'SD2100002', 'start': '238.38000', 'end': '241.02730', 'note': '발화겹침'}, {'id': 'SDRW2100000001.1.1.114', 'form': '우리 학교에 있다가 반수한 거야?', 'original_form': '우리 학교에 있다가 반수한 거야?', 'speaker_id': 'SD2100002', 'start': '241.02730', 'end': '243.65000', 'note': ''}, {'id': 'SDRW2100000001.1.1.115', 'form': '아 그 친구?', 'original_form': '아 그 친구?', 'speaker_id': 'SD2100001', 'start': '244.06000', 'end': '245.15000', 'note': '발화겹침'}, {'id': 'SDRW2100000001.1.1.116', 'form': '어.', 'original_form': '어.', 'speaker_id': 'SD2100002', 'start': '244.96000', 'end': '245.48000', 'note': '발화겹침'}, {'id': 'SDRW2100000001.1.1.117', 'form': '어 어', 'original_form': '어 어', 'speaker_id': 'SD2100001', 'start': '245.15000', 'end': '245.93000', 'note': '발화겹침'}, {'id': 'SDRW2100000001.1.1.118', 'form': '아', 'original_form': '아', 'speaker_id': 'SD2100002', 'start': '245.73600', 'end': '246.86001', 'note': '발화겹침'}, {'id': 'SDRW2100000001.1.1.119', 'form': '수시 반에서', 'original_form': '수시 반에서', 'speaker_id': 'SD2100001', 'start': '246.78477', 'end': '247.82000', 'note': '발화겹침'}, {'id': 'SDRW2100000001.1.1.120', 'form': '근데', 'original_form': '근데', 'speaker_id': 'SD2100001', 'start': '249.32415', 'end': '250.14000', 'note': ''}, {'id': 'SDRW2100000001.1.1.121', 'form': '그 아 맞다 너 그거 봤어?', 'original_form': '그~ 아 맞다 너 그거 봤어?', 'speaker_id': 'SD2100001', 'start': '250.63378', 'end': '253.00120', 'note': ''}, {'id': 'SDRW2100000001.1.1.122', 'form': '안산 선수가 스토리에다가 노래 추천 이렇게 올려놓은 거', 'original_form': '안산 선수가 스토리에다가 노래 추천 이케 올려놓은 거', 'speaker_id': 'SD2100001', 'start': '253.00120', 'end': '256.79720', 'note': ''}, {'id': 'SDRW2100000001.1.1.123', 'form': '봤어?', 'original_form': '봤어?', 'speaker_id': 'SD2100001', 'start': '256.79720', 'end': '257.39000', 'note': '발화겹침'}, {'id': 'SDRW2100000001.1.1.124', 'form': '아니 아니 아니.', 'original_form': '아니 아니 아니.', 'speaker_id': 'SD2100002', 'start': '257.20000', 'end': '258.26000', 'note': '발화겹침'}, {'id': 'SDRW2100000001.1.1.125', 'form': '그게 이제 안산 금메달 따고', 'original_form': '그게 이제 안산 금메달 따고', 'speaker_id': 'SD2100001', 'start': '258.08502', 'end': '260.22597', 'note': '발화겹침'}, {'id': 'SDRW2100000001.1.1.126', 'form': '엄청 이슈가 돼 갖고 마 막 인스타 이런 데 엄청 올라왔단 말이야.', 'original_form': '엄청 이슈가 돼 갖고 마 막 인스타 이런 데 엄청 올라왔단 말이야.', 'speaker_id': 'SD2100001', 'start': '260.22597', 'end': '264.05000', 'note': ''}, {'id': 'SDRW2100000001.1.1.127', 'form': '근데 내가 너희한테 루시 노래 엄청 얘기했던 거 기억나?', 'original_form': '근데 내가 너네한테 루시 노래 엄청 얘기했던 거 기억나?', 'speaker_id': 'SD2100001', 'start': '264.21000', 'end': '267.75705', 'note': '발화겹침'}, {'id': 'SDRW2100000001.1.1.128', 'form': '어 어.', 'original_form': '어 어.', 'speaker_id': 'SD2100002', 'start': '267.56001', 'end': '268.40999', 'note': '발화겹침'}, {'id': 'SDRW2100000001.1.1.129', 'form': '그 개화 그게 딱 있는 거야. 그러니까 그', 'original_form': '그 개화 그게 딱 있는 거야. 그니까 그', 'speaker_id': 'SD2100001', 'start': '267.75705', 'end': '270.66105', 'note': '발화겹침'}, {'id': 'SDRW2100000001.1.1.130', 'form': '그러니까 그', 'original_form': '그니까 그', 'speaker_id': 'SD2100001', 'start': '269.96385', 'end': '273.74901', 'note': '발화겹침'}, {'id': 'SDRW2100000001.1.1.131', 'form': '그 개화 그게 딱 있는 거야.', 'original_form': '그 개화 그게 딱 있는 거야.', 'speaker_id': 'SD2100001', 'start': '269.96385', 'end': '270.66105', 'note': '발화겹침'}, {'id': 'SDRW2100000001.1.1.132', 'form': '그래 가지고 약간 아 참고막이시구나.', 'original_form': '그래 가지고 약간 아 참고막이시구나.', 'speaker_id': 'SD2100001', 'start': '274.19000', 'end': '276.75901', 'note': ''}, {'id': 'SDRW2100000001.1.1.133', 'form': '너랑 그게 취향이 비슷한가 보다.', 'original_form': '너랑 그게 취향이 비슷한가 보다.', 'speaker_id': 'SD2100002', 'start': '277.40900', 'end': '280.62900', 'note': '발화겹침'}, {'id': 'SDRW2100000001.1.1.134', 'form': '응 맞아 맞아.', 'original_form': '응 맞아 맞아.', 'speaker_id': 'SD2100001', 'start': '280.58900', 'end': '281.64899', 'note': '발화겹침'}, {'id': 'SDRW2100000001.1.1.135', 'form': '나도 그 노래 들어 봤는데 좋았어.', 'original_form': '나도 그 노래 들어 봤는데 좋았어.', 'speaker_id': 'SD2100002', 'start': '281.05000', 'end': '284.28901', 'note': '발화겹침'}, {'id': 'SDRW2100000001.1.1.136', 'form': '맞아 루시 말고 호피폴라도 좋아.', 'original_form': '맞아 루시 말고 호피폴라도 좋아.', 'speaker_id': 'SD2100001', 'start': '284.48899', 'end': '286.87900', 'note': ''}, {'id': 'SDRW2100000001.1.1.137', 'form': '어.', 'original_form': '어.', 'speaker_id': 'SD2100002', 'start': '287.94901', 'end': '289.07900', 'note': ''}, {'id': 'SDRW2100000001.1.1.138', 'form': '근데 나는 뭔가', 'original_form': '근데 나는 뭔가', 'speaker_id': 'SD2100002', 'start': '289.27000', 'end': '291.09000', 'note': ''}, {'id': 'SDRW2100000001.1.1.139', 'form': '쪼금 더 신나는 노래가 좋아.', 'original_form': '쪼금 더 신나는 노래가 좋아.', 'speaker_id': 'SD2100002', 'start': '291.29000', 'end': '293.99373', 'note': ''}, {'id': 'SDRW2100000001.1.1.140', 'form': '', 'original_form': '{laughing}', 'speaker_id': 'SD2100001', 'start': '292.77900', 'end': '293.56901', 'note': '발화겹침'}, {'id': 'SDRW2100000001.1.1.141', 'form': '약간', 'original_form': '약간', 'speaker_id': 'SD2100002', 'start': '293.99373', 'end': '295.02000', 'note': ''}, {'id': 'SDRW2100000001.1.1.142', 'form': '엄청 대놓고 신나는 건 아닌데', 'original_form': '엄청 대놓고 신나는 건 아닌데', 'speaker_id': 'SD2100002', 'start': '295.81000', 'end': '298.89899', 'note': ''}, {'id': 'SDRW2100000001.1.1.143', 'form': '쪼금 적당히 신나는 노래가 좋아.', 'original_form': '쪼금 적당히 신나는 노래가 좋아.', 'speaker_id': 'SD2100002', 'start': '299.26000', 'end': '301.90899', 'note': ''}, {'id': 'SDRW2100000001.1.1.144', 'form': '너 근데 예전에 나랑 룸메 할 때는', 'original_form': '너 근데 예전에 나랑 룸메 할 때는', 'speaker_id': 'SD2100001', 'start': '302.10900', 'end': '304.92477', 'note': ''}, {'id': 'SDRW2100000001.1.1.145', 'form': '너무 신나는 노래는 막 힘들다 그랬었잖아.', 'original_form': '너무 신나는 노래는 막 힘들다 그랬었잖아.', 'speaker_id': 'SD2100001', 'start': '304.92477', 'end': '307.47034', 'note': ''}, {'id': 'SDRW2100000001.1.1.146', 'form': '약간 적당히 신나는 노래가 좋다고 막 그랬었잖아.', 'original_form': '약간 적당히 신나는 노래가 좋다고 막 그랬었잖아.', 'speaker_id': 'SD2100001', 'start': '307.47034', 'end': '310.74901', 'note': '발화겹침'}, {'id': 'SDRW2100000001.1.1.147', 'form': '어 그러니까 너무 빠르지는 않은데', 'original_form': '어 그니까 너무 빠르지는 않은데', 'speaker_id': 'SD2100002', 'start': '310.64900', 'end': '313.37700', 'note': '발화겹침'}, {'id': 'SDRW2100000001.1.1.148', 'form': '그렇다고 너무 슬프지도 않아야 돼.', 'original_form': '그렇다고 너무 슬프지도 않아야 돼.', 'speaker_id': 'SD2100002', 'start': '313.37700', 'end': '316.18000', 'note': '발화겹침'}, {'id': 'SDRW2100000001.1.1.149', 'form': '음 어렵구만.', 'original_form': '음 어렵구만.', 'speaker_id': 'SD2100001', 'start': '315.44899', 'end': '317.31901', 'note': '발화겹침'}, {'id': 'SDRW2100000001.1.1.150', 'form': '근데 너 그때 나랑 언제였지?', 'original_form': '근데 너 그때 나랑 언제였지?', 'speaker_id': 'SD2100001', 'start': '317.58000', 'end': '320.48300', 'note': ''}, {'id': 'SDRW2100000001.1.1.151', 'form': '마지막 날이었나 실습 마지막 날인가 우리', 'original_form': '마지막 날이었나 실습 마지막 날인가 우리', 'speaker_id': 'SD2100001', 'start': '320.48300', 'end': '323.40700', 'note': ''}, {'id': 'SDRW2100000001.1.1.152', 'form': '노래 엄청 틀어 놓고 운동장 돌아왔을 때 있잖아.', 'original_form': '노래 엄청 틀어 놓고 운동장 돌아왔을 때 있잖아.', 'speaker_id': 'SD2100001', 'start': '323.40700', 'end': '326.70300', 'note': '발화겹침'}, {'id': 'SDRW2100000001.1.1.153', 'form': '어', 'original_form': '어 {laughing}', 'speaker_id': 'SD2100002', 'start': '326.38901', 'end': '327.15700', 'note': '발화겹침'}, {'id': 'SDRW2100000001.1.1.154', 'form': '근데 그때 네가 나랑 들으면서 막', 'original_form': '근데 그때 니가 나랑 들으면서 막', 'speaker_id': 'SD2100001', 'start': '326.70300', 'end': '328.90516', 'note': '발화겹침'}, {'id': 'SDRW2100000001.1.1.155', 'form': '이거 좋다 그랬던 엔시티 노래 다 엄청 빠른 노래들 아니야?', 'original_form': '이거 좋다 그랬던 엔씨티 노래 다 엄청 빠른 노래들 아니야?', 'speaker_id': 'SD2100001', 'start': '328.90516', 'end': '332.10900', 'note': ''}, {'id': 'SDRW2100000001.1.1.156', 'form': '', 'original_form': '(())', 'speaker_id': 'SD2100002', 'start': '332.90899', 'end': '333.95210', 'note': '발화겹침'}, {'id': 'SDRW2100000001.1.1.157', 'form': '생각해 봐. 그거 그거 체리밥이랑', 'original_form': '생각해 봐. 그거 그거 체리밥이랑', 'speaker_id': 'SD2100001', 'start': '332.95700', 'end': '335.79901', 'note': '발화겹침'}, {'id': 'SDRW2100000001.1.1.158', 'form': '', 'original_form': '(())', 'speaker_id': 'SD2100002', 'start': '333.95210', 'end': '334.41900', 'note': '발화겹침'}, {'id': 'SDRW2100000001.1.1.159', 'form': '마지막 첫사랑이랑 또 뭐 있었지?', 'original_form': '마지막 첫사랑이랑 또 뭐 있었지?', 'speaker_id': 'SD2100001', 'start': '335.79901', 'end': '338.25900', 'note': ''}, {'id': 'SDRW2100000001.1.1.160', 'form': '뭐 엄청 많았는데.', 'original_form': '뭐 엄청 많았는데.', 'speaker_id': 'SD2100001', 'start': '338.25900', 'end': '339.52901', 'note': '발화겹침'}, {'id': 'SDRW2100000001.1.1.161', 'form': '근데 그게 비피엠으로 봤을 때는', 'original_form': '근데 그게 비피엠으로 봤을 때는', 'speaker_id': 'SD2100002', 'start': '339.48900', 'end': '341.78500', 'note': '발화겹침'}, {'id': 'SDRW2100000001.1.1.162', 'form': '어', 'original_form': '어 {laughing}', 'speaker_id': 'SD2100001', 'start': '341.58901', 'end': '342.61901', 'note': '발화겹침'}, {'id': 'SDRW2100000001.1.1.163', 'form': '그렇게 빠른 노래는 아니야.', 'original_form': '그렇게 빠른 노래는 아니야.', 'speaker_id': 'SD2100002', 'start': '341.78500', 'end': '343.76900', 'note': '발화겹침'}, {'id': 'SDRW2100000001.1.1.164', 'form': '그런데 이제 그', 'original_form': '그런데 이제 그~', 'speaker_id': 'SD2100002', 'start': '343.76900', 'end': '346.61900', 'note': ''}, {'id': 'SDRW2100000001.1.1.165', 'form': '기본 반주는 그렇게 빠르지 않은데.', 'original_form': '기본 반주는 그렇게 빠르지 않은데.', 'speaker_id': 'SD2100002', 'start': '347.29327', 'end': '350.91901', 'note': ''}, {'id': 'SDRW2100000001.1.1.166', 'form': '응.', 'original_form': '응.', 'speaker_id': 'SD2100001', 'start': '349.04899', 'end': '349.62900', 'note': '발화겹침'}, {'id': 'SDRW2100000001.1.1.167', 'form': '그냥 노래가 신나서 그렇게 들리는 건가?', 'original_form': '그냥 노래가 신나서 그렇게 들리는 건가?', 'speaker_id': 'SD2100001', 'start': '351.86899', 'end': '354.48899', 'note': '발화겹침'}, {'id': 'SDRW2100000001.1.1.168', 'form': '그', 'original_form': '그~', 'speaker_id': 'SD2100002', 'start': '352.04899', 'end': '352.95899', 'note': '발화겹침'}, {'id': 'SDRW2100000001.1.1.169', 'form': '거기다가 랩을 하니까 빨라 보이는 거야.', 'original_form': '거기다가 랩을 하니까 빨라 보이는 거야.', 'speaker_id': 'SD2100002', 'start': '354.38901', 'end': '357.47000', 'note': '발화겹침'}, {'id': 'SDRW2100000001.1.1.170', 'form': '음 설득력 있는 얘기구만.', 'original_form': '음 설득력 있는 얘기구만.', 'speaker_id': 'SD2100001', 'start': '356.03901', 'end': '359.16901', 'note': '발화겹침'}, {'id': 'SDRW2100000001.1.1.171', 'form': '그러면', 'original_form': '그러면', 'speaker_id': 'SD2100001', 'start': '360.23899', 'end': '361.22074', 'note': ''}, {'id': 'SDRW2100000001.1.1.172', 'form': '요새는 또 뭐 들어 엔시티 말고 크러쉬 듣는다 그랬고 또', 'original_form': '요새는 또 뭐 들어 엔씨티 말고 크러쉬 듣는다 그랬고 또', 'speaker_id': 'SD2100001', 'start': '361.22074', 'end': '364.67901', 'note': ''}, {'id': 'SDRW2100000001.1.1.173', 'form': '또 악동뮤지션 노래랑', 'original_form': '또 악동뮤지션 노래랑', 'speaker_id': 'SD2100002', 'start': '364.96899', 'end': '368.42901', 'note': '발화겹침'}, {'id': 'SDRW2100000001.1.1.174', 'form': '응 맞어 요번에 앨범 냈더라.', 'original_form': '응 맞어 요번에 앨범 냈더라.', 'speaker_id': 'SD2100001', 'start': '368.23901', 'end': '369.86901', 'note': '발화겹침'}, {'id': 'SDRW2100000001.1.1.175', 'form': '맞아 그 피 피처링이 너무 좋아 가지고', 'original_form': '맞아 그 -피- 피처링이 너무 좋아 가지고', 'speaker_id': 'SD2100002', 'start': '369.88900', 'end': '373.71901', 'note': ''}, {'id': 'SDRW2100000001.1.1.176', 'form': '그중에서', 'original_form': '그중에서', 'speaker_id': 'SD2100002', 'start': '374.43269', 'end': '375.82899', 'note': ''}, {'id': 'SDRW2100000001.1.1.177', 'form': '자이언티랑 같이 부른 노래가 있', 'original_form': '자이언티랑 같이 부른 노래가 -있-', 'speaker_id': 'SD2100002', 'start': '376.72527', 'end': '380.08000', 'note': '발화겹침'}, {'id': 'SDRW2100000001.1.1.178', 'form': '아 응.', 'original_form': '아 응.', 'speaker_id': 'SD2100001', 'start': '379.29899', 'end': '380.71901', 'note': '발화겹침'}, {'id': 'SDRW2100000001.1.1.179', 'form': '있는데', 'original_form': '있는데', 'speaker_id': 'SD2100002', 'start': '380.58000', 'end': '381.46901', 'note': '발화겹침'}, {'id': 'SDRW2100000001.1.1.180', 'form': '그 제목을 지금 까먹었어.', 'original_form': '그 제목을 지금 까먹었어.', 'speaker_id': 'SD2100002', 'start': '381.87356', 'end': '383.75987', 'note': ''}, {'id': 'SDRW2100000001.1.1.181', 'form': '근데 그 노래가', 'original_form': '근데 그 노래가', 'speaker_id': 'SD2100002', 'start': '383.75987', 'end': '385.21257', 'note': ''}, {'id': 'SDRW2100000001.1.1.182', 'form': '제일 좋은 거 같아 그 앨범 중에서.', 'original_form': '제일 좋은 거 같애 그 앨범 중에서.', 'speaker_id': 'SD2100002', 'start': '385.21257', 'end': '387.75900', 'note': '발화겹침'}, {'id': 'SDRW2100000001.1.1.183', 'form': '나는 그거 이선희가 피처링한 거 전쟁터', 'original_form': '나는 그거 이선희가 피처링한 거 전쟁터', 'speaker_id': 'SD2100001', 'start': '387.35901', 'end': '390.35900', 'note': '발화겹침'}, {'id': 'SDRW2100000001.1.1.184', 'form': '그것도 그래 좋더라.', 'original_form': '그것도 그래 좋더라.', 'speaker_id': 'SD2100001', 'start': '390.35900', 'end': '391.58262', 'note': ''}, {'id': 'SDRW2100000001.1.1.185', 'form': '근데 항상 뭔가', 'original_form': '근데 항상 뭔가', 'speaker_id': 'SD2100001', 'start': '391.58262', 'end': '393.88643', 'note': ''}, {'id': 'SDRW2100000001.1.1.186', 'form': '악뮤 노래는 다 좋은데 가사가 되게 심오해 가지고', 'original_form': '악뮤 노래는 다 좋은데 가사가 되게 심오해 가주고', 'speaker_id': 'SD2100001', 'start': '393.88643', 'end': '397.62859', 'note': ''}, {'id': 'SDRW2100000001.1.1.187', 'form': '약간 아 이찬혁 딱 봐 봤을 때는', 'original_form': '약간 아 이찬혁 딱 -봐- 봤을 때는', 'speaker_id': 'SD2100001', 'start': '397.76000', 'end': '400.36207', 'note': ''}, {'id': 'SDRW2100000001.1.1.188', 'form': '완전 이과생 같이 생겼는데', 'original_form': '완전 이과생 같이 생겼는데', 'speaker_id': 'SD2100001', 'start': '400.36207', 'end': '402.05407', 'note': ''}, {'id': 'SDRW2100000001.1.1.189', 'form': '굉장히 그런 감성을 가진 사람이구나 이러면서 듣는 것 같아.', 'original_form': '굉장히 그런 감성을 가진 사람이구나 이러면서 듣는 것 같애.', 'speaker_id': 'SD2100001', 'start': '402.05407', 'end': '405.81899', 'note': ''}, {'id': 'SDRW2100000001.1.1.190', 'form': '맞아.', 'original_form': '맞아.', 'speaker_id': 'SD2100002', 'start': '406.61901', 'end': '407.37899', 'note': '발화겹침'}, {'id': 'SDRW2100000001.1.1.191', 'form': '맞아.', 'original_form': '맞아.', 'speaker_id': 'SD2100001', 'start': '407.21899', 'end': '407.79901', 'note': '발화겹침'}, {'id': 'SDRW2100000001.1.1.192', 'form': '그게 다 자기가 작곡 작사한 건가?', 'original_form': '그게 다 자기가 작곡 작사한 건가?', 'speaker_id': 'SD2100002', 'start': '407.76489', 'end': '411.42901', 'note': '발화겹침'}, {'id': 'SDRW2100000001.1.1.193', 'form': '근데 대부분 그렇지 않아?', 'original_form': '근데 대부분 그렇지 않아?', 'speaker_id': 'SD2100001', 'start': '411.35900', 'end': '412.79676', 'note': '발화겹침'}, {'id': 'SDRW2100000001.1.1.194', 'form': '그', 'original_form': '그', 'speaker_id': 'SD2100001', 'start': '412.79676', 'end': '413.62314', 'note': ''}, {'id': 'SDRW2100000001.1.1.195', 'form': '악뮤 노래는 대부분 이찬혁이 쓰는 것 같던데', 'original_form': '악뮤 노래는 대부분 이찬혁이 쓰는 것 같던데', 'speaker_id': 'SD2100001', 'start': '413.62314', 'end': '417.44899', 'note': ''}, {'id': 'SDRW2100000001.1.1.196', 'form': '그렇지.', 'original_form': '그렇지.', 'speaker_id': 'SD2100002', 'start': '418.03901', 'end': '418.83900', 'note': ''}, {'id': 'SDRW2100000001.1.1.197', 'form': '그리고 또 아 맞아.', 'original_form': '그리고 또 아 맞어.', 'speaker_id': 'SD2100001', 'start': '420.71900', 'end': '422.27500', 'note': ''}, {'id': 'SDRW2100000001.1.1.198', 'form': '너 그거 봤어 소미 전소미 요번에 앨범 낸 거?', 'original_form': '너 그거 봤어 소미 전소미 요번에 앨범 낸 거?', 'speaker_id': 'SD2100001', 'start': '422.27500', 'end': '425.21899', 'note': ''}, {'id': 'SDRW2100000001.1.1.199', 'form': '어 나 근데 노래 별로 그냥 그랬어.', 'original_form': '어 나 근데 노래 별로 그냥 그랬어.', 'speaker_id': 'SD2100002', 'start': '425.65899', 'end': '429.26901', 'note': '발화겹침'}, {'id': 'SDRW2100000001.1.1.200', 'form': '별로야?', 'original_form': '별로야?', 'speaker_id': 'SD2100001', 'start': '427.96899', 'end': '428.69900', 'note': '발화겹침'}, {'id': 'SDRW2100000001.1.1.201', 'form': '아 근데 나는 내 노래보다도', 'original_form': '아 근데 나는 내 노래보다도', 'speaker_id': 'SD2100001', 'start': '429.19485', 'end': '431.01900', 'note': '발화겹침'}, {'id': 'SDRW2100000001.1.1.202', 'form': '그 춤 중에 무슨 이렇게 손가락', 'original_form': '그 춤 중에 무슨 이케 손가락', 'speaker_id': 'SD2100001', 'start': '431.01900', 'end': '433.39085', 'note': ''}, {'id': 'SDRW2100000001.1.1.203', 'form': '이렇게 소 눈에 하는 게 있대.', 'original_form': '이케 소 눈에 하는 게 있대.', 'speaker_id': 'SD2100001', 'start': '433.39085', 'end': '435.39000', 'note': ''}, {'id': 'SDRW2100000001.1.1.204', 'form': '그 사진을 딱 봤는데', 'original_form': '그 사진을 딱 봤는데', 'speaker_id': 'SD2100001', 'start': '435.58900', 'end': '437.64900', 'note': ''}, {'id': 'SDRW2100000001.1.1.205', 'form': '저게 어떻게 사람이 되지 이런 느낌인 거야.', 'original_form': '저게 어떻게 사람이 되지 이런 느낌인 거야.', 'speaker_id': 'SD2100001', 'start': '437.64900', 'end': '440.13133', 'note': ''}, {'id': 'SDRW2100000001.1.1.206', 'form': '그 에스파 넥스트 레벨도 예전에 아마 엄청 이슈였잖아.', 'original_form': '그 에스파 넥스트 레벨도 예전에 아마 엄청 이슈였잖아.', 'speaker_id': 'SD2100001', 'start': '440.13133', 'end': '443.96743', 'note': ''}, {'id': 'SDRW2100000001.1.1.207', 'form': '그런 느낌인 거야.', 'original_form': '그런 느낌인 거야.', 'speaker_id': 'SD2100001', 'start': '443.96743', 'end': '445.13630', 'note': ''}, {'id': 'SDRW2100000001.1.1.208', 'form': '그래서 아 요새는 노래보다 약간 안무로', 'original_form': '그래서 아 요새는 노래보다 약간 안무로', 'speaker_id': 'SD2100001', 'start': '445.13630', 'end': '448.05990', 'note': ''}, {'id': 'SDRW2100000001.1.1.209', 'form': '승부 보는 게 유행인가 싶었는데.', 'original_form': '승부 보는 게 유행인가 싶었는데.', 'speaker_id': 'SD2100001', 'start': '448.05990', 'end': '450.40900', 'note': ''}, {'id': 'SDRW2100000001.1.1.210', 'form': '아니 근데 전소미가', 'original_form': '아니 근데 전소미가', 'speaker_id': 'SD2100002', 'start': '451.39978', 'end': '453.72400', 'note': ''}, {'id': 'SDRW2100000001.1.1.211', 'form': '엄청 살 많이 뺐잖아.', 'original_form': '엄청 살 많이 뺐잖아.', 'speaker_id': 'SD2100002', 'start': '453.72400', 'end': '456.32901', 'note': '발화겹침'}, {'id': 'SDRW2100000001.1.1.212', 'form': '응.', 'original_form': '응.', 'speaker_id': 'SD2100001', 'start': '455.83899', 'end': '456.47900', 'note': '발화겹침'}, {'id': 'SDRW2100000001.1.1.213', 'form': '그래 가지고 나는', 'original_form': '그래 가지고 나는', 'speaker_id': 'SD2100002', 'start': '456.32901', 'end': '457.90000', 'note': '발화겹침'}, {'id': 'SDRW2100000001.1.1.214', 'form': '그 뭐지 노래보다 너무', 'original_form': '그 뭐지 노래보다 너무', 'speaker_id': 'SD2100002', 'start': '458.19000', 'end': '460.74000', 'note': ''}, {'id': 'SDRW2100000001.1.1.215', 'form': '얼굴이 너무 예뻐져 가지고', 'original_form': '얼굴이 너무 예뻐져 가지고', 'speaker_id': 'SD2100002', 'start': '461.19072', 'end': '463.50900', 'note': '발화겹침'}, {'id': 'SDRW2100000001.1.1.216', 'form': '그 전소미가 뺄 살이 있었어?', 'original_form': '그 전소미가 뺄 살이 있었어?', 'speaker_id': 'SD2100001', 'start': '463.40899', 'end': '465.20100', 'note': '발화겹침'}, {'id': 'SDRW2100000001.1.1.217', 'form': '아 근데 근데 거기 아니 나도', 'original_form': '아 근데 근데 거기 아니 나도', 'speaker_id': 'SD2100002', 'start': '465.08000', 'end': '467.48800', 'note': '발화겹침'}, {'id': 'SDRW2100000001.1.1.218', 'form': '난 진심으로 그것도 너무 의문인데.', 'original_form': '난 {laughing} 진심으로 그것도 너무 의문인데.', 'speaker_id': 'SD2100001', 'start': '465.20100', 'end': '467.67901', 'note': '발화겹침'}, {'id': 'SDRW2100000001.1.1.219', 'form': '나도 그건 몰랐는데', 'original_form': '나도 그건 몰랐는데', 'speaker_id': 'SD2100002', 'start': '467.73000', 'end': '469.50900', 'note': '발화겹침'}, {'id': 'SDRW2100000001.1.1.220', 'form': '응.', 'original_form': '응.', 'speaker_id': 'SD2100001', 'start': '469.16900', 'end': '469.71899', 'note': '발화겹침'}, {'id': 'SDRW2100000001.1.1.221', 'form': '진짜', 'original_form': '진짜', 'speaker_id': 'SD2100002', 'start': '469.50900', 'end': '470.20000', 'note': '발화겹침'}, {'id': 'SDRW2100000001.1.1.222', 'form': '예 예전보다 더 어.', 'original_form': '-예- 예전보다 더 어.', 'speaker_id': 'SD2100002', 'start': '470.90900', 'end': '473.49899', 'note': '발화겹침'}, {'id': 'SDRW2100000001.1.1.223', 'form': '더 말랐어?', 'original_form': '더 말랐어?', 'speaker_id': 'SD2100001', 'start': '472.46899', 'end': '474.30901', 'note': '발화겹침'}, {'id': 'SDRW2100000001.1.1.224', 'form': '헐 근데 그러면 그러면 춤추다가 되게 막', 'original_form': '헐 근데 그러면 그러면 춤추다가 되게 막', 'speaker_id': 'SD2100001', 'start': '474.74000', 'end': '477.65700', 'note': ''}, {'id': 'SDRW2100000001.1.1.225', 'form': '어디 부러지는 거 아냐?', 'original_form': '어디 뿌러지는 거 아냐?', 'speaker_id': 'SD2100001', 'start': '477.93000', 'end': '479.54899', 'note': ''}, {'id': 'SDRW2100000001.1.1.226', 'form': '너', 'original_form': '너 {laughing}', 'speaker_id': 'SD2100002', 'start': '479.89900', 'end': '481.37901', 'note': '발화겹침'}, {'id': 'SDRW2100000001.1.1.227', 'form': '아 너무 극단적인가?', 'original_form': '아 {laughing} 너무 극단적인가?', 'speaker_id': 'SD2100001', 'start': '479.93000', 'end': '481.52900', 'note': '발화겹침'}, {'id': 'SDRW2100000001.1.1.228', 'form': '아니', 'original_form': '아이', 'speaker_id': 'SD2100002', 'start': '482.43500', 'end': '483.37500', 'note': ''}, {'id': 'SDRW2100000001.1.1.229', 'form': '근데 또 근육이 많으니까 괜찮지 않을까?', 'original_form': '근데 또 근육이 많으니까 괜찮지 않을까?', 'speaker_id': 'SD2100002', 'start': '483.37500', 'end': '486.70901', 'note': ''}, {'id': 'SDRW2100000001.1.1.230', 'form': '여름이면 또', 'original_form': '여름이면 또', 'speaker_id': 'SD2100001', 'start': '487.68900', 'end': '489.66100', 'note': ''}, {'id': 'SDRW2100000001.1.1.231', 'form': '너 원래 여 아 그러니까', 'original_form': '너 원래 여 아 그니까', 'speaker_id': 'SD2100001', 'start': '489.66100', 'end': '490.84100', 'note': ''}, {'id': 'SDRW2100000001.1.1.232', 'form': '원래 여름에 그런 거 있잖아 막 썸머퀸 씨스타 이런 거.', 'original_form': '원래 여름에 그런 거 있잖아 막 썸머퀸 씨스타 이런 거.', 'speaker_id': 'SD2100001', 'start': '490.84100', 'end': '494.44899', 'note': ''}, {'id': 'SDRW2100000001.1.1.233', 'form': '근데 요새는 그런 게 없어 가지고', 'original_form': '근데 요새는 그런 게 없어 가지고', 'speaker_id': 'SD2100001', 'start': '494.68000', 'end': '496.94000', 'note': ''}, {'id': 'SDRW2100000001.1.1.234', 'form': '약간 되게 심심한 거 같아.', 'original_form': '약간 되게 심심한 거 같애.', 'speaker_id': 'SD2100001', 'start': '496.94000', 'end': '499.23087', 'note': ''}, {'id': 'SDRW2100000001.1.1.235', 'form': '노래 멜론도 맨날 차트 개선했다 그런데 보면', 'original_form': '노래 멜론도 맨날 차트 개선했다 그런데 보면', 'speaker_id': 'SD2100001', 'start': '499.23087', 'end': '502.44300', 'note': ''}, {'id': 'SDRW2100000001.1.1.236', 'form': '누군지도 모르겠는 되게 슬프고 우중충한 노래들만 있고', 'original_form': '누군지도 모르겠는 되게 슬프고 우중충한 노래들만 있고', 'speaker_id': 'SD2100001', 'start': '502.69000', 'end': '506.66899', 'note': ''}, {'id': 'SDRW2100000001.1.1.237', 'form': '아 나 요새 그것도 좋아해', 'original_form': '아 나 요새 그것도 좋아해', 'speaker_id': 'SD2100001', 'start': '506.76000', 'end': '508.29200', 'note': ''}, {'id': 'SDRW2100000001.1.1.238', 'form': '에픽하이랑 윤하랑 부른 거.', 'original_form': '에픽하이랑 윤하랑 부른 거.', 'speaker_id': 'SD2100001', 'start': '508.29200', 'end': '510.67899', 'note': ''}, {'id': 'SDRW2100000001.1.1.239', 'form': '그게 뭐지?', 'original_form': '그게 뭐지?', 'speaker_id': 'SD2100002', 'start': '512.49900', 'end': '513.62900', 'note': ''}, {'id': 'SDRW2100000001.1.1.240', 'form': '나 제목 알려 줘.', 'original_form': '나 제목 알려 줘.', 'speaker_id': 'SD2100002', 'start': '513.82000', 'end': '515.52899', 'note': ''}, {'id': 'SDRW2100000001.1.1.241', 'form': '그', 'original_form': '그', 'speaker_id': 'SD2100001', 'start': '514.10000', 'end': '514.62900', 'note': '발화겹침'}, {'id': 'SDRW2100000001.1.1.242', 'form': '비 오는 날 듣기 좋은 노래였는데 어.', 'original_form': '비 오는 날 듣기 좋은 노래였는데 어.', 'speaker_id': 'SD2100001', 'start': '516.15182', 'end': '519.21899', 'note': '발화겹침'}, {'id': 'SDRW2100000001.1.1.243', 'form': '아 그거 윤하랑 부른 거 아니고', 'original_form': '아 그거 윤하랑 부른 거 아니고', 'speaker_id': 'SD2100002', 'start': '518.09899', 'end': '520.51809', 'note': '발화겹침'}, {'id': 'SDRW2100000001.1.1.244', 'form': '콜드랑 부른 거 아니 아 크러쉬?', 'original_form': '콜드랑 부른 거 아니 아 크러쉬?', 'speaker_id': 'SD2100002', 'start': '520.51809', 'end': '522.67900', 'note': ''}, {'id': 'SDRW2100000001.1.1.245', 'form': '아 그런가?', 'original_form': '아 그런가?', 'speaker_id': 'SD2100001', 'start': '522.96901', 'end': '523.97899', 'note': ''}, {'id': 'SDRW2100000001.1.1.246', 'form': '약', 'original_form': '약', 'speaker_id': 'SD2100002', 'start': '523.15500', 'end': '523.60300', 'note': '발화겹침'}, {'id': 'SDRW2100000001.1.1.247', 'form': '그 남자랑 부른 걸 걸 나 그 노래 아는데.', 'original_form': '그 남자랑 부른 걸 걸 나 그 노래 아는데.', 'speaker_id': 'SD2100002', 'start': '524.68000', 'end': '528.41902', 'note': '발화겹침'}, {'id': 'SDRW2100000001.1.1.248', 'form': '응.', 'original_form': '응.', 'speaker_id': 'SD2100001', 'start': '528.19899', 'end': '528.74897', 'note': '발화겹침'}, {'id': 'SDRW2100000001.1.1.249', 'form': '윤하랑 에픽하이랑 부른 건 그냥 비 아니야?', 'original_form': '윤하랑 에픽하이랑 부른 건 그냥 비 아니야?', 'speaker_id': 'SD2100002', 'start': '529.93898', 'end': '533.04899', 'note': ''}, {'id': 'SDRW2100000001.1.1.250', 'form': '우산 아니야', 'original_form': '우산 아니야 {laughing}', 'speaker_id': 'SD2100001', 'start': '533.45902', 'end': '535.59897', 'note': '발화겹침'}, {'id': 'SDRW2100000001.1.1.251', 'form': '아 맞네 우산.', 'original_form': '아 맞네 우산.', 'speaker_id': 'SD2100002', 'start': '534.35898', 'end': '535.68900', 'note': '발화겹침'}, {'id': 'SDRW2100000001.1.1.252', 'form': '그렇구만.', 'original_form': '그렇구만.', 'speaker_id': 'SD2100001', 'start': '535.59897', 'end': '537.03898', 'note': '발화겹침'}, {'id': 'SDRW2100000001.1.1.253', 'form': '아 근데 그거 나 엄청 좋아했어.', 'original_form': '아 근데 그거 나 엄청 좋아했어.', 'speaker_id': 'SD2100002', 'start': '536.99900', 'end': '539.31900', 'note': '발화겹침'}, {'id': 'SDRW2100000001.1.1.254', 'form': '나 중학생 때 진짜 좋아했어.', 'original_form': '나 중학생 때 진짜 좋아했어.', 'speaker_id': 'SD2100002', 'start': '539.31900', 'end': '541.38901', 'note': '발화겹침'}, {'id': 'SDRW2100000001.1.1.255', 'form': '우산?', 'original_form': '우산?', 'speaker_id': 'SD2100001', 'start': '541.31901', 'end': '541.89902', 'note': '발화겹침'}, {'id': 'SDRW2100000001.1.1.256', 'form': '우산 그것도 있지 않아 윤하랑 이찬혁이랑 부른 거?', 'original_form': '우산 그것도 있지 않아 윤하랑 이찬혁이랑 부른 거?', 'speaker_id': 'SD2100001', 'start': '542.27000', 'end': '545.47900', 'note': ''}, {'id': 'SDRW2100000001.1.1.257', 'form': '어 그건 몰랐어.', 'original_form': '어 그건 몰랐어.', 'speaker_id': 'SD2100002', 'start': '546.00897', 'end': '548.38898', 'note': '발화겹침'}, {'id': 'SDRW2100000001.1.1.258', 'form': '그게 이찬혁에 랩 파트 가져가서 한 거 있거든.', 'original_form': '그게 이찬혁에 랩 파트 가져가서 한 거 있거든.', 'speaker_id': 'SD2100001', 'start': '546.90900', 'end': '549.65300', 'note': '발화겹침'}, {'id': 'SDRW2100000001.1.1.259', 'form': '근데 그것도 노래 되게 좋더라.', 'original_form': '근데 그것도 노래 되게 좋더라.', 'speaker_id': 'SD2100001', 'start': '549.65300', 'end': '551.21902', 'note': ''}, {'id': 'SDRW2100000001.1.1.260', 'form': '그렇군.', 'original_form': '그렇군.', 'speaker_id': 'SD2100002', 'start': '552.43899', 'end': '553.40902', 'note': '발화겹침'}, {'id': 'SDRW2100000001.1.1.261', 'form': '그렇군.', 'original_form': '그렇군.', 'speaker_id': 'SD2100001', 'start': '553.09902', 'end': '553.82900', 'note': '발화겹침'}, {'id': 'SDRW2100000001.1.1.262', 'form': '아 맞아 저번에 배구 보는데 배구 이기면', 'original_form': '아 맞아 쩌번에 배구 보는데 배구 이기면', 'speaker_id': 'SD2100001', 'start': '554.68585', 'end': '558.36100', 'note': ''}, {'id': 'SDRW2100000001.1.1.263', 'form': '그', 'original_form': '그', 'speaker_id': 'SD2100001', 'start': '558.36100', 'end': '559.31700', 'note': ''}, {'id': 'SDRW2100000001.1.1.264', 'form': '득점한 사람이 원하는 노래 틀어 주거든.', 'original_form': '득점한 사람이 원하는 노래 틀어 주거든.', 'speaker_id': 'SD2100001', 'start': '559.31700', 'end': '562.10898', 'note': ''}, {'id': 'SDRW2100000001.1.1.265', 'form': '근데 딱 들어 봤는데', 'original_form': '근데 딱 들어 봤는데', 'speaker_id': 'SD2100001', 'start': '562.10898', 'end': '563.91300', 'note': ''}, {'id': 'SDRW2100000001.1.1.266', 'form': '그 오마이걸 노래 중에', 'original_form': '그 오마이걸 노래 중에', 'speaker_id': 'SD2100001', 'start': '563.91300', 'end': '566.38900', 'note': ''}, {'id': 'SDRW2100000001.1.1.267', 'form': '던던 댄스였나?', 'original_form': '던던 댄스였나?', 'speaker_id': 'SD2100001', 'start': '566.38900', 'end': '567.80435', 'note': ''}, {'id': 'SDRW2100000001.1.1.268', 'form': '그게 계 돌핀인가 뭐가 계속 나오는 거야.', 'original_form': '그게 계 돌핀인가 뭐가 계속 나오는 거야.', 'speaker_id': 'SD2100001', 'start': '567.80435', 'end': '570.58100', 'note': ''}, {'id': 'SDRW2100000001.1.1.269', 'form': '그래서 사람들이 아 저 배구 선수가 오마이걸 팬인가보다 이런 데 알고 보니까', 'original_form': '그래서 사람들이 아 저 배구 선수가 오마이걸 팬인가보다 이런 데 알고 보니까', 'speaker_id': 'SD2100001', 'start': '570.82000', 'end': '574.82802', 'note': ''}, {'id': 'SDRW2100000001.1.1.270', 'form': '그냥 탑 100을 다 돌려서 듣는 사람이여 가지고', 'original_form': '그냥 탑 백을 다 돌려서 듣는 사람이여 가주고', 'speaker_id': 'SD2100001', 'start': '574.82802', 'end': '578.16002', 'note': ''}, {'id': 'SDRW2100000001.1.1.271', 'form': '사람들이', 'original_form': '사람들이', 'speaker_id': 'SD2100001', 'start': '578.29000', 'end': '579.17400', 'note': ''}, {'id': 'SDRW2100000001.1.1.272', 'form': '오마이걸 팬 아닌데 이렇게 만들어도 괜찮은 거냐고', 'original_form': '오마이걸 팬 아닌데 이렇게 만들어도 괜찮은 거냐고', 'speaker_id': 'SD2100001', 'start': '579.17400', 'end': '582.49695', 'note': ''}, {'id': 'SDRW2100000001.1.1.273', 'form': '그러는데 막 그것도 웃겼어.', 'original_form': '그러는데 막 그것도 웃겼어.', 'speaker_id': 'SD2100001', 'start': '582.49695', 'end': '584.33900', 'note': ''}, {'id': 'SDRW2100000001.1.1.274', 'form': '그러면 그 득점한 사람이 신청한 노래를', 'original_form': '그러면 그 득점한 사람이 신청한 노래를', 'speaker_id': 'SD2100002', 'start': '584.53901', 'end': '587.99100', 'note': ''}, {'id': 'SDRW2100000001.1.1.275', 'form': '틀어 주는 거야?', 'original_form': '틀어 주는 거야?', 'speaker_id': 'SD2100002', 'start': '587.99100', 'end': '589.12903', 'note': ''}, {'id': 'SDRW2100000001.1.1.276', 'form': '어 근데 그게 약간 뭐라고 해야 되지?', 'original_form': '어 근데 그게 약간 뭐라고 해야 되지?', 'speaker_id': 'SD2100001', 'start': '589.20898', 'end': '592.09300', 'note': ''}, {'id': 'SDRW2100000001.1.1.277', 'form': '득점하고 아 저는 이거 틀어 주세요 이건 아닌 것 같고 약간 미리', 'original_form': '득점하고 아 저는 이거 틀어 주세요 이건 아닌 것 같고 약간 미리', 'speaker_id': 'SD2100001', 'start': '592.09300', 'end': '596.16100', 'note': ''}, {'id': 'SDRW2100000001.1.1.278', 'form': '이렇게 리스트 넘기면 틀어 주는 그런 것 같던데.', 'original_form': '이케 리스트 넘기면 틀어 주는 그런 것 같던데.', 'speaker_id': 'SD2100001', 'start': '596.16100', 'end': '599.34899', 'note': '발화겹침'}, {'id': 'SDRW2100000001.1.1.279', 'form': '그러면 김연경이 한 노래만 나와', 'original_form': '그러면 김연경이 한 노래만 나와', 'speaker_id': 'SD2100002', 'start': '598.79900', 'end': '601.61500', 'note': '발화겹침'}, {'id': 'SDRW2100000001.1.1.280', 'form': '많이 나오는 거 아니야?', 'original_form': '많이 나오는 거 아니야?', 'speaker_id': 'SD2100002', 'start': '601.61500', 'end': '603.31898', 'note': ''}, {'id': 'SDRW2100000001.1.1.281', 'form': '몰라 근데 그게 선수 개인인지 아니면 나란지 모르겠어.', 'original_form': '몰라 근데 그게 선수 개인인지 아님 나란지 모르겠어.', 'speaker_id': 'SD2100001', 'start': '603.75898', 'end': '607.53900', 'note': ''}, {'id': 'SDRW2100000001.1.1.282', 'form': '근데', 'original_form': '근데', 'speaker_id': 'SD2100001', 'start': '607.53900', 'end': '608.38174', 'note': ''}, {'id': 'SDRW2100000001.1.1.283', 'form': '뭔가 어쨌든 한국 노래가 나오면', 'original_form': '뭔가 어쨌든 한국 노래가 나오면', 'speaker_id': 'SD2100001', 'start': '608.38174', 'end': '610.62074', 'note': ''}, {'id': 'SDRW2100000001.1.1.284', 'form': '그걸 막 터키 이런 사람들이 신청한 건 아닐 거 아니야', 'original_form': '그걸 막 터키 이런 사람들이 신청한 건 아닐 거 아니야', 'speaker_id': 'SD2100001', 'start': '610.62074', 'end': '613.43651', 'note': ''}, {'id': 'SDRW2100000001.1.1.285', 'form': '물론 그럴 수도 있겠지만.', 'original_form': '물론 그럴 수도 있겠지만.', 'speaker_id': 'SD2100001', 'start': '613.43651', 'end': '615.24897', 'note': ''}, {'id': 'SDRW2100000001.1.1.286', 'form': '그러니까 터키 이게 그 득점할 때는 뭔가', 'original_form': '그니까 터키 이게 그 득점할 때는 뭔가', 'speaker_id': 'SD2100002', 'start': '616.04902', 'end': '619.86900', 'note': ''}, {'id': 'SDRW2100000001.1.1.287', 'form': '터키 감성의 노래가 나오기는 하더라.', 'original_form': '터키 감성의 노래가 나오기는 하더라.', 'speaker_id': 'SD2100002', 'start': '619.86900', 'end': '622.86062', 'note': '발화겹침'}, {'id': 'SDRW2100000001.1.1.288', 'form': '어 맞아 무슨 말인지 알아 들을 수 없는 언어로 된', 'original_form': '어 맞아 무슨 말인지 알아 들을 수 없는 언어로 된', 'speaker_id': 'SD2100001', 'start': '622.17899', 'end': '625.66898', 'note': '발화겹침'}, {'id': 'SDRW2100000001.1.1.289', 'form': '또 그', 'original_form': '또 그~', 'speaker_id': 'SD2100001', 'start': '627.03898', 'end': '628.54564', 'note': ''}, {'id': 'SDRW2100000001.1.1.290', 'form': '아 맞아 방탄도', 'original_form': '아 맞아 방탄도', 'speaker_id': 'SD2100001', 'start': '629.16597', 'end': '630.89048', 'note': ''}, {'id': 'SDRW2100000001.1.1.291', 'form': '요번에 계속 그거 기록 무슨 갱신했다며?', 'original_form': '요번에 계속 그거 기록 무슨 갱신했다며?', 'speaker_id': 'SD2100001', 'start': '630.89048', 'end': '633.58898', 'note': ''}, {'id': 'SDRW2100000001.1.1.292', 'form': '어 봤어.', 'original_form': '어 봤어.', 'speaker_id': 'SD2100002', 'start': '634.11901', 'end': '635.18898', 'note': ''}, {'id': 'SDRW2100000001.1.1.293', 'form': '그러니까 나는', 'original_form': '그니까 나는', 'speaker_id': 'SD2100001', 'start': '635.68898', 'end': '636.81300', 'note': ''}, {'id': 'SDRW2100000001.1.1.294', 'form': '그 나는 원래 방탄 노랠 많이 안 들었었거든.', 'original_form': '그 나는 원래 방탄 노랠 많이 안 들었었거든.', 'speaker_id': 'SD2100001', 'start': '637.21549', 'end': '640.24300', 'note': ''}, {'id': 'SDRW2100000001.1.1.295', 'form': '그 뭐지?', 'original_form': '그 뭐지?', 'speaker_id': 'SD2100001', 'start': '640.24300', 'end': '641.54897', 'note': ''}, {'id': 'SDRW2100000001.1.1.296', 'form': '제일 떴을 때가 뭐였더라?', 'original_form': '제일 떴을 때가 뭐였더라?', 'speaker_id': 'SD2100001', 'start': '641.54897', 'end': '643.95897', 'note': ''}, {'id': 'SDRW2100000001.1.1.297', 'form': '처음 빌보드 1위 찍었던거', 'original_form': '처음 빌보드 일 위 찍었던거', 'speaker_id': 'SD2100001', 'start': '644.43410', 'end': '646.33900', 'note': ''}, {'id': 'SDRW2100000001.1.1.298', 'form': '그게 아마 그걸 걸', 'original_form': '그게 아마 그걸 걸', 'speaker_id': 'SD2100002', 'start': '646.50898', 'end': '648.63597', 'note': ''}, {'id': 'SDRW2100000001.1.1.299', 'form': '다이너마이트 아니야?', 'original_form': '다이너마이트 아니야?', 'speaker_id': 'SD2100002', 'start': '648.81000', 'end': '650.57000', 'note': '발화겹침'}, {'id': 'SDRW2100000001.1.1.300', 'form': '아 그런것 같아.', 'original_form': '아 그런것 같애.', 'speaker_id': 'SD2100001', 'start': '650.41898', 'end': '651.77029', 'note': '발화겹침'}, {'id': 'SDRW2100000001.1.1.301', 'form': '그래서 그때쯤부터 들었단 말이야.', 'original_form': '그래서 그때쯤부터 들었단 말이야.', 'speaker_id': 'SD2100001', 'start': '651.77029', 'end': '654.17253', 'note': ''}, {'id': 'SDRW2100000001.1.1.302', 'form': '와 근데 요새 노래 뽑는 거 보면 진짜 잘 뽑긴 하더라.', 'original_form': '와 근데 요새 노래 뽑는 거 보면 진짜 잘 뽑긴 하더라.', 'speaker_id': 'SD2100001', 'start': '654.17253', 'end': '657.25900', 'note': ''}, {'id': 'SDRW2100000001.1.1.303', 'form': 'name2가 언제부터 방탄소년단 좋아했지?', 'original_form': '&name2&가 언제부터 방탄소년단 좋아했지?', 'speaker_id': 'SD2100002', 'start': '658.05898', 'end': '661.13903', 'note': ''}, {'id': 'SDRW2100000001.1.1.304', 'form': '몰라 나 잘은 모르는데', 'original_form': '몰라 나 잘은 모르는데', 'speaker_id': 'SD2100001', 'start': '661.69902', 'end': '663.56700', 'note': ''}, {'id': 'SDRW2100000001.1.1.305', 'form': 'name2이가 비투비 좋아하다가 방탄으로 넘어 갔다 그랬었어.', 'original_form': '&name2&이가 비투비 좋아하다가 방탄으로 넘어 갔다 그랬었어.', 'speaker_id': 'SD2100001', 'start': '663.56700', 'end': '666.85898', 'note': ''}, {'id': 'SDRW2100000001.1.1.306', 'form': '근데 비투비가', 'original_form': '근데 비투비가', 'speaker_id': 'SD2100002', 'start': '666.96897', 'end': '668.66000', 'note': ''}, {'id': 'SDRW2100000001.1.1.307', 'form': '약간 언젠가부터 군대 가면서', 'original_form': '약간 언젠가부터 군대 가면서', 'speaker_id': 'SD2100002', 'start': '668.92000', 'end': '671.82500', 'note': ''}, {'id': 'SDRW2100000001.1.1.308', 'form': '다 어디', 'original_form': '다 어디', 'speaker_id': 'SD2100002', 'start': '671.82500', 'end': '673.62000', 'note': ''}, {'id': 'SDRW2100000001.1.1.309', 'form': '뭔가 노래들이 없어지지 않았어?', 'original_form': '뭔가 노래들이 없어지지 않았어?', 'speaker_id': 'SD2100002', 'start': '673.98100', 'end': '676.22902', 'note': ''}, {'id': 'SDRW2100000001.1.1.310', 'form': '비투비?', 'original_form': '비투비?', 'speaker_id': 'SD2100001', 'start': '677.14900', 'end': '677.97898', 'note': ''}, {'id': 'SDRW2100000001.1.1.311', 'form': '비투비 군대 많이 갔나?', 'original_form': '비투비 군대 많이 갔나?', 'speaker_id': 'SD2100001', 'start': '678.84622', 'end': '680.71899', 'note': ''}, {'id': 'SDRW2100000001.1.1.312', 'form': '어.', 'original_form': '어.', 'speaker_id': 'SD2100002', 'start': '681.48901', 'end': '682.10897', 'note': ''}, {'id': 'SDRW2100000001.1.1.313', 'form': '아 그랬을 수도 있겠다.', 'original_form': '아 그랬을 수도 있겠다.', 'speaker_id': 'SD2100001', 'start': '682.78903', 'end': '684.28068', 'note': ''}, {'id': 'SDRW2100000001.1.1.314', 'form': '아 근데 확실히 뭔가 군대를 가면 사람들이 그', 'original_form': '아 근데 확실히 뭔가 군대를 가면 사람들이 그', 'speaker_id': 'SD2100001', 'start': '684.28068', 'end': '687.36500', 'note': ''}, {'id': 'SDRW2100000001.1.1.315', 'form': '노래가 안 나오는 기간이 길어지긴 하는 거 같아.', 'original_form': '노래가 안 나오는 기간이 길어지긴 하는 거 같애.', 'speaker_id': 'SD2100001', 'start': '687.70000', 'end': '690.86899', 'note': ''}, {'id': 'SDRW2100000001.1.1.316', 'form': '근데 방탄도 이제 곧 입대 아냐?', 'original_form': '근데 방탄도 이제 곧 입대 아냐?', 'speaker_id': 'SD2100001', 'start': '691.63456', 'end': '693.96899', 'note': ''}, {'id': 'SDRW2100000001.1.1.317', 'form': '해야겠지?', 'original_form': '해야겠지?', 'speaker_id': 'SD2100002', 'start': '694.88898', 'end': '696.01901', 'note': ''}, {'id': 'SDRW2100000001.1.1.318', 'form': '누가 제일 먼저 가?', 'original_form': '누가 제일 먼저 가?', 'speaker_id': 'SD2100001', 'start': '697.05898', 'end': '698.30901', 'note': ''}, {'id': 'SDRW2100000001.1.1.319', 'form': '나 나도 몰라.', 'original_form': '-나- 나도 몰라.', 'speaker_id': 'SD2100002', 'start': '698.74901', 'end': '700.40898', 'note': '발화겹침'}, {'id': 'SDRW2100000001.1.1.320', 'form': '아 몰라?', 'original_form': '아 몰라?', 'speaker_id': 'SD2100001', 'start': '699.55901', 'end': '700.43901', 'note': '발화겹침'}, {'id': 'SDRW2100000001.1.1.321', 'form': '진 아니야 진 때문에 막 그 국회 의원들이 방탄 가지고 자꾸', 'original_form': '진 아니야 진 때문에 막 그 국회 의원들이 방탄 가주고 자꾸', 'speaker_id': 'SD2100001', 'start': '701.10498', 'end': '705.74098', 'note': ''}, {'id': 'SDRW2100000001.1.1.322', 'form': '뭐 한다고 얘기 나오는 거 아냐?', 'original_form': '뭐 한다고 얘기 나오는 거 아냐?', 'speaker_id': 'SD2100001', 'start': '705.74098', 'end': '707.65897', 'note': ''}, {'id': 'SDRW2100000001.1.1.323', 'form': '그분이 제일 나이가 많은 거는 아는데.', 'original_form': '그분이 제일 나이가 많은 거는 아는데.', 'speaker_id': 'SD2100002', 'start': '708.15897', 'end': '711.79899', 'note': '발화겹침'}, {'id': 'SDRW2100000001.1.1.324', 'form': '아', 'original_form': '아', 'speaker_id': 'SD2100001', 'start': '710.79899', 'end': '712.27903', 'note': '발화겹침'}, {'id': 'SDRW2100000001.1.1.325', 'form': '하긴 우린 몇 살인지까지는 모르니까', 'original_form': '하긴 우린 몇 살인지까지는 모르니까', 'speaker_id': 'SD2100001', 'start': '712.68000', 'end': '714.74902', 'note': ''}, {'id': 'SDRW2100000001.1.1.326', 'form': '또 군대 하니까 투피엠 생각난다.', 'original_form': '또 군대 하니까 투피엠 생각난다.', 'speaker_id': 'SD2100001', 'start': '715.58925', 'end': '717.67265', 'note': ''}, {'id': 'SDRW2100000001.1.1.327', 'form': '진짜 한 2주 전에 미쳐 가지고 살았었는데', 'original_form': '진짜 한 이 주 전에 미쳐 가지고 살았었는데', 'speaker_id': 'SD2100001', 'start': '717.67265', 'end': '720.04900', 'note': ''}, {'id': 'SDRW2100000001.1.1.328', 'form': '근데 투피엠이 이번에 나온 노래가', 'original_form': '근데 투피엠이 이번에 나온 노래가', 'speaker_id': 'SD2100002', 'start': '720.54900', 'end': '724.03899', 'note': '발화겹침'}, {'id': 'SDRW2100000001.1.1.329', 'form': '응.', 'original_form': '응.', 'speaker_id': 'SD2100001', 'start': '723.72899', 'end': '724.24901', 'note': '발화겹침'}, {'id': 'SDRW2100000001.1.1.330', 'form': '잘됐어?', 'original_form': '잘됐어?', 'speaker_id': 'SD2100002', 'start': '724.03899', 'end': '725.20897', 'note': '발화겹침'}, {'id': 'SDRW2100000001.1.1.331', 'form': '나쁘지 않았던 거 같은데 내가', 'original_form': '나쁘지 않았던 거 같은데 내가', 'speaker_id': 'SD2100001', 'start': '726.33898', 'end': '728.30000', 'note': ''}, {'id': 'SDRW2100000001.1.1.332', 'form': '데이식스랑 겹쳐 가지고 음반 보면 맨날 뒷쪽에 나왔어.', 'original_form': '데이식스랑 겹쳐 가주고 음반 보면 맨날 뒷쪽에 나왔어.', 'speaker_id': 'SD2100001', 'start': '728.30000', 'end': '732.20644', 'note': ''}, {'id': 'SDRW2100000001.1.1.333', 'form': '거의 맨 뒤?', 'original_form': '거의 맨 뒤?', 'speaker_id': 'SD2100001', 'start': '732.20644', 'end': '733.48901', 'note': ''}, {'id': 'SDRW2100000001.1.1.334', 'form': '뒷쪽에 나와야지.', 'original_form': '뒷쪽에 나와야지.', 'speaker_id': 'SD2100002', 'start': '734.73901', 'end': '735.95901', 'note': ''}, {'id': 'SDRW2100000001.1.1.335', 'form': '응 근데 맨날', 'original_form': '응 근데 맨날', 'speaker_id': 'SD2100001', 'start': '736.09902', 'end': '737.31100', 'note': ''}, {'id': 'SDRW2100000001.1.1.336', 'form': '그래 가지고 이번엔 투피엠 1등하나 딱 보면 맨날 엔시티가 1등하고 그래서', 'original_form': '그래 가지고 이번엔 투피엠 일 등하나 딱 보면 맨날 엔씨티가 일 등하고 그래서', 'speaker_id': 'SD2100001', 'start': '737.31100', 'end': '741.81349', 'note': ''}, {'id': 'SDRW2100000001.1.1.337', 'form': '음 그렇구나 이러면서 봤었어.', 'original_form': '음 그렇구나 이러면서 봤었어.', 'speaker_id': 'SD2100001', 'start': '741.81349', 'end': '743.74897', 'note': '발화겹침'}, {'id': 'SDRW2100000001.1.1.338', 'form': '아 그 그러니까 아 내가 옛날에 진짜 고', 'original_form': '아 그 그니까 아 내가 옛날에 진짜 -고-', 'speaker_id': 'SD2100002', 'start': '743.64900', 'end': '747.39300', 'note': '발화겹침'}, {'id': 'SDRW2100000001.1.1.339', 'form': '고등학생 때는 아무것도 몰랐단 말이야.', 'original_form': '고딩 때는 아무것도 몰랐단 말이야.', 'speaker_id': 'SD2100002', 'start': '747.56000', 'end': '751.31901', 'note': ''}, {'id': 'SDRW2100000001.1.1.340', 'form': '그냥 엔시티가', 'original_form': '그냥 엔씨티가', 'speaker_id': 'SD2100002', 'start': '751.44000', 'end': '753.63477', 'note': ''}, {'id': 'SDRW2100000001.1.1.341', 'form': '누군지도 몰랐단 말이야.', 'original_form': '누군지도 몰랐단 말이야.', 'speaker_id': 'SD2100002', 'start': '753.81000', 'end': '755.66520', 'note': ''}, {'id': 'SDRW2100000001.1.1.342', 'form': '응 응.', 'original_form': '응 응.', 'speaker_id': 'SD2100001', 'start': '754.68899', 'end': '755.53903', 'note': '발화겹침'}, {'id': 'SDRW2100000001.1.1.343', 'form': '그런데', 'original_form': '그런데', 'speaker_id': 'SD2100002', 'start': '755.66520', 'end': '756.68901', 'note': ''}, {'id': 'SDRW2100000001.1.1.344', 'form': '한 내가', 'original_form': '한 내가', 'speaker_id': 'SD2100002', 'start': '757.03000', 'end': '758.35700', 'note': ''}, {'id': 'SDRW2100000001.1.1.345', 'form': '그 대학교 나 가고 나서부터 갑자기', 'original_form': '그 대학교 나 가고 나서부터 갑자기', 'speaker_id': 'SD2100002', 'start': '758.65990', 'end': '762.47990', 'note': ''}, {'id': 'SDRW2100000001.1.1.346', 'form': '이제 그냥 잘생긴 사람 몇 명씩', 'original_form': '이제 걍 잘생긴 사람 몇 명씩', 'speaker_id': 'SD2100002', 'start': '762.47990', 'end': '765.56400', 'note': ''}, {'id': 'SDRW2100000001.1.1.347', 'form': '쪼금 애들이', 'original_form': '쪼금 애들이', 'speaker_id': 'SD2100002', 'start': '765.56400', 'end': '767.12000', 'note': '발화겹침'}, {'id': 'SDRW2100000001.1.1.348', 'form': '아', 'original_form': '아', 'speaker_id': 'SD2100001', 'start': '765.82898', 'end': '767.36902', 'note': '발화겹침'}, {'id': 'SDRW2100000001.1.1.349', 'form': '걔네만 알다가', 'original_form': '걔네만 알다가', 'speaker_id': 'SD2100002', 'start': '767.41000', 'end': '769.36700', 'note': ''}, {'id': 'SDRW2100000001.1.1.350', 'form': '이제 갈수록 뭔가', 'original_form': '이제 갈수록 뭔가', 'speaker_id': 'SD2100002', 'start': '770.50300', 'end': '772.50134', 'note': ''}, {'id': 'SDRW2100000001.1.1.351', 'form': '좋아하는', 'original_form': '좋아하는', 'speaker_id': 'SD2100002', 'start': '772.91734', 'end': '774.16015', 'note': ''}, {'id': 'SDRW2100000001.1.1.352', 'form': '그냥 노래 자체를 좋아하는 애들이 많아져 가지고', 'original_form': '걍 노래 자체를 좋아하는 애들이 많아져 가지고', 'speaker_id': 'SD2100002', 'start': '774.16015', 'end': '777.53100', 'note': ''}, {'id': 'SDRW2100000001.1.1.353', 'form': '뭔가 기분이 좋으면서도', 'original_form': '뭔가 기분이 좋으면서도', 'speaker_id': 'SD2100002', 'start': '777.85000', 'end': '779.98000', 'note': ''}, {'id': 'SDRW2100000001.1.1.354', 'form': '그러니까 내가 먼저 좋아했는데 재', 'original_form': '그까 내가 먼저 좋아했는데 재', 'speaker_id': 'SD2100002', 'start': '780.35000', 'end': '783.13898', 'note': '발화겹침'}, {'id': 'SDRW2100000001.1.1.355', 'form': '아 나만 알고 싶은데 뭔 줄 알지.', 'original_form': '아 나만 알고 싶은데 뭔 줄 알지.', 'speaker_id': 'SD2100001', 'start': '781.83899', 'end': '785.50897', 'note': '발화겹침'}, {'id': 'SDRW2100000001.1.1.356', 'form': '쟤가', 'original_form': '쟤가', 'speaker_id': 'SD2100002', 'start': '784.41901', 'end': '785.10000', 'note': '발화겹침'}, {'id': 'SDRW2100000001.1.1.357', 'form': '쟤가 더 많이 좋아하는 느낌?', 'original_form': '쟤가 더 많이 좋아하는 느낌?', 'speaker_id': 'SD2100002', 'start': '785.50199', 'end': '789.04901', 'note': '발화겹침'}, {'id': 'SDRW2100000001.1.1.358', 'form': '', 'original_form': '{laughing}', 'speaker_id': 'SD2100001', 'start': '788.10901', 'end': '788.86902', 'note': '발화겹침'}, {'id': 'SDRW2100000001.1.1.359', 'form': '근데 그게 틀린 말은 아니야.', 'original_form': '근데 그게 틀린 말은 아니야.', 'speaker_id': 'SD2100002', 'start': '789.57597', 'end': '791.48898', 'note': ''}, {'id': 'SDRW2100000001.1.1.360', 'form': '어떤 게?', 'original_form': '어떤 게?', 'speaker_id': 'SD2100001', 'start': '792.04897', 'end': '792.87902', 'note': ''}, {'id': 'SDRW2100000001.1.1.361', 'form': '아니 name3가 원래', 'original_form': '아니 &name3&가 원래', 'speaker_id': 'SD2100002', 'start': '793.28899', 'end': '795.61897', 'note': ''}, {'id': 'SDRW2100000001.1.1.362', 'form': '응.', 'original_form': '응.', 'speaker_id': 'SD2100001', 'start': '794.25898', 'end': '795.07899', 'note': '발화겹침'}, {'id': 'SDRW2100000001.1.1.363', 'form': '빅뱅을 좋아하다가', 'original_form': '빅뱅을 좋아하다가', 'speaker_id': 'SD2100002', 'start': '796.11278', 'end': '798.07899', 'note': '발화겹침'}, {'id': 'SDRW2100000001.1.1.364', 'form': '아 어 어.', 'original_form': '아 어 어.', 'speaker_id': 'SD2100001', 'start': '797.43898', 'end': '798.52900', 'note': '발화겹침'}, {'id': 'SDRW2100000001.1.1.365', 'form': '작', 'original_form': '-작-', 'speaker_id': 'SD2100002', 'start': '799.17903', 'end': '799.78107', 'note': ''}, {'id': 'SDRW2100000001.1.1.366', 'form': '작년인가 올해부터 엔시티를 좋아했대.', 'original_form': '작년인가 올해부터 엔씨티를 좋아했대.', 'speaker_id': 'SD2100002', 'start': '800.17527', 'end': '804.53898', 'note': '발화겹침'}, {'id': 'SDRW2100000001.1.1.367', 'form': '어.', 'original_form': '어.', 'speaker_id': 'SD2100001', 'start': '803.95902', 'end': '805.19901', 'note': '발화겹침'}, {'id': 'SDRW2100000001.1.1.368', 'form': '근데 name3는 약간 좀', 'original_form': '근데 &name3&는 약간 쫌', 'speaker_id': 'SD2100002', 'start': '805.63901', 'end': '807.66700', 'note': ''}, {'id': 'SDRW2100000001.1.1.369', 'form': '밖에서 노는 편이잖아.', 'original_form': '밖에서 노는 편이잖아.', 'speaker_id': 'SD2100002', 'start': '807.66700', 'end': '810.18903', 'note': '발화겹침'}, {'id': 'SDRW2100000001.1.1.370', 'form': '응.', 'original_form': '응.', 'speaker_id': 'SD2100001', 'start': '809.81897', 'end': '810.45898', 'note': '발화겹침'}, {'id': 'SDRW2100000001.1.1.371', 'form': '그래서 막 뮤지컬이라든가', 'original_form': '그래서 막 뮤지컬이라던가', 'speaker_id': 'SD2100002', 'start': '810.50000', 'end': '812.66867', 'note': ''}, {'id': 'SDRW2100000001.1.1.372', 'form': '그런 것도 잘 보러 다니잖아.', 'original_form': '그런 것도 잘 보러 다니잖아.', 'speaker_id': 'SD2100002', 'start': '812.66867', 'end': '814.76029', 'note': '발화겹침'}, {'id': 'SDRW2100000001.1.1.373', 'form': '응.', 'original_form': '응.', 'speaker_id': 'SD2100001', 'start': '814.32900', 'end': '814.87899', 'note': '발화겹침'}, {'id': 'SDRW2100000001.1.1.374', 'form': '근데 나는', 'original_form': '근데 나는', 'speaker_id': 'SD2100002', 'start': '814.76029', 'end': '815.71902', 'note': '발화겹침'}, {'id': 'SDRW2100000001.1.1.375', 'form': '좋아하는 사람 있으면 이제 그냥 집에서만 맨날 보잖아.', 'original_form': '좋아하는 사람 있으면 이제 걍 집에서만 맨날 보잖아.', 'speaker_id': 'SD2100002', 'start': '816.14000', 'end': '819.71487', 'note': '발화겹침'}, {'id': 'SDRW2100000001.1.1.376', 'form': '응.', 'original_form': '응.', 'speaker_id': 'SD2100001', 'start': '819.66897', 'end': '821.05898', 'note': '발화겹침'}, {'id': 'SDRW2100000001.1.1.377', 'form': '동영상으로', 'original_form': '동영상으로', 'speaker_id': 'SD2100002', 'start': '819.71487', 'end': '820.84902', 'note': '발화겹침'}, {'id': 'SDRW2100000001.1.1.378', 'form': '근데 name3가 그 엔시티 멤버가 나오는', 'original_form': '근데 &name3&가 그 엔씨티 멤버가 나오는', 'speaker_id': 'SD2100002', 'start': '822.28000', 'end': '826.68704', 'note': ''}, {'id': 'SDRW2100000001.1.1.379', 'form': '뮤지컬도 보러 가고', 'original_form': '뮤지컬도 보러 가고', 'speaker_id': 'SD2100002', 'start': '826.68704', 'end': '828.93000', 'note': '발화겹침'}, {'id': 'SDRW2100000001.1.1.380', 'form': '도영?', 'original_form': '도영?', 'speaker_id': 'SD2100001', 'start': '828.70897', 'end': '829.34899', 'note': '발화겹침'}, {'id': 'SDRW2100000001.1.1.381', 'form': '어.', 'original_form': '어.', 'speaker_id': 'SD2100002', 'start': '829.41000', 'end': '830.12902', 'note': '발화겹침'}, {'id': 'SDRW2100000001.1.1.382', 'form': '아 어 어 어.', 'original_form': '아 어 어 어.', 'speaker_id': 'SD2100001', 'start': '829.74527', 'end': '830.87902', 'note': '발화겹침'}, {'id': 'SDRW2100000001.1.1.383', 'form': '뭔가 더 막', 'original_form': '뭔가 더 막', 'speaker_id': 'SD2100002', 'start': '831.52898', 'end': '833.25898', 'note': ''}, {'id': 'SDRW2100000001.1.1.384', 'form': '활발하게 덕질을 하는 것 같애?', 'original_form': '활발하게 덕질을 하는 것 같애?', 'speaker_id': 'SD2100001', 'start': '833.87898', 'end': '836.19899', 'note': '발화겹침'}, {'id': 'SDRW2100000001.1.1.385', 'form': '어.', 'original_form': '어.', 'speaker_id': 'SD2100002', 'start': '836.09901', 'end': '836.64900', 'note': '발화겹침'}, {'id': 'SDRW2100000001.1.1.386', 'form': '근데 내가 한참 덕질에', 'original_form': '근데 내가 한참 덕질에', 'speaker_id': 'SD2100001', 'start': '837.20900', 'end': '839.46045', 'note': ''}, {'id': 'SDRW2100000001.1.1.387', 'form': '그 가수에 미쳐 있을 때 그렇게 했었거든.', 'original_form': '그 가수에 미쳐 있을 때 그렇게 했었거든.', 'speaker_id': 'SD2100001', 'start': '839.46045', 'end': '841.90500', 'note': ''}, {'id': 'SDRW2100000001.1.1.388', 'form': '막 앨범 버전별로 다 사고 콘서트 가고', 'original_form': '막 앨범 버전별로 다 사고 콘서트 가고', 'speaker_id': 'SD2100001', 'start': '841.90500', 'end': '844.80500', 'note': ''}, {'id': 'SDRW2100000001.1.1.389', 'form': '근데 그게 한 1년만 지나잖아.', 'original_form': '근데 그게 한 일 년만 지나잖아.', 'speaker_id': 'SD2100001', 'start': '844.80500', 'end': '847.00900', 'note': ''}, {'id': 'SDRW2100000001.1.1.390', 'form': '약간 집에 쌓여 있는 그것들을 보면서', 'original_form': '약간 집에 쌓여 있는 그것들을 보면서', 'speaker_id': 'SD2100001', 'start': '847.00900', 'end': '849.22575', 'note': ''}, {'id': 'SDRW2100000001.1.1.391', 'form': '와 저게 다 얼마지 이런 생각이 한번씩 든단 말이야.', 'original_form': '와 저게 다 얼마지 이런 생각이 한번씩 든단 말이야.', 'speaker_id': 'SD2100001', 'start': '849.40000', 'end': '852.96897', 'note': ''}, {'id': 'SDRW2100000001.1.1.392', 'form': '이제 그러면 그 이제', 'original_form': '이제 그러면 그 이제', 'speaker_id': 'SD2100001', 'start': '853.20000', 'end': '855.53300', 'note': ''}, {'id': 'SDRW2100000001.1.1.393', 'form': '다시 집에서 조용히 노래만 찾아 듣는 걸로', 'original_form': '다시 집에서 조용히 노래만 찾아 듣는 걸로', 'speaker_id': 'SD2100001', 'start': '855.53300', 'end': '858.82387', 'note': ''}, {'id': 'SDRW2100000001.1.1.394', 'form': '변하게 되더라고.', 'original_form': '변하게 되더라구.', 'speaker_id': 'SD2100001', 'start': '858.82387', 'end': '860.20000', 'note': ''}, {'id': 'SDRW2100000001.1.1.395', 'form': '내 뭐 응.', 'original_form': '내 뭐 응.', 'speaker_id': 'SD2100001', 'start': '861.02898', 'end': '862.38903', 'note': '발화겹침'}, {'id': 'SDRW2100000001.1.1.396', 'form': '나 난 원래부터 그랬어.', 'original_form': '나 난 원래부터 그랬어.', 'speaker_id': 'SD2100002', 'start': '861.08898', 'end': '863.64100', 'note': '발화겹침'}, {'id': 'SDRW2100000001.1.1.397', 'form': '나 원래', 'original_form': '나 원래', 'speaker_id': 'SD2100002', 'start': '863.64100', 'end': '864.99901', 'note': '발화겹침'}, {'id': 'SDRW2100000001.1.1.398', 'form': '아 원래 집에서?', 'original_form': '아 원래 집에서?', 'speaker_id': 'SD2100001', 'start': '863.84899', 'end': '865.26897', 'note': '발화겹침'}, {'id': 'SDRW2100000001.1.1.399', 'form': '응.', 'original_form': '응.', 'speaker_id': 'SD2100002', 'start': '865.20000', 'end': '865.98900', 'note': '발화겹침'}, {'id': 'SDRW2100000001.1.1.400', 'form': '에', 'original_form': '에', 'speaker_id': 'SD2100002', 'start': '866.31000', 'end': '867.42900', 'note': '발화겹침'}, {'id': 'SDRW2100000001.1.1.401', 'form': '뭐 어때 내가 좋으면 된 거지.', 'original_form': '뭐 어때 내가 좋으면 된 거지.', 'speaker_id': 'SD2100001', 'start': '866.36901', 'end': '868.32903', 'note': '발화겹침'}, {'id': 'SDRW2100000001.1.1.402', 'form': '앨범도 뭔가', 'original_form': '앨범도 뭔가', 'speaker_id': 'SD2100002', 'start': '868.52898', 'end': '870.35700', 'note': ''}, {'id': 'SDRW2100000001.1.1.403', 'form': '솔직히 시디로 그걸 듣는 건 아니잖아.', 'original_form': '솔직히 씨디로 그걸 듣는 건 아니잖아.', 'speaker_id': 'SD2100002', 'start': '871.48000', 'end': '874.24499', 'note': '발화겹침'}, {'id': 'SDRW2100000001.1.1.404', 'form': '맞아', 'original_form': '맞아 {laughing}', 'speaker_id': 'SD2100001', 'start': '874.20900', 'end': '875.20900', 'note': '발화겹침'}, {'id': 'SDRW2100000001.1.1.405', 'form': '그래서', 'original_form': '그래서', 'speaker_id': 'SD2100002', 'start': '874.24499', 'end': '874.90901', 'note': '발화겹침'}, {'id': 'SDRW2100000001.1.1.406', 'form': '왜 사지 하는 생각도 들고', 'original_form': '왜 사지 하는 생각도 들고', 'speaker_id': 'SD2100002', 'start': '875.30000', 'end': '878.21000', 'note': ''}, {'id': 'SDRW2100000001.1.1.407', 'form': '근데 내 친구들 보면 다 팬싸 가려고 사는', 'original_form': '근데 내 친구들 보면 다 팬싸 가려고 -사는-', 'speaker_id': 'SD2100002', 'start': '878.34501', 'end': '881.53214', 'note': ''}, {'id': 'SDRW2100000001.1.1.408', 'form': '사는 거', 'original_form': '사는 거', 'speaker_id': 'SD2100002', 'start': '881.53214', 'end': '882.29000', 'note': '발화겹침'}, {'id': 'SDRW2100000001.1.1.409', 'form': '아 맞아 좀 그런 느낌인 거 같긴 해.', 'original_form': '아 맞아 쫌 그런 느낌인 거 같긴 해.', 'speaker_id': 'SD2100001', 'start': '881.57898', 'end': '884.47734', 'note': '발화겹침'}, {'id': 'SDRW2100000001.1.1.410', 'form': '근데 나는 어차피 한두 장으론 되지 않을 거라는 걸 알고 있기 때문에', 'original_form': '근데 나는 어차피 한두 장으론 되지 않을 거라는 걸 알고 있기 때문에', 'speaker_id': 'SD2100001', 'start': '884.47734', 'end': '888.24934', 'note': ''}, {'id': 'SDRW2100000001.1.1.411', 'form': '그러니까 차라리 뭐 음원이나 영상 같은 걸', 'original_form': '그니까 차라리 뭐 음원이나 영상 같은 걸', 'speaker_id': 'SD2100001', 'start': '888.59000', 'end': '892.31580', 'note': ''}, {'id': 'SDRW2100000001.1.1.412', 'form': '영상 같은 거를', 'original_form': '영상 같은 거를', 'speaker_id': 'SD2100001', 'start': '894.63000', 'end': '896.35002', 'note': ''}, {'id': 'SDRW2100000001.1.1.413', 'form': '돈 주고 팔면 사겠는데', 'original_form': '돈 주고 팔면 사겠는데', 'speaker_id': 'SD2100001', 'start': '896.48000', 'end': '899.54000', 'note': ''}, {'id': 'SDRW2100000001.1.1.414', 'form': '그러니까 자꾸 자리 차지하는 것들을 파니까', 'original_form': '그니까 자꾸 자리 차지하는 것들을 파니까', 'speaker_id': 'SD2100001', 'start': '899.69573', 'end': '902.73971', 'note': ''}, {'id': 'SDRW2100000001.1.1.415', 'form': '못 사겠어.', 'original_form': '못 사겠어.', 'speaker_id': 'SD2100001', 'start': '902.73971', 'end': '903.31736', 'note': ''}, {'id': 'SDRW2100000001.1.1.416', 'form': '나 진짜 놓을 자리가 없어 이제.', 'original_form': '나 진짜 놓을 자리가 없어 이제.', 'speaker_id': 'SD2100001', 'start': '903.31736', 'end': '905.11901', 'note': ''}, {'id': 'SDRW2100000001.1.1.417', 'form': '맞아 그러니까 그냥', 'original_form': '맞아 그니까 그냥', 'speaker_id': 'SD2100002', 'start': '906.15898', 'end': '908.21100', 'note': ''}, {'id': 'SDRW2100000001.1.1.418', 'form': '앨범 같은 거 사는 것보다 그냥', 'original_form': '앨범 같은 거 사는 것보다 그냥', 'speaker_id': 'SD2100002', 'start': '908.21100', 'end': '911.22298', 'note': ''}, {'id': 'SDRW2100000001.1.1.419', 'form': '집에서', 'original_form': '집에서', 'speaker_id': 'SD2100002', 'start': '911.22298', 'end': '912.38700', 'note': ''}, {'id': 'SDRW2100000001.1.1.420', 'form': '유튜브로 듣거나', 'original_form': '유튜브로 듣거나', 'speaker_id': 'SD2100002', 'start': '913.16000', 'end': '915.10000', 'note': ''}, {'id': 'SDRW2100000001.1.1.421', 'form': '스트리밍 하는 게 나을 것 같아.', 'original_form': '쓰트리밍 하는 게 나을 것 같아.', 'speaker_id': 'SD2100002', 'start': '915.10000', 'end': '917.48898', 'note': '발화겹침'}, {'id': 'SDRW2100000001.1.1.422', 'form': '음', 'original_form': '음', 'speaker_id': 'SD2100001', 'start': '917.47903', 'end': '918.38900', 'note': '발화겹침'}]}]}\n",
      "================================================================================================================================================================================================================================================================================================================================================================================================================================================================================================================================================================================================================================================================================================================================================================================================================================================================================================================================================================================================================================================================================================================================================================================================================================================================================================================================================================================================================================================================================================================================================================================================================================================================================================================================================================================================================================================================================================================================================================================================================================================================================================================================================================================================================================================================================================================================================================================================================================================================================================================================================================================================================================================================================================================================================================================================================================================================================================================================================================================================================================================================================================================================================================================================================================================================================================================================================================================================================================================================================================================================================================================================================================================================================================================================================================================================================================================================================================================================================================================================================================================================================================================================================================\n",
      "<class 'dict'>\n",
      "{'id': 'SDRW2100000002', 'metadata': {'title': '국립국어원 구어 말뭉치 SDRW2100000002', 'creator': '국립국어원', 'distributor': '국립국어원', 'year': '2021', 'category': '구어 > 사적대화 > 일상대화', 'annotation_level': ['원시'], 'sampling': '본문 전체'}, 'document': [{'id': 'SDRW2100000002.1', 'metadata': {'title': '2인 일상 대화', 'author': '개인 발화자', 'publisher': '개인 발화 녹음', 'date': '20210805', 'topic': '먹거리 > 저녁 음식 선택', 'speaker': [{'id': 'SD2100001', 'age': '20대', 'occupation': '학생', 'sex': '여성', 'birthplace': '서울', 'principal_residence': '경기', 'current_residence': '서울', 'education': '대재'}, {'id': 'SD2100002', 'age': '20대', 'occupation': '학생', 'sex': '여성', 'birthplace': '전남', 'principal_residence': '서울', 'current_residence': '서울', 'education': '대재'}], 'setting': {'relation': '친구'}}, 'utterance': [{'id': 'SDRW2100000002.1.1.1', 'form': '너 플립즈라고 초코 프레첼 같은 거 알아?', 'original_form': '너 플립즈라고 초코 프레첼 같은 거 알아?', 'speaker_id': 'SD2100002', 'start': '0.64000', 'end': '4.25801', 'note': ''}, {'id': 'SDRW2100000002.1.1.2', 'form': '아니 처음 들어봤어.', 'original_form': '아니 처음 들어봤어.', 'speaker_id': 'SD2100001', 'start': '4.25801', 'end': '5.66000', 'note': ''}, {'id': 'SDRW2100000002.1.1.3', 'form': '올리브영에 그걸 파는데', 'original_form': '올리브영에 그걸 파는데', 'speaker_id': 'SD2100002', 'start': '6.22000', 'end': '8.23000', 'note': ''}, {'id': 'SDRW2100000002.1.1.4', 'form': '걔', 'original_form': '걔', 'speaker_id': 'SD2100002', 'start': '8.49000', 'end': '9.11282', 'note': ''}, {'id': 'SDRW2100000002.1.1.5', 'form': '쪼금 작은 사이즈로', 'original_form': '쪼금 짝은 사이즈로', 'speaker_id': 'SD2100002', 'start': '9.37000', 'end': '12.06000', 'note': ''}, {'id': 'SDRW2100000002.1.1.6', 'form': '별로 안 들어 있는데 이게', 'original_form': '별로 안 들어 있는데 이게', 'speaker_id': 'SD2100002', 'start': '12.10000', 'end': '14.26800', 'note': ''}, {'id': 'SDRW2100000002.1.1.7', 'form': '한 봉지에 4000원이나 하거든.', 'original_form': '한 봉지에 사천 원이나 하거든.', 'speaker_id': 'SD2100002', 'start': '14.26800', 'end': '16.25900', 'note': '발화겹침'}, {'id': 'SDRW2100000002.1.1.8', 'form': '허이 응.', 'original_form': '허이 응.', 'speaker_id': 'SD2100001', 'start': '16.09900', 'end': '17.21900', 'note': '발화겹침'}, {'id': 'SDRW2100000002.1.1.9', 'form': '근데 그게 진짜 맛있단 말이야', 'original_form': '근데 그게 진짜 맛있단 말이야', 'speaker_id': 'SD2100002', 'start': '16.38000', 'end': '19.37900', 'note': '발화겹침'}, {'id': 'SDRW2100000002.1.1.10', 'form': '그래서 오늘 그걸', 'original_form': '그래서 오늘 그걸', 'speaker_id': 'SD2100002', 'start': '19.75500', 'end': '21.55000', 'note': ''}, {'id': 'SDRW2100000002.1.1.11', 'form': '딱 진열을 했는데 너무 먹고 싶었어.', 'original_form': '딱 진열을 했는데 너무 먹고 싶었어.', 'speaker_id': 'SD2100002', 'start': '21.81400', 'end': '24.66000', 'note': ''}, {'id': 'SDRW2100000002.1.1.12', 'form': '그래서 사 먹었어?', 'original_form': '그래서 사 먹었어?', 'speaker_id': 'SD2100001', 'start': '25.15000', 'end': '26.61000', 'note': ''}, {'id': 'SDRW2100000002.1.1.13', 'form': '못 사 먹었지.', 'original_form': '못 사 먹었지.', 'speaker_id': 'SD2100002', 'start': '26.93000', 'end': '28.11000', 'note': '발화겹침'}, {'id': 'SDRW2100000002.1.1.14', 'form': '아 아니 그냥 뭐 식대 지원해 주고 이런 거 없어?', 'original_form': '아 아니 그냥 뭐 식대 지원해 주고 이런 거 없어?', 'speaker_id': 'SD2100001', 'start': '27.92000', 'end': '31.14000', 'note': '발화겹침'}, {'id': 'SDRW2100000002.1.1.15', 'form': '내가 너무 쪼금 일해 가지고 식대가 안 나와.', 'original_form': '내가 너무 쪼금 일해 가지고 식대가 안 나와.', 'speaker_id': 'SD2100002', 'start': '31.34000', 'end': '34.87000', 'note': ''}, {'id': 'SDRW2100000002.1.1.16', 'form': '그러면 아침은 먹었어?', 'original_form': '그러면 아침은 먹었어?', 'speaker_id': 'SD2100001', 'start': '35.73000', 'end': '37.49000', 'note': ''}, {'id': 'SDRW2100000002.1.1.17', 'form': '아침도 오늘 못 먹었어.', 'original_form': '아침도 오늘 못 먹었어.', 'speaker_id': 'SD2100002', 'start': '37.66000', 'end': '40.14000', 'note': ''}, {'id': 'SDRW2100000002.1.1.18', 'form': '너 그럼 지금 아무것도 안 먹고 그냥 온 거야?', 'original_form': '너 그럼 지금 아무것도 안 먹고 그냥 온 거야?', 'speaker_id': 'SD2100001', 'start': '40.49000', 'end': '42.81000', 'note': '발화겹침'}, {'id': 'SDRW2100000002.1.1.19', 'form': '어.', 'original_form': '어.', 'speaker_id': 'SD2100002', 'start': '42.74000', 'end': '43.20000', 'note': '발화겹침'}, {'id': 'SDRW2100000002.1.1.20', 'form': '헐 그러면', 'original_form': '헐 그러면', 'speaker_id': 'SD2100001', 'start': '44.09000', 'end': '45.34768', 'note': ''}, {'id': 'SDRW2100000002.1.1.21', 'form': '이게 점심시간은 이미 지났으니까', 'original_form': '이게 점심시간은 이미 지났으니까', 'speaker_id': 'SD2100001', 'start': '45.34768', 'end': '48.23233', 'note': ''}, {'id': 'SDRW2100000002.1.1.22', 'form': '저녁을 좀 일찍 먹어야 되겠다.', 'original_form': '저녁을 좀 일찍 먹어야 되겠다.', 'speaker_id': 'SD2100001', 'start': '48.23233', 'end': '49.95000', 'note': ''}, {'id': 'SDRW2100000002.1.1.23', 'form': '그러자.', 'original_form': '그러자.', 'speaker_id': 'SD2100002', 'start': '50.84000', 'end': '51.64000', 'note': ''}, {'id': 'SDRW2100000002.1.1.24', 'form': '먹고 싶은 거 있어?', 'original_form': '먹고 싶은 거 있어?', 'speaker_id': 'SD2100001', 'start': '51.99000', 'end': '53.18000', 'note': ''}, {'id': 'SDRW2100000002.1.1.25', 'form': '너는', 'original_form': '너는', 'speaker_id': 'SD2100002', 'start': '53.68000', 'end': '54.66174', 'note': ''}, {'id': 'SDRW2100000002.1.1.26', 'form': '밥을 좋아해 빵을 좋아해 면을 좋아해?', 'original_form': '밥을 좋아해 빵을 좋아해 면을 좋아해?', 'speaker_id': 'SD2100002', 'start': '54.96257', 'end': '58.33000', 'note': ''}, {'id': 'SDRW2100000002.1.1.27', 'form': '나는', 'original_form': '나는', 'speaker_id': 'SD2100001', 'start': '58.68000', 'end': '59.60000', 'note': ''}, {'id': 'SDRW2100000002.1.1.28', 'form': '면보다는 밥이고 밥이랑 빵은 비슷한 것 같아.', 'original_form': '면보다는 밥이고 밥이랑 빵은 비슷한 것 같애.', 'speaker_id': 'SD2100001', 'start': '60.09535', 'end': '63.51000', 'note': ''}, {'id': 'SDRW2100000002.1.1.29', 'form': '그래?', 'original_form': '그래?', 'speaker_id': 'SD2100002', 'start': '63.68000', 'end': '64.26000', 'note': '발화겹침'}, {'id': 'SDRW2100000002.1.1.30', 'form': '응.', 'original_form': '응.', 'speaker_id': 'SD2100001', 'start': '64.05000', 'end': '64.53000', 'note': '발화겹침'}, {'id': 'SDRW2100000002.1.1.31', 'form': '나도 면보다는 밥인데', 'original_form': '나도 면보다는 밥인데', 'speaker_id': 'SD2100002', 'start': '64.77000', 'end': '67.45000', 'note': ''}, {'id': 'SDRW2100000002.1.1.32', 'form': '밥보다는 빵이야.', 'original_form': '밥보다는 빵이야.', 'speaker_id': 'SD2100002', 'start': '67.45000', 'end': '69.32000', 'note': ''}, {'id': 'SDRW2100000002.1.1.33', 'form': '그러면 뭐 먹지?', 'original_form': '그러면 뭐 먹지?', 'speaker_id': 'SD2100001', 'start': '69.85000', 'end': '71.47905', 'note': ''}, {'id': 'SDRW2100000002.1.1.34', 'form': '저녁으로 빵 하나 사 먹기엔 너무 배고플 텐데.', 'original_form': '저녁으로 빵 하나 사 먹기엔 너무 배고플 텐데.', 'speaker_id': 'SD2100001', 'start': '71.47905', 'end': '74.34000', 'note': '발화겹침'}, {'id': 'SDRW2100000002.1.1.35', 'form': '아 당연히 안 되지.', 'original_form': '아 당연히 안 되지.', 'speaker_id': 'SD2100002', 'start': '74.06000', 'end': '75.72000', 'note': '발화겹침'}, {'id': 'SDRW2100000002.1.1.36', 'form': '빵은 근데 나는 간식이라고 생각을 해.', 'original_form': '빵은 근데 나는 간식이라고 생각을 해.', 'speaker_id': 'SD2100002', 'start': '75.92000', 'end': '79.41000', 'note': '발화겹침'}, {'id': 'SDRW2100000002.1.1.37', 'form': '그렇지 그렇지.', 'original_form': '그치 그치.', 'speaker_id': 'SD2100001', 'start': '78.89000', 'end': '79.94600', 'note': '발화겹침'}, {'id': 'SDRW2100000002.1.1.38', 'form': '나는 그래서 샌드위치 이런 걸로 한 끼를 때울 수 있다는 말은', 'original_form': '나는 그래서 샌드위치 이런 걸로 한 끼를 때울 수 있다는 말은', 'speaker_id': 'SD2100001', 'start': '79.94600', 'end': '83.86391', 'note': ''}, {'id': 'SDRW2100000002.1.1.39', 'form': '말도 안 된다고 생각해.', 'original_form': '말도 안 된다고 생각해.', 'speaker_id': 'SD2100001', 'start': '83.86391', 'end': '85.52000', 'note': ''}, {'id': 'SDRW2100000002.1.1.40', 'form': '그러면 저녁에 밥을 그러면 어떤 메뉴를 먹을까?', 'original_form': '그러면 저녁에 밥을 그러면 어떤 메뉴를 먹을까?', 'speaker_id': 'SD2100001', 'start': '86.46000', 'end': '91.08000', 'note': ''}, {'id': 'SDRW2100000002.1.1.41', 'form': '나는 솔직히 다 좋아해 가지고', 'original_form': '나는 솔직히 다 좋아해 가지고', 'speaker_id': 'SD2100002', 'start': '91.94000', 'end': '95.20000', 'note': ''}, {'id': 'SDRW2100000002.1.1.42', 'form': '한식도 좋고', 'original_form': '한식도 좋고', 'speaker_id': 'SD2100002', 'start': '95.20000', 'end': '97.07000', 'note': ''}, {'id': 'SDRW2100000002.1.1.43', 'form': '양식도 좋고', 'original_form': '양식도 좋고', 'speaker_id': 'SD2100002', 'start': '97.07000', 'end': '98.82000', 'note': ''}, {'id': 'SDRW2100000002.1.1.44', 'form': '일식도 좋고', 'original_form': '일식도 좋고', 'speaker_id': 'SD2100002', 'start': '98.82000', 'end': '100.84000', 'note': ''}, {'id': 'SDRW2100000002.1.1.45', 'form': '중식도 좋고', 'original_form': '중식도 좋고', 'speaker_id': 'SD2100002', 'start': '100.84000', 'end': '102.31000', 'note': '발화겹침'}, {'id': 'SDRW2100000002.1.1.46', 'form': '다 좋구나?', 'original_form': '다 좋구나?', 'speaker_id': 'SD2100001', 'start': '102.18000', 'end': '103.18000', 'note': '발화겹침'}, {'id': 'SDRW2100000002.1.1.47', 'form': '어.', 'original_form': '어.', 'speaker_id': 'SD2100002', 'start': '102.31000', 'end': '104.47000', 'note': '발화겹침'}, {'id': 'SDRW2100000002.1.1.48', 'form': '취향이 없는 사람이구만.', 'original_form': '취향이 없는 사람이구만.', 'speaker_id': 'SD2100001', 'start': '103.69037', 'end': '105.52000', 'note': '발화겹침'}, {'id': 'SDRW2100000002.1.1.49', 'form': '아 근데', 'original_form': '아 근데', 'speaker_id': 'SD2100002', 'start': '105.48000', 'end': '106.36000', 'note': '발화겹침'}, {'id': 'SDRW2100000002.1.1.50', 'form': '나 name1 언니도 나한테', 'original_form': '나 &name1& 언니도 나한테', 'speaker_id': 'SD2100002', 'start': '106.36000', 'end': '109.20825', 'note': ''}, {'id': 'SDRW2100000002.1.1.51', 'form': '내가 뭐 못 먹는 거 본 적 없다고 했었잖아.', 'original_form': '내가 뭐 못 먹는 거 본 적 없다고 했었잖아.', 'speaker_id': 'SD2100002', 'start': '109.20825', 'end': '112.40000', 'note': '발화겹침'}, {'id': 'SDRW2100000002.1.1.52', 'form': '응.', 'original_form': '응.', 'speaker_id': 'SD2100001', 'start': '112.06000', 'end': '112.70000', 'note': '발화겹침'}, {'id': 'SDRW2100000002.1.1.53', 'form': '그래 가지고', 'original_form': '그래 가지고', 'speaker_id': 'SD2100002', 'start': '112.40000', 'end': '114.74000', 'note': '발화겹침'}, {'id': 'SDRW2100000002.1.1.54', 'form': '나도 뭔가', 'original_form': '나도 뭔가', 'speaker_id': 'SD2100002', 'start': '114.74000', 'end': '116.13000', 'note': ''}, {'id': 'SDRW2100000002.1.1.55', 'form': '이래도 되나 싶지만', 'original_form': '이래도 되나 싶지만', 'speaker_id': 'SD2100002', 'start': '116.63622', 'end': '118.51000', 'note': ''}, {'id': 'SDRW2100000002.1.1.56', 'form': '나는 진짜 좋아하는 게 없어.', 'original_form': '나는 진짜 좋아하는 게 없어.', 'speaker_id': 'SD2100002', 'start': '118.51000', 'end': '121.12000', 'note': '발화겹침'}, {'id': 'SDRW2100000002.1.1.57', 'form': '아 그러면', 'original_form': '아 그러면', 'speaker_id': 'SD2100001', 'start': '121.08000', 'end': '122.77000', 'note': '발화겹침'}, {'id': 'SDRW2100000002.1.1.58', 'form': '아', 'original_form': '아', 'speaker_id': 'SD2100002', 'start': '122.49000', 'end': '123.01000', 'note': '발화겹침'}, {'id': 'SDRW2100000002.1.1.59', 'form': '싫어하는 게 없어.', 'original_form': '싫어하는 게 없어.', 'speaker_id': 'SD2100002', 'start': '123.01000', 'end': '124.48000', 'note': '발화겹침'}, {'id': 'SDRW2100000002.1.1.60', 'form': '아 싫어하는 게 없어?', 'original_form': '아 {laughing} 싫어하는 게 없어?', 'speaker_id': 'SD2100001', 'start': '124.11000', 'end': '125.75108', 'note': '발화겹침'}, {'id': 'SDRW2100000002.1.1.61', 'form': '그러면', 'original_form': '그러면', 'speaker_id': 'SD2100001', 'start': '125.75108', 'end': '126.85800', 'note': ''}, {'id': 'SDRW2100000002.1.1.62', 'form': '나 아까 오면서 보니까 역 근처에', 'original_form': '나 아까 오면서 보니까 역 근처에', 'speaker_id': 'SD2100001', 'start': '126.85800', 'end': '130.17999', 'note': ''}, {'id': 'SDRW2100000002.1.1.63', 'form': '일식집 막 돈카츠 이런 거 파는 거 많던데 거기 갈까?', 'original_form': '일식집 막 돈카츠 이런 거 파는 거 많던데 거기 갈까?', 'speaker_id': 'SD2100001', 'start': '130.17999', 'end': '133.87000', 'note': ''}, {'id': 'SDRW2100000002.1.1.64', 'form': '너 돈까스 좋아해?', 'original_form': '너 돈까스 좋아해?', 'speaker_id': 'SD2100002', 'start': '133.89000', 'end': '135.50000', 'note': ''}, {'id': 'SDRW2100000002.1.1.65', 'form': '어 나도 너랑 비슷해 딱히 싫어하는 게 없어.', 'original_form': '어 나도 너랑 비슷해 딱히 싫어하는 게 없어.', 'speaker_id': 'SD2100001', 'start': '135.88000', 'end': '139.38000', 'note': ''}, {'id': 'SDRW2100000002.1.1.66', 'form': '그럼 나도 좋아.', 'original_form': '그럼 나도 좋아.', 'speaker_id': 'SD2100002', 'start': '139.64001', 'end': '140.89000', 'note': ''}, {'id': 'SDRW2100000002.1.1.67', 'form': '근데 코로나 때문에 요새', 'original_form': '근데 코로나 때문에 요새', 'speaker_id': 'SD2100001', 'start': '141.30000', 'end': '144.08000', 'note': ''}, {'id': 'SDRW2100000002.1.1.68', 'form': '안에서 잘 안 팔지 않나 영업시간도 짧고?', 'original_form': '안에서 잘 안 팔지 않나 영업시간도 짧고?', 'speaker_id': 'SD2100001', 'start': '144.36000', 'end': '147.45000', 'note': ''}, {'id': 'SDRW2100000002.1.1.69', 'form': '어 일단 가 보자.', 'original_form': '어 일단 가 보자.', 'speaker_id': 'SD2100002', 'start': '148.61000', 'end': '149.97999', 'note': ''}, {'id': 'SDRW2100000002.1.1.70', 'form': '그래 일단', 'original_form': '그래 일단', 'speaker_id': 'SD2100001', 'start': '150.03000', 'end': '150.98000', 'note': ''}, {'id': 'SDRW2100000002.1.1.71', 'form': '그러면 어디를 갈지를 먼저 확실히 정하고 가자.', 'original_form': '그러면 어디를 갈지를 먼저 확실히 정하고 가자.', 'speaker_id': 'SD2100001', 'start': '151.18999', 'end': '154.59000', 'note': ''}, {'id': 'SDRW2100000002.1.1.72', 'form': '그래 너가 어제 보여준 그', 'original_form': '그래 너가 어제 보여준 그', 'speaker_id': 'SD2100002', 'start': '154.73000', 'end': '157.27000', 'note': ''}, {'id': 'SDRW2100000002.1.1.73', 'form': '그 타코집 있잖아.', 'original_form': '그 타코집 있잖아.', 'speaker_id': 'SD2100002', 'start': '157.93000', 'end': '160.15000', 'note': '발화겹침'}, {'id': 'SDRW2100000002.1.1.74', 'form': '아 그러네.', 'original_form': '아 그러네.', 'speaker_id': 'SD2100001', 'start': '159.99000', 'end': '161.05000', 'note': '발화겹침'}, {'id': 'SDRW2100000002.1.1.75', 'form': '난 거기도 좋아.', 'original_form': '난 거기도 좋아.', 'speaker_id': 'SD2100002', 'start': '160.97000', 'end': '162.34001', 'note': '발화겹침'}, {'id': 'SDRW2100000002.1.1.76', 'form': '그러면', 'original_form': '그러면', 'speaker_id': 'SD2100001', 'start': '162.74999', 'end': '163.57000', 'note': ''}, {'id': 'SDRW2100000002.1.1.77', 'form': '일단은 우리 후보가', 'original_form': '일단은 우리 후보가', 'speaker_id': 'SD2100001', 'start': '163.92000', 'end': '165.61183', 'note': ''}, {'id': 'SDRW2100000002.1.1.78', 'form': '일식이랑', 'original_form': '일식이랑', 'speaker_id': 'SD2100001', 'start': '165.61183', 'end': '166.84000', 'note': ''}, {'id': 'SDRW2100000002.1.1.79', 'form': '멕시코 식당 거기로 줄여 놓을까?', 'original_form': '멕시코 식당 거기로 쭐여 놓을까?', 'speaker_id': 'SD2100001', 'start': '166.84000', 'end': '169.07001', 'note': ''}, {'id': 'SDRW2100000002.1.1.80', 'form': '그래.', 'original_form': '그래.', 'speaker_id': 'SD2100002', 'start': '169.27000', 'end': '169.88999', 'note': ''}, {'id': 'SDRW2100000002.1.1.81', 'form': '아 근데 내가 찾아보니까 그 멕시코 요릴 파는 게', 'original_form': '아 근데 내가 찾아보니까 그 멕시코 요릴 파는 게', 'speaker_id': 'SD2100001', 'start': '170.18000', 'end': '173.80927', 'note': ''}, {'id': 'SDRW2100000002.1.1.82', 'form': '거기 말고 유명한 데가 하나 더 있었거든.', 'original_form': '거기 말고 유명한 데가 하나 더 있었거든.', 'speaker_id': 'SD2100001', 'start': '173.80927', 'end': '176.18000', 'note': ''}, {'id': 'SDRW2100000002.1.1.83', 'form': '거 응.', 'original_form': '거 응.', 'speaker_id': 'SD2100001', 'start': '176.18000', 'end': '177.08000', 'note': '발화겹침'}, {'id': 'SDRW2100000002.1.1.84', 'form': '혹시 혹시 감성타코야?', 'original_form': '혹시 혹시 감성타코야?', 'speaker_id': 'SD2100002', 'start': '176.19999', 'end': '178.64000', 'note': '발화겹침'}, {'id': 'SDRW2100000002.1.1.85', 'form': '아니 어 그것도 있고 뭔가 하나 더 있었어.', 'original_form': '아니 어 그것도 있고 뭔가 하나 더 있었어.', 'speaker_id': 'SD2100001', 'start': '179.22999', 'end': '181.85697', 'note': ''}, {'id': 'SDRW2100000002.1.1.86', 'form': '프렌차이즈가 아닌 걸로 이따 찾아봐야 되겠다 좀 이따가.', 'original_form': '프렌차이즈가 아닌 걸로 이따 찾아봐야 되겠다 쫌 이따가.', 'speaker_id': 'SD2100001', 'start': '181.85697', 'end': '184.89999', 'note': ''}, {'id': 'SDRW2100000002.1.1.87', 'form': '근데 내가 감성타코를 내 진짜 좋아하는 게', 'original_form': '근데 내가 감성타코를 내 진짜 좋아하는 게', 'speaker_id': 'SD2100002', 'start': '185.19000', 'end': '188.44000', 'note': '발화겹침'}, {'id': 'SDRW2100000002.1.1.88', 'form': '응.', 'original_form': '응.', 'speaker_id': 'SD2100001', 'start': '188.25000', 'end': '188.80000', 'note': '발화겹침'}, {'id': 'SDRW2100000002.1.1.89', 'form': '거기가 이렇게 불에다가', 'original_form': '거기가 이렇게 불에다가', 'speaker_id': 'SD2100002', 'start': '188.99000', 'end': '192.05000', 'note': ''}, {'id': 'SDRW2100000002.1.1.90', 'form': '요리가 있고', 'original_form': '요리가 있고', 'speaker_id': 'SD2100002', 'start': '192.92137', 'end': '194.10217', 'note': '발화겹침'}, {'id': 'SDRW2100000002.1.1.91', 'form': '', 'original_form': '(())', 'speaker_id': 'SD2100001', 'start': '194.02000', 'end': '196.44839', 'note': '발화겹침'}, {'id': 'SDRW2100000002.1.1.92', 'form': '그거를 내가 하나씩 싸 먹는 건데. 토', 'original_form': '그거를 내가 하나씩 싸 먹는 건데. -토-', 'speaker_id': 'SD2100002', 'start': '194.10217', 'end': '196.82000', 'note': '발화겹침'}, {'id': 'SDRW2100000002.1.1.93', 'form': '', 'original_form': '(())', 'speaker_id': 'SD2100001', 'start': '194.54000', 'end': '196.44839', 'note': '발화겹침'}, {'id': 'SDRW2100000002.1.1.94', 'form': '음', 'original_form': '음', 'speaker_id': 'SD2100001', 'start': '196.21000', 'end': '197.69000', 'note': '발화겹침'}, {'id': 'SDRW2100000002.1.1.95', 'form': '또띠아에다가', 'original_form': '또띠아에다가', 'speaker_id': 'SD2100002', 'start': '196.82000', 'end': '198.44000', 'note': '발화겹침'}, {'id': 'SDRW2100000002.1.1.96', 'form': '새우랑 고기랑', 'original_form': '새우랑 고기랑', 'speaker_id': 'SD2100002', 'start': '198.53000', 'end': '200.37000', 'note': ''}, {'id': 'SDRW2100000002.1.1.97', 'form': '막 양파랑 이런 거', 'original_form': '막 양파랑 이런 거', 'speaker_id': 'SD2100002', 'start': '200.87000', 'end': '203.05000', 'note': ''}, {'id': 'SDRW2100000002.1.1.98', 'form': '올려 가지고 소스를 쪼금 찍어서', 'original_form': '올려 가지고 소스를 쪼금 찍어서', 'speaker_id': 'SD2100002', 'start': '203.15000', 'end': '206.36411', 'note': ''}, {'id': 'SDRW2100000002.1.1.99', 'form': '먹는 건데 그게 진짜 맛있단 말이야.', 'original_form': '먹는 건데 그게 진짜 맛있단 말이야.', 'speaker_id': 'SD2100002', 'start': '206.36411', 'end': '209.51000', 'note': '발화겹침'}, {'id': 'SDRW2100000002.1.1.100', 'form': '응.', 'original_form': '응.', 'speaker_id': 'SD2100001', 'start': '209.11001', 'end': '209.90000', 'note': '발화겹침'}, {'id': 'SDRW2100000002.1.1.101', 'form': '그걸 내가', 'original_form': '그걸 내가', 'speaker_id': 'SD2100002', 'start': '209.82000', 'end': '211.07000', 'note': '발화겹침'}, {'id': 'SDRW2100000002.1.1.102', 'form': '재작년에 처음 먹었어.', 'original_form': '재작년에 처음 먹었어.', 'speaker_id': 'SD2100002', 'start': '211.25000', 'end': '213.14192', 'note': ''}, {'id': 'SDRW2100000002.1.1.103', 'form': '그렇게', 'original_form': '그렇게', 'speaker_id': 'SD2100002', 'start': '213.14192', 'end': '213.76200', 'note': ''}, {'id': 'SDRW2100000002.1.1.104', 'form': '파히타라는 거를', 'original_form': '파히타라는 거를', 'speaker_id': 'SD2100002', 'start': '213.76200', 'end': '215.52999', 'note': '발화겹침'}, {'id': 'SDRW2100000002.1.1.105', 'form': '으 응.', 'original_form': '으 응.', 'speaker_id': 'SD2100001', 'start': '215.04000', 'end': '215.74000', 'note': '발화겹침'}, {'id': 'SDRW2100000002.1.1.106', 'form': '그래서 그때 너무 맛있는 거야.', 'original_form': '그래서 그때 너무 맛있는 거야.', 'speaker_id': 'SD2100002', 'start': '215.94079', 'end': '218.39000', 'note': ''}, {'id': 'SDRW2100000002.1.1.107', 'form': '그래서', 'original_form': '그래서', 'speaker_id': 'SD2100002', 'start': '218.91000', 'end': '219.54942', 'note': ''}, {'id': 'SDRW2100000002.1.1.108', 'form': '계속 그걸 맛있다라고 생각하고 있다가', 'original_form': '계속 그걸 맛있다라고 생각하고 있다가', 'speaker_id': 'SD2100002', 'start': '219.54942', 'end': '223.12000', 'note': ''}, {'id': 'SDRW2100000002.1.1.109', 'form': '그', 'original_form': '그', 'speaker_id': 'SD2100002', 'start': '223.82332', 'end': '224.62871', 'note': ''}, {'id': 'SDRW2100000002.1.1.110', 'form': '때 그 재작년에 name2이랑 name3이랑', 'original_form': '때 그 재작년에 &name2&이랑 &name3&이랑', 'speaker_id': 'SD2100002', 'start': '225.67671', 'end': '229.26000', 'note': ''}, {'id': 'SDRW2100000002.1.1.111', 'form': '또 감성타코를 데려가 가지고', 'original_form': '또 감성타코를 데려가 가지고', 'speaker_id': 'SD2100002', 'start': '229.61000', 'end': '232.31800', 'note': ''}, {'id': 'SDRW2100000002.1.1.112', 'form': '그걸 먹었거든.', 'original_form': '그걸 먹었거든.', 'speaker_id': 'SD2100002', 'start': '232.31800', 'end': '233.59000', 'note': '발화겹침'}, {'id': 'SDRW2100000002.1.1.113', 'form': '응.', 'original_form': '응.', 'speaker_id': 'SD2100001', 'start': '233.40000', 'end': '233.95000', 'note': '발화겹침'}, {'id': 'SDRW2100000002.1.1.114', 'form': '근데', 'original_form': '근데', 'speaker_id': 'SD2100002', 'start': '234.11905', 'end': '235.04001', 'note': ''}, {'id': 'SDRW2100000002.1.1.115', 'form': '나는 그게 너무 맛있었는데.', 'original_form': '나는 그게 너무 맛있었는데.', 'speaker_id': 'SD2100002', 'start': '235.28000', 'end': '237.71600', 'note': ''}, {'id': 'SDRW2100000002.1.1.116', 'form': 'name3이가', 'original_form': '&name3&이가', 'speaker_id': 'SD2100002', 'start': '237.71600', 'end': '238.75000', 'note': ''}, {'id': 'SDRW2100000002.1.1.117', 'form': '갑자기 맥주 시키자고 해 가지고', 'original_form': '{clearing} 갑자기 맥주 시키자고 해 가지고', 'speaker_id': 'SD2100002', 'start': '238.91000', 'end': '241.66000', 'note': '발화겹침'}, {'id': 'SDRW2100000002.1.1.118', 'form': '', 'original_form': '{laughing}', 'speaker_id': 'SD2100001', 'start': '240.69000', 'end': '241.96001', 'note': '발화겹침'}, {'id': 'SDRW2100000002.1.1.119', 'form': '낮이었는데?', 'original_form': '낮이었는데?', 'speaker_id': 'SD2100001', 'start': '242.44548', 'end': '243.62000', 'note': ''}, {'id': 'SDRW2100000002.1.1.120', 'form': '아니 저녁이었어.', 'original_form': '아니 저녁이었어.', 'speaker_id': 'SD2100002', 'start': '244.12212', 'end': '245.82000', 'note': '발화겹침'}, {'id': 'SDRW2100000002.1.1.121', 'form': '아 저녁에 어.', 'original_form': '아 저녁에 어.', 'speaker_id': 'SD2100001', 'start': '244.81001', 'end': '246.10999', 'note': '발화겹침'}, {'id': 'SDRW2100000002.1.1.122', 'form': '그래 가지고 그걸 먹었어.', 'original_form': '그래 가지고 그걸 먹었어.', 'speaker_id': 'SD2100002', 'start': '247.66000', 'end': '249.79000', 'note': ''}, {'id': 'SDRW2100000002.1.1.123', 'form': '아 맥주도 먹었어 결국엔?', 'original_form': '아 맥주도 먹었어 결국엔?', 'speaker_id': 'SD2100001', 'start': '250.25000', 'end': '251.94999', 'note': ''}, {'id': 'SDRW2100000002.1.1.124', 'form': '근데 나는 감성타코 한번도 가 본 적 없는데.', 'original_form': '근데 나는 감성타코 한번도 가 본 적 없는데.', 'speaker_id': 'SD2100001', 'start': '252.82344', 'end': '256.28344', 'note': ''}, {'id': 'SDRW2100000002.1.1.125', 'form': '그 환승 연애에서 너 봤어 최근 화?', 'original_form': '그 환승 연애에서 너 봤어 최근 화?', 'speaker_id': 'SD2100001', 'start': '256.28344', 'end': '259.28000', 'note': '발화겹침'}, {'id': 'SDRW2100000002.1.1.126', 'form': '어 봤지.', 'original_form': '어 봤지.', 'speaker_id': 'SD2100002', 'start': '259.21000', 'end': '260.32999', 'note': '발화겹침'}, {'id': 'SDRW2100000002.1.1.127', 'form': '그 name4랑 그 되게 예쁜 언니 name5씨랑', 'original_form': '그 &name4&랑 그 되게 예쁜 언니 &name5&씨랑', 'speaker_id': 'SD2100001', 'start': '259.98954', 'end': '263.89068', 'note': '발화겹침'}, {'id': 'SDRW2100000002.1.1.128', 'form': '거기 가는데', 'original_form': '거기 가는데', 'speaker_id': 'SD2100001', 'start': '263.89068', 'end': '264.81880', 'note': ''}, {'id': 'SDRW2100000002.1.1.129', 'form': '그냥 그것만 생각나는 거야 감성타코 얘기를 들으면.', 'original_form': '그냥 그것만 생각나는 거야 감성타코 얘기를 들으면.', 'speaker_id': 'SD2100001', 'start': '264.81880', 'end': '268.89700', 'note': ''}, {'id': 'SDRW2100000002.1.1.130', 'form': '그래 가지고', 'original_form': '그래 가지고', 'speaker_id': 'SD2100001', 'start': '268.89700', 'end': '270.08000', 'note': ''}, {'id': 'SDRW2100000002.1.1.131', 'form': '네가 말한 것도 약간 그 장면 생각하면서', 'original_form': '니가 말한 것도 약간 그 장면 생각하면서', 'speaker_id': 'SD2100001', 'start': '270.08000', 'end': '272.89577', 'note': ''}, {'id': 'SDRW2100000002.1.1.132', 'form': '생각하긴 했는데 맛있긴 하겠다.', 'original_form': '생각하긴 했는데 맛있긴 하겠다.', 'speaker_id': 'SD2100001', 'start': '272.89577', 'end': '275.07899', 'note': ''}, {'id': 'SDRW2100000002.1.1.133', 'form': '근데 거기 음식이 다 뭔가', 'original_form': '근데 거기 음식이 다 뭔가', 'speaker_id': 'SD2100002', 'start': '276.08900', 'end': '279.70901', 'note': ''}, {'id': 'SDRW2100000002.1.1.134', 'form': '좀', 'original_form': '쫌', 'speaker_id': 'SD2100002', 'start': '280.77899', 'end': '281.61000', 'note': ''}, {'id': 'SDRW2100000002.1.1.135', 'form': '프렌차이즈가 많았어.', 'original_form': '프렌차이즈가 많았어.', 'speaker_id': 'SD2100002', 'start': '282.09500', 'end': '284.25899', 'note': ''}, {'id': 'SDRW2100000002.1.1.136', 'form': '하나가 감성타코고', 'original_form': '하나가 감성타코고', 'speaker_id': 'SD2100002', 'start': '284.49000', 'end': '286.23315', 'note': ''}, {'id': 'SDRW2100000002.1.1.137', 'form': '하나가 북창동 순두부였잖아.', 'original_form': '하나가 북창동 순두부였잖아.', 'speaker_id': 'SD2100002', 'start': '286.23315', 'end': '288.94899', 'note': '발화겹침'}, {'id': 'SDRW2100000002.1.1.138', 'form': '아 맞아 맞아.', 'original_form': '아 맞아 맞아.', 'speaker_id': 'SD2100001', 'start': '288.27900', 'end': '289.54899', 'note': '발화겹침'}, {'id': 'SDRW2100000002.1.1.139', 'form': '그래 내가 그 지나가면서 되게 많이 봐 가지고', 'original_form': '그래 내가 그 지나가면서 되게 많이 봐 가지고', 'speaker_id': 'SD2100002', 'start': '289.63987', 'end': '292.79000', 'note': ''}, {'id': 'SDRW2100000002.1.1.140', 'form': '좀 약간 어디서 데이트 했는지 알겠다 싶은 그게', 'original_form': '쫌 약간 어디서 데이트 했는지 알겠다 싶은 그게', 'speaker_id': 'SD2100001', 'start': '294.67899', 'end': '298.31634', 'note': ''}, {'id': 'SDRW2100000002.1.1.141', 'form': '목록들이 나오지 않아 뭔가?', 'original_form': '목록들이 나오지 않아 뭔가?', 'speaker_id': 'SD2100001', 'start': '298.31634', 'end': '300.04901', 'note': ''}, {'id': 'SDRW2100000002.1.1.142', 'form': '근데 너라면은 감성타코 고를 거야', 'original_form': '근데 너라면은 감성타코 고를 거야', 'speaker_id': 'SD2100002', 'start': '300.06899', 'end': '302.98651', 'note': ''}, {'id': 'SDRW2100000002.1.1.143', 'form': '북창동 순두부 고를 거야 아니면 그 막', 'original_form': '북창동 순두부 고를 거야 아니면 그 막', 'speaker_id': 'SD2100002', 'start': '302.98651', 'end': '306.15901', 'note': ''}, {'id': 'SDRW2100000002.1.1.144', 'form': '그 횟집?', 'original_form': '그 횟집?', 'speaker_id': 'SD2100001', 'start': '306.74901', 'end': '307.53901', 'note': '발화겹침'}, {'id': 'SDRW2100000002.1.1.145', 'form': '어 고를 거야?', 'original_form': '어 고를 거야?', 'speaker_id': 'SD2100002', 'start': '307.40901', 'end': '309.06901', 'note': '발화겹침'}, {'id': 'SDRW2100000002.1.1.146', 'form': '그냥 그 리스트만 보고', 'original_form': '그냥 그 리스트만 보고', 'speaker_id': 'SD2100001', 'start': '309.08900', 'end': '310.86900', 'note': ''}, {'id': 'SDRW2100000002.1.1.147', 'form': '그 메뉴만 딱 고른다고 했을 때?', 'original_form': '그 메뉴만 딱 고른다고 했을 때?', 'speaker_id': 'SD2100001', 'start': '310.86900', 'end': '313.04901', 'note': ''}, {'id': 'SDRW2100000002.1.1.148', 'form': '어.', 'original_form': '어.', 'speaker_id': 'SD2100002', 'start': '313.33899', 'end': '313.95901', 'note': ''}, {'id': 'SDRW2100000002.1.1.149', 'form': '나는 나는 그 횟집', 'original_form': '나는 나는 그 횟집', 'speaker_id': 'SD2100001', 'start': '314.18899', 'end': '316.24901', 'note': ''}, {'id': 'SDRW2100000002.1.1.150', 'form': '횟집?', 'original_form': '횟집?', 'speaker_id': 'SD2100002', 'start': '316.26900', 'end': '316.93901', 'note': '발화겹침'}, {'id': 'SDRW2100000002.1.1.151', 'form': '어 아니 왜냐하면 회가 일단 제일', 'original_form': '어 아니 왜냐하면 회가 일단 제일', 'speaker_id': 'SD2100001', 'start': '316.62659', 'end': '319.51900', 'note': '발화겹침'}, {'id': 'SDRW2100000002.1.1.152', 'form': '비싸잖아.', 'original_form': '비싸잖아.', 'speaker_id': 'SD2100001', 'start': '320.23892', 'end': '321.32240', 'note': ''}, {'id': 'SDRW2100000002.1.1.153', 'form': '아이 그래도 이렇게 얘기하면 좀 속물 같긴 한데', 'original_form': '아이 그래도 이렇게 얘기하면 쫌 속물 같긴 한데', 'speaker_id': 'SD2100001', 'start': '321.32240', 'end': '323.91291', 'note': ''}, {'id': 'SDRW2100000002.1.1.154', 'form': '그것도 어차피 제작비에서 지원 나오는 거 아니야?', 'original_form': '그것도 어차피 제작비에서 {laughing} 지원 나오는 거 아니야?', 'speaker_id': 'SD2100001', 'start': '323.91291', 'end': '326.43615', 'note': ''}, {'id': 'SDRW2100000002.1.1.155', 'form': '그러면 가장 맛있는 걸 먹으러 가야지.', 'original_form': '그러면 가장 맛있는 걸 먹으러 가야지.', 'speaker_id': 'SD2100001', 'start': '326.43615', 'end': '328.94000', 'note': '발화겹침'}, {'id': 'SDRW2100000002.1.1.156', 'form': '그럼 만약에 네가 내는 거면?', 'original_form': '((그럼)) 만약에 너가 내는 거면?', 'speaker_id': 'SD2100002', 'start': '328.80899', 'end': '330.70901', 'note': '발화겹침'}, {'id': 'SDRW2100000002.1.1.157', 'form': '아니 그냥 이왕 먹을 거면 그래도 횟집을 갈 것 같아.', 'original_form': '아니 그냥 이왕 먹을 거면 그래도 횟집을 갈 것 같애.', 'speaker_id': 'SD2100001', 'start': '331.80899', 'end': '335.21397', 'note': ''}, {'id': 'SDRW2100000002.1.1.158', 'form': 'company-name1 company-name1를 갈 것 같아.', 'original_form': '&company-name1& &company-name1&를 갈 것 같애.', 'speaker_id': 'SD2100001', 'start': '335.21397', 'end': '337.23900', 'note': ''}, {'id': 'SDRW2100000002.1.1.159', 'form': '회가 맛있지.', 'original_form': '회가 맛있지.', 'speaker_id': 'SD2100001', 'start': '337.72033', 'end': '338.82900', 'note': '발화겹침'}, {'id': 'SDRW2100000002.1.1.160', 'form': '음 나도 회 좋아해.', 'original_form': '음~ 나도 회 좋아해.', 'speaker_id': 'SD2100002', 'start': '338.72899', 'end': '340.56899', 'note': '발화겹침'}, {'id': 'SDRW2100000002.1.1.161', 'form': '맞아 회 아 누가 회 못 먹는다 그랬었지?', 'original_form': '맞아 회 아 누가 회 못 먹는다 그랬었지?', 'speaker_id': 'SD2100001', 'start': '341.54900', 'end': '344.58883', 'note': ''}, {'id': 'SDRW2100000002.1.1.162', 'form': '너', 'original_form': '너', 'speaker_id': 'SD2100002', 'start': '342.30900', 'end': '342.85899', 'note': '발화겹침'}, {'id': 'SDRW2100000002.1.1.163', 'form': 'name6이가 못 먹는다 그랬었나?', 'original_form': '&name6&이가 못 먹는다 그랬었나?', 'speaker_id': 'SD2100001', 'start': '344.58883', 'end': '346.46900', 'note': ''}, {'id': 'SDRW2100000002.1.1.164', 'form': 'name6이가 그 생을 못 먹는다 그랬어.', 'original_form': '&name6&이가 그 쌩을 못 먹는다 그랬어.', 'speaker_id': 'SD2100002', 'start': '348.34696', 'end': '351.62900', 'note': '발화겹침'}, {'id': 'SDRW2100000002.1.1.165', 'form': '음', 'original_form': '음', 'speaker_id': 'SD2100001', 'start': '351.46900', 'end': '352.46900', 'note': '발화겹침'}, {'id': 'SDRW2100000002.1.1.166', 'form': '그래서 우리가 그때', 'original_form': '그래서 우리가 그때', 'speaker_id': 'SD2100002', 'start': '352.24000', 'end': '353.72901', 'note': '발화겹침'}, {'id': 'SDRW2100000002.1.1.167', 'form': '연어를', 'original_form': '연어를', 'speaker_id': 'SD2100002', 'start': '354.52153', 'end': '355.86899', 'note': ''}, {'id': 'SDRW2100000002.1.1.168', 'form': '그 훈제 연어를 시키지 않았어 연어 스테이크?', 'original_form': '그 훈제 연어를 시키지 않았어 연어 스테이크?', 'speaker_id': 'SD2100002', 'start': '356.63000', 'end': '360.04901', 'note': ''}, {'id': 'SDRW2100000002.1.1.169', 'form': '아 맞다 맞다.', 'original_form': '아 맞다 맞다.', 'speaker_id': 'SD2100001', 'start': '360.06899', 'end': '361.58901', 'note': ''}, {'id': 'SDRW2100000002.1.1.170', 'form': '그러면 우리 오늘 그냥 초밥 먹을래?', 'original_form': '그러면 우리 오늘 그냥 초밥 먹을래?', 'speaker_id': 'SD2100001', 'start': '362.65901', 'end': '364.88000', 'note': ''}, {'id': 'SDRW2100000002.1.1.171', 'form': '그래.', 'original_form': '그래.', 'speaker_id': 'SD2100002', 'start': '365.27900', 'end': '365.83900', 'note': ''}, {'id': 'SDRW2100000002.1.1.172', 'form': '아 근데 여름에는 초밥 좀 그런가?', 'original_form': '아 근데 여름에는 초밥 좀 그런가?', 'speaker_id': 'SD2100001', 'start': '366.01000', 'end': '368.27899', 'note': ''}, {'id': 'SDRW2100000002.1.1.173', 'form': '아니 근데 나는 솔직히', 'original_form': '아니 근데 나는 솔직히', 'speaker_id': 'SD2100002', 'start': '369.73901', 'end': '373.02899', 'note': ''}, {'id': 'SDRW2100000002.1.1.174', 'form': '잘 잘 모르겠어.', 'original_form': '-잘- 잘 모르겠어.', 'speaker_id': 'SD2100002', 'start': '373.63000', 'end': '376.21901', 'note': ''}, {'id': 'SDRW2100000002.1.1.175', 'form': '그 여름에 날 요리 이런 거 먹어도 괜찮아?', 'original_form': '그 여름에 날 요리 이런 거 먹어도 괜찮아?', 'speaker_id': 'SD2100001', 'start': '376.32000', 'end': '379.67900', 'note': ''}, {'id': 'SDRW2100000002.1.1.176', 'form': '어 나는 뭐 딱히 그런 적이 없어 가지고.', 'original_form': '어 나는 뭐 딱히 그런 적이 없어 가지고.', 'speaker_id': 'SD2100002', 'start': '380.02900', 'end': '383.61899', 'note': ''}, {'id': 'SDRW2100000002.1.1.177', 'form': '어.', 'original_form': '어.', 'speaker_id': 'SD2100001', 'start': '381.71900', 'end': '382.95899', 'note': '발화겹침'}, {'id': 'SDRW2100000002.1.1.178', 'form': '약간 우리집만의 문환가?', 'original_form': '약간 우리집만의 문환가?', 'speaker_id': 'SD2100001', 'start': '384.23899', 'end': '386.16764', 'note': ''}, {'id': 'SDRW2100000002.1.1.179', 'form': '우리집은 약간 아 날 더워지면', 'original_form': '우리집은 약간 아 날 더워지면', 'speaker_id': 'SD2100001', 'start': '386.16764', 'end': '388.02710', 'note': ''}, {'id': 'SDRW2100000002.1.1.180', 'form': '회랑 초밥은 안 된다 이 주의여가지고 막', 'original_form': '회랑 초밥은 안 된다 이 주의여가지고 막', 'speaker_id': 'SD2100001', 'start': '388.02710', 'end': '390.71899', 'note': '발화겹침'}, {'id': 'SDRW2100000002.1.1.181', 'form': '근데 그게 맞기는 해.', 'original_form': '근데 그게 맞기는 해.', 'speaker_id': 'SD2100002', 'start': '390.24000', 'end': '391.88900', 'note': '발화겹침'}, {'id': 'SDRW2100000002.1.1.182', 'form': '맞아 약간 좀 안전한 그게 있지 어 너 그거 들었어?', 'original_form': '((맞아)) 약간 좀 안전한 그게 있지 어 너 그거 들었어?', 'speaker_id': 'SD2100001', 'start': '392.05901', 'end': '394.98424', 'note': ''}, {'id': 'SDRW2100000002.1.1.183', 'form': '분당 김밥집 식중독 사건?', 'original_form': '분당 김밥집 식중독 사건?', 'speaker_id': 'SD2100001', 'start': '394.98424', 'end': '397.30900', 'note': ''}, {'id': 'SDRW2100000002.1.1.184', 'form': '아니.', 'original_form': '아니.', 'speaker_id': 'SD2100002', 'start': '397.71901', 'end': '398.36899', 'note': ''}, {'id': 'SDRW2100000002.1.1.185', 'form': '그 분당인가 그냥 성남인지 모르겠는데', 'original_form': '그 분당인가 그냥 성남인지 모르겠는데', 'speaker_id': 'SD2100001', 'start': '398.71900', 'end': '402.18900', 'note': ''}, {'id': 'SDRW2100000002.1.1.186', 'form': '왠 김밥 집에서 김밥 사다 먹은 사람들이 한 40명인가가', 'original_form': '왠 김밥 집에서 김밥 사다 먹은 사람들이 한 사십 명인가가', 'speaker_id': 'SD2100001', 'start': '402.34000', 'end': '405.71402', 'note': ''}, {'id': 'SDRW2100000002.1.1.187', 'form': '다 엄청 심하게 식중독 걸린 거야.', 'original_form': '다 엄청 심하게 식중독 걸린 거야.', 'speaker_id': 'SD2100001', 'start': '405.71402', 'end': '408.08901', 'note': ''}, {'id': 'SDRW2100000002.1.1.188', 'form': '그래 가지고 막 기사 나왔었는데', 'original_form': '그래 가주구 막 기사 나왔었는데', 'speaker_id': 'SD2100001', 'start': '408.34500', 'end': '410.64900', 'note': ''}, {'id': 'SDRW2100000002.1.1.189', 'form': '나 근데', 'original_form': '나 근데', 'speaker_id': 'SD2100002', 'start': '411.14900', 'end': '412.65000', 'note': ''}, {'id': 'SDRW2100000002.1.1.190', 'form': '내 옛날에 오빠가 자취하기 전에', 'original_form': '내 옛날에 오빠가 자취하기 전에', 'speaker_id': 'SD2100002', 'start': '413.01663', 'end': '416.03900', 'note': ''}, {'id': 'SDRW2100000002.1.1.191', 'form': '응.', 'original_form': '응.', 'speaker_id': 'SD2100001', 'start': '414.49899', 'end': '415.17000', 'note': '발화겹침'}, {'id': 'SDRW2100000002.1.1.192', 'form': '우리집에서 이제 연구소 다녔단 말이야.', 'original_form': '우리집에서 이제 연구소 다녔단 말이야.', 'speaker_id': 'SD2100002', 'start': '416.31000', 'end': '419.84700', 'note': '발화겹침'}, {'id': 'SDRW2100000002.1.1.193', 'form': '응 응.', 'original_form': '응 응.', 'speaker_id': 'SD2100001', 'start': '419.41901', 'end': '420.11899', 'note': '발화겹침'}, {'id': 'SDRW2100000002.1.1.194', 'form': '근데 거기서 언제 하루는', 'original_form': '근데 거기서 언제 하루는', 'speaker_id': 'SD2100002', 'start': '419.84700', 'end': '423.05899', 'note': '발화겹침'}, {'id': 'SDRW2100000002.1.1.195', 'form': '포케를 다 나눠줬어.', 'original_form': '포케를 다 나눠줬어.', 'speaker_id': 'SD2100002', 'start': '423.28000', 'end': '425.50000', 'note': '발화겹침'}, {'id': 'SDRW2100000002.1.1.196', 'form': '응.', 'original_form': '응.', 'speaker_id': 'SD2100001', 'start': '425.32901', 'end': '425.87900', 'note': '발화겹침'}, {'id': 'SDRW2100000002.1.1.197', 'form': '근데 오빠가 두 개를 받아 가지고', 'original_form': '근데 오빠가 두 개를 받아 가지고', 'speaker_id': 'SD2100002', 'start': '425.68000', 'end': '428.30899', 'note': '발화겹침'}, {'id': 'SDRW2100000002.1.1.198', 'form': '그냥 집에 와서 나랑 같이 먹었거든.', 'original_form': '그냥 집에 와서 나랑 같이 먹었거든.', 'speaker_id': 'SD2100002', 'start': '428.59000', 'end': '430.74899', 'note': ''}, {'id': 'SDRW2100000002.1.1.199', 'form': '근데 알고 보니까 그거 먹은 사람', 'original_form': '근데 알고 보니까 그거 먹은 사람', 'speaker_id': 'SD2100002', 'start': '430.98000', 'end': '433.65677', 'note': ''}, {'id': 'SDRW2100000002.1.1.200', 'form': '다 식중독 걸린 거야.', 'original_form': '다 식중독 걸린 거야.', 'speaker_id': 'SD2100002', 'start': '433.65677', 'end': '435.74901', 'note': ''}, {'id': 'SDRW2100000002.1.1.201', 'form': '진짜?', 'original_form': '진짜?', 'speaker_id': 'SD2100001', 'start': '435.82899', 'end': '437.42900', 'note': '발화겹침'}, {'id': 'SDRW2100000002.1.1.202', 'form': '어 근데 그걸 먹은 외부인이 나밖에 없었어.', 'original_form': '어 근데 그걸 먹은 외부인이 나밖에 없었어.', 'speaker_id': 'SD2100002', 'start': '436.32000', 'end': '440.12901', 'note': '발화겹침'}, {'id': 'SDRW2100000002.1.1.203', 'form': '헐', 'original_form': '헐', 'speaker_id': 'SD2100001', 'start': '440.14900', 'end': '446.26272', 'note': '발화겹침'}, {'id': 'SDRW2100000002.1.1.204', 'form': '그래 가지고', 'original_form': '그래 가지고', 'speaker_id': 'SD2100002', 'start': '440.69000', 'end': '441.75017', 'note': '발화겹침'}, {'id': 'SDRW2100000002.1.1.205', 'form': '헐', 'original_form': '헐', 'speaker_id': 'SD2100001', 'start': '440.81901', 'end': '446.26272', 'note': '발화겹침'}, {'id': 'SDRW2100000002.1.1.206', 'form': '나는 이제 연구소 사람이 아니니까', 'original_form': '나는 이제 연구소 사람이 아니니까', 'speaker_id': 'SD2100002', 'start': '441.75017', 'end': '444.83776', 'note': '발화겹침'}, {'id': 'SDRW2100000002.1.1.207', 'form': '그 사실을 모르고 있었어. 근데 막 계속', 'original_form': '그 사실을 모르고 있었어. 근데 막 계속', 'speaker_id': 'SD2100002', 'start': '444.83776', 'end': '447.34000', 'note': '발화겹침'}, {'id': 'SDRW2100000002.1.1.208', 'form': '배 아프고', 'original_form': '배 아프고', 'speaker_id': 'SD2100001', 'start': '447.50988', 'end': '448.82899', 'note': '발화겹침'}, {'id': 'SDRW2100000002.1.1.209', 'form': '배 아프고 계속', 'original_form': '배 아프고 계속', 'speaker_id': 'SD2100002', 'start': '447.59901', 'end': '449.00000', 'note': '발화겹침'}, {'id': 'SDRW2100000002.1.1.210', 'form': '나 그 때 고3이었는데 막', 'original_form': '나 그 때 고 삼이었는데 막', 'speaker_id': 'SD2100002', 'start': '449.49000', 'end': '451.39000', 'note': '발화겹침'}, {'id': 'SDRW2100000002.1.1.211', 'form': '어.', 'original_form': '어.', 'speaker_id': 'SD2100001', 'start': '450.58900', 'end': '451.82899', 'note': '발화겹침'}, {'id': 'SDRW2100000002.1.1.212', 'form': '막 계속 왔다 갔 화장실 계속 왔다 갔다 하고', 'original_form': '막 계속 왔다 갔 화장실 계속 왔다 갔다 하고', 'speaker_id': 'SD2100002', 'start': '451.73000', 'end': '455.45900', 'note': '발화겹침'}, {'id': 'SDRW2100000002.1.1.213', 'form': '그러다가 나중에 알아 가지고', 'original_form': '그러다가 나중에 알아 가지고', 'speaker_id': 'SD2100002', 'start': '455.63000', 'end': '458.01899', 'note': ''}, {'id': 'SDRW2100000002.1.1.214', 'form': '연구소 사람들은 다 약간', 'original_form': '연구소 사람들은 다 약간', 'speaker_id': 'SD2100002', 'start': '458.42000', 'end': '460.68598', 'note': ''}, {'id': 'SDRW2100000002.1.1.215', 'form': '보상 같은 거 해 줬대.', 'original_form': '보상 같은 거 해 줬대.', 'speaker_id': 'SD2100002', 'start': '460.68598', 'end': '462.66000', 'note': '발화겹침'}, {'id': 'SDRW2100000002.1.1.216', 'form': '응.', 'original_form': '응.', 'speaker_id': 'SD2100001', 'start': '462.30899', 'end': '463.63901', 'note': '발화겹침'}, {'id': 'SDRW2100000002.1.1.217', 'form': '막 뭐 병원비라든가', 'original_form': '막 뭐 병원비라던가', 'speaker_id': 'SD2100002', 'start': '462.79901', 'end': '465.25900', 'note': '발화겹침'}, {'id': 'SDRW2100000002.1.1.218', 'form': '근데 난 아무것도 못 받았어.', 'original_form': '근데 난 아무것도 못 받았어.', 'speaker_id': 'SD2100002', 'start': '465.55000', 'end': '467.27000', 'note': '발화겹침'}, {'id': 'SDRW2100000002.1.1.219', 'form': '그냥 그렇게 끝났어?', 'original_form': '그냥 그렇게 끝났어?', 'speaker_id': 'SD2100001', 'start': '467.13901', 'end': '468.37900', 'note': '발화겹침'}, {'id': 'SDRW2100000002.1.1.220', 'form': '응.', 'original_form': '응.', 'speaker_id': 'SD2100002', 'start': '468.24899', 'end': '468.82901', 'note': '발화겹침'}, {'id': 'SDRW2100000002.1.1.221', 'form': '흐이', 'original_form': '흐이', 'speaker_id': 'SD2100001', 'start': '468.58000', 'end': '469.82000', 'note': '발화겹침'}, {'id': 'SDRW2100000002.1.1.222', 'form': '그냥 좀 아프고 끝났어 내가 그때', 'original_form': '그냥 좀 아프고 끝났어 내가 그때', 'speaker_id': 'SD2100002', 'start': '469.33000', 'end': '472.18900', 'note': '발화겹침'}, {'id': 'SDRW2100000002.1.1.223', 'form': '좀 아픈 게 아니었던 거 같은데?', 'original_form': '쫌 아픈 게 아니었던 거 같은데?', 'speaker_id': 'SD2100001', 'start': '471.05103', 'end': '473.17899', 'note': '발화겹침'}, {'id': 'SDRW2100000002.1.1.224', 'form': '그때 처음으로 장염', 'original_form': '그때 처음으로 장염', 'speaker_id': 'SD2100002', 'start': '472.46000', 'end': '474.55899', 'note': '발화겹침'}, {'id': 'SDRW2100000002.1.1.225', 'form': '두 번짼가 두 번째로 장염에 걸린 건데', 'original_form': '두 번짼가 두 번째로 장염에 걸린 건데', 'speaker_id': 'SD2100002', 'start': '474.95319', 'end': '477.91901', 'note': '발화겹침'}, {'id': 'SDRW2100000002.1.1.226', 'form': '어.', 'original_form': '어.', 'speaker_id': 'SD2100001', 'start': '477.69901', 'end': '478.75900', 'note': '발화겹침'}, {'id': 'SDRW2100000002.1.1.227', 'form': '진짜', 'original_form': '진짜', 'speaker_id': 'SD2100002', 'start': '479.55899', 'end': '480.53900', 'note': ''}, {'id': 'SDRW2100000002.1.1.228', 'form': '힘들었겠다.', 'original_form': '힘들었겠다.', 'speaker_id': 'SD2100001', 'start': '480.97900', 'end': '481.88900', 'note': '발화겹침'}, {'id': 'SDRW2100000002.1.1.229', 'form': '어.', 'original_form': '어.', 'speaker_id': 'SD2100002', 'start': '481.72900', 'end': '482.27899', 'note': '발화겹침'}, {'id': 'SDRW2100000002.1.1.230', 'form': '야 그러면 일단은 초밥이랑 회는 메뉴에서 빼자.', 'original_form': '야 그러면 일단은 초밥이랑 {laughing} 회는 메뉴에서 빼자.', 'speaker_id': 'SD2100001', 'start': '483.10900', 'end': '486.09661', 'note': ''}, {'id': 'SDRW2100000002.1.1.231', 'form': '지금 그 얘기를 듣고 먹을 수는 없을 것 같아.', 'original_form': '짐 그 얘기를 듣고 먹을 수는 없을 것 같애.', 'speaker_id': 'SD2100001', 'start': '486.09661', 'end': '488.94000', 'note': ''}, {'id': 'SDRW2100000002.1.1.232', 'form': '아 근데 난 그래도 일단 열어 두는 게 좋다고 봐.', 'original_form': '아 근데 난 그래도 일단 열어 두는 게 좋다고 봐.', 'speaker_id': 'SD2100002', 'start': '489.00901', 'end': '492.86899', 'note': ''}, {'id': 'SDRW2100000002.1.1.233', 'form': '아 모든 음식에 대해 관대한 거야?. 아', 'original_form': '아 모든 음식에 대해 관대한 거야?. 아', 'speaker_id': 'SD2100001', 'start': '492.97901', 'end': '495.74900', 'note': '발화겹침'}, {'id': 'SDRW2100000002.1.1.234', 'form': '', 'original_form': '(())', 'speaker_id': 'SD2100002', 'start': '493.40000', 'end': '495.21156', 'note': '발화겹침'}, {'id': 'SDRW2100000002.1.1.235', 'form': '', 'original_form': '(())', 'speaker_id': 'SD2100002', 'start': '494.90900', 'end': '495.21156', 'note': '발화겹침'}, {'id': 'SDRW2100000002.1.1.236', 'form': '난 다 좋아.', 'original_form': '난 다 좋아.', 'speaker_id': 'SD2100002', 'start': '495.03000', 'end': '496.13901', 'note': '발화겹침'}, {'id': 'SDRW2100000002.1.1.237', 'form': '그러면 좀 정리를 해 보자 지금 뭐 뭐 나왔지?', 'original_form': '그러면 좀 정리를 해 보자 지금 뭐 뭐 나왔지?', 'speaker_id': 'SD2100001', 'start': '496.75901', 'end': '499.83899', 'note': ''}, {'id': 'SDRW2100000002.1.1.238', 'form': '메뉴가', 'original_form': '메뉴가', 'speaker_id': 'SD2100001', 'start': '499.83899', 'end': '500.71899', 'note': ''}, {'id': 'SDRW2100000002.1.1.239', 'form': '생각해서 다 까먹었어?', 'original_form': '생각해서 {laughing} 다 까먹었어?', 'speaker_id': 'SD2100001', 'start': '502.51000', 'end': '504.50899', 'note': ''}, {'id': 'SDRW2100000002.1.1.240', 'form': '너 뭐지 너 기', 'original_form': '너 뭐지 너 -기-', 'speaker_id': 'SD2100002', 'start': '505.45900', 'end': '507.73000', 'note': '발화겹침'}, {'id': 'SDRW2100000002.1.1.241', 'form': '일식', 'original_form': '일식', 'speaker_id': 'SD2100001', 'start': '507.16899', 'end': '507.89901', 'note': '발화겹침'}, {'id': 'SDRW2100000002.1.1.242', 'form': '기숙사에서 나랑 맨날 저녁 뭐 먹을지', 'original_form': '기숙사에서 나랑 맨날 저녁 뭐 먹을지', 'speaker_id': 'SD2100002', 'start': '507.86901', 'end': '511.05572', 'note': '발화겹침'}, {'id': 'SDRW2100000002.1.1.243', 'form': '어.', 'original_form': '어.', 'speaker_id': 'SD2100001', 'start': '508.90000', 'end': '509.60900', 'note': '발화겹침'}, {'id': 'SDRW2100000002.1.1.244', 'form': '고민한 거 기억나?', 'original_form': '고민한 거 기억나?', 'speaker_id': 'SD2100002', 'start': '511.05572', 'end': '512.24901', 'note': '발화겹침'}, {'id': 'SDRW2100000002.1.1.245', 'form': '그게 진짜 유일한 고민이었어.', 'original_form': '그게 진짜 유일한 고민이었어.', 'speaker_id': 'SD2100001', 'start': '512.17000', 'end': '514.62042', 'note': '발화겹침'}, {'id': 'SDRW2100000002.1.1.246', 'form': '실습 가는 날 아침에 일어나자마자', 'original_form': '실습 가는 날 아침에 일어나자마자', 'speaker_id': 'SD2100001', 'start': '514.62042', 'end': '516.95043', 'note': ''}, {'id': 'SDRW2100000002.1.1.247', 'form': '오늘 실습보다 이따 저녁에 뭐 먹지가 더 중요했어 나는.', 'original_form': '오늘 실습보다 이따 저녁에 뭐 먹지가 더 중요했어 나는.', 'speaker_id': 'SD2100001', 'start': '516.95043', 'end': '520.33000', 'note': '발화겹침'}, {'id': 'SDRW2100000002.1.1.248', 'form': '우리 대면 수업 때도', 'original_form': '우리 대면 수업 때도', 'speaker_id': 'SD2100002', 'start': '520.25901', 'end': '521.85859', 'note': '발화겹침'}, {'id': 'SDRW2100000002.1.1.249', 'form': '일어나자마자 점심에 뭐 먹지', 'original_form': '일어나자마자 점심에 뭐 먹지', 'speaker_id': 'SD2100002', 'start': '521.85859', 'end': '524.22899', 'note': '발화겹침'}, {'id': 'SDRW2100000002.1.1.250', 'form': '맞아.', 'original_form': '{laughing} 맞아.', 'speaker_id': 'SD2100001', 'start': '523.31901', 'end': '525.24415', 'note': '발화겹침'}, {'id': 'SDRW2100000002.1.1.251', 'form': '그리고 식당 가서 음식 안 나왔는데', 'original_form': '그리고 식당 가서 음식 안 나왔는데', 'speaker_id': 'SD2100001', 'start': '525.24415', 'end': '527.23512', 'note': ''}, {'id': 'SDRW2100000002.1.1.252', 'form': '저녁은 또 뭐 먹지 이러면서', 'original_form': '저녁은 또 뭐 먹지 이러면서', 'speaker_id': 'SD2100001', 'start': '527.23512', 'end': '528.95898', 'note': ''}, {'id': 'SDRW2100000002.1.1.253', 'form': '아니 점심을 먹으면서 저녁에 뭐 먹을지 고민했잖아.', 'original_form': '아니 점심을 먹으면서 저녁에 뭐 먹을지 고민했잖아.', 'speaker_id': 'SD2100002', 'start': '529.09900', 'end': '532.97900', 'note': '발화겹침'}, {'id': 'SDRW2100000002.1.1.254', 'form': '맞아.', 'original_form': '맞아.', 'speaker_id': 'SD2100001', 'start': '532.78900', 'end': '533.36902', 'note': '발화겹침'}, {'id': 'SDRW2100000002.1.1.255', 'form': '그래 가지고 우리가', 'original_form': '그래 가지고 우리가', 'speaker_id': 'SD2100002', 'start': '534.49902', 'end': '537.06899', 'note': ''}, {'id': 'SDRW2100000002.1.1.256', 'form': '저녁에 실습 기간 때는 맨날 파리바게트 가서', 'original_form': '저녁에 실습 기간 때는 맨날 파리바게트 가서', 'speaker_id': 'SD2100002', 'start': '537.26000', 'end': '541.06000', 'note': '발화겹침'}, {'id': 'SDRW2100000002.1.1.257', 'form': '응.', 'original_form': '응.', 'speaker_id': 'SD2100001', 'start': '540.98898', 'end': '542.22903', 'note': '발화겹침'}, {'id': 'SDRW2100000002.1.1.258', 'form': '빵 먹고 근데 난 사실 그것도 좋았어.', 'original_form': '빵 먹고 근데 난 사실 그것도 좋았어.', 'speaker_id': 'SD2100002', 'start': '541.89000', 'end': '544.77902', 'note': '발화겹침'}, {'id': 'SDRW2100000002.1.1.259', 'form': '맞아 약간 그런 게 되게 뭐라 해야 되지?', 'original_form': '맞아 약간 그런 게 되게 뭐라 해야 되지?', 'speaker_id': 'SD2100001', 'start': '544.34902', 'end': '547.62900', 'note': '발화겹침'}, {'id': 'SDRW2100000002.1.1.260', 'form': '나의 그 한 학기의 유일한 학교의 추억이 그것밖에 없어.', 'original_form': '나의 그 한 학기에 유일한 학교에 추억이 그것밖에 없어.', 'speaker_id': 'SD2100001', 'start': '547.62900', 'end': '551.17900', 'note': ''}, {'id': 'SDRW2100000002.1.1.261', 'form': '우리 불닭볶음면에 감동란 사서 먹는 것도 맛있었어.', 'original_form': '우리 불닭볶음면에 감동란 사서 먹는 것도 맛있었어.', 'speaker_id': 'SD2100002', 'start': '551.94902', 'end': '555.80000', 'note': '발화겹침'}, {'id': 'SDRW2100000002.1.1.262', 'form': '맞아 그리고 그 스노우 화이트 치즈 케이크도 맛있었어.', 'original_form': '맞아 그리고 그 스노우 화이트 치즈 케이크도 맛있었어.', 'speaker_id': 'SD2100001', 'start': '555.66899', 'end': '559.31000', 'note': '발화겹침'}, {'id': 'SDRW2100000002.1.1.263', 'form': '맞아.', 'original_form': '맞아.', 'speaker_id': 'SD2100002', 'start': '559.80901', 'end': '560.54902', 'note': ''}, {'id': 'SDRW2100000002.1.1.264', 'form': '또 뭐 먹었지 뭐 엄청 먹었는데.', 'original_form': '또 뭐 먹었지 뭐 엄청 먹었는데.', 'speaker_id': 'SD2100001', 'start': '560.83900', 'end': '562.89902', 'note': ''}, {'id': 'SDRW2100000002.1.1.265', 'form': '우리 대면 기간에', 'original_form': '우리 대면 기간에', 'speaker_id': 'SD2100002', 'start': '562.94901', 'end': '565.06897', 'note': ''}, {'id': 'SDRW2100000002.1.1.266', 'form': '덮밥집 갔었잖아.', 'original_form': '덮밥집 갔었잖아.', 'speaker_id': 'SD2100002', 'start': '565.92000', 'end': '567.80898', 'note': ''}, {'id': 'SDRW2100000002.1.1.267', 'form': 'company-name2', 'original_form': '&company-name2&', 'speaker_id': 'SD2100002', 'start': '567.80898', 'end': '569.06899', 'note': '발화겹침'}, {'id': 'SDRW2100000002.1.1.268', 'form': '응 응 아 맞아 맞아.', 'original_form': '응 응 아 맞아 맞아.', 'speaker_id': 'SD2100001', 'start': '567.82900', 'end': '569.48898', 'note': '발화겹침'}, {'id': 'SDRW2100000002.1.1.269', 'form': 'company-name2이라고', 'original_form': '&company-name2&이라고', 'speaker_id': 'SD2100002', 'start': '569.53000', 'end': '571.23900', 'note': ''}, {'id': 'SDRW2100000002.1.1.270', 'form': '갔었는데 거기가', 'original_form': '갔었는데 거기가', 'speaker_id': 'SD2100002', 'start': '571.76000', 'end': '573.64900', 'note': ''}, {'id': 'SDRW2100000002.1.1.271', 'form': '우리 뭐 먹었지?', 'original_form': '우리 뭐 먹었지?', 'speaker_id': 'SD2100002', 'start': '574.16000', 'end': '575.48899', 'note': ''}, {'id': 'SDRW2100000002.1.1.272', 'form': '우리 무슨 가지 덮밥 뭐 이거 먹지 않았어?', 'original_form': '우리 무슨 가지 덮밥 뭐 이거 먹지 않았어?', 'speaker_id': 'SD2100001', 'start': '575.80900', 'end': '578.01688', 'note': ''}, {'id': 'SDRW2100000002.1.1.273', 'form': '가지 명란덮밥', 'original_form': '가지 명란덮밥', 'speaker_id': 'SD2100001', 'start': '578.01688', 'end': '579.27899', 'note': '발화겹침'}, {'id': 'SDRW2100000002.1.1.274', 'form': '무슨 소보로 소보로덮밥', 'original_form': '무슨 소보로 소보로덮밥', 'speaker_id': 'SD2100002', 'start': '578.26000', 'end': '580.71899', 'note': '발화겹침'}, {'id': 'SDRW2100000002.1.1.275', 'form': '아 어.', 'original_form': '아 어.', 'speaker_id': 'SD2100001', 'start': '579.69000', 'end': '580.77899', 'note': '발화겹침'}, {'id': 'SDRW2100000002.1.1.276', 'form': '그것도 맛있었어.', 'original_form': '그것도 맛있었어.', 'speaker_id': 'SD2100002', 'start': '581.47000', 'end': '582.79897', 'note': ''}, {'id': 'SDRW2100000002.1.1.277', 'form': '맞아.', 'original_form': '맞아.', 'speaker_id': 'SD2100001', 'start': '582.99899', 'end': '583.64897', 'note': ''}, {'id': 'SDRW2100000002.1.1.278', 'form': '근데 춘천 그 요새 맛집 되게 많이 생기더라.', 'original_form': '근데 춘천 그 요새 맛집 되게 많이 생기더라.', 'speaker_id': 'SD2100001', 'start': '583.64897', 'end': '586.98903', 'note': ''}, {'id': 'SDRW2100000002.1.1.279', 'form': 'company-name3라고 또 일식집 생겼다고', 'original_form': '&company-name3&라고 또 일식집 생겼다고', 'speaker_id': 'SD2100002', 'start': '587.69899', 'end': '590.89610', 'note': '발화겹침'}, {'id': 'SDRW2100000002.1.1.280', 'form': '응.', 'original_form': '응.', 'speaker_id': 'SD2100001', 'start': '590.78901', 'end': '591.30897', 'note': '발화겹침'}, {'id': 'SDRW2100000002.1.1.281', 'form': '들었는데 그게 인스타에서 많이 보이더라고.', 'original_form': '들었는데 그게 인스타에서 많이 보이더라고.', 'speaker_id': 'SD2100002', 'start': '590.89610', 'end': '594.33900', 'note': '발화겹침'}, {'id': 'SDRW2100000002.1.1.282', 'form': '오', 'original_form': '오', 'speaker_id': 'SD2100001', 'start': '593.98900', 'end': '595.41902', 'note': '발화겹침'}, {'id': 'SDRW2100000002.1.1.283', 'form': '애들이 먹는 거 근데 막상', 'original_form': '애들이 먹는 거 근데 막상', 'speaker_id': 'SD2100002', 'start': '594.42000', 'end': '597.63000', 'note': '발화겹침'}, {'id': 'SDRW2100000002.1.1.284', 'form': '그 name7 언니가 갔는데 그렇게', 'original_form': '그 &name7& 언니가 갔는데 그렇게', 'speaker_id': 'SD2100002', 'start': '598.03500', 'end': '601.00901', 'note': ''}, {'id': 'SDRW2100000002.1.1.285', 'form': '막 그 명성에 비해 맛있진 않다고 그랬어.', 'original_form': '막 그 명성에 비해 맛있진 않다고 그랬어.', 'speaker_id': 'SD2100002', 'start': '601.20000', 'end': '604.56000', 'note': ''}, {'id': 'SDRW2100000002.1.1.286', 'form': '아 또 학교 근처에 먹을 것도 없구만.', 'original_form': '아 또 학교 근처에 먹을 것도 없구만.', 'speaker_id': 'SD2100001', 'start': '605.50897', 'end': '608.08100', 'note': ''}, {'id': 'SDRW2100000002.1.1.287', 'form': '그냥 내가 보기엔 이제 본도시락 생겼으니까', 'original_form': '그냥 내가 보기엔 이제 본도시락 생겼으니까', 'speaker_id': 'SD2100001', 'start': '608.08100', 'end': '610.93028', 'note': ''}, {'id': 'SDRW2100000002.1.1.288', 'form': '그것만 주구장창 사 먹을 거 같아.', 'original_form': '그것만 주구장창 사 먹을 거 같애.', 'speaker_id': 'SD2100001', 'start': '610.93028', 'end': '613.07899', 'note': ''}, {'id': 'SDRW2100000002.1.1.289', 'form': '본도시락 나쁘지 않아.', 'original_form': '본도시락 나쁘지 않아.', 'speaker_id': 'SD2100002', 'start': '613.30897', 'end': '615.30900', 'note': ''}, {'id': 'SDRW2100000002.1.1.290', 'form': '먹어 봤어?.', 'original_form': '먹어 봤어?.', 'speaker_id': 'SD2100001', 'start': '616.43900', 'end': '617.12284', 'note': ''}, {'id': 'SDRW2100000002.1.1.291', 'form': '나 한번도 먹어 본 적이 없어.', 'original_form': '나 한번도 먹어 본 적이 없어.', 'speaker_id': 'SD2100001', 'start': '617.12284', 'end': '618.47903', 'note': ''}, {'id': 'SDRW2100000002.1.1.292', 'form': '나도 사실 안 먹어 봤어 나 본죽만 먹어 봤어.', 'original_form': '나도 사실 안 먹어 봤어 나 본죽만 먹어 봤어.', 'speaker_id': 'SD2100002', 'start': '619.45901', 'end': '621.75568', 'note': '발화겹침'}, {'id': 'SDRW2100000002.1.1.293', 'form': '너 근데 왜 괜찮다 그랬어?', 'original_form': '너 근데 왜 {laughing} 괜찮다 그랬어?', 'speaker_id': 'SD2100001', 'start': '621.67898', 'end': '623.63900', 'note': '발화겹침'}, {'id': 'SDRW2100000002.1.1.294', 'form': '아니 그냥 나쁘지 않을 것 같아서', 'original_form': '아니 그냥 나쁘지 않을 것 같아서', 'speaker_id': 'SD2100002', 'start': '623.67000', 'end': '626.03903', 'note': '발화겹침'}, {'id': 'SDRW2100000002.1.1.295', 'form': '', 'original_form': '{laughing}', 'speaker_id': 'SD2100001', 'start': '624.50000', 'end': '625.31899', 'note': '발화겹침'}, {'id': 'SDRW2100000002.1.1.296', 'form': '그냥 그 본 기업에 대한 믿음 같은 거야?', 'original_form': '그냥 그 본 기업에 대한 믿음 같은 거야?', 'speaker_id': 'SD2100001', 'start': '625.31899', 'end': '628.13900', 'note': '발화겹침'}, {'id': 'SDRW2100000002.1.1.297', 'form': '아 본죽도 맛있겠다.', 'original_form': '아 본죽도 맛있겠다.', 'speaker_id': 'SD2100001', 'start': '628.63000', 'end': '630.27898', 'note': ''}, {'id': 'SDRW2100000002.1.1.298', 'form': '본죽도 안 먹은 지 오래 됐는데', 'original_form': '본죽도 안 먹은 지 오래 됐는데', 'speaker_id': 'SD2100001', 'start': '630.96000', 'end': '632.77900', 'note': ''}, {'id': 'SDRW2100000002.1.1.299', 'form': '오늘 저녁을 그래서 뭐 먹을지', 'original_form': '오늘 저녁을 그래서 뭐 먹을지', 'speaker_id': 'SD2100001', 'start': '634.14900', 'end': '636.55876', 'note': ''}, {'id': 'SDRW2100000002.1.1.300', 'form': '좀 생각을 해 봐야 돼 지금 춘천 얘기할 때가 아니었어.', 'original_form': '쫌 생각을 해 봐야 돼 지금 춘천 얘기할 때가 아니었어.', 'speaker_id': 'SD2100001', 'start': '636.55876', 'end': '639.93903', 'note': ''}, {'id': 'SDRW2100000002.1.1.301', 'form': '응.', 'original_form': '응.', 'speaker_id': 'SD2100001', 'start': '640.71000', 'end': '641.86898', 'note': ''}, {'id': 'SDRW2100000002.1.1.302', 'form': '뭐 먹지?', 'original_form': '뭐 먹지?', 'speaker_id': 'SD2100001', 'start': '642.96902', 'end': '643.88903', 'note': ''}, {'id': 'SDRW2100000002.1.1.303', 'form': '감성타코 갈까?', 'original_form': '감성타코 갈까?', 'speaker_id': 'SD2100001', 'start': '644.74000', 'end': '646.20900', 'note': ''}, {'id': 'SDRW2100000002.1.1.304', 'form': '난 좋아.', 'original_form': '난 좋아.', 'speaker_id': 'SD2100002', 'start': '647.03901', 'end': '647.95902', 'note': ''}, {'id': 'SDRW2100000002.1.1.305', 'form': '감성타코도 있고', 'original_form': '감성타코도 있고', 'speaker_id': 'SD2100001', 'start': '648.48899', 'end': '650.09900', 'note': ''}, {'id': 'SDRW2100000002.1.1.306', 'form': '또 아니면', 'original_form': '또~ 아니면', 'speaker_id': 'SD2100001', 'start': '650.68000', 'end': '652.92898', 'note': ''}, {'id': 'SDRW2100000002.1.1.307', 'form': '아 내가 근데 오늘 오면서', 'original_form': '아 내가 근데 오늘 오면서', 'speaker_id': 'SD2100001', 'start': '653.26000', 'end': '654.98046', 'note': ''}, {'id': 'SDRW2100000002.1.1.308', 'form': '뭘 하나도 못 찾아 보고 왔는데', 'original_form': '뭘 하나도 못 찾아 보고 왔는데', 'speaker_id': 'SD2100001', 'start': '654.98046', 'end': '656.75220', 'note': ''}, {'id': 'SDRW2100000002.1.1.309', 'form': '너 뭐 인스타 같은 데서 가고 싶었던 데 없어?', 'original_form': '너 뭐 인스타 같은 데서 가고 싶었던 데 없어?', 'speaker_id': 'SD2100001', 'start': '656.75220', 'end': '659.34897', 'note': ''}, {'id': 'SDRW2100000002.1.1.310', 'form': '아 나 자기 전에 쪼금 봤는데', 'original_form': '아 나 자기 전에 쪼금 봤는데', 'speaker_id': 'SD2100002', 'start': '659.99900', 'end': '663.73901', 'note': ''}, {'id': 'SDRW2100000002.1.1.311', 'form': '그 까먹었네.', 'original_form': '그 까먹었네.', 'speaker_id': 'SD2100002', 'start': '664.12000', 'end': '665.20701', 'note': ''}, {'id': 'SDRW2100000002.1.1.312', 'form': '아 근데 그거 크레이지카츠라고', 'original_form': '아 근데 그거 크레이지카츠라고', 'speaker_id': 'SD2100002', 'start': '665.20701', 'end': '668.57548', 'note': '발화겹침'}, {'id': 'SDRW2100000002.1.1.313', 'form': '아 오', 'original_form': '아 오', 'speaker_id': 'SD2100001', 'start': '668.02902', 'end': '669.48000', 'note': '발화겹침'}, {'id': 'SDRW2100000002.1.1.314', 'form': '되게 유명한 데가 있대.', 'original_form': '되게 유명한 데가 있대.', 'speaker_id': 'SD2100002', 'start': '668.57548', 'end': '670.70901', 'note': '발화겹침'}, {'id': 'SDRW2100000002.1.1.315', 'form': '아 나 들어 본 것 같아.', 'original_form': '아 나 들어 본 것 같애.', 'speaker_id': 'SD2100001', 'start': '670.18261', 'end': '671.60897', 'note': '발화겹침'}, {'id': 'SDRW2100000002.1.1.316', 'form': '그래서 거기 거기도 괜찮고', 'original_form': '그래서 거기 거기도 괜찮고', 'speaker_id': 'SD2100002', 'start': '672.64901', 'end': '676.11901', 'note': ''}, {'id': 'SDRW2100000002.1.1.317', 'form': 'name1 언니가 짝 후배랑', 'original_form': '&name1& 언니가 짝 후배랑', 'speaker_id': 'SD2100002', 'start': '676.89286', 'end': '678.99901', 'note': '발화겹침'}, {'id': 'SDRW2100000002.1.1.318', 'form': '응.', 'original_form': '응.', 'speaker_id': 'SD2100001', 'start': '678.62902', 'end': '679.23900', 'note': '발화겹침'}, {'id': 'SDRW2100000002.1.1.319', 'form': '짝 후배 두 명에서 무슨 카레 집을 갔는데', 'original_form': '짝 후배 두 명에서 무슨 카레 집을 갔는데', 'speaker_id': 'SD2100002', 'start': '680.18901', 'end': '683.67900', 'note': '발화겹침'}, {'id': 'SDRW2100000002.1.1.320', 'form': '으 응.', 'original_form': '으 응.', 'speaker_id': 'SD2100001', 'start': '683.51897', 'end': '685.14897', 'note': '발화겹침'}, {'id': 'SDRW2100000002.1.1.321', 'form': '내 이름을 알았거든', 'original_form': '내 이름을 알았거든', 'speaker_id': 'SD2100002', 'start': '684.68901', 'end': '686.04900', 'note': '발화겹침'}, {'id': 'SDRW2100000002.1.1.322', 'form': '응.', 'original_form': '응.', 'speaker_id': 'SD2100001', 'start': '685.85647', 'end': '686.37902', 'note': '발화겹침'}, {'id': 'SDRW2100000002.1.1.323', 'form': '까먹었어 아 괜찮아?', 'original_form': '까먹었어 아 괜찮아?', 'speaker_id': 'SD2100001', 'start': '687.53899', 'end': '689.56000', 'note': '발화겹침'}, {'id': 'SDRW2100000002.1.1.324', 'form': '어 그런데 거기도 엄청 맛있었대.', 'original_form': '어 그런데 거기도 엄청 맛있었대.', 'speaker_id': 'SD2100002', 'start': '688.17000', 'end': '691.26897', 'note': '발화겹침'}, {'id': 'SDRW2100000002.1.1.325', 'form': '아니 내가 왜 그러냐면', 'original_form': '아니 내가 왜 그러냐면', 'speaker_id': 'SD2100001', 'start': '691.22899', 'end': '692.92000', 'note': '발화겹침'}, {'id': 'SDRW2100000002.1.1.326', 'form': '그냥 감성타코를 가기에는', 'original_form': '그냥 감성타코를 가기에는', 'speaker_id': 'SD2100001', 'start': '693.00902', 'end': '695.29300', 'note': ''}, {'id': 'SDRW2100000002.1.1.327', 'form': '여기까지 와서 프랜차이즈를 또 가는구나 싶은거야.', 'original_form': '여기까지 와서 프랜차이즈를 또 가는구나 싶은거야.', 'speaker_id': 'SD2100001', 'start': '695.29300', 'end': '698.40741', 'note': ''}, {'id': 'SDRW2100000002.1.1.328', 'form': '아니 왜 그러냐면 우리 동네가 완전 프랜차이즈 밭 밭이거든.', 'original_form': '아니 왜 그러냐면 우리 동네가 완전 프랜차이즈 -밭- 밭이거든.', 'speaker_id': 'SD2100001', 'start': '698.40741', 'end': '701.70898', 'note': ''}, {'id': 'SDRW2100000002.1.1.329', 'form': '그래 가지고 좀 다른 곳을 가고 싶었어.', 'original_form': '그래 가지고 좀 다른 곳을 가고 싶었어.', 'speaker_id': 'SD2100001', 'start': '702.41000', 'end': '705.08000', 'note': '발화겹침'}, {'id': 'SDRW2100000002.1.1.330', 'form': '우리 동네도 그래.', 'original_form': '우리 동네도 그래.', 'speaker_id': 'SD2100002', 'start': '704.96899', 'end': '706.32898', 'note': '발화겹침'}, {'id': 'SDRW2100000002.1.1.331', 'form': '맞아 이미 프랜차이즈에게 먹혀 버렸어 동네들이.', 'original_form': '맞아 이미 프랜차이즈에게 먹혀 버렸어 동네들이.', 'speaker_id': 'SD2100001', 'start': '706.64899', 'end': '709.87899', 'note': ''}, {'id': 'SDRW2100000002.1.1.332', 'form': '아 그래서 뭐 먹지?', 'original_form': '아 그래서 뭐 먹지?', 'speaker_id': 'SD2100001', 'start': '711.60897', 'end': '713.00902', 'note': ''}, {'id': 'SDRW2100000002.1.1.333', 'form': '밥 애기 하니까 배고프다.', 'original_form': '밥 애기 하니까 배고프다.', 'speaker_id': 'SD2100001', 'start': '713.45000', 'end': '714.96901', 'note': ''}, {'id': 'SDRW2100000002.1.1.334', 'form': '맞아.', 'original_form': '맞아.', 'speaker_id': 'SD2100002', 'start': '715.49897', 'end': '716.17899', 'note': ''}, {'id': 'SDRW2100000002.1.1.335', 'form': '생각해 봐.', 'original_form': '생각해 봐.', 'speaker_id': 'SD2100001', 'start': '717.30900', 'end': '718.21398', 'note': ''}, {'id': 'SDRW2100000002.1.1.336', 'form': '배고플 때 생각해야 가장 최선의 선택을 할 수가 있단 말이야.', 'original_form': '배고플 때 생각해야 가장 최선의 선택을 할 수가 있단 말이야.', 'speaker_id': 'SD2100001', 'start': '718.21398', 'end': '721.71902', 'note': ''}, {'id': 'SDRW2100000002.1.1.337', 'form': '그러면', 'original_form': '그러면', 'speaker_id': 'SD2100002', 'start': '723.44900', 'end': '724.51700', 'note': ''}, {'id': 'SDRW2100000002.1.1.338', 'form': '우리 그 멕시코 식당을 한번 가 보자.', 'original_form': '우리 그 멕시코 식당을 한번 가 보자.', 'speaker_id': 'SD2100002', 'start': '724.51700', 'end': '727.64900', 'note': ''}, {'id': 'SDRW2100000002.1.1.339', 'form': '멕시코 식당?', 'original_form': '멕시코 식당?', 'speaker_id': 'SD2100001', 'start': '728.08900', 'end': '729.05897', 'note': '발화겹침'}, {'id': 'SDRW2100000002.1.1.340', 'form': '어.', 'original_form': '어.', 'speaker_id': 'SD2100002', 'start': '728.80897', 'end': '729.48000', 'note': '발화겹침'}, {'id': 'SDRW2100000002.1.1.341', 'form': '그래 거기를 가 보자.', 'original_form': '그래 거기를 가 보자.', 'speaker_id': 'SD2100001', 'start': '729.22000', 'end': '730.55897', 'note': '발화겹침'}, {'id': 'SDRW2100000002.1.1.342', 'form': '거기서 네가', 'original_form': '거기서 너가', 'speaker_id': 'SD2100002', 'start': '730.88000', 'end': '732.32000', 'note': ''}, {'id': 'SDRW2100000002.1.1.343', 'form': '나한테 링크를 보내 줬잖아?', 'original_form': '나한테 링크를 보내 줬잖아?', 'speaker_id': 'SD2100002', 'start': '732.51902', 'end': '735.00901', 'note': '발화겹침'}, {'id': 'SDRW2100000002.1.1.344', 'form': '응.', 'original_form': '응.', 'speaker_id': 'SD2100001', 'start': '734.72898', 'end': '735.30900', 'note': '발화겹침'}, {'id': 'SDRW2100000002.1.1.345', 'form': '그래서 가', 'original_form': '그래서 가', 'speaker_id': 'SD2100002', 'start': '735.80776', 'end': '737.21176', 'note': ''}, {'id': 'SDRW2100000002.1.1.346', 'form': '들어가 봤는데 근데 뭔가 되게 맛있어 보이는 게 있는 거야.', 'original_form': '들어가 봤는데 근데 뭔가 되게 맛있어 보이는 게 있는 거야.', 'speaker_id': 'SD2100002', 'start': '737.21176', 'end': '741.04000', 'note': ''}, {'id': 'SDRW2100000002.1.1.347', 'form': '근데 그게 뭔지는 모르겠는데', 'original_form': '근데 그게 뭔지는 모르겠는데', 'speaker_id': 'SD2100002', 'start': '741.08000', 'end': '743.27000', 'note': ''}, {'id': 'SDRW2100000002.1.1.348', 'form': '후기를 보니까', 'original_form': '후기를 보니까', 'speaker_id': 'SD2100002', 'start': '743.83000', 'end': '745.63899', 'note': ''}, {'id': 'SDRW2100000002.1.1.349', 'form': '어 그걸 꼭 시켜야 된다 해서', 'original_form': '어 그걸 꼭 시켜야 된다 해서', 'speaker_id': 'SD2100002', 'start': '745.82000', 'end': '748.08390', 'note': ''}, {'id': 'SDRW2100000002.1.1.350', 'form': '만약에 가면 그걸 시키자.', 'original_form': '만약에 가면 그걸 시키자.', 'speaker_id': 'SD2100002', 'start': '748.08390', 'end': '750.42902', 'note': ''}, {'id': 'SDRW2100000002.1.1.351', 'form': '그 무슨 플레터 그거 아냐?', 'original_form': '그 무슨 플레터 그거 아냐?', 'speaker_id': 'SD2100001', 'start': '750.44897', 'end': '752.50900', 'note': ''}, {'id': 'SDRW2100000002.1.1.352', 'form': '', 'original_form': '(())', 'speaker_id': 'SD2100002', 'start': '752.61898', 'end': '755.07231', 'note': '발화겹침'}, {'id': 'SDRW2100000002.1.1.353', 'form': '아니야?', 'original_form': '아니야?', 'speaker_id': 'SD2100001', 'start': '753.31000', 'end': '753.93400', 'note': '발화겹침'}, {'id': 'SDRW2100000002.1.1.354', 'form': '', 'original_form': '(())', 'speaker_id': 'SD2100002', 'start': '753.88300', 'end': '756.02335', 'note': '발화겹침'}, {'id': 'SDRW2100000002.1.1.355', 'form': '아 아 나 본 것 같아. 네 글자짜리 아니야? 무슨 무슨 치킨 어쩌고 이런 거였던 것 같은데.', 'original_form': '아 아 나 본 것 같애. 네 글자짜리 아니야? 무슨 무슨 치킨 어쩌고 이런 거였던 것 같은데.', 'speaker_id': 'SD2100001', 'start': '753.93400', 'end': '758.44900', 'note': '발화겹침'}, {'id': 'SDRW2100000002.1.1.356', 'form': '', 'original_form': '(())', 'speaker_id': 'SD2100002', 'start': '755.07231', 'end': '756.02335', 'note': '발화겹침'}, {'id': 'SDRW2100000002.1.1.357', 'form': '어 맞아 맞아 어 어.', 'original_form': '어 맞아 맞아 어 어.', 'speaker_id': 'SD2100002', 'start': '755.45900', 'end': '758.77902', 'note': '발화겹침'}, {'id': 'SDRW2100000002.1.1.358', 'form': '아니면', 'original_form': '아니면', 'speaker_id': 'SD2100001', 'start': '759.21000', 'end': '760.43901', 'note': ''}, {'id': 'SDRW2100000002.1.1.359', 'form': '아 근데 그게 쪼금 지금 애매한 게', 'original_form': '아 근데 그게 쪼금 지금 애매한 게', 'speaker_id': 'SD2100001', 'start': '760.84356', 'end': '763.48075', 'note': ''}, {'id': 'SDRW2100000002.1.1.360', 'form': '우리가 저녁을 일찍 먹으면 브레이크 타임에 걸리거든.', 'original_form': '우리가 저녁을 일찍 먹으면 브레이크 타임에 걸리거든.', 'speaker_id': 'SD2100001', 'start': '763.48075', 'end': '766.48899', 'note': ''}, {'id': 'SDRW2100000002.1.1.361', 'form': '그래서 그냥', 'original_form': '그래서 그냥', 'speaker_id': 'SD2100001', 'start': '767.33000', 'end': '768.68903', 'note': ''}, {'id': 'SDRW2100000002.1.1.362', 'form': '그렇구나.', 'original_form': '그렇구나.', 'speaker_id': 'SD2100002', 'start': '767.53900', 'end': '768.53900', 'note': '발화겹침'}, {'id': 'SDRW2100000002.1.1.363', 'form': '가서 먹지 말고 사서 먹을까?', 'original_form': '가서 먹지 말고 사서 먹을까?', 'speaker_id': 'SD2100001', 'start': '769.28859', 'end': '772.62899', 'note': ''}, {'id': 'SDRW2100000002.1.1.364', 'form': '그게 더 편할 수도 있을 것 같은데 포장해서.', 'original_form': '그게 더 편할 수도 있을 것 같은데 포장해서.', 'speaker_id': 'SD2100001', 'start': '772.76000', 'end': '775.18901', 'note': ''}, {'id': 'SDRW2100000002.1.1.365', 'form': '그래.', 'original_form': '그래.', 'speaker_id': 'SD2100002', 'start': '775.32903', 'end': '776.12898', 'note': ''}, {'id': 'SDRW2100000002.1.1.366', 'form': '그래 그러면', 'original_form': '그래 그러면', 'speaker_id': 'SD2100001', 'start': '776.71901', 'end': '777.72771', 'note': ''}, {'id': 'SDRW2100000002.1.1.367', 'form': '그러면', 'original_form': '그러면', 'speaker_id': 'SD2100001', 'start': '778.27971', 'end': '779.37000', 'note': ''}, {'id': 'SDRW2100000002.1.1.368', 'form': '근데 그거는 포장 아 포장의 문제가 아니라', 'original_form': '근데 그거는 포장 아 포장의 문제가 아니라', 'speaker_id': 'SD2100001', 'start': '779.60000', 'end': '782.62784', 'note': ''}, {'id': 'SDRW2100000002.1.1.369', 'form': '브레이크 타임에 걸리니까 포장이 될 만한 메뉴가 뭐가 있지?', 'original_form': '브레이크 타임에 걸리니까 포장이 될 만한 메뉴가 뭐가 있지?', 'speaker_id': 'SD2100001', 'start': '782.62784', 'end': '786.51897', 'note': ''}, {'id': 'SDRW2100000002.1.1.370', 'form': '치킨?', 'original_form': '치킨?', 'speaker_id': 'SD2100002', 'start': '787.70897', 'end': '788.59901', 'note': ''}, {'id': 'SDRW2100000002.1.1.371', 'form': '치킨 치킨 좋지 어 떡볶이 떡볶이도 안 먹은지 오래됐다.', 'original_form': '치킨 치킨 좋지 어 떡볶이 떡볶이도 안 먹은지 오래됐다.', 'speaker_id': 'SD2100001', 'start': '788.67903', 'end': '792.11235', 'note': ''}, {'id': 'SDRW2100000002.1.1.372', 'form': '떡볶이?', 'original_form': '떡볶이?', 'speaker_id': 'SD2100002', 'start': '789.18240', 'end': '790.19840', 'note': '발화겹침'}, {'id': 'SDRW2100000002.1.1.373', 'form': '우리 실습 가서도 청년다방 갔었는데.', 'original_form': '우리 실습 가서도 청년다방 갔었는데.', 'speaker_id': 'SD2100001', 'start': '792.11235', 'end': '795.12903', 'note': ''}, {'id': 'SDRW2100000002.1.1.374', 'form': '와 맞아 name3이랑', 'original_form': '와 맞아 &name3&이랑', 'speaker_id': 'SD2100002', 'start': '796.40900', 'end': '798.94900', 'note': ''}, {'id': 'SDRW2100000002.1.1.375', 'form': '기억나?', 'original_form': '기억나?', 'speaker_id': 'SD2100001', 'start': '796.74899', 'end': '797.80898', 'note': '발화겹침'}, {'id': 'SDRW2100000002.1.1.376', 'form': '우리 버터갈릭이랑', 'original_form': '우리 버터갈릭이랑', 'speaker_id': 'SD2100002', 'start': '798.94900', 'end': '801.95897', 'note': ''}, {'id': 'SDRW2100000002.1.1.377', 'form': '뭐 뭐었지 차돌 먹었나?', 'original_form': '뭐 뭐었지 차돌 먹었나?', 'speaker_id': 'SD2100002', 'start': '802.47352', 'end': '804.21901', 'note': ''}, {'id': 'SDRW2100000002.1.1.378', 'form': '몰라 하여간 너무 많이 먹어서 기억은 잘 안 난다.', 'original_form': '몰라 하여간 너무 많이 먹어서 기억은 {laughing} 잘 안 난다.', 'speaker_id': 'SD2100001', 'start': '804.53901', 'end': '807.58903', 'note': ''}, {'id': 'SDRW2100000002.1.1.379', 'form': '그날도 진짜 좋았어.', 'original_form': '그날도 진짜 좋았어.', 'speaker_id': 'SD2100002', 'start': '808.08903', 'end': '810.10898', 'note': '발화겹침'}, {'id': 'SDRW2100000002.1.1.380', 'form': '맞아.', 'original_form': '맞아.', 'speaker_id': 'SD2100001', 'start': '810.00901', 'end': '810.49900', 'note': '발화겹침'}, {'id': 'SDRW2100000002.1.1.381', 'form': '실습 첫날이었나 그랬을 걸 그게.', 'original_form': '실습 첫날이었나 그랬을 걸 그게.', 'speaker_id': 'SD2100001', 'start': '810.98240', 'end': '813.19901', 'note': '발화겹침'}, {'id': 'SDRW2100000002.1.1.382', 'form': '근데 나 그것보다 우리 대면수업 끝나고 목요일에', 'original_form': '근데 나 그것보다 우리 대면수업 끝나고 목요일에', 'speaker_id': 'SD2100002', 'start': '813.12900', 'end': '816.88100', 'note': '발화겹침'}, {'id': 'SDRW2100000002.1.1.383', 'form': '배드', 'original_form': '((배드))', 'speaker_id': 'SD2100002', 'start': '816.88100', 'end': '817.76898', 'note': ''}, {'id': 'SDRW2100000002.1.1.384', 'form': '뭐야 뭐지?', 'original_form': '뭐야 뭐지?', 'speaker_id': 'SD2100002', 'start': '818.02000', 'end': '818.91897', 'note': ''}, {'id': 'SDRW2100000002.1.1.385', 'form': '로제떡볶이 먹었잖아.', 'original_form': '로제떡볶이 먹었잖아.', 'speaker_id': 'SD2100002', 'start': '819.04000', 'end': '820.96898', 'note': ''}, {'id': 'SDRW2100000002.1.1.386', 'form': '아 그 배달시켜서 어.', 'original_form': '아 그 배달시켜서 어.', 'speaker_id': 'SD2100001', 'start': '821.04900', 'end': '822.85900', 'note': '발화겹침'}, {'id': 'SDRW2100000002.1.1.387', 'form': '어.', 'original_form': '어.', 'speaker_id': 'SD2100002', 'start': '822.15898', 'end': '822.94902', 'note': '발화겹침'}, {'id': 'SDRW2100000002.1.1.388', 'form': '그것도 너무 맛있었어.', 'original_form': '그것도 너무 맛있었어.', 'speaker_id': 'SD2100002', 'start': '823.14000', 'end': '824.55000', 'note': '발화겹침'}, {'id': 'SDRW2100000002.1.1.389', 'form': '맞아.', 'original_form': '맞아.', 'speaker_id': 'SD2100001', 'start': '824.40898', 'end': '825.19902', 'note': '발화겹침'}, {'id': 'SDRW2100000002.1.1.390', 'form': '우리 진짜 잘 먹고 다녔다 대단하다.', 'original_form': '우리 진짜 잘 먹고 다녔다 대단하다.', 'speaker_id': 'SD2100001', 'start': '825.19902', 'end': '828.23903', 'note': ''}, {'id': 'SDRW2100000002.1.1.391', 'form': '그리고 또 뭐 시켜 먹은 적 또 없나?', 'original_form': '그리고 또 뭐 시켜 먹은 적 또 없나?', 'speaker_id': 'SD2100002', 'start': '829.42903', 'end': '832.17899', 'note': ''}, {'id': 'SDRW2100000002.1.1.392', 'form': '치킨 시켜 먹지 않았나 한번?', 'original_form': '치킨 시켜 먹지 않았나 한번?', 'speaker_id': 'SD2100001', 'start': '833.44000', 'end': '835.69897', 'note': ''}, {'id': 'SDRW2100000002.1.1.393', 'form': '어디서 어디서?', 'original_form': '어디서 어디서?', 'speaker_id': 'SD2100002', 'start': '836.46899', 'end': '837.71902', 'note': ''}, {'id': 'SDRW2100000002.1.1.394', 'form': '대면 때가 아니라 그냥 1학년 때였나 막', 'original_form': '대면 때가 아니라 그냥 일 학년 때였나 막', 'speaker_id': 'SD2100001', 'start': '838.06899', 'end': '840.75902', 'note': ''}, {'id': 'SDRW2100000002.1.1.395', 'form': '내가 그때 생일 선물로 막 그런 거 받아 갖고', 'original_form': '내가 그때 생일 선물로 막 그런 거 받아 갖고', 'speaker_id': 'SD2100001', 'start': '841.02000', 'end': '843.93900', 'note': ''}, {'id': 'SDRW2100000002.1.1.396', 'form': '치킨 기프티콘 우리 수요일엔가', 'original_form': '치킨 기프티콘 우리 수요일엔가', 'speaker_id': 'SD2100001', 'start': '843.93900', 'end': '846.91900', 'note': ''}, {'id': 'SDRW2100000002.1.1.397', 'form': '마지막 시간이 체육이었잖아.', 'original_form': '마지막 시간이 체육이었잖아.', 'speaker_id': 'SD2100001', 'start': '846.91900', 'end': '848.70703', 'note': ''}, {'id': 'SDRW2100000002.1.1.398', 'form': '같이 맨날 아무나 붙잡고 혹시 나랑 치킨 먹을래', 'original_form': '같이 맨날 아무나 붙잡고 혹시 나랑 치킨 먹을래', 'speaker_id': 'SD2100001', 'start': '848.70703', 'end': '851.51733', 'note': ''}, {'id': 'SDRW2100000002.1.1.399', 'form': '이러면서 4명 만들어서 먹고 그랬었는데.', 'original_form': '이러면서 네 명 만들어서 먹고 그랬었는데.', 'speaker_id': 'SD2100001', 'start': '851.51733', 'end': '854.37000', 'note': '발화겹침'}, {'id': 'SDRW2100000002.1.1.400', 'form': '학생 휴게실에서 우리', 'original_form': '학생 휴게실에서 우리', 'speaker_id': 'SD2100002', 'start': '854.19370', 'end': '856.08000', 'note': '발화겹침'}, {'id': 'SDRW2100000002.1.1.401', 'form': '닭강정 같은 거 같이 먹었잖아.', 'original_form': '닭강정 같은 거 같이 먹었잖아.', 'speaker_id': 'SD2100002', 'start': '856.44000', 'end': '859.19902', 'note': ''}, {'id': 'SDRW2100000002.1.1.402', 'form': '어.', 'original_form': '어.', 'speaker_id': 'SD2100001', 'start': '857.92900', 'end': '859.01897', 'note': '발화겹침'}, {'id': 'SDRW2100000002.1.1.403', 'form': '아 추억이다.', 'original_form': '아 추억이다.', 'speaker_id': 'SD2100001', 'start': '859.45468', 'end': '860.88899', 'note': ''}, {'id': 'SDRW2100000002.1.1.404', 'form': '근데 내가 그때 막 뭐지.', 'original_form': '근데 내가 그때 막 뭐지.', 'speaker_id': 'SD2100002', 'start': '861.42000', 'end': '864.40000', 'note': ''}, {'id': 'SDRW2100000002.1.1.405', 'form': '그래 엉.', 'original_form': '그래 엉.', 'speaker_id': 'SD2100001', 'start': '861.54917', 'end': '862.48070', 'note': '발화겹침'}, {'id': 'SDRW2100000002.1.1.406', 'form': '잘', 'original_form': '잘', 'speaker_id': 'SD2100002', 'start': '864.84659', 'end': '865.55000', 'note': ''}, {'id': 'SDRW2100000002.1.1.407', 'form': '우리 학교 이야기 잘 모르는데 너희가', 'original_form': '우리 학교 이야기 잘 모르는데 너네가', 'speaker_id': 'SD2100002', 'start': '865.76000', 'end': '868.86898', 'note': ''}, {'id': 'SDRW2100000002.1.1.408', 'form': '뭔가 많이 알려 줘 가지고', 'original_form': '뭔가 많이 알려 줘 가지고', 'speaker_id': 'SD2100002', 'start': '869.54100', 'end': '871.93901', 'note': ''}, {'id': 'SDRW2100000002.1.1.409', 'form': '응.', 'original_form': '응.', 'speaker_id': 'SD2100001', 'start': '872.28899', 'end': '873.50898', 'note': ''}, {'id': 'SDRW2100000002.1.1.410', 'form': '좋았어.', 'original_form': '좋았어.', 'speaker_id': 'SD2100002', 'start': '873.91902', 'end': '874.73903', 'note': '발화겹침'}, {'id': 'SDRW2100000002.1.1.411', 'form': '다 추억이구만 그러면', 'original_form': '다 추억이구만 그러면', 'speaker_id': 'SD2100001', 'start': '874.06000', 'end': '876.17903', 'note': '발화겹침'}, {'id': 'SDRW2100000002.1.1.412', 'form': '얘기 나온 김에 메뉴를 추려보자.', 'original_form': '얘기 나온 김에 메뉴를 추려보자.', 'speaker_id': 'SD2100001', 'start': '876.49643', 'end': '878.95900', 'note': ''}, {'id': 'SDRW2100000002.1.1.413', 'form': '그 치킨이랑 떡볶이랑', 'original_form': '그 치킨이랑 떡볶이랑', 'speaker_id': 'SD2100001', 'start': '878.95900', 'end': '881.92902', 'note': ''}, {'id': 'SDRW2100000002.1.1.414', 'form': '아니 갑자기 너무 패스트푸드 위주로 됐는데?', 'original_form': '아니 갑자기 너무 패스트푸드 위주로 됐는데?', 'speaker_id': 'SD2100001', 'start': '882.53273', 'end': '884.95898', 'note': '발화겹침'}, {'id': 'SDRW2100000002.1.1.415', 'form': '왜 난 치킨 좋아 치킨은 건강 음식이라 생각해.', 'original_form': '왜 난 치킨 좋아 치킨은 건강 음식이라 생각해.', 'speaker_id': 'SD2100002', 'start': '884.82898', 'end': '888.52899', 'note': '발화겹침'}, {'id': 'SDRW2100000002.1.1.416', 'form': '그래 맞아 단백질이니까.', 'original_form': '그래 맞아 단백질이니까.', 'speaker_id': 'SD2100001', 'start': '889.05902', 'end': '891.08901', 'note': ''}, {'id': 'SDRW2100000002.1.1.417', 'form': '맞아.', 'original_form': '맞아.', 'speaker_id': 'SD2100002', 'start': '891.52902', 'end': '892.25900', 'note': '발화겹침'}, {'id': 'SDRW2100000002.1.1.418', 'form': '맞아.', 'original_form': '맞아.', 'speaker_id': 'SD2100001', 'start': '892.09902', 'end': '892.58901', 'note': '발화겹침'}, {'id': 'SDRW2100000002.1.1.419', 'form': '그리고 구운 치킨을 먹으면 괜찮아.', 'original_form': '그리고 구운 치킨을 먹으면 괜찮아.', 'speaker_id': 'SD2100002', 'start': '892.55000', 'end': '896.15902', 'note': '발화겹침'}, {'id': 'SDRW2100000002.1.1.420', 'form': '그러면 굽네 배달해서 먹자.', 'original_form': '그러면 굽네 배달해서 먹자.', 'speaker_id': 'SD2100001', 'start': '896.44900', 'end': '899.01897', 'note': ''}, {'id': 'SDRW2100000002.1.1.421', 'form': '그래.', 'original_form': '그래.', 'speaker_id': 'SD2100002', 'start': '899.03899', 'end': '899.71901', 'note': ''}]}]}\n",
      "================================================================================================================================================================================================================================================================================================================================================================================================================================================================================================================================================================================================================================================================================================================================================================================================================================================================================================================================================================================================================================================================================================================================================================================================================================================================================================================================================================================================================================================================================================================================================================================================================================================================================================================================================================================================================================================================================================================================================================================================================================================================================================================================================================================================================================================================================================================================================================================================================================================================================================================================================================================================================================================================================================================================================================================================================================================================================================================================================================================================================================================================================================================================================================================================================================================================================================================================================================================================================================================================================================================================================================================================================================================================================================================================================================================================================================================================================================================================================================================================================================================================================================================================================================\n"
     ]
    }
   ],
   "source": [
    "for file in glob.glob('data/*[12].json'):\n",
    "    with open(file, encoding=\"utf8\") as f:\n",
    "        docs = json.loads(f.read())\n",
    "    print(type(docs))\n",
    "    print(docs)\n",
    "    print(\"=\"*4000)"
   ]
  },
  {
   "cell_type": "markdown",
   "id": "85032694",
   "metadata": {},
   "source": [
    "# Putting All Together"
   ]
  },
  {
   "cell_type": "markdown",
   "id": "39042b1c",
   "metadata": {},
   "source": [
    "## Processing a single file"
   ]
  },
  {
   "cell_type": "code",
   "execution_count": 95,
   "id": "1193ee56",
   "metadata": {},
   "outputs": [
    {
     "name": "stdout",
     "output_type": "stream",
     "text": [
      "{\n",
      "  \"id\": \"SDRW2100000001\",\n",
      "  \"metadata\": {\n",
      "    \"title\": \"국립국어원 구어 말뭉치 SDRW2100000001\",\n",
      "    \"creator\": \"국립국어원\",\n",
      "    \"distributor\": \"국립국어원\",\n",
      "    \"year\": \"2021\",\n",
      "    \"category\": \"구어 > 사적대화 > 일상대화\",\n",
      "    \"annotation_level\": [\n",
      "      \"원시\"\n",
      "    ],\n",
      "    \"sampling\": \"본문 전체\"\n",
      "  },\n",
      "  \"document\": [\n",
      "    {\n",
      "      \"id\": \"SDRW2100000001.1\",\n",
      "      \"metadata\": {\n",
      "        \"title\": \"2인 일상 대화\",\n",
      "        \"author\": \"개인 발화자\",\n",
      "        \"publisher\": \"개인 발화 녹음\",\n",
      "        \"date\": \"20210805\",\n",
      "        \"topic\": \"음악 > 음악취향, 아이돌\",\n",
      "        \"speaker\": [\n",
      "          {\n",
      "            \"id\": \"SD2100001\",\n",
      "            \"age\": \"20대\",\n",
      "            \"occupation\": \"학생\",\n",
      "            \"sex\": \"여성\",\n",
      "            \"birthplace\": \"서울\",\n",
      "            \"principal_residence\": \"경기\",\n",
      "            \"current_residence\": \"서울\",\n",
      "            \"education\": \"대재\"\n",
      "          },\n",
      "          {\n",
      "            \"id\": \"SD2100002\",\n",
      "            \"age\": \"20대\",\n",
      "            \"occupation\": \"학생\",\n",
      "            \"sex\": \"여성\",\n",
      "            \"birthplace\": \"전남\",\n",
      "            \"principal_residence\": \"서울\",\n",
      "            \"current_residence\": \"서울\",\n",
      "            \"education\": \"대재\"\n",
      "          }\n",
      "        ],\n",
      "        \"setting\": {\n",
      "          \"relation\": \"친구\"\n",
      "        }\n",
      "      },\n",
      "      \"utterance\": [\n",
      "        {\n",
      "          \"id\": \"SDRW2100000001.1.1.1\",\n",
      "          \"form\": \"너 그래 가지고 우리 저번에 호텔 갔을 때\",\n",
      "          \"original_form\": \"너 그래 가지고 우리 저번에 호텔 갔을 때\",\n",
      "          \"speaker_id\": \"SD2100001\",\n",
      "          \"start\": \"1.58000\",\n",
      "          \"end\": \"5.30400\",\n",
      "          \"note\": \"\"\n",
      "        },\n",
      "        {\n",
      "          \"id\": \"SDRW2100000001.1.1.421\",\n",
      "          \"form\": \"스트리밍 하는 게 나을 것 같아.\",\n",
      "          \"original_form\": \"쓰트리밍 하는 게 나을 것 같아.\",\n",
      "          \"speaker_id\": \"SD2100002\",\n",
      "          \"start\": \"915.10000\",\n",
      "          \"end\": \"917.48898\",\n",
      "          \"note\": \"발화겹침\"\n",
      "        },\n",
      "        {\n",
      "          \"id\": \"SDRW2100000001.1.1.422\",\n",
      "          \"form\": \"음\",\n",
      "          \"original_form\": \"음\",\n",
      "          \"speaker_id\": \"SD2100001\",\n",
      "          \"start\": \"917.47903\",\n",
      "          \"end\": \"918.38900\",\n",
      "          \"note\": \"발화겹침\"\n",
      "        }\n",
      "      ]\n",
      "    }\n",
      "  ]\n",
      "}\n"
     ]
    }
   ],
   "source": [
    "file = \"./data/SDRW2100000001_test.json\"\n",
    "import json\n",
    "with open(file, encoding=\"utf8\") as f:\n",
    "    docs = json.loads(f.read())\n",
    "#print(type(docs))\n",
    "#print(docs)\n",
    "\n",
    "json_formatted_str = json.dumps(docs, indent=2, ensure_ascii=False)\n",
    "print(json_formatted_str)\n"
   ]
  },
  {
   "cell_type": "code",
   "execution_count": 185,
   "id": "289e4ff0",
   "metadata": {},
   "outputs": [
    {
     "data": {
      "text/html": [
       "<div>\n",
       "<style scoped>\n",
       "    .dataframe tbody tr th:only-of-type {\n",
       "        vertical-align: middle;\n",
       "    }\n",
       "\n",
       "    .dataframe tbody tr th {\n",
       "        vertical-align: top;\n",
       "    }\n",
       "\n",
       "    .dataframe thead th {\n",
       "        text-align: right;\n",
       "    }\n",
       "</style>\n",
       "<table border=\"1\" class=\"dataframe\">\n",
       "  <thead>\n",
       "    <tr style=\"text-align: right;\">\n",
       "      <th></th>\n",
       "      <th>doc_id</th>\n",
       "      <th>docs_title</th>\n",
       "      <th>docs_creator</th>\n",
       "      <th>docs_distributor</th>\n",
       "      <th>docs_year</th>\n",
       "      <th>docs_category</th>\n",
       "      <th>docs_annotation_level</th>\n",
       "      <th>docs_sampling</th>\n",
       "    </tr>\n",
       "  </thead>\n",
       "  <tbody>\n",
       "    <tr>\n",
       "      <th>0</th>\n",
       "      <td>SDRW2100000001</td>\n",
       "      <td>국립국어원 구어 말뭉치 SDRW2100000001</td>\n",
       "      <td>국립국어원</td>\n",
       "      <td>국립국어원</td>\n",
       "      <td>2021</td>\n",
       "      <td>구어 &gt; 사적대화 &gt; 일상대화</td>\n",
       "      <td>원시</td>\n",
       "      <td>본문 전체</td>\n",
       "    </tr>\n",
       "  </tbody>\n",
       "</table>\n",
       "</div>"
      ],
      "text/plain": [
       "           doc_id                   docs_title docs_creator docs_distributor  \\\n",
       "0  SDRW2100000001  국립국어원 구어 말뭉치 SDRW2100000001        국립국어원            국립국어원   \n",
       "\n",
       "  docs_year     docs_category docs_annotation_level docs_sampling  \n",
       "0      2021  구어 > 사적대화 > 일상대화                    원시         본문 전체  "
      ]
     },
     "execution_count": 185,
     "metadata": {},
     "output_type": "execute_result"
    }
   ],
   "source": [
    "# ID\n",
    "############\n",
    "docs_id = docs['id']\n",
    "docs_meta = docs['metadata']\n",
    "\n",
    "docs_id_list = []\n",
    "docs_id_list.append(docs['id'])\n",
    "docs_id_df = pd.DataFrame(docs_id_list, columns = ['doc_id'])\n",
    "\n",
    "# METADATE\n",
    "############\n",
    "docs_title = docs['metadata']['title']\n",
    "docs_creator = docs['metadata']['creator']\n",
    "docs_distributor = docs['metadata']['distributor']\n",
    "docs_year =  docs['metadata']['year']\n",
    "docs_category =  docs['metadata']['category']\n",
    "# annotation_level - list ['원시'] --> [0]을 사용하여 str로 \n",
    "docs_annotation_level =  docs['metadata']['annotation_level'][0]\n",
    "docs_sampling =  docs['metadata']['sampling']\n",
    "\n",
    "docs_title_list = []; docs_creator_list = []\n",
    "docs_distributor_list = []; docs_year_list = []\n",
    "docs_category_list = []; docs_annotation_level_list = []\n",
    "docs_sampling_list = []\n",
    "\n",
    "docs_title_list.append(docs_title)\n",
    "docs_creator_list.append(docs_creator)\n",
    "docs_distributor_list.append(docs_distributor)\n",
    "docs_year_list.append(docs_year)\n",
    "docs_category_list.append(docs_category)\n",
    "docs_annotation_level_list.append(docs_annotation_level)\n",
    "docs_sampling_list.append(docs_sampling)\n",
    "\n",
    "docs_title_df = pd.DataFrame(docs_title_list, columns = ['docs_title'])\n",
    "docs_creator_df = pd.DataFrame(docs_creator_list, columns = ['docs_creator'])\n",
    "docs_distributor_df = pd.DataFrame(docs_distributor_list, columns = ['docs_distributor'])\n",
    "docs_year_df = pd.DataFrame(docs_year_list, columns = ['docs_year'])\n",
    "docs_category_df = pd.DataFrame(docs_category_list, columns = ['docs_category'])\n",
    "docs_annotation_level_df = pd.DataFrame(docs_annotation_level_list, \n",
    "                                        columns = ['docs_annotation_level'])\n",
    "docs_sampling_df = pd.DataFrame(docs_sampling_list, columns = ['docs_sampling'])\n",
    "\n",
    "docs_metadata_df = pd.concat([docs_id_df, docs_title_df, docs_creator_df, \n",
    "                             docs_distributor_df, docs_year_df, docs_category_df,\n",
    "                             docs_annotation_level_df, docs_sampling_df], \n",
    "                             axis=1)\n",
    "# to_csv\n",
    "docs_metadata_df.to_csv(\"docs_metadata.csv\")\n",
    "\n",
    "docs_metadata_df"
   ]
  },
  {
   "cell_type": "code",
   "execution_count": 186,
   "id": "51e13064",
   "metadata": {},
   "outputs": [
    {
     "name": "stdout",
     "output_type": "stream",
     "text": [
      "SDRW2100000001.1 2인 일상 대화 개인 발화 녹음 20210805 음악 > 음악취향, 아이돌 친구\n"
     ]
    },
    {
     "data": {
      "text/html": [
       "<div>\n",
       "<style scoped>\n",
       "    .dataframe tbody tr th:only-of-type {\n",
       "        vertical-align: middle;\n",
       "    }\n",
       "\n",
       "    .dataframe tbody tr th {\n",
       "        vertical-align: top;\n",
       "    }\n",
       "\n",
       "    .dataframe thead th {\n",
       "        text-align: right;\n",
       "    }\n",
       "</style>\n",
       "<table border=\"1\" class=\"dataframe\">\n",
       "  <thead>\n",
       "    <tr style=\"text-align: right;\">\n",
       "      <th></th>\n",
       "      <th>utt_meta_id</th>\n",
       "      <th>utt_title</th>\n",
       "      <th>utt_publisher</th>\n",
       "      <th>utt_date</th>\n",
       "      <th>utt_topic</th>\n",
       "      <th>utt_setting</th>\n",
       "    </tr>\n",
       "  </thead>\n",
       "  <tbody>\n",
       "    <tr>\n",
       "      <th>0</th>\n",
       "      <td>SDRW2100000001.1</td>\n",
       "      <td>2인 일상 대화</td>\n",
       "      <td>개인 발화 녹음</td>\n",
       "      <td>20210805</td>\n",
       "      <td>음악 &gt; 음악취향, 아이돌</td>\n",
       "      <td>친구</td>\n",
       "    </tr>\n",
       "  </tbody>\n",
       "</table>\n",
       "</div>"
      ],
      "text/plain": [
       "        utt_meta_id utt_title utt_publisher  utt_date       utt_topic  \\\n",
       "0  SDRW2100000001.1  2인 일상 대화      개인 발화 녹음  20210805  음악 > 음악취향, 아이돌   \n",
       "\n",
       "  utt_setting  \n",
       "0          친구  "
      ]
     },
     "execution_count": 186,
     "metadata": {},
     "output_type": "execute_result"
    }
   ],
   "source": [
    "# UTTERANCE LEVEL\n",
    "# - metadata\n",
    "# - speakers\n",
    "# - setting\n",
    "# - utterance\n",
    "####################\n",
    "\n",
    "# UTTERANCE METADATA\n",
    "#############\n",
    "\n",
    "utt_meta_id_list = []; utt_title_list = []\n",
    "utt_publisher_list = []; utt_date_list = []\n",
    "utt_topic_list = []; utt_setting_list = []\n",
    "\n",
    "utt_meta_id = docs['document'][0]['id']\n",
    "utt_title = docs['document'][0]['metadata']['title']\n",
    "utt_publisher = docs['document'][0]['metadata']['publisher']\n",
    "utt_date = docs['document'][0]['metadata']['date']\n",
    "utt_topic = docs['document'][0]['metadata']['topic']\n",
    "utt_setting = docs['document'][0]['metadata']['setting']['relation']\n",
    "\n",
    "print(utt_meta_id, utt_title, utt_publisher, utt_date, utt_topic, utt_setting)\n",
    "\n",
    "utt_meta_id_list.append(utt_meta_id)\n",
    "utt_title_list.append(utt_title)\n",
    "utt_publisher_list.append(utt_publisher)\n",
    "utt_date_list.append(utt_date)\n",
    "utt_topic_list.append(utt_topic)\n",
    "utt_setting_list.append(utt_setting)\n",
    "\n",
    "utt_meta_df = pd.DataFrame(utt_meta_id_list, columns = ['utt_meta_id'])\n",
    "utt_title_df = pd.DataFrame(utt_title_list, columns = ['utt_title'])\n",
    "utt_publisher_df = pd.DataFrame(utt_publisher_list, columns = ['utt_publisher'])\n",
    "utt_date_df = pd.DataFrame(utt_date_list, columns = ['utt_date'])\n",
    "utt_topic_df = pd.DataFrame(utt_topic_list, columns = ['utt_topic'])\n",
    "utt_setting_df = pd.DataFrame(utt_setting_list, columns = ['utt_setting'])\n",
    "\n",
    "\n",
    "utt_meta_df = pd.concat([utt_meta_df, utt_title_df, \n",
    "                        utt_publisher_df, utt_date_df,\n",
    "                        utt_topic_df, utt_setting_df], axis=1)\n",
    "utt_meta_df\n"
   ]
  },
  {
   "cell_type": "code",
   "execution_count": 188,
   "id": "db1b175c",
   "metadata": {},
   "outputs": [
    {
     "data": {
      "text/html": [
       "<div>\n",
       "<style scoped>\n",
       "    .dataframe tbody tr th:only-of-type {\n",
       "        vertical-align: middle;\n",
       "    }\n",
       "\n",
       "    .dataframe tbody tr th {\n",
       "        vertical-align: top;\n",
       "    }\n",
       "\n",
       "    .dataframe thead th {\n",
       "        text-align: right;\n",
       "    }\n",
       "</style>\n",
       "<table border=\"1\" class=\"dataframe\">\n",
       "  <thead>\n",
       "    <tr style=\"text-align: right;\">\n",
       "      <th></th>\n",
       "      <th>doc_id</th>\n",
       "      <th>docs_title</th>\n",
       "      <th>docs_creator</th>\n",
       "      <th>docs_distributor</th>\n",
       "      <th>docs_year</th>\n",
       "      <th>docs_category</th>\n",
       "      <th>docs_annotation_level</th>\n",
       "      <th>docs_sampling</th>\n",
       "      <th>utt_meta_id</th>\n",
       "      <th>utt_title</th>\n",
       "      <th>utt_publisher</th>\n",
       "      <th>utt_date</th>\n",
       "      <th>utt_topic</th>\n",
       "      <th>utt_setting</th>\n",
       "    </tr>\n",
       "  </thead>\n",
       "  <tbody>\n",
       "    <tr>\n",
       "      <th>0</th>\n",
       "      <td>SDRW2100000001</td>\n",
       "      <td>국립국어원 구어 말뭉치 SDRW2100000001</td>\n",
       "      <td>국립국어원</td>\n",
       "      <td>국립국어원</td>\n",
       "      <td>2021</td>\n",
       "      <td>구어 &gt; 사적대화 &gt; 일상대화</td>\n",
       "      <td>원시</td>\n",
       "      <td>본문 전체</td>\n",
       "      <td>SDRW2100000001.1</td>\n",
       "      <td>2인 일상 대화</td>\n",
       "      <td>개인 발화 녹음</td>\n",
       "      <td>20210805</td>\n",
       "      <td>음악 &gt; 음악취향, 아이돌</td>\n",
       "      <td>친구</td>\n",
       "    </tr>\n",
       "  </tbody>\n",
       "</table>\n",
       "</div>"
      ],
      "text/plain": [
       "           doc_id                   docs_title docs_creator docs_distributor  \\\n",
       "0  SDRW2100000001  국립국어원 구어 말뭉치 SDRW2100000001        국립국어원            국립국어원   \n",
       "\n",
       "  docs_year     docs_category docs_annotation_level docs_sampling  \\\n",
       "0      2021  구어 > 사적대화 > 일상대화                    원시         본문 전체   \n",
       "\n",
       "        utt_meta_id utt_title utt_publisher  utt_date       utt_topic  \\\n",
       "0  SDRW2100000001.1  2인 일상 대화      개인 발화 녹음  20210805  음악 > 음악취향, 아이돌   \n",
       "\n",
       "  utt_setting  \n",
       "0          친구  "
      ]
     },
     "execution_count": 188,
     "metadata": {},
     "output_type": "execute_result"
    }
   ],
   "source": [
    "docs_meta_final = pd.concat([docs_metadata_df,utt_meta_df], axis=1)"
   ]
  },
  {
   "cell_type": "code",
   "execution_count": 187,
   "id": "c7039c5f",
   "metadata": {},
   "outputs": [
    {
     "data": {
      "text/html": [
       "<div>\n",
       "<style scoped>\n",
       "    .dataframe tbody tr th:only-of-type {\n",
       "        vertical-align: middle;\n",
       "    }\n",
       "\n",
       "    .dataframe tbody tr th {\n",
       "        vertical-align: top;\n",
       "    }\n",
       "\n",
       "    .dataframe thead th {\n",
       "        text-align: right;\n",
       "    }\n",
       "</style>\n",
       "<table border=\"1\" class=\"dataframe\">\n",
       "  <thead>\n",
       "    <tr style=\"text-align: right;\">\n",
       "      <th></th>\n",
       "      <th>doc_id</th>\n",
       "      <th>docs_title</th>\n",
       "      <th>docs_creator</th>\n",
       "      <th>docs_distributor</th>\n",
       "      <th>docs_year</th>\n",
       "      <th>docs_category</th>\n",
       "      <th>docs_annotation_level</th>\n",
       "      <th>docs_sampling</th>\n",
       "      <th>utt_meta_id</th>\n",
       "      <th>utt_title</th>\n",
       "      <th>utt_publisher</th>\n",
       "      <th>utt_date</th>\n",
       "      <th>utt_topic</th>\n",
       "      <th>utt_setting</th>\n",
       "    </tr>\n",
       "  </thead>\n",
       "  <tbody>\n",
       "    <tr>\n",
       "      <th>0</th>\n",
       "      <td>SDRW2100000001</td>\n",
       "      <td>국립국어원 구어 말뭉치 SDRW2100000001</td>\n",
       "      <td>국립국어원</td>\n",
       "      <td>국립국어원</td>\n",
       "      <td>2021</td>\n",
       "      <td>구어 &gt; 사적대화 &gt; 일상대화</td>\n",
       "      <td>원시</td>\n",
       "      <td>본문 전체</td>\n",
       "      <td>SDRW2100000001.1</td>\n",
       "      <td>2인 일상 대화</td>\n",
       "      <td>개인 발화 녹음</td>\n",
       "      <td>20210805</td>\n",
       "      <td>음악 &gt; 음악취향, 아이돌</td>\n",
       "      <td>친구</td>\n",
       "    </tr>\n",
       "  </tbody>\n",
       "</table>\n",
       "</div>"
      ],
      "text/plain": [
       "           doc_id                   docs_title docs_creator docs_distributor  \\\n",
       "0  SDRW2100000001  국립국어원 구어 말뭉치 SDRW2100000001        국립국어원            국립국어원   \n",
       "\n",
       "  docs_year     docs_category docs_annotation_level docs_sampling  \\\n",
       "0      2021  구어 > 사적대화 > 일상대화                    원시         본문 전체   \n",
       "\n",
       "        utt_meta_id utt_title utt_publisher  utt_date       utt_topic  \\\n",
       "0  SDRW2100000001.1  2인 일상 대화      개인 발화 녹음  20210805  음악 > 음악취향, 아이돌   \n",
       "\n",
       "  utt_setting  \n",
       "0          친구  "
      ]
     },
     "execution_count": 187,
     "metadata": {},
     "output_type": "execute_result"
    }
   ],
   "source": []
  },
  {
   "cell_type": "code",
   "execution_count": 110,
   "id": "e8cd8be6",
   "metadata": {},
   "outputs": [
    {
     "name": "stdout",
     "output_type": "stream",
     "text": [
      "speaker_1 SD2100001 20대 학생 여성 서울 경기 서울 대재\n",
      "speaker_2 SD2100002 20대 학생 여성 전남 서울 서울 대재\n",
      "['speaker_1', 'speaker_2'] ['SD2100001', 'SD2100002', 'SD2100001']\n"
     ]
    },
    {
     "data": {
      "text/html": [
       "<div>\n",
       "<style scoped>\n",
       "    .dataframe tbody tr th:only-of-type {\n",
       "        vertical-align: middle;\n",
       "    }\n",
       "\n",
       "    .dataframe tbody tr th {\n",
       "        vertical-align: top;\n",
       "    }\n",
       "\n",
       "    .dataframe thead th {\n",
       "        text-align: right;\n",
       "    }\n",
       "</style>\n",
       "<table border=\"1\" class=\"dataframe\">\n",
       "  <thead>\n",
       "    <tr style=\"text-align: right;\">\n",
       "      <th></th>\n",
       "      <th>speaker_index</th>\n",
       "      <th>speaker_id</th>\n",
       "      <th>speaker_age</th>\n",
       "      <th>speaker_occupation</th>\n",
       "      <th>speaker_sex</th>\n",
       "      <th>speaker_birthplace</th>\n",
       "      <th>speaker_principal_residence</th>\n",
       "      <th>speaker_current_residence</th>\n",
       "      <th>speaker_education</th>\n",
       "    </tr>\n",
       "  </thead>\n",
       "  <tbody>\n",
       "    <tr>\n",
       "      <th>0</th>\n",
       "      <td>speaker_1</td>\n",
       "      <td>SD2100001</td>\n",
       "      <td>20대</td>\n",
       "      <td>학생</td>\n",
       "      <td>여성</td>\n",
       "      <td>서울</td>\n",
       "      <td>경기</td>\n",
       "      <td>서울</td>\n",
       "      <td>대재</td>\n",
       "    </tr>\n",
       "    <tr>\n",
       "      <th>1</th>\n",
       "      <td>speaker_2</td>\n",
       "      <td>SD2100002</td>\n",
       "      <td>20대</td>\n",
       "      <td>학생</td>\n",
       "      <td>여성</td>\n",
       "      <td>전남</td>\n",
       "      <td>서울</td>\n",
       "      <td>서울</td>\n",
       "      <td>대재</td>\n",
       "    </tr>\n",
       "  </tbody>\n",
       "</table>\n",
       "</div>"
      ],
      "text/plain": [
       "  speaker_index speaker_id speaker_age speaker_occupation speaker_sex  \\\n",
       "0     speaker_1  SD2100001         20대                 학생          여성   \n",
       "1     speaker_2  SD2100002         20대                 학생          여성   \n",
       "\n",
       "  speaker_birthplace speaker_principal_residence speaker_current_residence  \\\n",
       "0                 서울                          경기                        서울   \n",
       "1                 전남                          서울                        서울   \n",
       "\n",
       "  speaker_education  \n",
       "0                대재  \n",
       "1                대재  "
      ]
     },
     "execution_count": 110,
     "metadata": {},
     "output_type": "execute_result"
    }
   ],
   "source": [
    "# SPEAKERS\n",
    "################\n",
    "\n",
    "speaker_index_list = []; speaker_id_list = []; speaker_age_list = []\n",
    "speaker_occupation_list = []; speaker_principal_residence_list= []\n",
    "speaker_current_residence_list = []; speaker_sex_list = []\n",
    "speaker_birthplace_list = []; speaker_education_list = []\n",
    "\n",
    "for doc in docs['document']:\n",
    "    #print(doc['metadata']['speaker'])\n",
    "    speakers = doc['metadata']['speaker']\n",
    "    #print(type(speakers), dir(list(speakers)))\n",
    "    #print(speakers)\n",
    "    speaker_index = 1\n",
    "    \n",
    "    speaker_list = []\n",
    "    \n",
    "    for sp in speakers:\n",
    "        print(f\"speaker_{speaker_index}\", sp['id'], sp['age'], end=\" \") \n",
    "        print(sp['occupation'], sp['sex'], sp['birthplace'], end=\" \")\n",
    "        print(sp['principal_residence'], sp['current_residence'], end=\" \")\n",
    "        print(sp['education'])\n",
    "        speaker_index_list.append(f\"speaker_{speaker_index}\")\n",
    "        speaker_id_list.append(sp['id'])\n",
    "        speaker_age_list.append(sp['age'])\n",
    "        speaker_occupation_list.append(sp['occupation'])\n",
    "        speaker_principal_residence_list.append(sp['principal_residence'])\n",
    "        speaker_current_residence_list.append(sp['current_residence'])\n",
    "        speaker_sex_list.append(sp['sex'])\n",
    "        speaker_birthplace_list.append(sp['birthplace'])\n",
    "        speaker_education_list.append(sp['education'])\n",
    "        speaker_index += 1\n",
    "print(speaker_indices, speaker_ids)\n",
    "\n",
    "speaker_index_df = pd.DataFrame(speaker_index_list, \n",
    "                                columns = ['speaker_index'])\n",
    "speaker_id_df = pd.DataFrame(speaker_id_list, \n",
    "                             columns = ['speaker_id'])\n",
    "speaker_age_df = pd.DataFrame(speaker_age_list, \n",
    "                             columns = ['speaker_age'])\n",
    "speaker_occupation_df = pd.DataFrame(speaker_occupation_list, \n",
    "                             columns = ['speaker_occupation'])\n",
    "speaker_sex_df = pd.DataFrame(speaker_sex_list, \n",
    "                             columns = ['speaker_sex'])\n",
    "speaker_birthplace_df = pd.DataFrame(speaker_birthplace_list, \n",
    "                             columns = ['speaker_birthplace'])\n",
    "speaker_principal_residence_df = pd.DataFrame(speaker_principal_residence_list, \n",
    "                             columns = ['speaker_principal_residence'])\n",
    "speaker_current_residence_df = pd.DataFrame(speaker_current_residence_list, \n",
    "                             columns = ['speaker_current_residence'])\n",
    "speaker_education_df = pd.DataFrame(speaker_education_list, \n",
    "                             columns = ['speaker_education'])\n",
    "\n",
    "speaker_df = pd.concat([speaker_index_df, speaker_id_df, \n",
    "                       speaker_age_df, speaker_occupation_df,\n",
    "                       speaker_sex_df, speaker_birthplace_df,\n",
    "                       speaker_principal_residence_df, \n",
    "                       speaker_current_residence_df,\n",
    "                       speaker_education_df], axis=1)\n",
    "speaker_df\n"
   ]
  },
  {
   "cell_type": "code",
   "execution_count": null,
   "id": "a92f96d8",
   "metadata": {},
   "outputs": [],
   "source": []
  },
  {
   "cell_type": "code",
   "execution_count": 111,
   "id": "bd65b1ad",
   "metadata": {},
   "outputs": [
    {
     "name": "stdout",
     "output_type": "stream",
     "text": [
      "SDRW2100000001\n"
     ]
    }
   ],
   "source": [
    "print(docs_id)"
   ]
  },
  {
   "cell_type": "code",
   "execution_count": 112,
   "id": "e0eadcf1",
   "metadata": {},
   "outputs": [
    {
     "name": "stdout",
     "output_type": "stream",
     "text": [
      "SDRW2100000001 SDRW2100000001.1.1.1 너 그래 가지고 우리 저번에 호텔 갔을 때 너 그래 가지고 우리 저번에 호텔 갔을 때 SD2100001 1.58000 5.30400 NA\n",
      "SDRW2100000001 SDRW2100000001.1.1.421 스트리밍 하는 게 나을 것 같아. 쓰트리밍 하는 게 나을 것 같아. SD2100002 915.10000 917.48898 발화겹침\n",
      "SDRW2100000001 SDRW2100000001.1.1.422 음 음 SD2100001 917.47903 918.38900 발화겹침\n"
     ]
    },
    {
     "data": {
      "text/html": [
       "<div>\n",
       "<style scoped>\n",
       "    .dataframe tbody tr th:only-of-type {\n",
       "        vertical-align: middle;\n",
       "    }\n",
       "\n",
       "    .dataframe tbody tr th {\n",
       "        vertical-align: top;\n",
       "    }\n",
       "\n",
       "    .dataframe thead th {\n",
       "        text-align: right;\n",
       "    }\n",
       "</style>\n",
       "<table border=\"1\" class=\"dataframe\">\n",
       "  <thead>\n",
       "    <tr style=\"text-align: right;\">\n",
       "      <th></th>\n",
       "      <th>doc_id</th>\n",
       "      <th>utt_id</th>\n",
       "      <th>speaker_id</th>\n",
       "      <th>utt_form</th>\n",
       "      <th>utt_original_form</th>\n",
       "    </tr>\n",
       "  </thead>\n",
       "  <tbody>\n",
       "    <tr>\n",
       "      <th>0</th>\n",
       "      <td>SDRW2100000001</td>\n",
       "      <td>SDRW2100000001.1.1.1</td>\n",
       "      <td>SD2100001</td>\n",
       "      <td>너 그래 가지고 우리 저번에 호텔 갔을 때</td>\n",
       "      <td>너 그래 가지고 우리 저번에 호텔 갔을 때</td>\n",
       "    </tr>\n",
       "    <tr>\n",
       "      <th>1</th>\n",
       "      <td>SDRW2100000001</td>\n",
       "      <td>SDRW2100000001.1.1.421</td>\n",
       "      <td>SD2100002</td>\n",
       "      <td>스트리밍 하는 게 나을 것 같아.</td>\n",
       "      <td>쓰트리밍 하는 게 나을 것 같아.</td>\n",
       "    </tr>\n",
       "    <tr>\n",
       "      <th>2</th>\n",
       "      <td>SDRW2100000001</td>\n",
       "      <td>SDRW2100000001.1.1.422</td>\n",
       "      <td>SD2100001</td>\n",
       "      <td>음</td>\n",
       "      <td>음</td>\n",
       "    </tr>\n",
       "  </tbody>\n",
       "</table>\n",
       "</div>"
      ],
      "text/plain": [
       "           doc_id                  utt_id speaker_id                 utt_form  \\\n",
       "0  SDRW2100000001    SDRW2100000001.1.1.1  SD2100001  너 그래 가지고 우리 저번에 호텔 갔을 때   \n",
       "1  SDRW2100000001  SDRW2100000001.1.1.421  SD2100002       스트리밍 하는 게 나을 것 같아.   \n",
       "2  SDRW2100000001  SDRW2100000001.1.1.422  SD2100001                        음   \n",
       "\n",
       "         utt_original_form  \n",
       "0  너 그래 가지고 우리 저번에 호텔 갔을 때  \n",
       "1       쓰트리밍 하는 게 나을 것 같아.  \n",
       "2                        음  "
      ]
     },
     "execution_count": 112,
     "metadata": {},
     "output_type": "execute_result"
    }
   ],
   "source": [
    "# UTTERANCES\n",
    "###################\n",
    "utt_docs_id = []; # merge할 때 사용하기 위해 \n",
    "utt_ids = []; utt_forms = []; utt_oforms = []\n",
    "utt_speaker_ids = []; utt_starts = []; utt_ends = []\n",
    "utt_notes = []; utt_indices = []\n",
    "for doc in docs['document']:\n",
    "    utts = doc['utterance']\n",
    "    utt_index = 1\n",
    "    for utt in utts:\n",
    "        utt_id = utt['id']\n",
    "        utt_form = utt['form']\n",
    "        utt_oform = utt['original_form']\n",
    "        utt_speaker_id = utt['speaker_id']\n",
    "        utt_start = utt['start']\n",
    "        utt_end = utt['end']\n",
    "        if utt['note'] == '': utt['note'] = \"NA\"\n",
    "        utt_note = utt['note']\n",
    "        utt_index += 1\n",
    "        #print(utt_id, utt_speaker_id, utt_form, '|', utt_oform, '|', utt_start, utt_end, utt_note)\n",
    "        utt_docs_id.append(docs_id)\n",
    "        utt_ids.append(utt_id); utt_forms.append(utt_form); \n",
    "        utt_oforms.append(utt_oform)\n",
    "        utt_speaker_ids.append(utt_speaker_id); \n",
    "        utt_starts.append(utt_start)\n",
    "        utt_ends.append(utt_end); \n",
    "        utt_notes.append(utt_note); \n",
    "        utt_indices.append('utt_index')\n",
    "\n",
    "        print(docs_id, utt_id, utt_form, utt_oform, utt_speaker_id, utt_start, utt_end, utt_note)\n",
    "\n",
    "utt_docs_id_df = pd.DataFrame(utt_docs_id, columns = ['doc_id'])\n",
    "\n",
    "utt_ids_df = pd.DataFrame(utt_ids, columns = ['utt_id'])\n",
    "utt_forms_df = pd.DataFrame(utt_forms, columns = ['utt_form'])\n",
    "utt_original_forms_df = pd.DataFrame(utt_oforms, columns = ['utt_original_form'])\n",
    "\n",
    "utt_speaker_ids_df = pd.DataFrame(utt_speaker_ids, \n",
    "                                  columns = ['speaker_id'])\n",
    "utt_df = pd.concat([utt_docs_id_df, utt_ids_df, utt_speaker_ids_df, utt_forms_df, \n",
    "                    utt_original_forms_df], axis=1)\n",
    "utt_df"
   ]
  },
  {
   "cell_type": "code",
   "execution_count": 113,
   "id": "8f802781",
   "metadata": {},
   "outputs": [
    {
     "data": {
      "text/html": [
       "<div>\n",
       "<style scoped>\n",
       "    .dataframe tbody tr th:only-of-type {\n",
       "        vertical-align: middle;\n",
       "    }\n",
       "\n",
       "    .dataframe tbody tr th {\n",
       "        vertical-align: top;\n",
       "    }\n",
       "\n",
       "    .dataframe thead th {\n",
       "        text-align: right;\n",
       "    }\n",
       "</style>\n",
       "<table border=\"1\" class=\"dataframe\">\n",
       "  <thead>\n",
       "    <tr style=\"text-align: right;\">\n",
       "      <th></th>\n",
       "      <th>doc_id</th>\n",
       "    </tr>\n",
       "  </thead>\n",
       "  <tbody>\n",
       "    <tr>\n",
       "      <th>0</th>\n",
       "      <td>SDRW2100000001</td>\n",
       "    </tr>\n",
       "    <tr>\n",
       "      <th>1</th>\n",
       "      <td>SDRW2100000001</td>\n",
       "    </tr>\n",
       "    <tr>\n",
       "      <th>2</th>\n",
       "      <td>SDRW2100000001</td>\n",
       "    </tr>\n",
       "  </tbody>\n",
       "</table>\n",
       "</div>"
      ],
      "text/plain": [
       "           doc_id\n",
       "0  SDRW2100000001\n",
       "1  SDRW2100000001\n",
       "2  SDRW2100000001"
      ]
     },
     "execution_count": 113,
     "metadata": {},
     "output_type": "execute_result"
    }
   ],
   "source": [
    "utt_docs_id_df"
   ]
  },
  {
   "cell_type": "code",
   "execution_count": 114,
   "id": "29602a03",
   "metadata": {},
   "outputs": [
    {
     "data": {
      "text/html": [
       "<div>\n",
       "<style scoped>\n",
       "    .dataframe tbody tr th:only-of-type {\n",
       "        vertical-align: middle;\n",
       "    }\n",
       "\n",
       "    .dataframe tbody tr th {\n",
       "        vertical-align: top;\n",
       "    }\n",
       "\n",
       "    .dataframe thead th {\n",
       "        text-align: right;\n",
       "    }\n",
       "</style>\n",
       "<table border=\"1\" class=\"dataframe\">\n",
       "  <thead>\n",
       "    <tr style=\"text-align: right;\">\n",
       "      <th></th>\n",
       "      <th>doc_id</th>\n",
       "      <th>utt_id</th>\n",
       "      <th>speaker_id</th>\n",
       "      <th>utt_form</th>\n",
       "      <th>utt_original_form</th>\n",
       "      <th>speaker_index</th>\n",
       "      <th>speaker_age</th>\n",
       "      <th>speaker_occupation</th>\n",
       "      <th>speaker_sex</th>\n",
       "      <th>speaker_birthplace</th>\n",
       "      <th>speaker_principal_residence</th>\n",
       "      <th>speaker_current_residence</th>\n",
       "      <th>speaker_education</th>\n",
       "    </tr>\n",
       "  </thead>\n",
       "  <tbody>\n",
       "    <tr>\n",
       "      <th>0</th>\n",
       "      <td>SDRW2100000001</td>\n",
       "      <td>SDRW2100000001.1.1.1</td>\n",
       "      <td>SD2100001</td>\n",
       "      <td>너 그래 가지고 우리 저번에 호텔 갔을 때</td>\n",
       "      <td>너 그래 가지고 우리 저번에 호텔 갔을 때</td>\n",
       "      <td>speaker_1</td>\n",
       "      <td>20대</td>\n",
       "      <td>학생</td>\n",
       "      <td>여성</td>\n",
       "      <td>서울</td>\n",
       "      <td>경기</td>\n",
       "      <td>서울</td>\n",
       "      <td>대재</td>\n",
       "    </tr>\n",
       "    <tr>\n",
       "      <th>1</th>\n",
       "      <td>SDRW2100000001</td>\n",
       "      <td>SDRW2100000001.1.1.422</td>\n",
       "      <td>SD2100001</td>\n",
       "      <td>음</td>\n",
       "      <td>음</td>\n",
       "      <td>speaker_1</td>\n",
       "      <td>20대</td>\n",
       "      <td>학생</td>\n",
       "      <td>여성</td>\n",
       "      <td>서울</td>\n",
       "      <td>경기</td>\n",
       "      <td>서울</td>\n",
       "      <td>대재</td>\n",
       "    </tr>\n",
       "    <tr>\n",
       "      <th>2</th>\n",
       "      <td>SDRW2100000001</td>\n",
       "      <td>SDRW2100000001.1.1.421</td>\n",
       "      <td>SD2100002</td>\n",
       "      <td>스트리밍 하는 게 나을 것 같아.</td>\n",
       "      <td>쓰트리밍 하는 게 나을 것 같아.</td>\n",
       "      <td>speaker_2</td>\n",
       "      <td>20대</td>\n",
       "      <td>학생</td>\n",
       "      <td>여성</td>\n",
       "      <td>전남</td>\n",
       "      <td>서울</td>\n",
       "      <td>서울</td>\n",
       "      <td>대재</td>\n",
       "    </tr>\n",
       "  </tbody>\n",
       "</table>\n",
       "</div>"
      ],
      "text/plain": [
       "           doc_id                  utt_id speaker_id                 utt_form  \\\n",
       "0  SDRW2100000001    SDRW2100000001.1.1.1  SD2100001  너 그래 가지고 우리 저번에 호텔 갔을 때   \n",
       "1  SDRW2100000001  SDRW2100000001.1.1.422  SD2100001                        음   \n",
       "2  SDRW2100000001  SDRW2100000001.1.1.421  SD2100002       스트리밍 하는 게 나을 것 같아.   \n",
       "\n",
       "         utt_original_form speaker_index speaker_age speaker_occupation  \\\n",
       "0  너 그래 가지고 우리 저번에 호텔 갔을 때     speaker_1         20대                 학생   \n",
       "1                        음     speaker_1         20대                 학생   \n",
       "2       쓰트리밍 하는 게 나을 것 같아.     speaker_2         20대                 학생   \n",
       "\n",
       "  speaker_sex speaker_birthplace speaker_principal_residence  \\\n",
       "0          여성                 서울                          경기   \n",
       "1          여성                 서울                          경기   \n",
       "2          여성                 전남                          서울   \n",
       "\n",
       "  speaker_current_residence speaker_education  \n",
       "0                        서울                대재  \n",
       "1                        서울                대재  \n",
       "2                        서울                대재  "
      ]
     },
     "execution_count": 114,
     "metadata": {},
     "output_type": "execute_result"
    }
   ],
   "source": [
    "## MERGE\n",
    "##############\n",
    "\n",
    "utt_df_final = utt_df.merge(speaker_df, on=\"speaker_id\")\n",
    "utt_df_final"
   ]
  },
  {
   "cell_type": "code",
   "execution_count": 115,
   "id": "020fa16d",
   "metadata": {},
   "outputs": [
    {
     "data": {
      "text/html": [
       "<div>\n",
       "<style scoped>\n",
       "    .dataframe tbody tr th:only-of-type {\n",
       "        vertical-align: middle;\n",
       "    }\n",
       "\n",
       "    .dataframe tbody tr th {\n",
       "        vertical-align: top;\n",
       "    }\n",
       "\n",
       "    .dataframe thead th {\n",
       "        text-align: right;\n",
       "    }\n",
       "</style>\n",
       "<table border=\"1\" class=\"dataframe\">\n",
       "  <thead>\n",
       "    <tr style=\"text-align: right;\">\n",
       "      <th></th>\n",
       "      <th>doc_id</th>\n",
       "      <th>docs_title</th>\n",
       "      <th>docs_creator</th>\n",
       "      <th>docs_distributor</th>\n",
       "      <th>docs_year</th>\n",
       "      <th>docs_category</th>\n",
       "      <th>docs_annotation_level</th>\n",
       "      <th>docs_sampling</th>\n",
       "      <th>utt_meta_id</th>\n",
       "      <th>utt_title</th>\n",
       "      <th>utt_publisher</th>\n",
       "      <th>utt_date</th>\n",
       "      <th>utt_topic</th>\n",
       "      <th>utt_setting</th>\n",
       "    </tr>\n",
       "  </thead>\n",
       "  <tbody>\n",
       "    <tr>\n",
       "      <th>0</th>\n",
       "      <td>SDRW2100000001</td>\n",
       "      <td>국립국어원 구어 말뭉치 SDRW2100000001</td>\n",
       "      <td>국립국어원</td>\n",
       "      <td>국립국어원</td>\n",
       "      <td>2021</td>\n",
       "      <td>구어 &gt; 사적대화 &gt; 일상대화</td>\n",
       "      <td>원시</td>\n",
       "      <td>본문 전체</td>\n",
       "      <td>SDRW2100000001.1</td>\n",
       "      <td>2인 일상 대화</td>\n",
       "      <td>개인 발화 녹음</td>\n",
       "      <td>20210805</td>\n",
       "      <td>음악 &gt; 음악취향, 아이돌</td>\n",
       "      <td>친구</td>\n",
       "    </tr>\n",
       "  </tbody>\n",
       "</table>\n",
       "</div>"
      ],
      "text/plain": [
       "           doc_id                   docs_title docs_creator docs_distributor  \\\n",
       "0  SDRW2100000001  국립국어원 구어 말뭉치 SDRW2100000001        국립국어원            국립국어원   \n",
       "\n",
       "  docs_year     docs_category docs_annotation_level docs_sampling  \\\n",
       "0      2021  구어 > 사적대화 > 일상대화                    원시         본문 전체   \n",
       "\n",
       "        utt_meta_id utt_title utt_publisher  utt_date       utt_topic  \\\n",
       "0  SDRW2100000001.1  2인 일상 대화      개인 발화 녹음  20210805  음악 > 음악취향, 아이돌   \n",
       "\n",
       "  utt_setting  \n",
       "0          친구  "
      ]
     },
     "execution_count": 115,
     "metadata": {},
     "output_type": "execute_result"
    }
   ],
   "source": [
    "docs_meta_final"
   ]
  },
  {
   "cell_type": "code",
   "execution_count": 116,
   "id": "fb949296",
   "metadata": {},
   "outputs": [],
   "source": [
    "### final result"
   ]
  },
  {
   "cell_type": "code",
   "execution_count": 196,
   "id": "3c7ec07a",
   "metadata": {},
   "outputs": [
    {
     "data": {
      "text/plain": [
       "Index(['doc_id', 'docs_title', 'docs_creator', 'docs_distributor', 'docs_year',\n",
       "       'docs_category', 'docs_annotation_level', 'docs_sampling',\n",
       "       'utt_meta_id', 'utt_title', 'utt_publisher', 'utt_date', 'utt_topic',\n",
       "       'utt_setting', 'utt_id', 'speaker_id', 'utt_form', 'utt_original_form',\n",
       "       'speaker_index', 'speaker_age', 'speaker_occupation', 'speaker_sex',\n",
       "       'speaker_birthplace', 'speaker_principal_residence',\n",
       "       'speaker_current_residence', 'speaker_education'],\n",
       "      dtype='object')"
      ]
     },
     "execution_count": 196,
     "metadata": {},
     "output_type": "execute_result"
    }
   ],
   "source": [
    "df_final = docs_meta_final.merge(utt_df_final, on=\"doc_id\")\n",
    "df_final.columns"
   ]
  },
  {
   "cell_type": "markdown",
   "id": "6c33ea96",
   "metadata": {},
   "source": [
    "## Processing multiple files"
   ]
  },
  {
   "cell_type": "code",
   "execution_count": 118,
   "id": "3349f97a",
   "metadata": {},
   "outputs": [
    {
     "name": "stdout",
     "output_type": "stream",
     "text": [
      "<class 'dict'>\n",
      "{'id': 'SDRW2100000001', 'metadata': {'title': '국립국어원 구어 말뭉치 SDRW2100000001', 'creator': '국립국어원', 'distributor': '국립국어원', 'year': '2021', 'category': '구어 > 사적대화 > 일상대화', 'annotation_level': ['원시'], 'sampling': '본문 전체'}, 'document': [{'id': 'SDRW2100000001.1', 'metadata': {'title': '2인 일상 대화', 'author': '개인 발화자', 'publisher': '개인 발화 녹음', 'date': '20210805', 'topic': '음악 > 음악취향, 아이돌', 'speaker': [{'id': 'SD2100001', 'age': '20대', 'occupation': '학생', 'sex': '여성', 'birthplace': '서울', 'principal_residence': '경기', 'current_residence': '서울', 'education': '대재'}, {'id': 'SD2100002', 'age': '20대', 'occupation': '학생', 'sex': '여성', 'birthplace': '전남', 'principal_residence': '서울', 'current_residence': '서울', 'education': '대재'}], 'setting': {'relation': '친구'}}, 'utterance': [{'id': 'SDRW2100000001.1.1.1', 'form': '너 그래 가지고 우리 저번에 호텔 갔을 때', 'original_form': '너 그래 가지고 우리 저번에 호텔 갔을 때', 'speaker_id': 'SD2100001', 'start': '1.58000', 'end': '5.30400', 'note': ''}, {'id': 'SDRW2100000001.1.1.2', 'form': '나랑 음악 중심 켜 놓고 봤잖아 name1이 잘 때.', 'original_form': '나랑 음악 중심 켜 놓고 봤잖아 &name1&이 잘 때.', 'speaker_id': 'SD2100001', 'start': '5.30400', 'end': '8.32000', 'note': '발화겹침'}, {'id': 'SDRW2100000001.1.1.3', 'form': '아 그 음악 중심이 아니라 유희열의 스케치북', 'original_form': '아 그 음악 중심이 아니라 유희열의 스케치북', 'speaker_id': 'SD2100002', 'start': '8.04000', 'end': '11.22900', 'note': '발화겹침'}, {'id': 'SDRW2100000001.1.1.4', 'form': '아 아니 아니 아니야 유희열의 스케치북 말고도 다른 것도 있었어.', 'original_form': '아 아니 아니 아니야 유희열의 스케치북 말고도 딴 것도 있었어.', 'speaker_id': 'SD2100001', 'start': '10.34900', 'end': '13.62807', 'note': '발화겹침'}, {'id': 'SDRW2100000001.1.1.5', 'form': '아 어.', 'original_form': '아 어.', 'speaker_id': 'SD2100002', 'start': '12.89900', 'end': '13.56900', 'note': '발화겹침'}, {'id': 'SDRW2100000001.1.1.6', 'form': '그', 'original_form': '그~', 'speaker_id': 'SD2100001', 'start': '13.62807', 'end': '14.23900', 'note': ''}, {'id': 'SDRW2100000001.1.1.7', 'form': '엠넷에서 하는 거 엠카 보다가', 'original_form': '엠넷에서 하는 거 엠카 보다가', 'speaker_id': 'SD2100001', 'start': '14.23900', 'end': '16.95500', 'note': ''}, {'id': 'SDRW2100000001.1.1.8', 'form': '어 어 어.', 'original_form': '어 어 어.', 'speaker_id': 'SD2100002', 'start': '15.67900', 'end': '16.91900', 'note': '발화겹침'}, {'id': 'SDRW2100000001.1.1.9', 'form': '너 엔시티 나왔다고 따라서 춤추고', 'original_form': '너 엔씨티 나왔다고 {laughing} 따라서 춤추고', 'speaker_id': 'SD2100001', 'start': '16.95500', 'end': '20.41000', 'note': ''}, {'id': 'SDRW2100000001.1.1.10', 'form': '그랬던 거 기억나?', 'original_form': '그랬던 거 기억나?', 'speaker_id': 'SD2100001', 'start': '20.41000', 'end': '21.70000', 'note': '발화겹침'}, {'id': 'SDRW2100000001.1.1.11', 'form': '어.', 'original_form': '어.', 'speaker_id': 'SD2100002', 'start': '20.49000', 'end': '21.04000', 'note': '발화겹침'}, {'id': 'SDRW2100000001.1.1.12', 'form': '어 기억 나', 'original_form': '어 기억 나 {laughing}', 'speaker_id': 'SD2100002', 'start': '21.44041', 'end': '22.87000', 'note': '발화겹침'}, {'id': 'SDRW2100000001.1.1.13', 'form': '엔시티 아직도 좋아해 그래서?', 'original_form': '엔씨티 아직도 좋아해 그래서?', 'speaker_id': 'SD2100001', 'start': '22.95000', 'end': '24.74000', 'note': ''}, {'id': 'SDRW2100000001.1.1.14', 'form': '어 좋아하지.', 'original_form': '어 좋아하지.', 'speaker_id': 'SD2100002', 'start': '25.03000', 'end': '26.12000', 'note': '발화겹침'}, {'id': 'SDRW2100000001.1.1.15', 'form': '아 맞아.', 'original_form': '아 맞아.', 'speaker_id': 'SD2100001', 'start': '25.90000', 'end': '26.60539', 'note': '발화겹침'}, {'id': 'SDRW2100000001.1.1.16', 'form': '너 어제 이마크랑 옷 똑같다고 사진도 보냈었잖아.', 'original_form': '니 어제 이마크랑 옷 똑같다고 사진도 보냈었잖아.', 'speaker_id': 'SD2100001', 'start': '26.60539', 'end': '30.15000', 'note': ''}, {'id': 'SDRW2100000001.1.1.17', 'form': '맞아.', 'original_form': '맞아.', 'speaker_id': 'SD2100002', 'start': '30.38000', 'end': '31.03814', 'note': ''}, {'id': 'SDRW2100000001.1.1.18', 'form': '근데', 'original_form': '근데', 'speaker_id': 'SD2100002', 'start': '31.03814', 'end': '32.35600', 'note': ''}, {'id': 'SDRW2100000001.1.1.19', 'form': '오늘도 내가 알바하면서', 'original_form': '오늘도 내가 알바하면서', 'speaker_id': 'SD2100002', 'start': '32.35600', 'end': '35.04000', 'note': ''}, {'id': 'SDRW2100000001.1.1.20', 'form': '내 생각에는 그 노래를 트는 사람이', 'original_form': '내 생각에는 그 노래를 트는 사람이', 'speaker_id': 'SD2100002', 'start': '35.64000', 'end': '38.97547', 'note': ''}, {'id': 'SDRW2100000001.1.1.21', 'form': '매장에서 노래를 트는 사람이', 'original_form': '매장에서 노래를 트는 사람이', 'speaker_id': 'SD2100002', 'start': '38.97547', 'end': '41.07293', 'note': ''}, {'id': 'SDRW2100000001.1.1.22', 'form': '에스엠을 쪼금 좋아하는 것 같아.', 'original_form': '에스엠을 쪼금 좋아하는 것 같아.', 'speaker_id': 'SD2100002', 'start': '41.07293', 'end': '43.40000', 'note': ''}, {'id': 'SDRW2100000001.1.1.23', 'form': '그래 가지고 오늘도 되게 많이 들었어.', 'original_form': '그래 가지고 오늘도 되게 많이 들었어.', 'speaker_id': 'SD2100002', 'start': '43.41000', 'end': '46.78000', 'note': ''}, {'id': 'SDRW2100000001.1.1.24', 'form': '엔시티 노래를?', 'original_form': '엔씨티 노래를?', 'speaker_id': 'SD2100001', 'start': '46.95000', 'end': '48.04000', 'note': '발화겹침'}, {'id': 'SDRW2100000001.1.1.25', 'form': '어.', 'original_form': '어.', 'speaker_id': 'SD2100002', 'start': '47.79000', 'end': '48.40000', 'note': '발화겹침'}, {'id': 'SDRW2100000001.1.1.26', 'form': '그럼 엔시티 말고는 듣는 거 없어 요새?', 'original_form': '그럼 엔씨티 말고는 듣는 거 없어 요새?', 'speaker_id': 'SD2100001', 'start': '48.32000', 'end': '50.50000', 'note': '발화겹침'}, {'id': 'SDRW2100000001.1.1.27', 'form': '아니 나 뭐 많이 듣지.', 'original_form': '아니 나 뭐 많이 듣지.', 'speaker_id': 'SD2100002', 'start': '51.06000', 'end': '53.72846', 'note': ''}, {'id': 'SDRW2100000001.1.1.28', 'form': '나', 'original_form': '나', 'speaker_id': 'SD2100002', 'start': '53.72846', 'end': '54.65000', 'note': ''}, {'id': 'SDRW2100000001.1.1.29', 'form': '어', 'original_form': '어~', 'speaker_id': 'SD2100002', 'start': '56.14949', 'end': '57.06000', 'note': '발화겹침'}, {'id': 'SDRW2100000001.1.1.30', 'form': '뭐 듣는데?', 'original_form': '뭐 듣는데?', 'speaker_id': 'SD2100001', 'start': '56.99000', 'end': '57.87000', 'note': '발화겹침'}, {'id': 'SDRW2100000001.1.1.31', 'form': '크러쉬나', 'original_form': '크러쉬나', 'speaker_id': 'SD2100002', 'start': '57.23000', 'end': '58.62000', 'note': '발화겹침'}, {'id': 'SDRW2100000001.1.1.32', 'form': '아 맞다.', 'original_form': '아 맞다.', 'speaker_id': 'SD2100001', 'start': '58.45714', 'end': '60.48000', 'note': '발화겹침'}, {'id': 'SDRW2100000001.1.1.33', 'form': '알앤비도', 'original_form': '알앤비도', 'speaker_id': 'SD2100002', 'start': '59.13660', 'end': '60.51000', 'note': '발화겹침'}, {'id': 'SDRW2100000001.1.1.34', 'form': '알앤비도 많이 듣고', 'original_form': '알앤비도 많이 듣고', 'speaker_id': 'SD2100002', 'start': '60.91300', 'end': '62.89000', 'note': ''}, {'id': 'SDRW2100000001.1.1.35', 'form': '데이식스 노래도 많이 들어.', 'original_form': '데이식스 노래도 많이 들어.', 'speaker_id': 'SD2100002', 'start': '63.46469', 'end': '65.50000', 'note': '발화겹침'}, {'id': 'SDRW2100000001.1.1.36', 'form': '너 크러쉬 콘서트도 갔다 그랬었나?', 'original_form': '너 크러쉬 콘서트도 갔다 그랬었나?', 'speaker_id': 'SD2100001', 'start': '65.43000', 'end': '67.60000', 'note': '발화겹침'}, {'id': 'SDRW2100000001.1.1.37', 'form': 'name1이랑?', 'original_form': '&name1&이랑?', 'speaker_id': 'SD2100001', 'start': '67.96929', 'end': '68.80000', 'note': '발화겹침'}, {'id': 'SDRW2100000001.1.1.38', 'form': '어', 'original_form': '어~', 'speaker_id': 'SD2100002', 'start': '68.46000', 'end': '69.31000', 'note': '발화겹침'}, {'id': 'SDRW2100000001.1.1.39', 'form': '어.', 'original_form': '어.', 'speaker_id': 'SD2100002', 'start': '70.35000', 'end': '70.94170', 'note': ''}, {'id': 'SDRW2100000001.1.1.40', 'form': '그 단독 콘서트는 아니고', 'original_form': '그 단독 콘서트는 아니고', 'speaker_id': 'SD2100002', 'start': '70.94170', 'end': '73.64959', 'note': ''}, {'id': 'SDRW2100000001.1.1.41', 'form': '페스티벌?', 'original_form': '페스티벌?', 'speaker_id': 'SD2100001', 'start': '73.79000', 'end': '74.58000', 'note': '발화겹침'}, {'id': 'SDRW2100000001.1.1.42', 'form': '그냥', 'original_form': '그냥', 'speaker_id': 'SD2100002', 'start': '73.88000', 'end': '74.67000', 'note': '발화겹침'}, {'id': 'SDRW2100000001.1.1.43', 'form': '어 많이 나오는데', 'original_form': '어 많이 나오는데', 'speaker_id': 'SD2100002', 'start': '75.16614', 'end': '77.02000', 'note': ''}, {'id': 'SDRW2100000001.1.1.44', 'form': '아', 'original_form': '아', 'speaker_id': 'SD2100001', 'start': '75.32108', 'end': '76.78000', 'note': '발화겹침'}, {'id': 'SDRW2100000001.1.1.45', 'form': '그중에 크러쉬도 나오는 거.', 'original_form': '그중에 크러쉬도 나오는 거.', 'speaker_id': 'SD2100002', 'start': '77.02000', 'end': '79.58000', 'note': ''}, {'id': 'SDRW2100000001.1.1.46', 'form': '어 부럽다 야.', 'original_form': '어 부럽다 야.', 'speaker_id': 'SD2100001', 'start': '79.60000', 'end': '81.00290', 'note': ''}, {'id': 'SDRW2100000001.1.1.47', 'form': '코로나 없을 때 오프를 많이 다녔어야 됐는데', 'original_form': '코로나 없을 때 오프를 많이 다녔어야 됐는데', 'speaker_id': 'SD2100001', 'start': '81.00290', 'end': '83.88000', 'note': '발화겹침'}, {'id': 'SDRW2100000001.1.1.48', 'form': '아 근데 나 너 인스타에서 봤는데', 'original_form': '아 근데 나 너 인스타에서 봤는데', 'speaker_id': 'SD2100002', 'start': '83.84000', 'end': '86.89398', 'note': '발화겹침'}, {'id': 'SDRW2100000001.1.1.49', 'form': '너 무슨 온라인 콘서트를 가는 거야?', 'original_form': '너 무슨 온라인 콘서트를 가는 거야?', 'speaker_id': 'SD2100002', 'start': '86.89398', 'end': '90.46982', 'note': '발화겹침'}, {'id': 'SDRW2100000001.1.1.50', 'form': '아니 가는 게 아니라 근데 그게 되게 웃긴 게', 'original_form': '아니 가는 게 아니라 근데 그게 되게 웃긴 게', 'speaker_id': 'SD2100001', 'start': '90.44000', 'end': '92.94622', 'note': '발화겹침'}, {'id': 'SDRW2100000001.1.1.51', 'form': '집에서 그 브이앱 있잖아.', 'original_form': '집에서 그 브이앱 있잖아.', 'speaker_id': 'SD2100001', 'start': '92.94622', 'end': '95.17071', 'note': ''}, {'id': 'SDRW2100000001.1.1.52', 'form': '브이앱으로 보는 건데 그거를 산다고 일단 돈을 내면', 'original_form': '브이앱으로 보는 건데 그거를 산다고 일단 돈을 내면', 'speaker_id': 'SD2100001', 'start': '95.17071', 'end': '98.93000', 'note': ''}, {'id': 'SDRW2100000001.1.1.53', 'form': '소속사에서 그 코드를 줘 입장 코드를.', 'original_form': '소속사에서 그 코드를 줘 입장 코드를.', 'speaker_id': 'SD2100001', 'start': '99.09000', 'end': '101.73772', 'note': ''}, {'id': 'SDRW2100000001.1.1.54', 'form': '그러면', 'original_form': '그러면', 'speaker_id': 'SD2100001', 'start': '101.73772', 'end': '102.46000', 'note': ''}, {'id': 'SDRW2100000001.1.1.55', 'form': '그거를 받아 가지고 당일에 입력을 해서 내가 들어가야 되는 거야.', 'original_form': '그거를 받아 가지고 당일에 입력을 해서 내가 들어가야 되는 거야.', 'speaker_id': 'SD2100001', 'start': '102.46000', 'end': '106.31000', 'note': ''}, {'id': 'SDRW2100000001.1.1.56', 'form': '근데 나는 온라인 콘서트니까', 'original_form': '근데 나는 온라인 콘서트니까', 'speaker_id': 'SD2100001', 'start': '106.31000', 'end': '108.28137', 'note': ''}, {'id': 'SDRW2100000001.1.1.57', 'form': '좀 그래도 약간 뭐라 해야 되지?', 'original_form': '쫌 그래도 약간 뭐라 해야 되지?', 'speaker_id': 'SD2100001', 'start': '108.28137', 'end': '110.46228', 'note': ''}, {'id': 'SDRW2100000001.1.1.58', 'form': '그 가격 면에서 좀 이점이 있겠지라고 생각을 했단 말이야.', 'original_form': '그 가격 면에서 쫌 이점이 있겠지라고 생각을 했단 말이야.', 'speaker_id': 'SD2100001', 'start': '110.46228', 'end': '114.35000', 'note': ''}, {'id': 'SDRW2100000001.1.1.59', 'form': '근데', 'original_form': '근데', 'speaker_id': 'SD2100001', 'start': '114.53000', 'end': '115.32502', 'note': ''}, {'id': 'SDRW2100000001.1.1.60', 'form': '원래 우리가 콘서트를 그냥 오프라인으로 다닐 때 내가 10 한', 'original_form': '원래 우리가 콘서트를 그냥 오프라인으로 다닐 때 내가 십 한', 'speaker_id': 'SD2100001', 'start': '115.32502', 'end': '119.26320', 'note': ''}, {'id': 'SDRW2100000001.1.1.61', 'form': '11만 원 12만 원 이 정도 주고 다녔거든.', 'original_form': '십일만 원 십이만 원 이 정도 주고 다녔거든.', 'speaker_id': 'SD2100001', 'start': '119.26320', 'end': '121.73000', 'note': ''}, {'id': 'SDRW2100000001.1.1.62', 'form': '근데 이게 그 팬 클럽 할인가를 받아도 3만 9천 원인거야.', 'original_form': '근데 이게 그 팬 클럽 할인가를 받아도 삼만 구천 원인거야.', 'speaker_id': 'SD2100001', 'start': '121.73000', 'end': '125.59290', 'note': ''}, {'id': 'SDRW2100000001.1.1.63', 'form': '그래서 내가 약간 가격을 보고 아 이거는', 'original_form': '그래서 내가 약간 가격을 보고 아 이거는', 'speaker_id': 'SD2100001', 'start': '125.59290', 'end': '127.48761', 'note': ''}, {'id': 'SDRW2100000001.1.1.64', 'form': '아무리 노래를 듣고 싶어도 가격이 약간 두 시간밖에 안 하는데', 'original_form': '아무리 노래를 듣고 싶어도 가격이 약간 (()) 두 시간밖에 안 하는데', 'speaker_id': 'SD2100001', 'start': '127.48761', 'end': '131.53999', 'note': ''}, {'id': 'SDRW2100000001.1.1.65', 'form': '그래 가지고 고민을 하다가 그래도', 'original_form': '그래 가주고 고민을 하다가 그래도', 'speaker_id': 'SD2100001', 'start': '131.79000', 'end': '134.79000', 'note': ''}, {'id': 'SDRW2100000001.1.1.66', 'form': '입대하기 전에 마지막인데', 'original_form': '입대하기 전에 {laughing} 마지막인데', 'speaker_id': 'SD2100001', 'start': '135.26000', 'end': '137.07191', 'note': ''}, {'id': 'SDRW2100000001.1.1.67', 'form': '이건 봐야 되지 않나 싶어서 샀어 친구도 영업했어.', 'original_form': '이건 봐야 되지 않나 싶어서 샀어 친구도 영업했어.', 'speaker_id': 'SD2100001', 'start': '137.07191', 'end': '140.33000', 'note': ''}, {'id': 'SDRW2100000001.1.1.68', 'form': '그러면 거기에 네 명 나오는 거야?', 'original_form': '그러면 거기에 네 명 나오는 거야?', 'speaker_id': 'SD2100002', 'start': '141.49000', 'end': '144.59000', 'note': ''}, {'id': 'SDRW2100000001.1.1.69', 'form': '아니 세 명.', 'original_form': '아니 세 명.', 'speaker_id': 'SD2100001', 'start': '144.68000', 'end': '145.68000', 'note': '발화겹침'}, {'id': 'SDRW2100000001.1.1.70', 'form': '세 명?', 'original_form': '세 명?', 'speaker_id': 'SD2100002', 'start': '145.33274', 'end': '146.07000', 'note': '발화겹침'}, {'id': 'SDRW2100000001.1.1.71', 'form': '응.', 'original_form': '응.', 'speaker_id': 'SD2100001', 'start': '145.68000', 'end': '146.37000', 'note': '발화겹침'}, {'id': 'SDRW2100000001.1.1.72', 'form': '아 그', 'original_form': '아 그', 'speaker_id': 'SD2100002', 'start': '146.07000', 'end': '147.04000', 'note': '발화겹침'}, {'id': 'SDRW2100000001.1.1.73', 'form': '그 세 명?', 'original_form': '그 세 명?', 'speaker_id': 'SD2100002', 'start': '147.66959', 'end': '148.91855', 'note': '발화겹침'}, {'id': 'SDRW2100000001.1.1.74', 'form': '어 그 유닛 하는 세 명.', 'original_form': '어 그 유닛 하는 세 명.', 'speaker_id': 'SD2100001', 'start': '148.40000', 'end': '149.94923', 'note': '발화겹침'}, {'id': 'SDRW2100000001.1.1.75', 'form': '어.', 'original_form': '어.', 'speaker_id': 'SD2100002', 'start': '148.91855', 'end': '149.85000', 'note': '발화겹침'}, {'id': 'SDRW2100000001.1.1.76', 'form': '그래서 근데 내가 원래 안 사려 그랬거든.', 'original_form': '그래서 근데 내가 원래 안 살라 그랬거든.', 'speaker_id': 'SD2100001', 'start': '149.94923', 'end': '152.90063', 'note': ''}, {'id': 'SDRW2100000001.1.1.77', 'form': '왜냐하면 이제 또 개강하면 돈 많이 들고 하니까', 'original_form': '왜냐면 이제 또 개강하면 돈 많이 들고 하니까', 'speaker_id': 'SD2100001', 'start': '152.90063', 'end': '155.83051', 'note': ''}, {'id': 'SDRW2100000001.1.1.78', 'form': '돈 아껴야 돼 갖고 근데', 'original_form': '돈 아껴야 돼 갖고 근데', 'speaker_id': 'SD2100001', 'start': '155.83051', 'end': '157.56000', 'note': ''}, {'id': 'SDRW2100000001.1.1.79', 'form': '딱 그 뭐라 해야 되지 홍보하는 글 있잖아.', 'original_form': '딱 그~ 뭐라 해야 되지 홍보하는 글 있잖아.', 'speaker_id': 'SD2100001', 'start': '158.16996', 'end': '161.63100', 'note': ''}, {'id': 'SDRW2100000001.1.1.80', 'form': '근데 거기에다가', 'original_form': '근데 거기에다가', 'speaker_id': 'SD2100001', 'start': '161.63100', 'end': '162.86001', 'note': ''}, {'id': 'SDRW2100000001.1.1.81', 'form': '지금까지 한번도', 'original_form': '지금까지 한번도', 'speaker_id': 'SD2100001', 'start': '163.24797', 'end': '165.09200', 'note': ''}, {'id': 'SDRW2100000001.1.1.82', 'form': '들려 드리지 않은 곡 일이 있는 거야 그 플레이 리스트에 그거를 하겠다고.', 'original_form': '들려 드리지 않은 곡 ((일이)) 있는 거야 그 플레이 리스트에 그거를 하겠다고.', 'speaker_id': 'SD2100001', 'start': '165.09200', 'end': '168.79159', 'note': ''}, {'id': 'SDRW2100000001.1.1.83', 'form': '그래 가지고', 'original_form': '그래 가주고', 'speaker_id': 'SD2100001', 'start': '168.79159', 'end': '169.55001', 'note': ''}, {'id': 'SDRW2100000001.1.1.84', 'form': '아 이거는 들어야 된다.', 'original_form': '아 이거는 들어야 된다.', 'speaker_id': 'SD2100001', 'start': '169.55001', 'end': '170.80667', 'note': ''}, {'id': 'SDRW2100000001.1.1.85', 'form': '왜냐하면 내가 예전에 너희랑 일본 여행 갔을 때 있잖아.', 'original_form': '왜냐면 내가 예전에 너네랑 일본 여행 갔을 때 있잖아.', 'speaker_id': 'SD2100001', 'start': '170.80667', 'end': '173.86001', 'note': ''}, {'id': 'SDRW2100000001.1.1.86', 'form': '그때 우리 돌아 오는 날이', 'original_form': '그때 우리 돌아 오는 날이', 'speaker_id': 'SD2100001', 'start': '173.86001', 'end': '176.36000', 'note': ''}, {'id': 'SDRW2100000001.1.1.87', 'form': '콘서트 아니 팬 미팅날이었거든.', 'original_form': '콘서트 아이 팬 미팅날이었거든.', 'speaker_id': 'SD2100001', 'start': '176.36000', 'end': '178.36706', 'note': ''}, {'id': 'SDRW2100000001.1.1.88', 'form': '근데 거기서 미공개 곡 막 보여 주고 그래 가지고', 'original_form': '근데 거기서 미공개 곡 막 보여 주고 그래 가지고', 'speaker_id': 'SD2100001', 'start': '178.58000', 'end': '181.84000', 'note': ''}, {'id': 'SDRW2100000001.1.1.89', 'form': '그런데 그게', 'original_form': '그런데 그게', 'speaker_id': 'SD2100002', 'start': '183.69001', 'end': '184.99954', 'note': ''}, {'id': 'SDRW2100000001.1.1.90', 'form': '쪼금 돈이 비싸다 보니까', 'original_form': '쪼금 돈이 비싸다 보니까', 'speaker_id': 'SD2100002', 'start': '184.99954', 'end': '188.18999', 'note': ''}, {'id': 'SDRW2100000001.1.1.91', 'form': '내 생각에는', 'original_form': '내 생각에는', 'speaker_id': 'SD2100002', 'start': '188.18999', 'end': '189.77000', 'note': ''}, {'id': 'SDRW2100000001.1.1.92', 'form': '뭔가 후회하지 않을 만한', 'original_form': '뭔가 후회하지 않을 만한', 'speaker_id': 'SD2100002', 'start': '189.77000', 'end': '192.62011', 'note': ''}, {'id': 'SDRW2100000001.1.1.93', 'form': '뭔가 있을 것 같아.', 'original_form': '뭔가 있을 것 같아.', 'speaker_id': 'SD2100002', 'start': '192.62011', 'end': '194.25000', 'note': ''}, {'id': 'SDRW2100000001.1.1.94', 'form': '아이 사실은 그 그랬으면 좋겠다.', 'original_form': '아이 사실은 -그- 그랬으면 좋겠다.', 'speaker_id': 'SD2100001', 'start': '194.30001', 'end': '196.52000', 'note': ''}, {'id': 'SDRW2100000001.1.1.95', 'form': '그게 예전에도 한번 하긴 했었거든 온라인 콘서트를.', 'original_form': '그게 예전에도 한번 하긴 했었거든 온라인 콘서트를.', 'speaker_id': 'SD2100001', 'start': '196.52000', 'end': '199.64400', 'note': ''}, {'id': 'SDRW2100000001.1.1.96', 'form': '내가 그때도 한번 샀다가', 'original_form': '내가 그때도 한번 샀다가', 'speaker_id': 'SD2100001', 'start': '199.64400', 'end': '201.90400', 'note': ''}, {'id': 'SDRW2100000001.1.1.97', 'form': '시간이 안 돼 갖고 취소했었는데 모르겠다.', 'original_form': '시간이 안 돼 갖고 취소했었는데 모르겠다.', 'speaker_id': 'SD2100001', 'start': '201.90400', 'end': '204.80996', 'note': ''}, {'id': 'SDRW2100000001.1.1.98', 'form': '근데 좀 웃긴 게 이게 온라인 콘서트면', 'original_form': '근데 쫌 웃긴 게 이게 온라인 콘서트면', 'speaker_id': 'SD2100001', 'start': '204.80996', 'end': '207.61328', 'note': ''}, {'id': 'SDRW2100000001.1.1.99', 'form': '집에서 내가 노트북 갖고 들어야 되잖아.', 'original_form': '집에서 내가 노트북 갖고 들어야 되잖아.', 'speaker_id': 'SD2100001', 'start': '207.61328', 'end': '209.78674', 'note': ''}, {'id': 'SDRW2100000001.1.1.100', 'form': '방 밖에 엄마 아빠 있는데 혼자 막 거기서', 'original_form': '방 밖에 엄마 아빠 있는데 혼자 막 거기서', 'speaker_id': 'SD2100001', 'start': '209.78674', 'end': '213.00700', 'note': ''}, {'id': 'SDRW2100000001.1.1.101', 'form': '응원봉 들고 이러고 있기가 너무 창피한거야.', 'original_form': '응원봉 들고 이러고 있기가 너무 창피한거야.', 'speaker_id': 'SD2100001', 'start': '213.00700', 'end': '215.36526', 'note': ''}, {'id': 'SDRW2100000001.1.1.102', 'form': '그래서', 'original_form': '그래서', 'speaker_id': 'SD2100001', 'start': '215.36526', 'end': '216.68003', 'note': ''}, {'id': 'SDRW2100000001.1.1.103', 'form': '오늘까지 취소할 거면 오늘까지 해야 되거든.', 'original_form': '오늘까지 취소할 거면 오늘까지 해야 되거든.', 'speaker_id': 'SD2100001', 'start': '216.68003', 'end': '219.11610', 'note': ''}, {'id': 'SDRW2100000001.1.1.104', 'form': '그래서 약간 고민 중이야.', 'original_form': '그래서 약간 고민 중이야.', 'speaker_id': 'SD2100001', 'start': '219.11610', 'end': '220.79000', 'note': ''}, {'id': 'SDRW2100000001.1.1.105', 'form': '그래도 그 취소하면은', 'original_form': '그래도 그 취소하면은', 'speaker_id': 'SD2100002', 'start': '221.86000', 'end': '224.03200', 'note': ''}, {'id': 'SDRW2100000001.1.1.106', 'form': '그 쪼금 아쉽지 않을까?', 'original_form': '그 쪼금 아쉽지 않을까?', 'speaker_id': 'SD2100002', 'start': '224.03200', 'end': '226.33000', 'note': ''}, {'id': 'SDRW2100000001.1.1.107', 'form': '그렇지.', 'original_form': '그치.', 'speaker_id': 'SD2100001', 'start': '226.44000', 'end': '226.84110', 'note': ''}, {'id': 'SDRW2100000001.1.1.108', 'form': '그냥 하는 게 낫겠지?', 'original_form': '그냥 하는 게 낫겠지?', 'speaker_id': 'SD2100001', 'start': '226.84110', 'end': '228.30001', 'note': ''}, {'id': 'SDRW2100000001.1.1.109', 'form': '너 친구도 하는 것 같은데', 'original_form': '너 친구도 하는 것 같은은데', 'speaker_id': 'SD2100002', 'start': '228.68000', 'end': '231.51000', 'note': '발화겹침'}, {'id': 'SDRW2100000001.1.1.110', 'form': '어 맞아 그래서 약간 내가 여기서 취소해 버리면', 'original_form': '어 맞아 그래서 약간 내가 여기서 취소해 버리면', 'speaker_id': 'SD2100001', 'start': '231.37999', 'end': '234.31454', 'note': '발화겹침'}, {'id': 'SDRW2100000001.1.1.111', 'form': '내가 영업하고 걔만 남기고 가는 거라서', 'original_form': '내가 영업하고 {laughing} 걔만 남기고 가는 거라서', 'speaker_id': 'SD2100001', 'start': '234.31454', 'end': '237.18254', 'note': ''}, {'id': 'SDRW2100000001.1.1.112', 'form': '안 될 것 같고', 'original_form': '안 될 것 같고', 'speaker_id': 'SD2100001', 'start': '237.52000', 'end': '238.96000', 'note': '발화겹침'}, {'id': 'SDRW2100000001.1.1.113', 'form': '근데 궁금한 게 걔가', 'original_form': '근데 궁금한 게 걔가', 'speaker_id': 'SD2100002', 'start': '238.38000', 'end': '241.02730', 'note': '발화겹침'}, {'id': 'SDRW2100000001.1.1.114', 'form': '우리 학교에 있다가 반수한 거야?', 'original_form': '우리 학교에 있다가 반수한 거야?', 'speaker_id': 'SD2100002', 'start': '241.02730', 'end': '243.65000', 'note': ''}, {'id': 'SDRW2100000001.1.1.115', 'form': '아 그 친구?', 'original_form': '아 그 친구?', 'speaker_id': 'SD2100001', 'start': '244.06000', 'end': '245.15000', 'note': '발화겹침'}, {'id': 'SDRW2100000001.1.1.116', 'form': '어.', 'original_form': '어.', 'speaker_id': 'SD2100002', 'start': '244.96000', 'end': '245.48000', 'note': '발화겹침'}, {'id': 'SDRW2100000001.1.1.117', 'form': '어 어', 'original_form': '어 어', 'speaker_id': 'SD2100001', 'start': '245.15000', 'end': '245.93000', 'note': '발화겹침'}, {'id': 'SDRW2100000001.1.1.118', 'form': '아', 'original_form': '아', 'speaker_id': 'SD2100002', 'start': '245.73600', 'end': '246.86001', 'note': '발화겹침'}, {'id': 'SDRW2100000001.1.1.119', 'form': '수시 반에서', 'original_form': '수시 반에서', 'speaker_id': 'SD2100001', 'start': '246.78477', 'end': '247.82000', 'note': '발화겹침'}, {'id': 'SDRW2100000001.1.1.120', 'form': '근데', 'original_form': '근데', 'speaker_id': 'SD2100001', 'start': '249.32415', 'end': '250.14000', 'note': ''}, {'id': 'SDRW2100000001.1.1.121', 'form': '그 아 맞다 너 그거 봤어?', 'original_form': '그~ 아 맞다 너 그거 봤어?', 'speaker_id': 'SD2100001', 'start': '250.63378', 'end': '253.00120', 'note': ''}, {'id': 'SDRW2100000001.1.1.122', 'form': '안산 선수가 스토리에다가 노래 추천 이렇게 올려놓은 거', 'original_form': '안산 선수가 스토리에다가 노래 추천 이케 올려놓은 거', 'speaker_id': 'SD2100001', 'start': '253.00120', 'end': '256.79720', 'note': ''}, {'id': 'SDRW2100000001.1.1.123', 'form': '봤어?', 'original_form': '봤어?', 'speaker_id': 'SD2100001', 'start': '256.79720', 'end': '257.39000', 'note': '발화겹침'}, {'id': 'SDRW2100000001.1.1.124', 'form': '아니 아니 아니.', 'original_form': '아니 아니 아니.', 'speaker_id': 'SD2100002', 'start': '257.20000', 'end': '258.26000', 'note': '발화겹침'}, {'id': 'SDRW2100000001.1.1.125', 'form': '그게 이제 안산 금메달 따고', 'original_form': '그게 이제 안산 금메달 따고', 'speaker_id': 'SD2100001', 'start': '258.08502', 'end': '260.22597', 'note': '발화겹침'}, {'id': 'SDRW2100000001.1.1.126', 'form': '엄청 이슈가 돼 갖고 마 막 인스타 이런 데 엄청 올라왔단 말이야.', 'original_form': '엄청 이슈가 돼 갖고 마 막 인스타 이런 데 엄청 올라왔단 말이야.', 'speaker_id': 'SD2100001', 'start': '260.22597', 'end': '264.05000', 'note': ''}, {'id': 'SDRW2100000001.1.1.127', 'form': '근데 내가 너희한테 루시 노래 엄청 얘기했던 거 기억나?', 'original_form': '근데 내가 너네한테 루시 노래 엄청 얘기했던 거 기억나?', 'speaker_id': 'SD2100001', 'start': '264.21000', 'end': '267.75705', 'note': '발화겹침'}, {'id': 'SDRW2100000001.1.1.128', 'form': '어 어.', 'original_form': '어 어.', 'speaker_id': 'SD2100002', 'start': '267.56001', 'end': '268.40999', 'note': '발화겹침'}, {'id': 'SDRW2100000001.1.1.129', 'form': '그 개화 그게 딱 있는 거야. 그러니까 그', 'original_form': '그 개화 그게 딱 있는 거야. 그니까 그', 'speaker_id': 'SD2100001', 'start': '267.75705', 'end': '270.66105', 'note': '발화겹침'}, {'id': 'SDRW2100000001.1.1.130', 'form': '그러니까 그', 'original_form': '그니까 그', 'speaker_id': 'SD2100001', 'start': '269.96385', 'end': '273.74901', 'note': '발화겹침'}, {'id': 'SDRW2100000001.1.1.131', 'form': '그 개화 그게 딱 있는 거야.', 'original_form': '그 개화 그게 딱 있는 거야.', 'speaker_id': 'SD2100001', 'start': '269.96385', 'end': '270.66105', 'note': '발화겹침'}, {'id': 'SDRW2100000001.1.1.132', 'form': '그래 가지고 약간 아 참고막이시구나.', 'original_form': '그래 가지고 약간 아 참고막이시구나.', 'speaker_id': 'SD2100001', 'start': '274.19000', 'end': '276.75901', 'note': ''}, {'id': 'SDRW2100000001.1.1.133', 'form': '너랑 그게 취향이 비슷한가 보다.', 'original_form': '너랑 그게 취향이 비슷한가 보다.', 'speaker_id': 'SD2100002', 'start': '277.40900', 'end': '280.62900', 'note': '발화겹침'}, {'id': 'SDRW2100000001.1.1.134', 'form': '응 맞아 맞아.', 'original_form': '응 맞아 맞아.', 'speaker_id': 'SD2100001', 'start': '280.58900', 'end': '281.64899', 'note': '발화겹침'}, {'id': 'SDRW2100000001.1.1.135', 'form': '나도 그 노래 들어 봤는데 좋았어.', 'original_form': '나도 그 노래 들어 봤는데 좋았어.', 'speaker_id': 'SD2100002', 'start': '281.05000', 'end': '284.28901', 'note': '발화겹침'}, {'id': 'SDRW2100000001.1.1.136', 'form': '맞아 루시 말고 호피폴라도 좋아.', 'original_form': '맞아 루시 말고 호피폴라도 좋아.', 'speaker_id': 'SD2100001', 'start': '284.48899', 'end': '286.87900', 'note': ''}, {'id': 'SDRW2100000001.1.1.137', 'form': '어.', 'original_form': '어.', 'speaker_id': 'SD2100002', 'start': '287.94901', 'end': '289.07900', 'note': ''}, {'id': 'SDRW2100000001.1.1.138', 'form': '근데 나는 뭔가', 'original_form': '근데 나는 뭔가', 'speaker_id': 'SD2100002', 'start': '289.27000', 'end': '291.09000', 'note': ''}, {'id': 'SDRW2100000001.1.1.139', 'form': '쪼금 더 신나는 노래가 좋아.', 'original_form': '쪼금 더 신나는 노래가 좋아.', 'speaker_id': 'SD2100002', 'start': '291.29000', 'end': '293.99373', 'note': ''}, {'id': 'SDRW2100000001.1.1.140', 'form': '', 'original_form': '{laughing}', 'speaker_id': 'SD2100001', 'start': '292.77900', 'end': '293.56901', 'note': '발화겹침'}, {'id': 'SDRW2100000001.1.1.141', 'form': '약간', 'original_form': '약간', 'speaker_id': 'SD2100002', 'start': '293.99373', 'end': '295.02000', 'note': ''}, {'id': 'SDRW2100000001.1.1.142', 'form': '엄청 대놓고 신나는 건 아닌데', 'original_form': '엄청 대놓고 신나는 건 아닌데', 'speaker_id': 'SD2100002', 'start': '295.81000', 'end': '298.89899', 'note': ''}, {'id': 'SDRW2100000001.1.1.143', 'form': '쪼금 적당히 신나는 노래가 좋아.', 'original_form': '쪼금 적당히 신나는 노래가 좋아.', 'speaker_id': 'SD2100002', 'start': '299.26000', 'end': '301.90899', 'note': ''}, {'id': 'SDRW2100000001.1.1.144', 'form': '너 근데 예전에 나랑 룸메 할 때는', 'original_form': '너 근데 예전에 나랑 룸메 할 때는', 'speaker_id': 'SD2100001', 'start': '302.10900', 'end': '304.92477', 'note': ''}, {'id': 'SDRW2100000001.1.1.145', 'form': '너무 신나는 노래는 막 힘들다 그랬었잖아.', 'original_form': '너무 신나는 노래는 막 힘들다 그랬었잖아.', 'speaker_id': 'SD2100001', 'start': '304.92477', 'end': '307.47034', 'note': ''}, {'id': 'SDRW2100000001.1.1.146', 'form': '약간 적당히 신나는 노래가 좋다고 막 그랬었잖아.', 'original_form': '약간 적당히 신나는 노래가 좋다고 막 그랬었잖아.', 'speaker_id': 'SD2100001', 'start': '307.47034', 'end': '310.74901', 'note': '발화겹침'}, {'id': 'SDRW2100000001.1.1.147', 'form': '어 그러니까 너무 빠르지는 않은데', 'original_form': '어 그니까 너무 빠르지는 않은데', 'speaker_id': 'SD2100002', 'start': '310.64900', 'end': '313.37700', 'note': '발화겹침'}, {'id': 'SDRW2100000001.1.1.148', 'form': '그렇다고 너무 슬프지도 않아야 돼.', 'original_form': '그렇다고 너무 슬프지도 않아야 돼.', 'speaker_id': 'SD2100002', 'start': '313.37700', 'end': '316.18000', 'note': '발화겹침'}, {'id': 'SDRW2100000001.1.1.149', 'form': '음 어렵구만.', 'original_form': '음 어렵구만.', 'speaker_id': 'SD2100001', 'start': '315.44899', 'end': '317.31901', 'note': '발화겹침'}, {'id': 'SDRW2100000001.1.1.150', 'form': '근데 너 그때 나랑 언제였지?', 'original_form': '근데 너 그때 나랑 언제였지?', 'speaker_id': 'SD2100001', 'start': '317.58000', 'end': '320.48300', 'note': ''}, {'id': 'SDRW2100000001.1.1.151', 'form': '마지막 날이었나 실습 마지막 날인가 우리', 'original_form': '마지막 날이었나 실습 마지막 날인가 우리', 'speaker_id': 'SD2100001', 'start': '320.48300', 'end': '323.40700', 'note': ''}, {'id': 'SDRW2100000001.1.1.152', 'form': '노래 엄청 틀어 놓고 운동장 돌아왔을 때 있잖아.', 'original_form': '노래 엄청 틀어 놓고 운동장 돌아왔을 때 있잖아.', 'speaker_id': 'SD2100001', 'start': '323.40700', 'end': '326.70300', 'note': '발화겹침'}, {'id': 'SDRW2100000001.1.1.153', 'form': '어', 'original_form': '어 {laughing}', 'speaker_id': 'SD2100002', 'start': '326.38901', 'end': '327.15700', 'note': '발화겹침'}, {'id': 'SDRW2100000001.1.1.154', 'form': '근데 그때 네가 나랑 들으면서 막', 'original_form': '근데 그때 니가 나랑 들으면서 막', 'speaker_id': 'SD2100001', 'start': '326.70300', 'end': '328.90516', 'note': '발화겹침'}, {'id': 'SDRW2100000001.1.1.155', 'form': '이거 좋다 그랬던 엔시티 노래 다 엄청 빠른 노래들 아니야?', 'original_form': '이거 좋다 그랬던 엔씨티 노래 다 엄청 빠른 노래들 아니야?', 'speaker_id': 'SD2100001', 'start': '328.90516', 'end': '332.10900', 'note': ''}, {'id': 'SDRW2100000001.1.1.156', 'form': '', 'original_form': '(())', 'speaker_id': 'SD2100002', 'start': '332.90899', 'end': '333.95210', 'note': '발화겹침'}, {'id': 'SDRW2100000001.1.1.157', 'form': '생각해 봐. 그거 그거 체리밥이랑', 'original_form': '생각해 봐. 그거 그거 체리밥이랑', 'speaker_id': 'SD2100001', 'start': '332.95700', 'end': '335.79901', 'note': '발화겹침'}, {'id': 'SDRW2100000001.1.1.158', 'form': '', 'original_form': '(())', 'speaker_id': 'SD2100002', 'start': '333.95210', 'end': '334.41900', 'note': '발화겹침'}, {'id': 'SDRW2100000001.1.1.159', 'form': '마지막 첫사랑이랑 또 뭐 있었지?', 'original_form': '마지막 첫사랑이랑 또 뭐 있었지?', 'speaker_id': 'SD2100001', 'start': '335.79901', 'end': '338.25900', 'note': ''}, {'id': 'SDRW2100000001.1.1.160', 'form': '뭐 엄청 많았는데.', 'original_form': '뭐 엄청 많았는데.', 'speaker_id': 'SD2100001', 'start': '338.25900', 'end': '339.52901', 'note': '발화겹침'}, {'id': 'SDRW2100000001.1.1.161', 'form': '근데 그게 비피엠으로 봤을 때는', 'original_form': '근데 그게 비피엠으로 봤을 때는', 'speaker_id': 'SD2100002', 'start': '339.48900', 'end': '341.78500', 'note': '발화겹침'}, {'id': 'SDRW2100000001.1.1.162', 'form': '어', 'original_form': '어 {laughing}', 'speaker_id': 'SD2100001', 'start': '341.58901', 'end': '342.61901', 'note': '발화겹침'}, {'id': 'SDRW2100000001.1.1.163', 'form': '그렇게 빠른 노래는 아니야.', 'original_form': '그렇게 빠른 노래는 아니야.', 'speaker_id': 'SD2100002', 'start': '341.78500', 'end': '343.76900', 'note': '발화겹침'}, {'id': 'SDRW2100000001.1.1.164', 'form': '그런데 이제 그', 'original_form': '그런데 이제 그~', 'speaker_id': 'SD2100002', 'start': '343.76900', 'end': '346.61900', 'note': ''}, {'id': 'SDRW2100000001.1.1.165', 'form': '기본 반주는 그렇게 빠르지 않은데.', 'original_form': '기본 반주는 그렇게 빠르지 않은데.', 'speaker_id': 'SD2100002', 'start': '347.29327', 'end': '350.91901', 'note': ''}, {'id': 'SDRW2100000001.1.1.166', 'form': '응.', 'original_form': '응.', 'speaker_id': 'SD2100001', 'start': '349.04899', 'end': '349.62900', 'note': '발화겹침'}, {'id': 'SDRW2100000001.1.1.167', 'form': '그냥 노래가 신나서 그렇게 들리는 건가?', 'original_form': '그냥 노래가 신나서 그렇게 들리는 건가?', 'speaker_id': 'SD2100001', 'start': '351.86899', 'end': '354.48899', 'note': '발화겹침'}, {'id': 'SDRW2100000001.1.1.168', 'form': '그', 'original_form': '그~', 'speaker_id': 'SD2100002', 'start': '352.04899', 'end': '352.95899', 'note': '발화겹침'}, {'id': 'SDRW2100000001.1.1.169', 'form': '거기다가 랩을 하니까 빨라 보이는 거야.', 'original_form': '거기다가 랩을 하니까 빨라 보이는 거야.', 'speaker_id': 'SD2100002', 'start': '354.38901', 'end': '357.47000', 'note': '발화겹침'}, {'id': 'SDRW2100000001.1.1.170', 'form': '음 설득력 있는 얘기구만.', 'original_form': '음 설득력 있는 얘기구만.', 'speaker_id': 'SD2100001', 'start': '356.03901', 'end': '359.16901', 'note': '발화겹침'}, {'id': 'SDRW2100000001.1.1.171', 'form': '그러면', 'original_form': '그러면', 'speaker_id': 'SD2100001', 'start': '360.23899', 'end': '361.22074', 'note': ''}, {'id': 'SDRW2100000001.1.1.172', 'form': '요새는 또 뭐 들어 엔시티 말고 크러쉬 듣는다 그랬고 또', 'original_form': '요새는 또 뭐 들어 엔씨티 말고 크러쉬 듣는다 그랬고 또', 'speaker_id': 'SD2100001', 'start': '361.22074', 'end': '364.67901', 'note': ''}, {'id': 'SDRW2100000001.1.1.173', 'form': '또 악동뮤지션 노래랑', 'original_form': '또 악동뮤지션 노래랑', 'speaker_id': 'SD2100002', 'start': '364.96899', 'end': '368.42901', 'note': '발화겹침'}, {'id': 'SDRW2100000001.1.1.174', 'form': '응 맞어 요번에 앨범 냈더라.', 'original_form': '응 맞어 요번에 앨범 냈더라.', 'speaker_id': 'SD2100001', 'start': '368.23901', 'end': '369.86901', 'note': '발화겹침'}, {'id': 'SDRW2100000001.1.1.175', 'form': '맞아 그 피 피처링이 너무 좋아 가지고', 'original_form': '맞아 그 -피- 피처링이 너무 좋아 가지고', 'speaker_id': 'SD2100002', 'start': '369.88900', 'end': '373.71901', 'note': ''}, {'id': 'SDRW2100000001.1.1.176', 'form': '그중에서', 'original_form': '그중에서', 'speaker_id': 'SD2100002', 'start': '374.43269', 'end': '375.82899', 'note': ''}, {'id': 'SDRW2100000001.1.1.177', 'form': '자이언티랑 같이 부른 노래가 있', 'original_form': '자이언티랑 같이 부른 노래가 -있-', 'speaker_id': 'SD2100002', 'start': '376.72527', 'end': '380.08000', 'note': '발화겹침'}, {'id': 'SDRW2100000001.1.1.178', 'form': '아 응.', 'original_form': '아 응.', 'speaker_id': 'SD2100001', 'start': '379.29899', 'end': '380.71901', 'note': '발화겹침'}, {'id': 'SDRW2100000001.1.1.179', 'form': '있는데', 'original_form': '있는데', 'speaker_id': 'SD2100002', 'start': '380.58000', 'end': '381.46901', 'note': '발화겹침'}, {'id': 'SDRW2100000001.1.1.180', 'form': '그 제목을 지금 까먹었어.', 'original_form': '그 제목을 지금 까먹었어.', 'speaker_id': 'SD2100002', 'start': '381.87356', 'end': '383.75987', 'note': ''}, {'id': 'SDRW2100000001.1.1.181', 'form': '근데 그 노래가', 'original_form': '근데 그 노래가', 'speaker_id': 'SD2100002', 'start': '383.75987', 'end': '385.21257', 'note': ''}, {'id': 'SDRW2100000001.1.1.182', 'form': '제일 좋은 거 같아 그 앨범 중에서.', 'original_form': '제일 좋은 거 같애 그 앨범 중에서.', 'speaker_id': 'SD2100002', 'start': '385.21257', 'end': '387.75900', 'note': '발화겹침'}, {'id': 'SDRW2100000001.1.1.183', 'form': '나는 그거 이선희가 피처링한 거 전쟁터', 'original_form': '나는 그거 이선희가 피처링한 거 전쟁터', 'speaker_id': 'SD2100001', 'start': '387.35901', 'end': '390.35900', 'note': '발화겹침'}, {'id': 'SDRW2100000001.1.1.184', 'form': '그것도 그래 좋더라.', 'original_form': '그것도 그래 좋더라.', 'speaker_id': 'SD2100001', 'start': '390.35900', 'end': '391.58262', 'note': ''}, {'id': 'SDRW2100000001.1.1.185', 'form': '근데 항상 뭔가', 'original_form': '근데 항상 뭔가', 'speaker_id': 'SD2100001', 'start': '391.58262', 'end': '393.88643', 'note': ''}, {'id': 'SDRW2100000001.1.1.186', 'form': '악뮤 노래는 다 좋은데 가사가 되게 심오해 가지고', 'original_form': '악뮤 노래는 다 좋은데 가사가 되게 심오해 가주고', 'speaker_id': 'SD2100001', 'start': '393.88643', 'end': '397.62859', 'note': ''}, {'id': 'SDRW2100000001.1.1.187', 'form': '약간 아 이찬혁 딱 봐 봤을 때는', 'original_form': '약간 아 이찬혁 딱 -봐- 봤을 때는', 'speaker_id': 'SD2100001', 'start': '397.76000', 'end': '400.36207', 'note': ''}, {'id': 'SDRW2100000001.1.1.188', 'form': '완전 이과생 같이 생겼는데', 'original_form': '완전 이과생 같이 생겼는데', 'speaker_id': 'SD2100001', 'start': '400.36207', 'end': '402.05407', 'note': ''}, {'id': 'SDRW2100000001.1.1.189', 'form': '굉장히 그런 감성을 가진 사람이구나 이러면서 듣는 것 같아.', 'original_form': '굉장히 그런 감성을 가진 사람이구나 이러면서 듣는 것 같애.', 'speaker_id': 'SD2100001', 'start': '402.05407', 'end': '405.81899', 'note': ''}, {'id': 'SDRW2100000001.1.1.190', 'form': '맞아.', 'original_form': '맞아.', 'speaker_id': 'SD2100002', 'start': '406.61901', 'end': '407.37899', 'note': '발화겹침'}, {'id': 'SDRW2100000001.1.1.191', 'form': '맞아.', 'original_form': '맞아.', 'speaker_id': 'SD2100001', 'start': '407.21899', 'end': '407.79901', 'note': '발화겹침'}, {'id': 'SDRW2100000001.1.1.192', 'form': '그게 다 자기가 작곡 작사한 건가?', 'original_form': '그게 다 자기가 작곡 작사한 건가?', 'speaker_id': 'SD2100002', 'start': '407.76489', 'end': '411.42901', 'note': '발화겹침'}, {'id': 'SDRW2100000001.1.1.193', 'form': '근데 대부분 그렇지 않아?', 'original_form': '근데 대부분 그렇지 않아?', 'speaker_id': 'SD2100001', 'start': '411.35900', 'end': '412.79676', 'note': '발화겹침'}, {'id': 'SDRW2100000001.1.1.194', 'form': '그', 'original_form': '그', 'speaker_id': 'SD2100001', 'start': '412.79676', 'end': '413.62314', 'note': ''}, {'id': 'SDRW2100000001.1.1.195', 'form': '악뮤 노래는 대부분 이찬혁이 쓰는 것 같던데', 'original_form': '악뮤 노래는 대부분 이찬혁이 쓰는 것 같던데', 'speaker_id': 'SD2100001', 'start': '413.62314', 'end': '417.44899', 'note': ''}, {'id': 'SDRW2100000001.1.1.196', 'form': '그렇지.', 'original_form': '그렇지.', 'speaker_id': 'SD2100002', 'start': '418.03901', 'end': '418.83900', 'note': ''}, {'id': 'SDRW2100000001.1.1.197', 'form': '그리고 또 아 맞아.', 'original_form': '그리고 또 아 맞어.', 'speaker_id': 'SD2100001', 'start': '420.71900', 'end': '422.27500', 'note': ''}, {'id': 'SDRW2100000001.1.1.198', 'form': '너 그거 봤어 소미 전소미 요번에 앨범 낸 거?', 'original_form': '너 그거 봤어 소미 전소미 요번에 앨범 낸 거?', 'speaker_id': 'SD2100001', 'start': '422.27500', 'end': '425.21899', 'note': ''}, {'id': 'SDRW2100000001.1.1.199', 'form': '어 나 근데 노래 별로 그냥 그랬어.', 'original_form': '어 나 근데 노래 별로 그냥 그랬어.', 'speaker_id': 'SD2100002', 'start': '425.65899', 'end': '429.26901', 'note': '발화겹침'}, {'id': 'SDRW2100000001.1.1.200', 'form': '별로야?', 'original_form': '별로야?', 'speaker_id': 'SD2100001', 'start': '427.96899', 'end': '428.69900', 'note': '발화겹침'}, {'id': 'SDRW2100000001.1.1.201', 'form': '아 근데 나는 내 노래보다도', 'original_form': '아 근데 나는 내 노래보다도', 'speaker_id': 'SD2100001', 'start': '429.19485', 'end': '431.01900', 'note': '발화겹침'}, {'id': 'SDRW2100000001.1.1.202', 'form': '그 춤 중에 무슨 이렇게 손가락', 'original_form': '그 춤 중에 무슨 이케 손가락', 'speaker_id': 'SD2100001', 'start': '431.01900', 'end': '433.39085', 'note': ''}, {'id': 'SDRW2100000001.1.1.203', 'form': '이렇게 소 눈에 하는 게 있대.', 'original_form': '이케 소 눈에 하는 게 있대.', 'speaker_id': 'SD2100001', 'start': '433.39085', 'end': '435.39000', 'note': ''}, {'id': 'SDRW2100000001.1.1.204', 'form': '그 사진을 딱 봤는데', 'original_form': '그 사진을 딱 봤는데', 'speaker_id': 'SD2100001', 'start': '435.58900', 'end': '437.64900', 'note': ''}, {'id': 'SDRW2100000001.1.1.205', 'form': '저게 어떻게 사람이 되지 이런 느낌인 거야.', 'original_form': '저게 어떻게 사람이 되지 이런 느낌인 거야.', 'speaker_id': 'SD2100001', 'start': '437.64900', 'end': '440.13133', 'note': ''}, {'id': 'SDRW2100000001.1.1.206', 'form': '그 에스파 넥스트 레벨도 예전에 아마 엄청 이슈였잖아.', 'original_form': '그 에스파 넥스트 레벨도 예전에 아마 엄청 이슈였잖아.', 'speaker_id': 'SD2100001', 'start': '440.13133', 'end': '443.96743', 'note': ''}, {'id': 'SDRW2100000001.1.1.207', 'form': '그런 느낌인 거야.', 'original_form': '그런 느낌인 거야.', 'speaker_id': 'SD2100001', 'start': '443.96743', 'end': '445.13630', 'note': ''}, {'id': 'SDRW2100000001.1.1.208', 'form': '그래서 아 요새는 노래보다 약간 안무로', 'original_form': '그래서 아 요새는 노래보다 약간 안무로', 'speaker_id': 'SD2100001', 'start': '445.13630', 'end': '448.05990', 'note': ''}, {'id': 'SDRW2100000001.1.1.209', 'form': '승부 보는 게 유행인가 싶었는데.', 'original_form': '승부 보는 게 유행인가 싶었는데.', 'speaker_id': 'SD2100001', 'start': '448.05990', 'end': '450.40900', 'note': ''}, {'id': 'SDRW2100000001.1.1.210', 'form': '아니 근데 전소미가', 'original_form': '아니 근데 전소미가', 'speaker_id': 'SD2100002', 'start': '451.39978', 'end': '453.72400', 'note': ''}, {'id': 'SDRW2100000001.1.1.211', 'form': '엄청 살 많이 뺐잖아.', 'original_form': '엄청 살 많이 뺐잖아.', 'speaker_id': 'SD2100002', 'start': '453.72400', 'end': '456.32901', 'note': '발화겹침'}, {'id': 'SDRW2100000001.1.1.212', 'form': '응.', 'original_form': '응.', 'speaker_id': 'SD2100001', 'start': '455.83899', 'end': '456.47900', 'note': '발화겹침'}, {'id': 'SDRW2100000001.1.1.213', 'form': '그래 가지고 나는', 'original_form': '그래 가지고 나는', 'speaker_id': 'SD2100002', 'start': '456.32901', 'end': '457.90000', 'note': '발화겹침'}, {'id': 'SDRW2100000001.1.1.214', 'form': '그 뭐지 노래보다 너무', 'original_form': '그 뭐지 노래보다 너무', 'speaker_id': 'SD2100002', 'start': '458.19000', 'end': '460.74000', 'note': ''}, {'id': 'SDRW2100000001.1.1.215', 'form': '얼굴이 너무 예뻐져 가지고', 'original_form': '얼굴이 너무 예뻐져 가지고', 'speaker_id': 'SD2100002', 'start': '461.19072', 'end': '463.50900', 'note': '발화겹침'}, {'id': 'SDRW2100000001.1.1.216', 'form': '그 전소미가 뺄 살이 있었어?', 'original_form': '그 전소미가 뺄 살이 있었어?', 'speaker_id': 'SD2100001', 'start': '463.40899', 'end': '465.20100', 'note': '발화겹침'}, {'id': 'SDRW2100000001.1.1.217', 'form': '아 근데 근데 거기 아니 나도', 'original_form': '아 근데 근데 거기 아니 나도', 'speaker_id': 'SD2100002', 'start': '465.08000', 'end': '467.48800', 'note': '발화겹침'}, {'id': 'SDRW2100000001.1.1.218', 'form': '난 진심으로 그것도 너무 의문인데.', 'original_form': '난 {laughing} 진심으로 그것도 너무 의문인데.', 'speaker_id': 'SD2100001', 'start': '465.20100', 'end': '467.67901', 'note': '발화겹침'}, {'id': 'SDRW2100000001.1.1.219', 'form': '나도 그건 몰랐는데', 'original_form': '나도 그건 몰랐는데', 'speaker_id': 'SD2100002', 'start': '467.73000', 'end': '469.50900', 'note': '발화겹침'}, {'id': 'SDRW2100000001.1.1.220', 'form': '응.', 'original_form': '응.', 'speaker_id': 'SD2100001', 'start': '469.16900', 'end': '469.71899', 'note': '발화겹침'}, {'id': 'SDRW2100000001.1.1.221', 'form': '진짜', 'original_form': '진짜', 'speaker_id': 'SD2100002', 'start': '469.50900', 'end': '470.20000', 'note': '발화겹침'}, {'id': 'SDRW2100000001.1.1.222', 'form': '예 예전보다 더 어.', 'original_form': '-예- 예전보다 더 어.', 'speaker_id': 'SD2100002', 'start': '470.90900', 'end': '473.49899', 'note': '발화겹침'}, {'id': 'SDRW2100000001.1.1.223', 'form': '더 말랐어?', 'original_form': '더 말랐어?', 'speaker_id': 'SD2100001', 'start': '472.46899', 'end': '474.30901', 'note': '발화겹침'}, {'id': 'SDRW2100000001.1.1.224', 'form': '헐 근데 그러면 그러면 춤추다가 되게 막', 'original_form': '헐 근데 그러면 그러면 춤추다가 되게 막', 'speaker_id': 'SD2100001', 'start': '474.74000', 'end': '477.65700', 'note': ''}, {'id': 'SDRW2100000001.1.1.225', 'form': '어디 부러지는 거 아냐?', 'original_form': '어디 뿌러지는 거 아냐?', 'speaker_id': 'SD2100001', 'start': '477.93000', 'end': '479.54899', 'note': ''}, {'id': 'SDRW2100000001.1.1.226', 'form': '너', 'original_form': '너 {laughing}', 'speaker_id': 'SD2100002', 'start': '479.89900', 'end': '481.37901', 'note': '발화겹침'}, {'id': 'SDRW2100000001.1.1.227', 'form': '아 너무 극단적인가?', 'original_form': '아 {laughing} 너무 극단적인가?', 'speaker_id': 'SD2100001', 'start': '479.93000', 'end': '481.52900', 'note': '발화겹침'}, {'id': 'SDRW2100000001.1.1.228', 'form': '아니', 'original_form': '아이', 'speaker_id': 'SD2100002', 'start': '482.43500', 'end': '483.37500', 'note': ''}, {'id': 'SDRW2100000001.1.1.229', 'form': '근데 또 근육이 많으니까 괜찮지 않을까?', 'original_form': '근데 또 근육이 많으니까 괜찮지 않을까?', 'speaker_id': 'SD2100002', 'start': '483.37500', 'end': '486.70901', 'note': ''}, {'id': 'SDRW2100000001.1.1.230', 'form': '여름이면 또', 'original_form': '여름이면 또', 'speaker_id': 'SD2100001', 'start': '487.68900', 'end': '489.66100', 'note': ''}, {'id': 'SDRW2100000001.1.1.231', 'form': '너 원래 여 아 그러니까', 'original_form': '너 원래 여 아 그니까', 'speaker_id': 'SD2100001', 'start': '489.66100', 'end': '490.84100', 'note': ''}, {'id': 'SDRW2100000001.1.1.232', 'form': '원래 여름에 그런 거 있잖아 막 썸머퀸 씨스타 이런 거.', 'original_form': '원래 여름에 그런 거 있잖아 막 썸머퀸 씨스타 이런 거.', 'speaker_id': 'SD2100001', 'start': '490.84100', 'end': '494.44899', 'note': ''}, {'id': 'SDRW2100000001.1.1.233', 'form': '근데 요새는 그런 게 없어 가지고', 'original_form': '근데 요새는 그런 게 없어 가지고', 'speaker_id': 'SD2100001', 'start': '494.68000', 'end': '496.94000', 'note': ''}, {'id': 'SDRW2100000001.1.1.234', 'form': '약간 되게 심심한 거 같아.', 'original_form': '약간 되게 심심한 거 같애.', 'speaker_id': 'SD2100001', 'start': '496.94000', 'end': '499.23087', 'note': ''}, {'id': 'SDRW2100000001.1.1.235', 'form': '노래 멜론도 맨날 차트 개선했다 그런데 보면', 'original_form': '노래 멜론도 맨날 차트 개선했다 그런데 보면', 'speaker_id': 'SD2100001', 'start': '499.23087', 'end': '502.44300', 'note': ''}, {'id': 'SDRW2100000001.1.1.236', 'form': '누군지도 모르겠는 되게 슬프고 우중충한 노래들만 있고', 'original_form': '누군지도 모르겠는 되게 슬프고 우중충한 노래들만 있고', 'speaker_id': 'SD2100001', 'start': '502.69000', 'end': '506.66899', 'note': ''}, {'id': 'SDRW2100000001.1.1.237', 'form': '아 나 요새 그것도 좋아해', 'original_form': '아 나 요새 그것도 좋아해', 'speaker_id': 'SD2100001', 'start': '506.76000', 'end': '508.29200', 'note': ''}, {'id': 'SDRW2100000001.1.1.238', 'form': '에픽하이랑 윤하랑 부른 거.', 'original_form': '에픽하이랑 윤하랑 부른 거.', 'speaker_id': 'SD2100001', 'start': '508.29200', 'end': '510.67899', 'note': ''}, {'id': 'SDRW2100000001.1.1.239', 'form': '그게 뭐지?', 'original_form': '그게 뭐지?', 'speaker_id': 'SD2100002', 'start': '512.49900', 'end': '513.62900', 'note': ''}, {'id': 'SDRW2100000001.1.1.240', 'form': '나 제목 알려 줘.', 'original_form': '나 제목 알려 줘.', 'speaker_id': 'SD2100002', 'start': '513.82000', 'end': '515.52899', 'note': ''}, {'id': 'SDRW2100000001.1.1.241', 'form': '그', 'original_form': '그', 'speaker_id': 'SD2100001', 'start': '514.10000', 'end': '514.62900', 'note': '발화겹침'}, {'id': 'SDRW2100000001.1.1.242', 'form': '비 오는 날 듣기 좋은 노래였는데 어.', 'original_form': '비 오는 날 듣기 좋은 노래였는데 어.', 'speaker_id': 'SD2100001', 'start': '516.15182', 'end': '519.21899', 'note': '발화겹침'}, {'id': 'SDRW2100000001.1.1.243', 'form': '아 그거 윤하랑 부른 거 아니고', 'original_form': '아 그거 윤하랑 부른 거 아니고', 'speaker_id': 'SD2100002', 'start': '518.09899', 'end': '520.51809', 'note': '발화겹침'}, {'id': 'SDRW2100000001.1.1.244', 'form': '콜드랑 부른 거 아니 아 크러쉬?', 'original_form': '콜드랑 부른 거 아니 아 크러쉬?', 'speaker_id': 'SD2100002', 'start': '520.51809', 'end': '522.67900', 'note': ''}, {'id': 'SDRW2100000001.1.1.245', 'form': '아 그런가?', 'original_form': '아 그런가?', 'speaker_id': 'SD2100001', 'start': '522.96901', 'end': '523.97899', 'note': ''}, {'id': 'SDRW2100000001.1.1.246', 'form': '약', 'original_form': '약', 'speaker_id': 'SD2100002', 'start': '523.15500', 'end': '523.60300', 'note': '발화겹침'}, {'id': 'SDRW2100000001.1.1.247', 'form': '그 남자랑 부른 걸 걸 나 그 노래 아는데.', 'original_form': '그 남자랑 부른 걸 걸 나 그 노래 아는데.', 'speaker_id': 'SD2100002', 'start': '524.68000', 'end': '528.41902', 'note': '발화겹침'}, {'id': 'SDRW2100000001.1.1.248', 'form': '응.', 'original_form': '응.', 'speaker_id': 'SD2100001', 'start': '528.19899', 'end': '528.74897', 'note': '발화겹침'}, {'id': 'SDRW2100000001.1.1.249', 'form': '윤하랑 에픽하이랑 부른 건 그냥 비 아니야?', 'original_form': '윤하랑 에픽하이랑 부른 건 그냥 비 아니야?', 'speaker_id': 'SD2100002', 'start': '529.93898', 'end': '533.04899', 'note': ''}, {'id': 'SDRW2100000001.1.1.250', 'form': '우산 아니야', 'original_form': '우산 아니야 {laughing}', 'speaker_id': 'SD2100001', 'start': '533.45902', 'end': '535.59897', 'note': '발화겹침'}, {'id': 'SDRW2100000001.1.1.251', 'form': '아 맞네 우산.', 'original_form': '아 맞네 우산.', 'speaker_id': 'SD2100002', 'start': '534.35898', 'end': '535.68900', 'note': '발화겹침'}, {'id': 'SDRW2100000001.1.1.252', 'form': '그렇구만.', 'original_form': '그렇구만.', 'speaker_id': 'SD2100001', 'start': '535.59897', 'end': '537.03898', 'note': '발화겹침'}, {'id': 'SDRW2100000001.1.1.253', 'form': '아 근데 그거 나 엄청 좋아했어.', 'original_form': '아 근데 그거 나 엄청 좋아했어.', 'speaker_id': 'SD2100002', 'start': '536.99900', 'end': '539.31900', 'note': '발화겹침'}, {'id': 'SDRW2100000001.1.1.254', 'form': '나 중학생 때 진짜 좋아했어.', 'original_form': '나 중학생 때 진짜 좋아했어.', 'speaker_id': 'SD2100002', 'start': '539.31900', 'end': '541.38901', 'note': '발화겹침'}, {'id': 'SDRW2100000001.1.1.255', 'form': '우산?', 'original_form': '우산?', 'speaker_id': 'SD2100001', 'start': '541.31901', 'end': '541.89902', 'note': '발화겹침'}, {'id': 'SDRW2100000001.1.1.256', 'form': '우산 그것도 있지 않아 윤하랑 이찬혁이랑 부른 거?', 'original_form': '우산 그것도 있지 않아 윤하랑 이찬혁이랑 부른 거?', 'speaker_id': 'SD2100001', 'start': '542.27000', 'end': '545.47900', 'note': ''}, {'id': 'SDRW2100000001.1.1.257', 'form': '어 그건 몰랐어.', 'original_form': '어 그건 몰랐어.', 'speaker_id': 'SD2100002', 'start': '546.00897', 'end': '548.38898', 'note': '발화겹침'}, {'id': 'SDRW2100000001.1.1.258', 'form': '그게 이찬혁에 랩 파트 가져가서 한 거 있거든.', 'original_form': '그게 이찬혁에 랩 파트 가져가서 한 거 있거든.', 'speaker_id': 'SD2100001', 'start': '546.90900', 'end': '549.65300', 'note': '발화겹침'}, {'id': 'SDRW2100000001.1.1.259', 'form': '근데 그것도 노래 되게 좋더라.', 'original_form': '근데 그것도 노래 되게 좋더라.', 'speaker_id': 'SD2100001', 'start': '549.65300', 'end': '551.21902', 'note': ''}, {'id': 'SDRW2100000001.1.1.260', 'form': '그렇군.', 'original_form': '그렇군.', 'speaker_id': 'SD2100002', 'start': '552.43899', 'end': '553.40902', 'note': '발화겹침'}, {'id': 'SDRW2100000001.1.1.261', 'form': '그렇군.', 'original_form': '그렇군.', 'speaker_id': 'SD2100001', 'start': '553.09902', 'end': '553.82900', 'note': '발화겹침'}, {'id': 'SDRW2100000001.1.1.262', 'form': '아 맞아 저번에 배구 보는데 배구 이기면', 'original_form': '아 맞아 쩌번에 배구 보는데 배구 이기면', 'speaker_id': 'SD2100001', 'start': '554.68585', 'end': '558.36100', 'note': ''}, {'id': 'SDRW2100000001.1.1.263', 'form': '그', 'original_form': '그', 'speaker_id': 'SD2100001', 'start': '558.36100', 'end': '559.31700', 'note': ''}, {'id': 'SDRW2100000001.1.1.264', 'form': '득점한 사람이 원하는 노래 틀어 주거든.', 'original_form': '득점한 사람이 원하는 노래 틀어 주거든.', 'speaker_id': 'SD2100001', 'start': '559.31700', 'end': '562.10898', 'note': ''}, {'id': 'SDRW2100000001.1.1.265', 'form': '근데 딱 들어 봤는데', 'original_form': '근데 딱 들어 봤는데', 'speaker_id': 'SD2100001', 'start': '562.10898', 'end': '563.91300', 'note': ''}, {'id': 'SDRW2100000001.1.1.266', 'form': '그 오마이걸 노래 중에', 'original_form': '그 오마이걸 노래 중에', 'speaker_id': 'SD2100001', 'start': '563.91300', 'end': '566.38900', 'note': ''}, {'id': 'SDRW2100000001.1.1.267', 'form': '던던 댄스였나?', 'original_form': '던던 댄스였나?', 'speaker_id': 'SD2100001', 'start': '566.38900', 'end': '567.80435', 'note': ''}, {'id': 'SDRW2100000001.1.1.268', 'form': '그게 계 돌핀인가 뭐가 계속 나오는 거야.', 'original_form': '그게 계 돌핀인가 뭐가 계속 나오는 거야.', 'speaker_id': 'SD2100001', 'start': '567.80435', 'end': '570.58100', 'note': ''}, {'id': 'SDRW2100000001.1.1.269', 'form': '그래서 사람들이 아 저 배구 선수가 오마이걸 팬인가보다 이런 데 알고 보니까', 'original_form': '그래서 사람들이 아 저 배구 선수가 오마이걸 팬인가보다 이런 데 알고 보니까', 'speaker_id': 'SD2100001', 'start': '570.82000', 'end': '574.82802', 'note': ''}, {'id': 'SDRW2100000001.1.1.270', 'form': '그냥 탑 100을 다 돌려서 듣는 사람이여 가지고', 'original_form': '그냥 탑 백을 다 돌려서 듣는 사람이여 가주고', 'speaker_id': 'SD2100001', 'start': '574.82802', 'end': '578.16002', 'note': ''}, {'id': 'SDRW2100000001.1.1.271', 'form': '사람들이', 'original_form': '사람들이', 'speaker_id': 'SD2100001', 'start': '578.29000', 'end': '579.17400', 'note': ''}, {'id': 'SDRW2100000001.1.1.272', 'form': '오마이걸 팬 아닌데 이렇게 만들어도 괜찮은 거냐고', 'original_form': '오마이걸 팬 아닌데 이렇게 만들어도 괜찮은 거냐고', 'speaker_id': 'SD2100001', 'start': '579.17400', 'end': '582.49695', 'note': ''}, {'id': 'SDRW2100000001.1.1.273', 'form': '그러는데 막 그것도 웃겼어.', 'original_form': '그러는데 막 그것도 웃겼어.', 'speaker_id': 'SD2100001', 'start': '582.49695', 'end': '584.33900', 'note': ''}, {'id': 'SDRW2100000001.1.1.274', 'form': '그러면 그 득점한 사람이 신청한 노래를', 'original_form': '그러면 그 득점한 사람이 신청한 노래를', 'speaker_id': 'SD2100002', 'start': '584.53901', 'end': '587.99100', 'note': ''}, {'id': 'SDRW2100000001.1.1.275', 'form': '틀어 주는 거야?', 'original_form': '틀어 주는 거야?', 'speaker_id': 'SD2100002', 'start': '587.99100', 'end': '589.12903', 'note': ''}, {'id': 'SDRW2100000001.1.1.276', 'form': '어 근데 그게 약간 뭐라고 해야 되지?', 'original_form': '어 근데 그게 약간 뭐라고 해야 되지?', 'speaker_id': 'SD2100001', 'start': '589.20898', 'end': '592.09300', 'note': ''}, {'id': 'SDRW2100000001.1.1.277', 'form': '득점하고 아 저는 이거 틀어 주세요 이건 아닌 것 같고 약간 미리', 'original_form': '득점하고 아 저는 이거 틀어 주세요 이건 아닌 것 같고 약간 미리', 'speaker_id': 'SD2100001', 'start': '592.09300', 'end': '596.16100', 'note': ''}, {'id': 'SDRW2100000001.1.1.278', 'form': '이렇게 리스트 넘기면 틀어 주는 그런 것 같던데.', 'original_form': '이케 리스트 넘기면 틀어 주는 그런 것 같던데.', 'speaker_id': 'SD2100001', 'start': '596.16100', 'end': '599.34899', 'note': '발화겹침'}, {'id': 'SDRW2100000001.1.1.279', 'form': '그러면 김연경이 한 노래만 나와', 'original_form': '그러면 김연경이 한 노래만 나와', 'speaker_id': 'SD2100002', 'start': '598.79900', 'end': '601.61500', 'note': '발화겹침'}, {'id': 'SDRW2100000001.1.1.280', 'form': '많이 나오는 거 아니야?', 'original_form': '많이 나오는 거 아니야?', 'speaker_id': 'SD2100002', 'start': '601.61500', 'end': '603.31898', 'note': ''}, {'id': 'SDRW2100000001.1.1.281', 'form': '몰라 근데 그게 선수 개인인지 아니면 나란지 모르겠어.', 'original_form': '몰라 근데 그게 선수 개인인지 아님 나란지 모르겠어.', 'speaker_id': 'SD2100001', 'start': '603.75898', 'end': '607.53900', 'note': ''}, {'id': 'SDRW2100000001.1.1.282', 'form': '근데', 'original_form': '근데', 'speaker_id': 'SD2100001', 'start': '607.53900', 'end': '608.38174', 'note': ''}, {'id': 'SDRW2100000001.1.1.283', 'form': '뭔가 어쨌든 한국 노래가 나오면', 'original_form': '뭔가 어쨌든 한국 노래가 나오면', 'speaker_id': 'SD2100001', 'start': '608.38174', 'end': '610.62074', 'note': ''}, {'id': 'SDRW2100000001.1.1.284', 'form': '그걸 막 터키 이런 사람들이 신청한 건 아닐 거 아니야', 'original_form': '그걸 막 터키 이런 사람들이 신청한 건 아닐 거 아니야', 'speaker_id': 'SD2100001', 'start': '610.62074', 'end': '613.43651', 'note': ''}, {'id': 'SDRW2100000001.1.1.285', 'form': '물론 그럴 수도 있겠지만.', 'original_form': '물론 그럴 수도 있겠지만.', 'speaker_id': 'SD2100001', 'start': '613.43651', 'end': '615.24897', 'note': ''}, {'id': 'SDRW2100000001.1.1.286', 'form': '그러니까 터키 이게 그 득점할 때는 뭔가', 'original_form': '그니까 터키 이게 그 득점할 때는 뭔가', 'speaker_id': 'SD2100002', 'start': '616.04902', 'end': '619.86900', 'note': ''}, {'id': 'SDRW2100000001.1.1.287', 'form': '터키 감성의 노래가 나오기는 하더라.', 'original_form': '터키 감성의 노래가 나오기는 하더라.', 'speaker_id': 'SD2100002', 'start': '619.86900', 'end': '622.86062', 'note': '발화겹침'}, {'id': 'SDRW2100000001.1.1.288', 'form': '어 맞아 무슨 말인지 알아 들을 수 없는 언어로 된', 'original_form': '어 맞아 무슨 말인지 알아 들을 수 없는 언어로 된', 'speaker_id': 'SD2100001', 'start': '622.17899', 'end': '625.66898', 'note': '발화겹침'}, {'id': 'SDRW2100000001.1.1.289', 'form': '또 그', 'original_form': '또 그~', 'speaker_id': 'SD2100001', 'start': '627.03898', 'end': '628.54564', 'note': ''}, {'id': 'SDRW2100000001.1.1.290', 'form': '아 맞아 방탄도', 'original_form': '아 맞아 방탄도', 'speaker_id': 'SD2100001', 'start': '629.16597', 'end': '630.89048', 'note': ''}, {'id': 'SDRW2100000001.1.1.291', 'form': '요번에 계속 그거 기록 무슨 갱신했다며?', 'original_form': '요번에 계속 그거 기록 무슨 갱신했다며?', 'speaker_id': 'SD2100001', 'start': '630.89048', 'end': '633.58898', 'note': ''}, {'id': 'SDRW2100000001.1.1.292', 'form': '어 봤어.', 'original_form': '어 봤어.', 'speaker_id': 'SD2100002', 'start': '634.11901', 'end': '635.18898', 'note': ''}, {'id': 'SDRW2100000001.1.1.293', 'form': '그러니까 나는', 'original_form': '그니까 나는', 'speaker_id': 'SD2100001', 'start': '635.68898', 'end': '636.81300', 'note': ''}, {'id': 'SDRW2100000001.1.1.294', 'form': '그 나는 원래 방탄 노랠 많이 안 들었었거든.', 'original_form': '그 나는 원래 방탄 노랠 많이 안 들었었거든.', 'speaker_id': 'SD2100001', 'start': '637.21549', 'end': '640.24300', 'note': ''}, {'id': 'SDRW2100000001.1.1.295', 'form': '그 뭐지?', 'original_form': '그 뭐지?', 'speaker_id': 'SD2100001', 'start': '640.24300', 'end': '641.54897', 'note': ''}, {'id': 'SDRW2100000001.1.1.296', 'form': '제일 떴을 때가 뭐였더라?', 'original_form': '제일 떴을 때가 뭐였더라?', 'speaker_id': 'SD2100001', 'start': '641.54897', 'end': '643.95897', 'note': ''}, {'id': 'SDRW2100000001.1.1.297', 'form': '처음 빌보드 1위 찍었던거', 'original_form': '처음 빌보드 일 위 찍었던거', 'speaker_id': 'SD2100001', 'start': '644.43410', 'end': '646.33900', 'note': ''}, {'id': 'SDRW2100000001.1.1.298', 'form': '그게 아마 그걸 걸', 'original_form': '그게 아마 그걸 걸', 'speaker_id': 'SD2100002', 'start': '646.50898', 'end': '648.63597', 'note': ''}, {'id': 'SDRW2100000001.1.1.299', 'form': '다이너마이트 아니야?', 'original_form': '다이너마이트 아니야?', 'speaker_id': 'SD2100002', 'start': '648.81000', 'end': '650.57000', 'note': '발화겹침'}, {'id': 'SDRW2100000001.1.1.300', 'form': '아 그런것 같아.', 'original_form': '아 그런것 같애.', 'speaker_id': 'SD2100001', 'start': '650.41898', 'end': '651.77029', 'note': '발화겹침'}, {'id': 'SDRW2100000001.1.1.301', 'form': '그래서 그때쯤부터 들었단 말이야.', 'original_form': '그래서 그때쯤부터 들었단 말이야.', 'speaker_id': 'SD2100001', 'start': '651.77029', 'end': '654.17253', 'note': ''}, {'id': 'SDRW2100000001.1.1.302', 'form': '와 근데 요새 노래 뽑는 거 보면 진짜 잘 뽑긴 하더라.', 'original_form': '와 근데 요새 노래 뽑는 거 보면 진짜 잘 뽑긴 하더라.', 'speaker_id': 'SD2100001', 'start': '654.17253', 'end': '657.25900', 'note': ''}, {'id': 'SDRW2100000001.1.1.303', 'form': 'name2가 언제부터 방탄소년단 좋아했지?', 'original_form': '&name2&가 언제부터 방탄소년단 좋아했지?', 'speaker_id': 'SD2100002', 'start': '658.05898', 'end': '661.13903', 'note': ''}, {'id': 'SDRW2100000001.1.1.304', 'form': '몰라 나 잘은 모르는데', 'original_form': '몰라 나 잘은 모르는데', 'speaker_id': 'SD2100001', 'start': '661.69902', 'end': '663.56700', 'note': ''}, {'id': 'SDRW2100000001.1.1.305', 'form': 'name2이가 비투비 좋아하다가 방탄으로 넘어 갔다 그랬었어.', 'original_form': '&name2&이가 비투비 좋아하다가 방탄으로 넘어 갔다 그랬었어.', 'speaker_id': 'SD2100001', 'start': '663.56700', 'end': '666.85898', 'note': ''}, {'id': 'SDRW2100000001.1.1.306', 'form': '근데 비투비가', 'original_form': '근데 비투비가', 'speaker_id': 'SD2100002', 'start': '666.96897', 'end': '668.66000', 'note': ''}, {'id': 'SDRW2100000001.1.1.307', 'form': '약간 언젠가부터 군대 가면서', 'original_form': '약간 언젠가부터 군대 가면서', 'speaker_id': 'SD2100002', 'start': '668.92000', 'end': '671.82500', 'note': ''}, {'id': 'SDRW2100000001.1.1.308', 'form': '다 어디', 'original_form': '다 어디', 'speaker_id': 'SD2100002', 'start': '671.82500', 'end': '673.62000', 'note': ''}, {'id': 'SDRW2100000001.1.1.309', 'form': '뭔가 노래들이 없어지지 않았어?', 'original_form': '뭔가 노래들이 없어지지 않았어?', 'speaker_id': 'SD2100002', 'start': '673.98100', 'end': '676.22902', 'note': ''}, {'id': 'SDRW2100000001.1.1.310', 'form': '비투비?', 'original_form': '비투비?', 'speaker_id': 'SD2100001', 'start': '677.14900', 'end': '677.97898', 'note': ''}, {'id': 'SDRW2100000001.1.1.311', 'form': '비투비 군대 많이 갔나?', 'original_form': '비투비 군대 많이 갔나?', 'speaker_id': 'SD2100001', 'start': '678.84622', 'end': '680.71899', 'note': ''}, {'id': 'SDRW2100000001.1.1.312', 'form': '어.', 'original_form': '어.', 'speaker_id': 'SD2100002', 'start': '681.48901', 'end': '682.10897', 'note': ''}, {'id': 'SDRW2100000001.1.1.313', 'form': '아 그랬을 수도 있겠다.', 'original_form': '아 그랬을 수도 있겠다.', 'speaker_id': 'SD2100001', 'start': '682.78903', 'end': '684.28068', 'note': ''}, {'id': 'SDRW2100000001.1.1.314', 'form': '아 근데 확실히 뭔가 군대를 가면 사람들이 그', 'original_form': '아 근데 확실히 뭔가 군대를 가면 사람들이 그', 'speaker_id': 'SD2100001', 'start': '684.28068', 'end': '687.36500', 'note': ''}, {'id': 'SDRW2100000001.1.1.315', 'form': '노래가 안 나오는 기간이 길어지긴 하는 거 같아.', 'original_form': '노래가 안 나오는 기간이 길어지긴 하는 거 같애.', 'speaker_id': 'SD2100001', 'start': '687.70000', 'end': '690.86899', 'note': ''}, {'id': 'SDRW2100000001.1.1.316', 'form': '근데 방탄도 이제 곧 입대 아냐?', 'original_form': '근데 방탄도 이제 곧 입대 아냐?', 'speaker_id': 'SD2100001', 'start': '691.63456', 'end': '693.96899', 'note': ''}, {'id': 'SDRW2100000001.1.1.317', 'form': '해야겠지?', 'original_form': '해야겠지?', 'speaker_id': 'SD2100002', 'start': '694.88898', 'end': '696.01901', 'note': ''}, {'id': 'SDRW2100000001.1.1.318', 'form': '누가 제일 먼저 가?', 'original_form': '누가 제일 먼저 가?', 'speaker_id': 'SD2100001', 'start': '697.05898', 'end': '698.30901', 'note': ''}, {'id': 'SDRW2100000001.1.1.319', 'form': '나 나도 몰라.', 'original_form': '-나- 나도 몰라.', 'speaker_id': 'SD2100002', 'start': '698.74901', 'end': '700.40898', 'note': '발화겹침'}, {'id': 'SDRW2100000001.1.1.320', 'form': '아 몰라?', 'original_form': '아 몰라?', 'speaker_id': 'SD2100001', 'start': '699.55901', 'end': '700.43901', 'note': '발화겹침'}, {'id': 'SDRW2100000001.1.1.321', 'form': '진 아니야 진 때문에 막 그 국회 의원들이 방탄 가지고 자꾸', 'original_form': '진 아니야 진 때문에 막 그 국회 의원들이 방탄 가주고 자꾸', 'speaker_id': 'SD2100001', 'start': '701.10498', 'end': '705.74098', 'note': ''}, {'id': 'SDRW2100000001.1.1.322', 'form': '뭐 한다고 얘기 나오는 거 아냐?', 'original_form': '뭐 한다고 얘기 나오는 거 아냐?', 'speaker_id': 'SD2100001', 'start': '705.74098', 'end': '707.65897', 'note': ''}, {'id': 'SDRW2100000001.1.1.323', 'form': '그분이 제일 나이가 많은 거는 아는데.', 'original_form': '그분이 제일 나이가 많은 거는 아는데.', 'speaker_id': 'SD2100002', 'start': '708.15897', 'end': '711.79899', 'note': '발화겹침'}, {'id': 'SDRW2100000001.1.1.324', 'form': '아', 'original_form': '아', 'speaker_id': 'SD2100001', 'start': '710.79899', 'end': '712.27903', 'note': '발화겹침'}, {'id': 'SDRW2100000001.1.1.325', 'form': '하긴 우린 몇 살인지까지는 모르니까', 'original_form': '하긴 우린 몇 살인지까지는 모르니까', 'speaker_id': 'SD2100001', 'start': '712.68000', 'end': '714.74902', 'note': ''}, {'id': 'SDRW2100000001.1.1.326', 'form': '또 군대 하니까 투피엠 생각난다.', 'original_form': '또 군대 하니까 투피엠 생각난다.', 'speaker_id': 'SD2100001', 'start': '715.58925', 'end': '717.67265', 'note': ''}, {'id': 'SDRW2100000001.1.1.327', 'form': '진짜 한 2주 전에 미쳐 가지고 살았었는데', 'original_form': '진짜 한 이 주 전에 미쳐 가지고 살았었는데', 'speaker_id': 'SD2100001', 'start': '717.67265', 'end': '720.04900', 'note': ''}, {'id': 'SDRW2100000001.1.1.328', 'form': '근데 투피엠이 이번에 나온 노래가', 'original_form': '근데 투피엠이 이번에 나온 노래가', 'speaker_id': 'SD2100002', 'start': '720.54900', 'end': '724.03899', 'note': '발화겹침'}, {'id': 'SDRW2100000001.1.1.329', 'form': '응.', 'original_form': '응.', 'speaker_id': 'SD2100001', 'start': '723.72899', 'end': '724.24901', 'note': '발화겹침'}, {'id': 'SDRW2100000001.1.1.330', 'form': '잘됐어?', 'original_form': '잘됐어?', 'speaker_id': 'SD2100002', 'start': '724.03899', 'end': '725.20897', 'note': '발화겹침'}, {'id': 'SDRW2100000001.1.1.331', 'form': '나쁘지 않았던 거 같은데 내가', 'original_form': '나쁘지 않았던 거 같은데 내가', 'speaker_id': 'SD2100001', 'start': '726.33898', 'end': '728.30000', 'note': ''}, {'id': 'SDRW2100000001.1.1.332', 'form': '데이식스랑 겹쳐 가지고 음반 보면 맨날 뒷쪽에 나왔어.', 'original_form': '데이식스랑 겹쳐 가주고 음반 보면 맨날 뒷쪽에 나왔어.', 'speaker_id': 'SD2100001', 'start': '728.30000', 'end': '732.20644', 'note': ''}, {'id': 'SDRW2100000001.1.1.333', 'form': '거의 맨 뒤?', 'original_form': '거의 맨 뒤?', 'speaker_id': 'SD2100001', 'start': '732.20644', 'end': '733.48901', 'note': ''}, {'id': 'SDRW2100000001.1.1.334', 'form': '뒷쪽에 나와야지.', 'original_form': '뒷쪽에 나와야지.', 'speaker_id': 'SD2100002', 'start': '734.73901', 'end': '735.95901', 'note': ''}, {'id': 'SDRW2100000001.1.1.335', 'form': '응 근데 맨날', 'original_form': '응 근데 맨날', 'speaker_id': 'SD2100001', 'start': '736.09902', 'end': '737.31100', 'note': ''}, {'id': 'SDRW2100000001.1.1.336', 'form': '그래 가지고 이번엔 투피엠 1등하나 딱 보면 맨날 엔시티가 1등하고 그래서', 'original_form': '그래 가지고 이번엔 투피엠 일 등하나 딱 보면 맨날 엔씨티가 일 등하고 그래서', 'speaker_id': 'SD2100001', 'start': '737.31100', 'end': '741.81349', 'note': ''}, {'id': 'SDRW2100000001.1.1.337', 'form': '음 그렇구나 이러면서 봤었어.', 'original_form': '음 그렇구나 이러면서 봤었어.', 'speaker_id': 'SD2100001', 'start': '741.81349', 'end': '743.74897', 'note': '발화겹침'}, {'id': 'SDRW2100000001.1.1.338', 'form': '아 그 그러니까 아 내가 옛날에 진짜 고', 'original_form': '아 그 그니까 아 내가 옛날에 진짜 -고-', 'speaker_id': 'SD2100002', 'start': '743.64900', 'end': '747.39300', 'note': '발화겹침'}, {'id': 'SDRW2100000001.1.1.339', 'form': '고등학생 때는 아무것도 몰랐단 말이야.', 'original_form': '고딩 때는 아무것도 몰랐단 말이야.', 'speaker_id': 'SD2100002', 'start': '747.56000', 'end': '751.31901', 'note': ''}, {'id': 'SDRW2100000001.1.1.340', 'form': '그냥 엔시티가', 'original_form': '그냥 엔씨티가', 'speaker_id': 'SD2100002', 'start': '751.44000', 'end': '753.63477', 'note': ''}, {'id': 'SDRW2100000001.1.1.341', 'form': '누군지도 몰랐단 말이야.', 'original_form': '누군지도 몰랐단 말이야.', 'speaker_id': 'SD2100002', 'start': '753.81000', 'end': '755.66520', 'note': ''}, {'id': 'SDRW2100000001.1.1.342', 'form': '응 응.', 'original_form': '응 응.', 'speaker_id': 'SD2100001', 'start': '754.68899', 'end': '755.53903', 'note': '발화겹침'}, {'id': 'SDRW2100000001.1.1.343', 'form': '그런데', 'original_form': '그런데', 'speaker_id': 'SD2100002', 'start': '755.66520', 'end': '756.68901', 'note': ''}, {'id': 'SDRW2100000001.1.1.344', 'form': '한 내가', 'original_form': '한 내가', 'speaker_id': 'SD2100002', 'start': '757.03000', 'end': '758.35700', 'note': ''}, {'id': 'SDRW2100000001.1.1.345', 'form': '그 대학교 나 가고 나서부터 갑자기', 'original_form': '그 대학교 나 가고 나서부터 갑자기', 'speaker_id': 'SD2100002', 'start': '758.65990', 'end': '762.47990', 'note': ''}, {'id': 'SDRW2100000001.1.1.346', 'form': '이제 그냥 잘생긴 사람 몇 명씩', 'original_form': '이제 걍 잘생긴 사람 몇 명씩', 'speaker_id': 'SD2100002', 'start': '762.47990', 'end': '765.56400', 'note': ''}, {'id': 'SDRW2100000001.1.1.347', 'form': '쪼금 애들이', 'original_form': '쪼금 애들이', 'speaker_id': 'SD2100002', 'start': '765.56400', 'end': '767.12000', 'note': '발화겹침'}, {'id': 'SDRW2100000001.1.1.348', 'form': '아', 'original_form': '아', 'speaker_id': 'SD2100001', 'start': '765.82898', 'end': '767.36902', 'note': '발화겹침'}, {'id': 'SDRW2100000001.1.1.349', 'form': '걔네만 알다가', 'original_form': '걔네만 알다가', 'speaker_id': 'SD2100002', 'start': '767.41000', 'end': '769.36700', 'note': ''}, {'id': 'SDRW2100000001.1.1.350', 'form': '이제 갈수록 뭔가', 'original_form': '이제 갈수록 뭔가', 'speaker_id': 'SD2100002', 'start': '770.50300', 'end': '772.50134', 'note': ''}, {'id': 'SDRW2100000001.1.1.351', 'form': '좋아하는', 'original_form': '좋아하는', 'speaker_id': 'SD2100002', 'start': '772.91734', 'end': '774.16015', 'note': ''}, {'id': 'SDRW2100000001.1.1.352', 'form': '그냥 노래 자체를 좋아하는 애들이 많아져 가지고', 'original_form': '걍 노래 자체를 좋아하는 애들이 많아져 가지고', 'speaker_id': 'SD2100002', 'start': '774.16015', 'end': '777.53100', 'note': ''}, {'id': 'SDRW2100000001.1.1.353', 'form': '뭔가 기분이 좋으면서도', 'original_form': '뭔가 기분이 좋으면서도', 'speaker_id': 'SD2100002', 'start': '777.85000', 'end': '779.98000', 'note': ''}, {'id': 'SDRW2100000001.1.1.354', 'form': '그러니까 내가 먼저 좋아했는데 재', 'original_form': '그까 내가 먼저 좋아했는데 재', 'speaker_id': 'SD2100002', 'start': '780.35000', 'end': '783.13898', 'note': '발화겹침'}, {'id': 'SDRW2100000001.1.1.355', 'form': '아 나만 알고 싶은데 뭔 줄 알지.', 'original_form': '아 나만 알고 싶은데 뭔 줄 알지.', 'speaker_id': 'SD2100001', 'start': '781.83899', 'end': '785.50897', 'note': '발화겹침'}, {'id': 'SDRW2100000001.1.1.356', 'form': '쟤가', 'original_form': '쟤가', 'speaker_id': 'SD2100002', 'start': '784.41901', 'end': '785.10000', 'note': '발화겹침'}, {'id': 'SDRW2100000001.1.1.357', 'form': '쟤가 더 많이 좋아하는 느낌?', 'original_form': '쟤가 더 많이 좋아하는 느낌?', 'speaker_id': 'SD2100002', 'start': '785.50199', 'end': '789.04901', 'note': '발화겹침'}, {'id': 'SDRW2100000001.1.1.358', 'form': '', 'original_form': '{laughing}', 'speaker_id': 'SD2100001', 'start': '788.10901', 'end': '788.86902', 'note': '발화겹침'}, {'id': 'SDRW2100000001.1.1.359', 'form': '근데 그게 틀린 말은 아니야.', 'original_form': '근데 그게 틀린 말은 아니야.', 'speaker_id': 'SD2100002', 'start': '789.57597', 'end': '791.48898', 'note': ''}, {'id': 'SDRW2100000001.1.1.360', 'form': '어떤 게?', 'original_form': '어떤 게?', 'speaker_id': 'SD2100001', 'start': '792.04897', 'end': '792.87902', 'note': ''}, {'id': 'SDRW2100000001.1.1.361', 'form': '아니 name3가 원래', 'original_form': '아니 &name3&가 원래', 'speaker_id': 'SD2100002', 'start': '793.28899', 'end': '795.61897', 'note': ''}, {'id': 'SDRW2100000001.1.1.362', 'form': '응.', 'original_form': '응.', 'speaker_id': 'SD2100001', 'start': '794.25898', 'end': '795.07899', 'note': '발화겹침'}, {'id': 'SDRW2100000001.1.1.363', 'form': '빅뱅을 좋아하다가', 'original_form': '빅뱅을 좋아하다가', 'speaker_id': 'SD2100002', 'start': '796.11278', 'end': '798.07899', 'note': '발화겹침'}, {'id': 'SDRW2100000001.1.1.364', 'form': '아 어 어.', 'original_form': '아 어 어.', 'speaker_id': 'SD2100001', 'start': '797.43898', 'end': '798.52900', 'note': '발화겹침'}, {'id': 'SDRW2100000001.1.1.365', 'form': '작', 'original_form': '-작-', 'speaker_id': 'SD2100002', 'start': '799.17903', 'end': '799.78107', 'note': ''}, {'id': 'SDRW2100000001.1.1.366', 'form': '작년인가 올해부터 엔시티를 좋아했대.', 'original_form': '작년인가 올해부터 엔씨티를 좋아했대.', 'speaker_id': 'SD2100002', 'start': '800.17527', 'end': '804.53898', 'note': '발화겹침'}, {'id': 'SDRW2100000001.1.1.367', 'form': '어.', 'original_form': '어.', 'speaker_id': 'SD2100001', 'start': '803.95902', 'end': '805.19901', 'note': '발화겹침'}, {'id': 'SDRW2100000001.1.1.368', 'form': '근데 name3는 약간 좀', 'original_form': '근데 &name3&는 약간 쫌', 'speaker_id': 'SD2100002', 'start': '805.63901', 'end': '807.66700', 'note': ''}, {'id': 'SDRW2100000001.1.1.369', 'form': '밖에서 노는 편이잖아.', 'original_form': '밖에서 노는 편이잖아.', 'speaker_id': 'SD2100002', 'start': '807.66700', 'end': '810.18903', 'note': '발화겹침'}, {'id': 'SDRW2100000001.1.1.370', 'form': '응.', 'original_form': '응.', 'speaker_id': 'SD2100001', 'start': '809.81897', 'end': '810.45898', 'note': '발화겹침'}, {'id': 'SDRW2100000001.1.1.371', 'form': '그래서 막 뮤지컬이라든가', 'original_form': '그래서 막 뮤지컬이라던가', 'speaker_id': 'SD2100002', 'start': '810.50000', 'end': '812.66867', 'note': ''}, {'id': 'SDRW2100000001.1.1.372', 'form': '그런 것도 잘 보러 다니잖아.', 'original_form': '그런 것도 잘 보러 다니잖아.', 'speaker_id': 'SD2100002', 'start': '812.66867', 'end': '814.76029', 'note': '발화겹침'}, {'id': 'SDRW2100000001.1.1.373', 'form': '응.', 'original_form': '응.', 'speaker_id': 'SD2100001', 'start': '814.32900', 'end': '814.87899', 'note': '발화겹침'}, {'id': 'SDRW2100000001.1.1.374', 'form': '근데 나는', 'original_form': '근데 나는', 'speaker_id': 'SD2100002', 'start': '814.76029', 'end': '815.71902', 'note': '발화겹침'}, {'id': 'SDRW2100000001.1.1.375', 'form': '좋아하는 사람 있으면 이제 그냥 집에서만 맨날 보잖아.', 'original_form': '좋아하는 사람 있으면 이제 걍 집에서만 맨날 보잖아.', 'speaker_id': 'SD2100002', 'start': '816.14000', 'end': '819.71487', 'note': '발화겹침'}, {'id': 'SDRW2100000001.1.1.376', 'form': '응.', 'original_form': '응.', 'speaker_id': 'SD2100001', 'start': '819.66897', 'end': '821.05898', 'note': '발화겹침'}, {'id': 'SDRW2100000001.1.1.377', 'form': '동영상으로', 'original_form': '동영상으로', 'speaker_id': 'SD2100002', 'start': '819.71487', 'end': '820.84902', 'note': '발화겹침'}, {'id': 'SDRW2100000001.1.1.378', 'form': '근데 name3가 그 엔시티 멤버가 나오는', 'original_form': '근데 &name3&가 그 엔씨티 멤버가 나오는', 'speaker_id': 'SD2100002', 'start': '822.28000', 'end': '826.68704', 'note': ''}, {'id': 'SDRW2100000001.1.1.379', 'form': '뮤지컬도 보러 가고', 'original_form': '뮤지컬도 보러 가고', 'speaker_id': 'SD2100002', 'start': '826.68704', 'end': '828.93000', 'note': '발화겹침'}, {'id': 'SDRW2100000001.1.1.380', 'form': '도영?', 'original_form': '도영?', 'speaker_id': 'SD2100001', 'start': '828.70897', 'end': '829.34899', 'note': '발화겹침'}, {'id': 'SDRW2100000001.1.1.381', 'form': '어.', 'original_form': '어.', 'speaker_id': 'SD2100002', 'start': '829.41000', 'end': '830.12902', 'note': '발화겹침'}, {'id': 'SDRW2100000001.1.1.382', 'form': '아 어 어 어.', 'original_form': '아 어 어 어.', 'speaker_id': 'SD2100001', 'start': '829.74527', 'end': '830.87902', 'note': '발화겹침'}, {'id': 'SDRW2100000001.1.1.383', 'form': '뭔가 더 막', 'original_form': '뭔가 더 막', 'speaker_id': 'SD2100002', 'start': '831.52898', 'end': '833.25898', 'note': ''}, {'id': 'SDRW2100000001.1.1.384', 'form': '활발하게 덕질을 하는 것 같애?', 'original_form': '활발하게 덕질을 하는 것 같애?', 'speaker_id': 'SD2100001', 'start': '833.87898', 'end': '836.19899', 'note': '발화겹침'}, {'id': 'SDRW2100000001.1.1.385', 'form': '어.', 'original_form': '어.', 'speaker_id': 'SD2100002', 'start': '836.09901', 'end': '836.64900', 'note': '발화겹침'}, {'id': 'SDRW2100000001.1.1.386', 'form': '근데 내가 한참 덕질에', 'original_form': '근데 내가 한참 덕질에', 'speaker_id': 'SD2100001', 'start': '837.20900', 'end': '839.46045', 'note': ''}, {'id': 'SDRW2100000001.1.1.387', 'form': '그 가수에 미쳐 있을 때 그렇게 했었거든.', 'original_form': '그 가수에 미쳐 있을 때 그렇게 했었거든.', 'speaker_id': 'SD2100001', 'start': '839.46045', 'end': '841.90500', 'note': ''}, {'id': 'SDRW2100000001.1.1.388', 'form': '막 앨범 버전별로 다 사고 콘서트 가고', 'original_form': '막 앨범 버전별로 다 사고 콘서트 가고', 'speaker_id': 'SD2100001', 'start': '841.90500', 'end': '844.80500', 'note': ''}, {'id': 'SDRW2100000001.1.1.389', 'form': '근데 그게 한 1년만 지나잖아.', 'original_form': '근데 그게 한 일 년만 지나잖아.', 'speaker_id': 'SD2100001', 'start': '844.80500', 'end': '847.00900', 'note': ''}, {'id': 'SDRW2100000001.1.1.390', 'form': '약간 집에 쌓여 있는 그것들을 보면서', 'original_form': '약간 집에 쌓여 있는 그것들을 보면서', 'speaker_id': 'SD2100001', 'start': '847.00900', 'end': '849.22575', 'note': ''}, {'id': 'SDRW2100000001.1.1.391', 'form': '와 저게 다 얼마지 이런 생각이 한번씩 든단 말이야.', 'original_form': '와 저게 다 얼마지 이런 생각이 한번씩 든단 말이야.', 'speaker_id': 'SD2100001', 'start': '849.40000', 'end': '852.96897', 'note': ''}, {'id': 'SDRW2100000001.1.1.392', 'form': '이제 그러면 그 이제', 'original_form': '이제 그러면 그 이제', 'speaker_id': 'SD2100001', 'start': '853.20000', 'end': '855.53300', 'note': ''}, {'id': 'SDRW2100000001.1.1.393', 'form': '다시 집에서 조용히 노래만 찾아 듣는 걸로', 'original_form': '다시 집에서 조용히 노래만 찾아 듣는 걸로', 'speaker_id': 'SD2100001', 'start': '855.53300', 'end': '858.82387', 'note': ''}, {'id': 'SDRW2100000001.1.1.394', 'form': '변하게 되더라고.', 'original_form': '변하게 되더라구.', 'speaker_id': 'SD2100001', 'start': '858.82387', 'end': '860.20000', 'note': ''}, {'id': 'SDRW2100000001.1.1.395', 'form': '내 뭐 응.', 'original_form': '내 뭐 응.', 'speaker_id': 'SD2100001', 'start': '861.02898', 'end': '862.38903', 'note': '발화겹침'}, {'id': 'SDRW2100000001.1.1.396', 'form': '나 난 원래부터 그랬어.', 'original_form': '나 난 원래부터 그랬어.', 'speaker_id': 'SD2100002', 'start': '861.08898', 'end': '863.64100', 'note': '발화겹침'}, {'id': 'SDRW2100000001.1.1.397', 'form': '나 원래', 'original_form': '나 원래', 'speaker_id': 'SD2100002', 'start': '863.64100', 'end': '864.99901', 'note': '발화겹침'}, {'id': 'SDRW2100000001.1.1.398', 'form': '아 원래 집에서?', 'original_form': '아 원래 집에서?', 'speaker_id': 'SD2100001', 'start': '863.84899', 'end': '865.26897', 'note': '발화겹침'}, {'id': 'SDRW2100000001.1.1.399', 'form': '응.', 'original_form': '응.', 'speaker_id': 'SD2100002', 'start': '865.20000', 'end': '865.98900', 'note': '발화겹침'}, {'id': 'SDRW2100000001.1.1.400', 'form': '에', 'original_form': '에', 'speaker_id': 'SD2100002', 'start': '866.31000', 'end': '867.42900', 'note': '발화겹침'}, {'id': 'SDRW2100000001.1.1.401', 'form': '뭐 어때 내가 좋으면 된 거지.', 'original_form': '뭐 어때 내가 좋으면 된 거지.', 'speaker_id': 'SD2100001', 'start': '866.36901', 'end': '868.32903', 'note': '발화겹침'}, {'id': 'SDRW2100000001.1.1.402', 'form': '앨범도 뭔가', 'original_form': '앨범도 뭔가', 'speaker_id': 'SD2100002', 'start': '868.52898', 'end': '870.35700', 'note': ''}, {'id': 'SDRW2100000001.1.1.403', 'form': '솔직히 시디로 그걸 듣는 건 아니잖아.', 'original_form': '솔직히 씨디로 그걸 듣는 건 아니잖아.', 'speaker_id': 'SD2100002', 'start': '871.48000', 'end': '874.24499', 'note': '발화겹침'}, {'id': 'SDRW2100000001.1.1.404', 'form': '맞아', 'original_form': '맞아 {laughing}', 'speaker_id': 'SD2100001', 'start': '874.20900', 'end': '875.20900', 'note': '발화겹침'}, {'id': 'SDRW2100000001.1.1.405', 'form': '그래서', 'original_form': '그래서', 'speaker_id': 'SD2100002', 'start': '874.24499', 'end': '874.90901', 'note': '발화겹침'}, {'id': 'SDRW2100000001.1.1.406', 'form': '왜 사지 하는 생각도 들고', 'original_form': '왜 사지 하는 생각도 들고', 'speaker_id': 'SD2100002', 'start': '875.30000', 'end': '878.21000', 'note': ''}, {'id': 'SDRW2100000001.1.1.407', 'form': '근데 내 친구들 보면 다 팬싸 가려고 사는', 'original_form': '근데 내 친구들 보면 다 팬싸 가려고 -사는-', 'speaker_id': 'SD2100002', 'start': '878.34501', 'end': '881.53214', 'note': ''}, {'id': 'SDRW2100000001.1.1.408', 'form': '사는 거', 'original_form': '사는 거', 'speaker_id': 'SD2100002', 'start': '881.53214', 'end': '882.29000', 'note': '발화겹침'}, {'id': 'SDRW2100000001.1.1.409', 'form': '아 맞아 좀 그런 느낌인 거 같긴 해.', 'original_form': '아 맞아 쫌 그런 느낌인 거 같긴 해.', 'speaker_id': 'SD2100001', 'start': '881.57898', 'end': '884.47734', 'note': '발화겹침'}, {'id': 'SDRW2100000001.1.1.410', 'form': '근데 나는 어차피 한두 장으론 되지 않을 거라는 걸 알고 있기 때문에', 'original_form': '근데 나는 어차피 한두 장으론 되지 않을 거라는 걸 알고 있기 때문에', 'speaker_id': 'SD2100001', 'start': '884.47734', 'end': '888.24934', 'note': ''}, {'id': 'SDRW2100000001.1.1.411', 'form': '그러니까 차라리 뭐 음원이나 영상 같은 걸', 'original_form': '그니까 차라리 뭐 음원이나 영상 같은 걸', 'speaker_id': 'SD2100001', 'start': '888.59000', 'end': '892.31580', 'note': ''}, {'id': 'SDRW2100000001.1.1.412', 'form': '영상 같은 거를', 'original_form': '영상 같은 거를', 'speaker_id': 'SD2100001', 'start': '894.63000', 'end': '896.35002', 'note': ''}, {'id': 'SDRW2100000001.1.1.413', 'form': '돈 주고 팔면 사겠는데', 'original_form': '돈 주고 팔면 사겠는데', 'speaker_id': 'SD2100001', 'start': '896.48000', 'end': '899.54000', 'note': ''}, {'id': 'SDRW2100000001.1.1.414', 'form': '그러니까 자꾸 자리 차지하는 것들을 파니까', 'original_form': '그니까 자꾸 자리 차지하는 것들을 파니까', 'speaker_id': 'SD2100001', 'start': '899.69573', 'end': '902.73971', 'note': ''}, {'id': 'SDRW2100000001.1.1.415', 'form': '못 사겠어.', 'original_form': '못 사겠어.', 'speaker_id': 'SD2100001', 'start': '902.73971', 'end': '903.31736', 'note': ''}, {'id': 'SDRW2100000001.1.1.416', 'form': '나 진짜 놓을 자리가 없어 이제.', 'original_form': '나 진짜 놓을 자리가 없어 이제.', 'speaker_id': 'SD2100001', 'start': '903.31736', 'end': '905.11901', 'note': ''}, {'id': 'SDRW2100000001.1.1.417', 'form': '맞아 그러니까 그냥', 'original_form': '맞아 그니까 그냥', 'speaker_id': 'SD2100002', 'start': '906.15898', 'end': '908.21100', 'note': ''}, {'id': 'SDRW2100000001.1.1.418', 'form': '앨범 같은 거 사는 것보다 그냥', 'original_form': '앨범 같은 거 사는 것보다 그냥', 'speaker_id': 'SD2100002', 'start': '908.21100', 'end': '911.22298', 'note': ''}, {'id': 'SDRW2100000001.1.1.419', 'form': '집에서', 'original_form': '집에서', 'speaker_id': 'SD2100002', 'start': '911.22298', 'end': '912.38700', 'note': ''}, {'id': 'SDRW2100000001.1.1.420', 'form': '유튜브로 듣거나', 'original_form': '유튜브로 듣거나', 'speaker_id': 'SD2100002', 'start': '913.16000', 'end': '915.10000', 'note': ''}, {'id': 'SDRW2100000001.1.1.421', 'form': '스트리밍 하는 게 나을 것 같아.', 'original_form': '쓰트리밍 하는 게 나을 것 같아.', 'speaker_id': 'SD2100002', 'start': '915.10000', 'end': '917.48898', 'note': '발화겹침'}, {'id': 'SDRW2100000001.1.1.422', 'form': '음', 'original_form': '음', 'speaker_id': 'SD2100001', 'start': '917.47903', 'end': '918.38900', 'note': '발화겹침'}]}]}\n",
      "================================================================================================================================================================================================================================================================================================================================================================================================================================================================================================================================================================================================================================================================================================================================================================================================================================================================================================================================================================================================================================================================================================================================================================================================================================================================================================================================================================================================================================================================================================================================================================================================================================================================================================================================================================================================================================================================================================================================================================================================================================================================================================================================================================================================================================================================================================================================================================================================================================================================================================================================================================================================================================================================================================================================================================================================================================================================================================================================================================================================================================================================================================================================================================================================================================================================================================================================================================================================================================================================================================================================================================================================================================================================================================================================================================================================================================================================================================================================================================================================================================================================================================================================================================\n",
      "<class 'dict'>\n",
      "{'id': 'SDRW2100000002', 'metadata': {'title': '국립국어원 구어 말뭉치 SDRW2100000002', 'creator': '국립국어원', 'distributor': '국립국어원', 'year': '2021', 'category': '구어 > 사적대화 > 일상대화', 'annotation_level': ['원시'], 'sampling': '본문 전체'}, 'document': [{'id': 'SDRW2100000002.1', 'metadata': {'title': '2인 일상 대화', 'author': '개인 발화자', 'publisher': '개인 발화 녹음', 'date': '20210805', 'topic': '먹거리 > 저녁 음식 선택', 'speaker': [{'id': 'SD2100001', 'age': '20대', 'occupation': '학생', 'sex': '여성', 'birthplace': '서울', 'principal_residence': '경기', 'current_residence': '서울', 'education': '대재'}, {'id': 'SD2100002', 'age': '20대', 'occupation': '학생', 'sex': '여성', 'birthplace': '전남', 'principal_residence': '서울', 'current_residence': '서울', 'education': '대재'}], 'setting': {'relation': '친구'}}, 'utterance': [{'id': 'SDRW2100000002.1.1.1', 'form': '너 플립즈라고 초코 프레첼 같은 거 알아?', 'original_form': '너 플립즈라고 초코 프레첼 같은 거 알아?', 'speaker_id': 'SD2100002', 'start': '0.64000', 'end': '4.25801', 'note': ''}, {'id': 'SDRW2100000002.1.1.2', 'form': '아니 처음 들어봤어.', 'original_form': '아니 처음 들어봤어.', 'speaker_id': 'SD2100001', 'start': '4.25801', 'end': '5.66000', 'note': ''}, {'id': 'SDRW2100000002.1.1.3', 'form': '올리브영에 그걸 파는데', 'original_form': '올리브영에 그걸 파는데', 'speaker_id': 'SD2100002', 'start': '6.22000', 'end': '8.23000', 'note': ''}, {'id': 'SDRW2100000002.1.1.4', 'form': '걔', 'original_form': '걔', 'speaker_id': 'SD2100002', 'start': '8.49000', 'end': '9.11282', 'note': ''}, {'id': 'SDRW2100000002.1.1.5', 'form': '쪼금 작은 사이즈로', 'original_form': '쪼금 짝은 사이즈로', 'speaker_id': 'SD2100002', 'start': '9.37000', 'end': '12.06000', 'note': ''}, {'id': 'SDRW2100000002.1.1.6', 'form': '별로 안 들어 있는데 이게', 'original_form': '별로 안 들어 있는데 이게', 'speaker_id': 'SD2100002', 'start': '12.10000', 'end': '14.26800', 'note': ''}, {'id': 'SDRW2100000002.1.1.7', 'form': '한 봉지에 4000원이나 하거든.', 'original_form': '한 봉지에 사천 원이나 하거든.', 'speaker_id': 'SD2100002', 'start': '14.26800', 'end': '16.25900', 'note': '발화겹침'}, {'id': 'SDRW2100000002.1.1.8', 'form': '허이 응.', 'original_form': '허이 응.', 'speaker_id': 'SD2100001', 'start': '16.09900', 'end': '17.21900', 'note': '발화겹침'}, {'id': 'SDRW2100000002.1.1.9', 'form': '근데 그게 진짜 맛있단 말이야', 'original_form': '근데 그게 진짜 맛있단 말이야', 'speaker_id': 'SD2100002', 'start': '16.38000', 'end': '19.37900', 'note': '발화겹침'}, {'id': 'SDRW2100000002.1.1.10', 'form': '그래서 오늘 그걸', 'original_form': '그래서 오늘 그걸', 'speaker_id': 'SD2100002', 'start': '19.75500', 'end': '21.55000', 'note': ''}, {'id': 'SDRW2100000002.1.1.11', 'form': '딱 진열을 했는데 너무 먹고 싶었어.', 'original_form': '딱 진열을 했는데 너무 먹고 싶었어.', 'speaker_id': 'SD2100002', 'start': '21.81400', 'end': '24.66000', 'note': ''}, {'id': 'SDRW2100000002.1.1.12', 'form': '그래서 사 먹었어?', 'original_form': '그래서 사 먹었어?', 'speaker_id': 'SD2100001', 'start': '25.15000', 'end': '26.61000', 'note': ''}, {'id': 'SDRW2100000002.1.1.13', 'form': '못 사 먹었지.', 'original_form': '못 사 먹었지.', 'speaker_id': 'SD2100002', 'start': '26.93000', 'end': '28.11000', 'note': '발화겹침'}, {'id': 'SDRW2100000002.1.1.14', 'form': '아 아니 그냥 뭐 식대 지원해 주고 이런 거 없어?', 'original_form': '아 아니 그냥 뭐 식대 지원해 주고 이런 거 없어?', 'speaker_id': 'SD2100001', 'start': '27.92000', 'end': '31.14000', 'note': '발화겹침'}, {'id': 'SDRW2100000002.1.1.15', 'form': '내가 너무 쪼금 일해 가지고 식대가 안 나와.', 'original_form': '내가 너무 쪼금 일해 가지고 식대가 안 나와.', 'speaker_id': 'SD2100002', 'start': '31.34000', 'end': '34.87000', 'note': ''}, {'id': 'SDRW2100000002.1.1.16', 'form': '그러면 아침은 먹었어?', 'original_form': '그러면 아침은 먹었어?', 'speaker_id': 'SD2100001', 'start': '35.73000', 'end': '37.49000', 'note': ''}, {'id': 'SDRW2100000002.1.1.17', 'form': '아침도 오늘 못 먹었어.', 'original_form': '아침도 오늘 못 먹었어.', 'speaker_id': 'SD2100002', 'start': '37.66000', 'end': '40.14000', 'note': ''}, {'id': 'SDRW2100000002.1.1.18', 'form': '너 그럼 지금 아무것도 안 먹고 그냥 온 거야?', 'original_form': '너 그럼 지금 아무것도 안 먹고 그냥 온 거야?', 'speaker_id': 'SD2100001', 'start': '40.49000', 'end': '42.81000', 'note': '발화겹침'}, {'id': 'SDRW2100000002.1.1.19', 'form': '어.', 'original_form': '어.', 'speaker_id': 'SD2100002', 'start': '42.74000', 'end': '43.20000', 'note': '발화겹침'}, {'id': 'SDRW2100000002.1.1.20', 'form': '헐 그러면', 'original_form': '헐 그러면', 'speaker_id': 'SD2100001', 'start': '44.09000', 'end': '45.34768', 'note': ''}, {'id': 'SDRW2100000002.1.1.21', 'form': '이게 점심시간은 이미 지났으니까', 'original_form': '이게 점심시간은 이미 지났으니까', 'speaker_id': 'SD2100001', 'start': '45.34768', 'end': '48.23233', 'note': ''}, {'id': 'SDRW2100000002.1.1.22', 'form': '저녁을 좀 일찍 먹어야 되겠다.', 'original_form': '저녁을 좀 일찍 먹어야 되겠다.', 'speaker_id': 'SD2100001', 'start': '48.23233', 'end': '49.95000', 'note': ''}, {'id': 'SDRW2100000002.1.1.23', 'form': '그러자.', 'original_form': '그러자.', 'speaker_id': 'SD2100002', 'start': '50.84000', 'end': '51.64000', 'note': ''}, {'id': 'SDRW2100000002.1.1.24', 'form': '먹고 싶은 거 있어?', 'original_form': '먹고 싶은 거 있어?', 'speaker_id': 'SD2100001', 'start': '51.99000', 'end': '53.18000', 'note': ''}, {'id': 'SDRW2100000002.1.1.25', 'form': '너는', 'original_form': '너는', 'speaker_id': 'SD2100002', 'start': '53.68000', 'end': '54.66174', 'note': ''}, {'id': 'SDRW2100000002.1.1.26', 'form': '밥을 좋아해 빵을 좋아해 면을 좋아해?', 'original_form': '밥을 좋아해 빵을 좋아해 면을 좋아해?', 'speaker_id': 'SD2100002', 'start': '54.96257', 'end': '58.33000', 'note': ''}, {'id': 'SDRW2100000002.1.1.27', 'form': '나는', 'original_form': '나는', 'speaker_id': 'SD2100001', 'start': '58.68000', 'end': '59.60000', 'note': ''}, {'id': 'SDRW2100000002.1.1.28', 'form': '면보다는 밥이고 밥이랑 빵은 비슷한 것 같아.', 'original_form': '면보다는 밥이고 밥이랑 빵은 비슷한 것 같애.', 'speaker_id': 'SD2100001', 'start': '60.09535', 'end': '63.51000', 'note': ''}, {'id': 'SDRW2100000002.1.1.29', 'form': '그래?', 'original_form': '그래?', 'speaker_id': 'SD2100002', 'start': '63.68000', 'end': '64.26000', 'note': '발화겹침'}, {'id': 'SDRW2100000002.1.1.30', 'form': '응.', 'original_form': '응.', 'speaker_id': 'SD2100001', 'start': '64.05000', 'end': '64.53000', 'note': '발화겹침'}, {'id': 'SDRW2100000002.1.1.31', 'form': '나도 면보다는 밥인데', 'original_form': '나도 면보다는 밥인데', 'speaker_id': 'SD2100002', 'start': '64.77000', 'end': '67.45000', 'note': ''}, {'id': 'SDRW2100000002.1.1.32', 'form': '밥보다는 빵이야.', 'original_form': '밥보다는 빵이야.', 'speaker_id': 'SD2100002', 'start': '67.45000', 'end': '69.32000', 'note': ''}, {'id': 'SDRW2100000002.1.1.33', 'form': '그러면 뭐 먹지?', 'original_form': '그러면 뭐 먹지?', 'speaker_id': 'SD2100001', 'start': '69.85000', 'end': '71.47905', 'note': ''}, {'id': 'SDRW2100000002.1.1.34', 'form': '저녁으로 빵 하나 사 먹기엔 너무 배고플 텐데.', 'original_form': '저녁으로 빵 하나 사 먹기엔 너무 배고플 텐데.', 'speaker_id': 'SD2100001', 'start': '71.47905', 'end': '74.34000', 'note': '발화겹침'}, {'id': 'SDRW2100000002.1.1.35', 'form': '아 당연히 안 되지.', 'original_form': '아 당연히 안 되지.', 'speaker_id': 'SD2100002', 'start': '74.06000', 'end': '75.72000', 'note': '발화겹침'}, {'id': 'SDRW2100000002.1.1.36', 'form': '빵은 근데 나는 간식이라고 생각을 해.', 'original_form': '빵은 근데 나는 간식이라고 생각을 해.', 'speaker_id': 'SD2100002', 'start': '75.92000', 'end': '79.41000', 'note': '발화겹침'}, {'id': 'SDRW2100000002.1.1.37', 'form': '그렇지 그렇지.', 'original_form': '그치 그치.', 'speaker_id': 'SD2100001', 'start': '78.89000', 'end': '79.94600', 'note': '발화겹침'}, {'id': 'SDRW2100000002.1.1.38', 'form': '나는 그래서 샌드위치 이런 걸로 한 끼를 때울 수 있다는 말은', 'original_form': '나는 그래서 샌드위치 이런 걸로 한 끼를 때울 수 있다는 말은', 'speaker_id': 'SD2100001', 'start': '79.94600', 'end': '83.86391', 'note': ''}, {'id': 'SDRW2100000002.1.1.39', 'form': '말도 안 된다고 생각해.', 'original_form': '말도 안 된다고 생각해.', 'speaker_id': 'SD2100001', 'start': '83.86391', 'end': '85.52000', 'note': ''}, {'id': 'SDRW2100000002.1.1.40', 'form': '그러면 저녁에 밥을 그러면 어떤 메뉴를 먹을까?', 'original_form': '그러면 저녁에 밥을 그러면 어떤 메뉴를 먹을까?', 'speaker_id': 'SD2100001', 'start': '86.46000', 'end': '91.08000', 'note': ''}, {'id': 'SDRW2100000002.1.1.41', 'form': '나는 솔직히 다 좋아해 가지고', 'original_form': '나는 솔직히 다 좋아해 가지고', 'speaker_id': 'SD2100002', 'start': '91.94000', 'end': '95.20000', 'note': ''}, {'id': 'SDRW2100000002.1.1.42', 'form': '한식도 좋고', 'original_form': '한식도 좋고', 'speaker_id': 'SD2100002', 'start': '95.20000', 'end': '97.07000', 'note': ''}, {'id': 'SDRW2100000002.1.1.43', 'form': '양식도 좋고', 'original_form': '양식도 좋고', 'speaker_id': 'SD2100002', 'start': '97.07000', 'end': '98.82000', 'note': ''}, {'id': 'SDRW2100000002.1.1.44', 'form': '일식도 좋고', 'original_form': '일식도 좋고', 'speaker_id': 'SD2100002', 'start': '98.82000', 'end': '100.84000', 'note': ''}, {'id': 'SDRW2100000002.1.1.45', 'form': '중식도 좋고', 'original_form': '중식도 좋고', 'speaker_id': 'SD2100002', 'start': '100.84000', 'end': '102.31000', 'note': '발화겹침'}, {'id': 'SDRW2100000002.1.1.46', 'form': '다 좋구나?', 'original_form': '다 좋구나?', 'speaker_id': 'SD2100001', 'start': '102.18000', 'end': '103.18000', 'note': '발화겹침'}, {'id': 'SDRW2100000002.1.1.47', 'form': '어.', 'original_form': '어.', 'speaker_id': 'SD2100002', 'start': '102.31000', 'end': '104.47000', 'note': '발화겹침'}, {'id': 'SDRW2100000002.1.1.48', 'form': '취향이 없는 사람이구만.', 'original_form': '취향이 없는 사람이구만.', 'speaker_id': 'SD2100001', 'start': '103.69037', 'end': '105.52000', 'note': '발화겹침'}, {'id': 'SDRW2100000002.1.1.49', 'form': '아 근데', 'original_form': '아 근데', 'speaker_id': 'SD2100002', 'start': '105.48000', 'end': '106.36000', 'note': '발화겹침'}, {'id': 'SDRW2100000002.1.1.50', 'form': '나 name1 언니도 나한테', 'original_form': '나 &name1& 언니도 나한테', 'speaker_id': 'SD2100002', 'start': '106.36000', 'end': '109.20825', 'note': ''}, {'id': 'SDRW2100000002.1.1.51', 'form': '내가 뭐 못 먹는 거 본 적 없다고 했었잖아.', 'original_form': '내가 뭐 못 먹는 거 본 적 없다고 했었잖아.', 'speaker_id': 'SD2100002', 'start': '109.20825', 'end': '112.40000', 'note': '발화겹침'}, {'id': 'SDRW2100000002.1.1.52', 'form': '응.', 'original_form': '응.', 'speaker_id': 'SD2100001', 'start': '112.06000', 'end': '112.70000', 'note': '발화겹침'}, {'id': 'SDRW2100000002.1.1.53', 'form': '그래 가지고', 'original_form': '그래 가지고', 'speaker_id': 'SD2100002', 'start': '112.40000', 'end': '114.74000', 'note': '발화겹침'}, {'id': 'SDRW2100000002.1.1.54', 'form': '나도 뭔가', 'original_form': '나도 뭔가', 'speaker_id': 'SD2100002', 'start': '114.74000', 'end': '116.13000', 'note': ''}, {'id': 'SDRW2100000002.1.1.55', 'form': '이래도 되나 싶지만', 'original_form': '이래도 되나 싶지만', 'speaker_id': 'SD2100002', 'start': '116.63622', 'end': '118.51000', 'note': ''}, {'id': 'SDRW2100000002.1.1.56', 'form': '나는 진짜 좋아하는 게 없어.', 'original_form': '나는 진짜 좋아하는 게 없어.', 'speaker_id': 'SD2100002', 'start': '118.51000', 'end': '121.12000', 'note': '발화겹침'}, {'id': 'SDRW2100000002.1.1.57', 'form': '아 그러면', 'original_form': '아 그러면', 'speaker_id': 'SD2100001', 'start': '121.08000', 'end': '122.77000', 'note': '발화겹침'}, {'id': 'SDRW2100000002.1.1.58', 'form': '아', 'original_form': '아', 'speaker_id': 'SD2100002', 'start': '122.49000', 'end': '123.01000', 'note': '발화겹침'}, {'id': 'SDRW2100000002.1.1.59', 'form': '싫어하는 게 없어.', 'original_form': '싫어하는 게 없어.', 'speaker_id': 'SD2100002', 'start': '123.01000', 'end': '124.48000', 'note': '발화겹침'}, {'id': 'SDRW2100000002.1.1.60', 'form': '아 싫어하는 게 없어?', 'original_form': '아 {laughing} 싫어하는 게 없어?', 'speaker_id': 'SD2100001', 'start': '124.11000', 'end': '125.75108', 'note': '발화겹침'}, {'id': 'SDRW2100000002.1.1.61', 'form': '그러면', 'original_form': '그러면', 'speaker_id': 'SD2100001', 'start': '125.75108', 'end': '126.85800', 'note': ''}, {'id': 'SDRW2100000002.1.1.62', 'form': '나 아까 오면서 보니까 역 근처에', 'original_form': '나 아까 오면서 보니까 역 근처에', 'speaker_id': 'SD2100001', 'start': '126.85800', 'end': '130.17999', 'note': ''}, {'id': 'SDRW2100000002.1.1.63', 'form': '일식집 막 돈카츠 이런 거 파는 거 많던데 거기 갈까?', 'original_form': '일식집 막 돈카츠 이런 거 파는 거 많던데 거기 갈까?', 'speaker_id': 'SD2100001', 'start': '130.17999', 'end': '133.87000', 'note': ''}, {'id': 'SDRW2100000002.1.1.64', 'form': '너 돈까스 좋아해?', 'original_form': '너 돈까스 좋아해?', 'speaker_id': 'SD2100002', 'start': '133.89000', 'end': '135.50000', 'note': ''}, {'id': 'SDRW2100000002.1.1.65', 'form': '어 나도 너랑 비슷해 딱히 싫어하는 게 없어.', 'original_form': '어 나도 너랑 비슷해 딱히 싫어하는 게 없어.', 'speaker_id': 'SD2100001', 'start': '135.88000', 'end': '139.38000', 'note': ''}, {'id': 'SDRW2100000002.1.1.66', 'form': '그럼 나도 좋아.', 'original_form': '그럼 나도 좋아.', 'speaker_id': 'SD2100002', 'start': '139.64001', 'end': '140.89000', 'note': ''}, {'id': 'SDRW2100000002.1.1.67', 'form': '근데 코로나 때문에 요새', 'original_form': '근데 코로나 때문에 요새', 'speaker_id': 'SD2100001', 'start': '141.30000', 'end': '144.08000', 'note': ''}, {'id': 'SDRW2100000002.1.1.68', 'form': '안에서 잘 안 팔지 않나 영업시간도 짧고?', 'original_form': '안에서 잘 안 팔지 않나 영업시간도 짧고?', 'speaker_id': 'SD2100001', 'start': '144.36000', 'end': '147.45000', 'note': ''}, {'id': 'SDRW2100000002.1.1.69', 'form': '어 일단 가 보자.', 'original_form': '어 일단 가 보자.', 'speaker_id': 'SD2100002', 'start': '148.61000', 'end': '149.97999', 'note': ''}, {'id': 'SDRW2100000002.1.1.70', 'form': '그래 일단', 'original_form': '그래 일단', 'speaker_id': 'SD2100001', 'start': '150.03000', 'end': '150.98000', 'note': ''}, {'id': 'SDRW2100000002.1.1.71', 'form': '그러면 어디를 갈지를 먼저 확실히 정하고 가자.', 'original_form': '그러면 어디를 갈지를 먼저 확실히 정하고 가자.', 'speaker_id': 'SD2100001', 'start': '151.18999', 'end': '154.59000', 'note': ''}, {'id': 'SDRW2100000002.1.1.72', 'form': '그래 너가 어제 보여준 그', 'original_form': '그래 너가 어제 보여준 그', 'speaker_id': 'SD2100002', 'start': '154.73000', 'end': '157.27000', 'note': ''}, {'id': 'SDRW2100000002.1.1.73', 'form': '그 타코집 있잖아.', 'original_form': '그 타코집 있잖아.', 'speaker_id': 'SD2100002', 'start': '157.93000', 'end': '160.15000', 'note': '발화겹침'}, {'id': 'SDRW2100000002.1.1.74', 'form': '아 그러네.', 'original_form': '아 그러네.', 'speaker_id': 'SD2100001', 'start': '159.99000', 'end': '161.05000', 'note': '발화겹침'}, {'id': 'SDRW2100000002.1.1.75', 'form': '난 거기도 좋아.', 'original_form': '난 거기도 좋아.', 'speaker_id': 'SD2100002', 'start': '160.97000', 'end': '162.34001', 'note': '발화겹침'}, {'id': 'SDRW2100000002.1.1.76', 'form': '그러면', 'original_form': '그러면', 'speaker_id': 'SD2100001', 'start': '162.74999', 'end': '163.57000', 'note': ''}, {'id': 'SDRW2100000002.1.1.77', 'form': '일단은 우리 후보가', 'original_form': '일단은 우리 후보가', 'speaker_id': 'SD2100001', 'start': '163.92000', 'end': '165.61183', 'note': ''}, {'id': 'SDRW2100000002.1.1.78', 'form': '일식이랑', 'original_form': '일식이랑', 'speaker_id': 'SD2100001', 'start': '165.61183', 'end': '166.84000', 'note': ''}, {'id': 'SDRW2100000002.1.1.79', 'form': '멕시코 식당 거기로 줄여 놓을까?', 'original_form': '멕시코 식당 거기로 쭐여 놓을까?', 'speaker_id': 'SD2100001', 'start': '166.84000', 'end': '169.07001', 'note': ''}, {'id': 'SDRW2100000002.1.1.80', 'form': '그래.', 'original_form': '그래.', 'speaker_id': 'SD2100002', 'start': '169.27000', 'end': '169.88999', 'note': ''}, {'id': 'SDRW2100000002.1.1.81', 'form': '아 근데 내가 찾아보니까 그 멕시코 요릴 파는 게', 'original_form': '아 근데 내가 찾아보니까 그 멕시코 요릴 파는 게', 'speaker_id': 'SD2100001', 'start': '170.18000', 'end': '173.80927', 'note': ''}, {'id': 'SDRW2100000002.1.1.82', 'form': '거기 말고 유명한 데가 하나 더 있었거든.', 'original_form': '거기 말고 유명한 데가 하나 더 있었거든.', 'speaker_id': 'SD2100001', 'start': '173.80927', 'end': '176.18000', 'note': ''}, {'id': 'SDRW2100000002.1.1.83', 'form': '거 응.', 'original_form': '거 응.', 'speaker_id': 'SD2100001', 'start': '176.18000', 'end': '177.08000', 'note': '발화겹침'}, {'id': 'SDRW2100000002.1.1.84', 'form': '혹시 혹시 감성타코야?', 'original_form': '혹시 혹시 감성타코야?', 'speaker_id': 'SD2100002', 'start': '176.19999', 'end': '178.64000', 'note': '발화겹침'}, {'id': 'SDRW2100000002.1.1.85', 'form': '아니 어 그것도 있고 뭔가 하나 더 있었어.', 'original_form': '아니 어 그것도 있고 뭔가 하나 더 있었어.', 'speaker_id': 'SD2100001', 'start': '179.22999', 'end': '181.85697', 'note': ''}, {'id': 'SDRW2100000002.1.1.86', 'form': '프렌차이즈가 아닌 걸로 이따 찾아봐야 되겠다 좀 이따가.', 'original_form': '프렌차이즈가 아닌 걸로 이따 찾아봐야 되겠다 쫌 이따가.', 'speaker_id': 'SD2100001', 'start': '181.85697', 'end': '184.89999', 'note': ''}, {'id': 'SDRW2100000002.1.1.87', 'form': '근데 내가 감성타코를 내 진짜 좋아하는 게', 'original_form': '근데 내가 감성타코를 내 진짜 좋아하는 게', 'speaker_id': 'SD2100002', 'start': '185.19000', 'end': '188.44000', 'note': '발화겹침'}, {'id': 'SDRW2100000002.1.1.88', 'form': '응.', 'original_form': '응.', 'speaker_id': 'SD2100001', 'start': '188.25000', 'end': '188.80000', 'note': '발화겹침'}, {'id': 'SDRW2100000002.1.1.89', 'form': '거기가 이렇게 불에다가', 'original_form': '거기가 이렇게 불에다가', 'speaker_id': 'SD2100002', 'start': '188.99000', 'end': '192.05000', 'note': ''}, {'id': 'SDRW2100000002.1.1.90', 'form': '요리가 있고', 'original_form': '요리가 있고', 'speaker_id': 'SD2100002', 'start': '192.92137', 'end': '194.10217', 'note': '발화겹침'}, {'id': 'SDRW2100000002.1.1.91', 'form': '', 'original_form': '(())', 'speaker_id': 'SD2100001', 'start': '194.02000', 'end': '196.44839', 'note': '발화겹침'}, {'id': 'SDRW2100000002.1.1.92', 'form': '그거를 내가 하나씩 싸 먹는 건데. 토', 'original_form': '그거를 내가 하나씩 싸 먹는 건데. -토-', 'speaker_id': 'SD2100002', 'start': '194.10217', 'end': '196.82000', 'note': '발화겹침'}, {'id': 'SDRW2100000002.1.1.93', 'form': '', 'original_form': '(())', 'speaker_id': 'SD2100001', 'start': '194.54000', 'end': '196.44839', 'note': '발화겹침'}, {'id': 'SDRW2100000002.1.1.94', 'form': '음', 'original_form': '음', 'speaker_id': 'SD2100001', 'start': '196.21000', 'end': '197.69000', 'note': '발화겹침'}, {'id': 'SDRW2100000002.1.1.95', 'form': '또띠아에다가', 'original_form': '또띠아에다가', 'speaker_id': 'SD2100002', 'start': '196.82000', 'end': '198.44000', 'note': '발화겹침'}, {'id': 'SDRW2100000002.1.1.96', 'form': '새우랑 고기랑', 'original_form': '새우랑 고기랑', 'speaker_id': 'SD2100002', 'start': '198.53000', 'end': '200.37000', 'note': ''}, {'id': 'SDRW2100000002.1.1.97', 'form': '막 양파랑 이런 거', 'original_form': '막 양파랑 이런 거', 'speaker_id': 'SD2100002', 'start': '200.87000', 'end': '203.05000', 'note': ''}, {'id': 'SDRW2100000002.1.1.98', 'form': '올려 가지고 소스를 쪼금 찍어서', 'original_form': '올려 가지고 소스를 쪼금 찍어서', 'speaker_id': 'SD2100002', 'start': '203.15000', 'end': '206.36411', 'note': ''}, {'id': 'SDRW2100000002.1.1.99', 'form': '먹는 건데 그게 진짜 맛있단 말이야.', 'original_form': '먹는 건데 그게 진짜 맛있단 말이야.', 'speaker_id': 'SD2100002', 'start': '206.36411', 'end': '209.51000', 'note': '발화겹침'}, {'id': 'SDRW2100000002.1.1.100', 'form': '응.', 'original_form': '응.', 'speaker_id': 'SD2100001', 'start': '209.11001', 'end': '209.90000', 'note': '발화겹침'}, {'id': 'SDRW2100000002.1.1.101', 'form': '그걸 내가', 'original_form': '그걸 내가', 'speaker_id': 'SD2100002', 'start': '209.82000', 'end': '211.07000', 'note': '발화겹침'}, {'id': 'SDRW2100000002.1.1.102', 'form': '재작년에 처음 먹었어.', 'original_form': '재작년에 처음 먹었어.', 'speaker_id': 'SD2100002', 'start': '211.25000', 'end': '213.14192', 'note': ''}, {'id': 'SDRW2100000002.1.1.103', 'form': '그렇게', 'original_form': '그렇게', 'speaker_id': 'SD2100002', 'start': '213.14192', 'end': '213.76200', 'note': ''}, {'id': 'SDRW2100000002.1.1.104', 'form': '파히타라는 거를', 'original_form': '파히타라는 거를', 'speaker_id': 'SD2100002', 'start': '213.76200', 'end': '215.52999', 'note': '발화겹침'}, {'id': 'SDRW2100000002.1.1.105', 'form': '으 응.', 'original_form': '으 응.', 'speaker_id': 'SD2100001', 'start': '215.04000', 'end': '215.74000', 'note': '발화겹침'}, {'id': 'SDRW2100000002.1.1.106', 'form': '그래서 그때 너무 맛있는 거야.', 'original_form': '그래서 그때 너무 맛있는 거야.', 'speaker_id': 'SD2100002', 'start': '215.94079', 'end': '218.39000', 'note': ''}, {'id': 'SDRW2100000002.1.1.107', 'form': '그래서', 'original_form': '그래서', 'speaker_id': 'SD2100002', 'start': '218.91000', 'end': '219.54942', 'note': ''}, {'id': 'SDRW2100000002.1.1.108', 'form': '계속 그걸 맛있다라고 생각하고 있다가', 'original_form': '계속 그걸 맛있다라고 생각하고 있다가', 'speaker_id': 'SD2100002', 'start': '219.54942', 'end': '223.12000', 'note': ''}, {'id': 'SDRW2100000002.1.1.109', 'form': '그', 'original_form': '그', 'speaker_id': 'SD2100002', 'start': '223.82332', 'end': '224.62871', 'note': ''}, {'id': 'SDRW2100000002.1.1.110', 'form': '때 그 재작년에 name2이랑 name3이랑', 'original_form': '때 그 재작년에 &name2&이랑 &name3&이랑', 'speaker_id': 'SD2100002', 'start': '225.67671', 'end': '229.26000', 'note': ''}, {'id': 'SDRW2100000002.1.1.111', 'form': '또 감성타코를 데려가 가지고', 'original_form': '또 감성타코를 데려가 가지고', 'speaker_id': 'SD2100002', 'start': '229.61000', 'end': '232.31800', 'note': ''}, {'id': 'SDRW2100000002.1.1.112', 'form': '그걸 먹었거든.', 'original_form': '그걸 먹었거든.', 'speaker_id': 'SD2100002', 'start': '232.31800', 'end': '233.59000', 'note': '발화겹침'}, {'id': 'SDRW2100000002.1.1.113', 'form': '응.', 'original_form': '응.', 'speaker_id': 'SD2100001', 'start': '233.40000', 'end': '233.95000', 'note': '발화겹침'}, {'id': 'SDRW2100000002.1.1.114', 'form': '근데', 'original_form': '근데', 'speaker_id': 'SD2100002', 'start': '234.11905', 'end': '235.04001', 'note': ''}, {'id': 'SDRW2100000002.1.1.115', 'form': '나는 그게 너무 맛있었는데.', 'original_form': '나는 그게 너무 맛있었는데.', 'speaker_id': 'SD2100002', 'start': '235.28000', 'end': '237.71600', 'note': ''}, {'id': 'SDRW2100000002.1.1.116', 'form': 'name3이가', 'original_form': '&name3&이가', 'speaker_id': 'SD2100002', 'start': '237.71600', 'end': '238.75000', 'note': ''}, {'id': 'SDRW2100000002.1.1.117', 'form': '갑자기 맥주 시키자고 해 가지고', 'original_form': '{clearing} 갑자기 맥주 시키자고 해 가지고', 'speaker_id': 'SD2100002', 'start': '238.91000', 'end': '241.66000', 'note': '발화겹침'}, {'id': 'SDRW2100000002.1.1.118', 'form': '', 'original_form': '{laughing}', 'speaker_id': 'SD2100001', 'start': '240.69000', 'end': '241.96001', 'note': '발화겹침'}, {'id': 'SDRW2100000002.1.1.119', 'form': '낮이었는데?', 'original_form': '낮이었는데?', 'speaker_id': 'SD2100001', 'start': '242.44548', 'end': '243.62000', 'note': ''}, {'id': 'SDRW2100000002.1.1.120', 'form': '아니 저녁이었어.', 'original_form': '아니 저녁이었어.', 'speaker_id': 'SD2100002', 'start': '244.12212', 'end': '245.82000', 'note': '발화겹침'}, {'id': 'SDRW2100000002.1.1.121', 'form': '아 저녁에 어.', 'original_form': '아 저녁에 어.', 'speaker_id': 'SD2100001', 'start': '244.81001', 'end': '246.10999', 'note': '발화겹침'}, {'id': 'SDRW2100000002.1.1.122', 'form': '그래 가지고 그걸 먹었어.', 'original_form': '그래 가지고 그걸 먹었어.', 'speaker_id': 'SD2100002', 'start': '247.66000', 'end': '249.79000', 'note': ''}, {'id': 'SDRW2100000002.1.1.123', 'form': '아 맥주도 먹었어 결국엔?', 'original_form': '아 맥주도 먹었어 결국엔?', 'speaker_id': 'SD2100001', 'start': '250.25000', 'end': '251.94999', 'note': ''}, {'id': 'SDRW2100000002.1.1.124', 'form': '근데 나는 감성타코 한번도 가 본 적 없는데.', 'original_form': '근데 나는 감성타코 한번도 가 본 적 없는데.', 'speaker_id': 'SD2100001', 'start': '252.82344', 'end': '256.28344', 'note': ''}, {'id': 'SDRW2100000002.1.1.125', 'form': '그 환승 연애에서 너 봤어 최근 화?', 'original_form': '그 환승 연애에서 너 봤어 최근 화?', 'speaker_id': 'SD2100001', 'start': '256.28344', 'end': '259.28000', 'note': '발화겹침'}, {'id': 'SDRW2100000002.1.1.126', 'form': '어 봤지.', 'original_form': '어 봤지.', 'speaker_id': 'SD2100002', 'start': '259.21000', 'end': '260.32999', 'note': '발화겹침'}, {'id': 'SDRW2100000002.1.1.127', 'form': '그 name4랑 그 되게 예쁜 언니 name5씨랑', 'original_form': '그 &name4&랑 그 되게 예쁜 언니 &name5&씨랑', 'speaker_id': 'SD2100001', 'start': '259.98954', 'end': '263.89068', 'note': '발화겹침'}, {'id': 'SDRW2100000002.1.1.128', 'form': '거기 가는데', 'original_form': '거기 가는데', 'speaker_id': 'SD2100001', 'start': '263.89068', 'end': '264.81880', 'note': ''}, {'id': 'SDRW2100000002.1.1.129', 'form': '그냥 그것만 생각나는 거야 감성타코 얘기를 들으면.', 'original_form': '그냥 그것만 생각나는 거야 감성타코 얘기를 들으면.', 'speaker_id': 'SD2100001', 'start': '264.81880', 'end': '268.89700', 'note': ''}, {'id': 'SDRW2100000002.1.1.130', 'form': '그래 가지고', 'original_form': '그래 가지고', 'speaker_id': 'SD2100001', 'start': '268.89700', 'end': '270.08000', 'note': ''}, {'id': 'SDRW2100000002.1.1.131', 'form': '네가 말한 것도 약간 그 장면 생각하면서', 'original_form': '니가 말한 것도 약간 그 장면 생각하면서', 'speaker_id': 'SD2100001', 'start': '270.08000', 'end': '272.89577', 'note': ''}, {'id': 'SDRW2100000002.1.1.132', 'form': '생각하긴 했는데 맛있긴 하겠다.', 'original_form': '생각하긴 했는데 맛있긴 하겠다.', 'speaker_id': 'SD2100001', 'start': '272.89577', 'end': '275.07899', 'note': ''}, {'id': 'SDRW2100000002.1.1.133', 'form': '근데 거기 음식이 다 뭔가', 'original_form': '근데 거기 음식이 다 뭔가', 'speaker_id': 'SD2100002', 'start': '276.08900', 'end': '279.70901', 'note': ''}, {'id': 'SDRW2100000002.1.1.134', 'form': '좀', 'original_form': '쫌', 'speaker_id': 'SD2100002', 'start': '280.77899', 'end': '281.61000', 'note': ''}, {'id': 'SDRW2100000002.1.1.135', 'form': '프렌차이즈가 많았어.', 'original_form': '프렌차이즈가 많았어.', 'speaker_id': 'SD2100002', 'start': '282.09500', 'end': '284.25899', 'note': ''}, {'id': 'SDRW2100000002.1.1.136', 'form': '하나가 감성타코고', 'original_form': '하나가 감성타코고', 'speaker_id': 'SD2100002', 'start': '284.49000', 'end': '286.23315', 'note': ''}, {'id': 'SDRW2100000002.1.1.137', 'form': '하나가 북창동 순두부였잖아.', 'original_form': '하나가 북창동 순두부였잖아.', 'speaker_id': 'SD2100002', 'start': '286.23315', 'end': '288.94899', 'note': '발화겹침'}, {'id': 'SDRW2100000002.1.1.138', 'form': '아 맞아 맞아.', 'original_form': '아 맞아 맞아.', 'speaker_id': 'SD2100001', 'start': '288.27900', 'end': '289.54899', 'note': '발화겹침'}, {'id': 'SDRW2100000002.1.1.139', 'form': '그래 내가 그 지나가면서 되게 많이 봐 가지고', 'original_form': '그래 내가 그 지나가면서 되게 많이 봐 가지고', 'speaker_id': 'SD2100002', 'start': '289.63987', 'end': '292.79000', 'note': ''}, {'id': 'SDRW2100000002.1.1.140', 'form': '좀 약간 어디서 데이트 했는지 알겠다 싶은 그게', 'original_form': '쫌 약간 어디서 데이트 했는지 알겠다 싶은 그게', 'speaker_id': 'SD2100001', 'start': '294.67899', 'end': '298.31634', 'note': ''}, {'id': 'SDRW2100000002.1.1.141', 'form': '목록들이 나오지 않아 뭔가?', 'original_form': '목록들이 나오지 않아 뭔가?', 'speaker_id': 'SD2100001', 'start': '298.31634', 'end': '300.04901', 'note': ''}, {'id': 'SDRW2100000002.1.1.142', 'form': '근데 너라면은 감성타코 고를 거야', 'original_form': '근데 너라면은 감성타코 고를 거야', 'speaker_id': 'SD2100002', 'start': '300.06899', 'end': '302.98651', 'note': ''}, {'id': 'SDRW2100000002.1.1.143', 'form': '북창동 순두부 고를 거야 아니면 그 막', 'original_form': '북창동 순두부 고를 거야 아니면 그 막', 'speaker_id': 'SD2100002', 'start': '302.98651', 'end': '306.15901', 'note': ''}, {'id': 'SDRW2100000002.1.1.144', 'form': '그 횟집?', 'original_form': '그 횟집?', 'speaker_id': 'SD2100001', 'start': '306.74901', 'end': '307.53901', 'note': '발화겹침'}, {'id': 'SDRW2100000002.1.1.145', 'form': '어 고를 거야?', 'original_form': '어 고를 거야?', 'speaker_id': 'SD2100002', 'start': '307.40901', 'end': '309.06901', 'note': '발화겹침'}, {'id': 'SDRW2100000002.1.1.146', 'form': '그냥 그 리스트만 보고', 'original_form': '그냥 그 리스트만 보고', 'speaker_id': 'SD2100001', 'start': '309.08900', 'end': '310.86900', 'note': ''}, {'id': 'SDRW2100000002.1.1.147', 'form': '그 메뉴만 딱 고른다고 했을 때?', 'original_form': '그 메뉴만 딱 고른다고 했을 때?', 'speaker_id': 'SD2100001', 'start': '310.86900', 'end': '313.04901', 'note': ''}, {'id': 'SDRW2100000002.1.1.148', 'form': '어.', 'original_form': '어.', 'speaker_id': 'SD2100002', 'start': '313.33899', 'end': '313.95901', 'note': ''}, {'id': 'SDRW2100000002.1.1.149', 'form': '나는 나는 그 횟집', 'original_form': '나는 나는 그 횟집', 'speaker_id': 'SD2100001', 'start': '314.18899', 'end': '316.24901', 'note': ''}, {'id': 'SDRW2100000002.1.1.150', 'form': '횟집?', 'original_form': '횟집?', 'speaker_id': 'SD2100002', 'start': '316.26900', 'end': '316.93901', 'note': '발화겹침'}, {'id': 'SDRW2100000002.1.1.151', 'form': '어 아니 왜냐하면 회가 일단 제일', 'original_form': '어 아니 왜냐하면 회가 일단 제일', 'speaker_id': 'SD2100001', 'start': '316.62659', 'end': '319.51900', 'note': '발화겹침'}, {'id': 'SDRW2100000002.1.1.152', 'form': '비싸잖아.', 'original_form': '비싸잖아.', 'speaker_id': 'SD2100001', 'start': '320.23892', 'end': '321.32240', 'note': ''}, {'id': 'SDRW2100000002.1.1.153', 'form': '아이 그래도 이렇게 얘기하면 좀 속물 같긴 한데', 'original_form': '아이 그래도 이렇게 얘기하면 쫌 속물 같긴 한데', 'speaker_id': 'SD2100001', 'start': '321.32240', 'end': '323.91291', 'note': ''}, {'id': 'SDRW2100000002.1.1.154', 'form': '그것도 어차피 제작비에서 지원 나오는 거 아니야?', 'original_form': '그것도 어차피 제작비에서 {laughing} 지원 나오는 거 아니야?', 'speaker_id': 'SD2100001', 'start': '323.91291', 'end': '326.43615', 'note': ''}, {'id': 'SDRW2100000002.1.1.155', 'form': '그러면 가장 맛있는 걸 먹으러 가야지.', 'original_form': '그러면 가장 맛있는 걸 먹으러 가야지.', 'speaker_id': 'SD2100001', 'start': '326.43615', 'end': '328.94000', 'note': '발화겹침'}, {'id': 'SDRW2100000002.1.1.156', 'form': '그럼 만약에 네가 내는 거면?', 'original_form': '((그럼)) 만약에 너가 내는 거면?', 'speaker_id': 'SD2100002', 'start': '328.80899', 'end': '330.70901', 'note': '발화겹침'}, {'id': 'SDRW2100000002.1.1.157', 'form': '아니 그냥 이왕 먹을 거면 그래도 횟집을 갈 것 같아.', 'original_form': '아니 그냥 이왕 먹을 거면 그래도 횟집을 갈 것 같애.', 'speaker_id': 'SD2100001', 'start': '331.80899', 'end': '335.21397', 'note': ''}, {'id': 'SDRW2100000002.1.1.158', 'form': 'company-name1 company-name1를 갈 것 같아.', 'original_form': '&company-name1& &company-name1&를 갈 것 같애.', 'speaker_id': 'SD2100001', 'start': '335.21397', 'end': '337.23900', 'note': ''}, {'id': 'SDRW2100000002.1.1.159', 'form': '회가 맛있지.', 'original_form': '회가 맛있지.', 'speaker_id': 'SD2100001', 'start': '337.72033', 'end': '338.82900', 'note': '발화겹침'}, {'id': 'SDRW2100000002.1.1.160', 'form': '음 나도 회 좋아해.', 'original_form': '음~ 나도 회 좋아해.', 'speaker_id': 'SD2100002', 'start': '338.72899', 'end': '340.56899', 'note': '발화겹침'}, {'id': 'SDRW2100000002.1.1.161', 'form': '맞아 회 아 누가 회 못 먹는다 그랬었지?', 'original_form': '맞아 회 아 누가 회 못 먹는다 그랬었지?', 'speaker_id': 'SD2100001', 'start': '341.54900', 'end': '344.58883', 'note': ''}, {'id': 'SDRW2100000002.1.1.162', 'form': '너', 'original_form': '너', 'speaker_id': 'SD2100002', 'start': '342.30900', 'end': '342.85899', 'note': '발화겹침'}, {'id': 'SDRW2100000002.1.1.163', 'form': 'name6이가 못 먹는다 그랬었나?', 'original_form': '&name6&이가 못 먹는다 그랬었나?', 'speaker_id': 'SD2100001', 'start': '344.58883', 'end': '346.46900', 'note': ''}, {'id': 'SDRW2100000002.1.1.164', 'form': 'name6이가 그 생을 못 먹는다 그랬어.', 'original_form': '&name6&이가 그 쌩을 못 먹는다 그랬어.', 'speaker_id': 'SD2100002', 'start': '348.34696', 'end': '351.62900', 'note': '발화겹침'}, {'id': 'SDRW2100000002.1.1.165', 'form': '음', 'original_form': '음', 'speaker_id': 'SD2100001', 'start': '351.46900', 'end': '352.46900', 'note': '발화겹침'}, {'id': 'SDRW2100000002.1.1.166', 'form': '그래서 우리가 그때', 'original_form': '그래서 우리가 그때', 'speaker_id': 'SD2100002', 'start': '352.24000', 'end': '353.72901', 'note': '발화겹침'}, {'id': 'SDRW2100000002.1.1.167', 'form': '연어를', 'original_form': '연어를', 'speaker_id': 'SD2100002', 'start': '354.52153', 'end': '355.86899', 'note': ''}, {'id': 'SDRW2100000002.1.1.168', 'form': '그 훈제 연어를 시키지 않았어 연어 스테이크?', 'original_form': '그 훈제 연어를 시키지 않았어 연어 스테이크?', 'speaker_id': 'SD2100002', 'start': '356.63000', 'end': '360.04901', 'note': ''}, {'id': 'SDRW2100000002.1.1.169', 'form': '아 맞다 맞다.', 'original_form': '아 맞다 맞다.', 'speaker_id': 'SD2100001', 'start': '360.06899', 'end': '361.58901', 'note': ''}, {'id': 'SDRW2100000002.1.1.170', 'form': '그러면 우리 오늘 그냥 초밥 먹을래?', 'original_form': '그러면 우리 오늘 그냥 초밥 먹을래?', 'speaker_id': 'SD2100001', 'start': '362.65901', 'end': '364.88000', 'note': ''}, {'id': 'SDRW2100000002.1.1.171', 'form': '그래.', 'original_form': '그래.', 'speaker_id': 'SD2100002', 'start': '365.27900', 'end': '365.83900', 'note': ''}, {'id': 'SDRW2100000002.1.1.172', 'form': '아 근데 여름에는 초밥 좀 그런가?', 'original_form': '아 근데 여름에는 초밥 좀 그런가?', 'speaker_id': 'SD2100001', 'start': '366.01000', 'end': '368.27899', 'note': ''}, {'id': 'SDRW2100000002.1.1.173', 'form': '아니 근데 나는 솔직히', 'original_form': '아니 근데 나는 솔직히', 'speaker_id': 'SD2100002', 'start': '369.73901', 'end': '373.02899', 'note': ''}, {'id': 'SDRW2100000002.1.1.174', 'form': '잘 잘 모르겠어.', 'original_form': '-잘- 잘 모르겠어.', 'speaker_id': 'SD2100002', 'start': '373.63000', 'end': '376.21901', 'note': ''}, {'id': 'SDRW2100000002.1.1.175', 'form': '그 여름에 날 요리 이런 거 먹어도 괜찮아?', 'original_form': '그 여름에 날 요리 이런 거 먹어도 괜찮아?', 'speaker_id': 'SD2100001', 'start': '376.32000', 'end': '379.67900', 'note': ''}, {'id': 'SDRW2100000002.1.1.176', 'form': '어 나는 뭐 딱히 그런 적이 없어 가지고.', 'original_form': '어 나는 뭐 딱히 그런 적이 없어 가지고.', 'speaker_id': 'SD2100002', 'start': '380.02900', 'end': '383.61899', 'note': ''}, {'id': 'SDRW2100000002.1.1.177', 'form': '어.', 'original_form': '어.', 'speaker_id': 'SD2100001', 'start': '381.71900', 'end': '382.95899', 'note': '발화겹침'}, {'id': 'SDRW2100000002.1.1.178', 'form': '약간 우리집만의 문환가?', 'original_form': '약간 우리집만의 문환가?', 'speaker_id': 'SD2100001', 'start': '384.23899', 'end': '386.16764', 'note': ''}, {'id': 'SDRW2100000002.1.1.179', 'form': '우리집은 약간 아 날 더워지면', 'original_form': '우리집은 약간 아 날 더워지면', 'speaker_id': 'SD2100001', 'start': '386.16764', 'end': '388.02710', 'note': ''}, {'id': 'SDRW2100000002.1.1.180', 'form': '회랑 초밥은 안 된다 이 주의여가지고 막', 'original_form': '회랑 초밥은 안 된다 이 주의여가지고 막', 'speaker_id': 'SD2100001', 'start': '388.02710', 'end': '390.71899', 'note': '발화겹침'}, {'id': 'SDRW2100000002.1.1.181', 'form': '근데 그게 맞기는 해.', 'original_form': '근데 그게 맞기는 해.', 'speaker_id': 'SD2100002', 'start': '390.24000', 'end': '391.88900', 'note': '발화겹침'}, {'id': 'SDRW2100000002.1.1.182', 'form': '맞아 약간 좀 안전한 그게 있지 어 너 그거 들었어?', 'original_form': '((맞아)) 약간 좀 안전한 그게 있지 어 너 그거 들었어?', 'speaker_id': 'SD2100001', 'start': '392.05901', 'end': '394.98424', 'note': ''}, {'id': 'SDRW2100000002.1.1.183', 'form': '분당 김밥집 식중독 사건?', 'original_form': '분당 김밥집 식중독 사건?', 'speaker_id': 'SD2100001', 'start': '394.98424', 'end': '397.30900', 'note': ''}, {'id': 'SDRW2100000002.1.1.184', 'form': '아니.', 'original_form': '아니.', 'speaker_id': 'SD2100002', 'start': '397.71901', 'end': '398.36899', 'note': ''}, {'id': 'SDRW2100000002.1.1.185', 'form': '그 분당인가 그냥 성남인지 모르겠는데', 'original_form': '그 분당인가 그냥 성남인지 모르겠는데', 'speaker_id': 'SD2100001', 'start': '398.71900', 'end': '402.18900', 'note': ''}, {'id': 'SDRW2100000002.1.1.186', 'form': '왠 김밥 집에서 김밥 사다 먹은 사람들이 한 40명인가가', 'original_form': '왠 김밥 집에서 김밥 사다 먹은 사람들이 한 사십 명인가가', 'speaker_id': 'SD2100001', 'start': '402.34000', 'end': '405.71402', 'note': ''}, {'id': 'SDRW2100000002.1.1.187', 'form': '다 엄청 심하게 식중독 걸린 거야.', 'original_form': '다 엄청 심하게 식중독 걸린 거야.', 'speaker_id': 'SD2100001', 'start': '405.71402', 'end': '408.08901', 'note': ''}, {'id': 'SDRW2100000002.1.1.188', 'form': '그래 가지고 막 기사 나왔었는데', 'original_form': '그래 가주구 막 기사 나왔었는데', 'speaker_id': 'SD2100001', 'start': '408.34500', 'end': '410.64900', 'note': ''}, {'id': 'SDRW2100000002.1.1.189', 'form': '나 근데', 'original_form': '나 근데', 'speaker_id': 'SD2100002', 'start': '411.14900', 'end': '412.65000', 'note': ''}, {'id': 'SDRW2100000002.1.1.190', 'form': '내 옛날에 오빠가 자취하기 전에', 'original_form': '내 옛날에 오빠가 자취하기 전에', 'speaker_id': 'SD2100002', 'start': '413.01663', 'end': '416.03900', 'note': ''}, {'id': 'SDRW2100000002.1.1.191', 'form': '응.', 'original_form': '응.', 'speaker_id': 'SD2100001', 'start': '414.49899', 'end': '415.17000', 'note': '발화겹침'}, {'id': 'SDRW2100000002.1.1.192', 'form': '우리집에서 이제 연구소 다녔단 말이야.', 'original_form': '우리집에서 이제 연구소 다녔단 말이야.', 'speaker_id': 'SD2100002', 'start': '416.31000', 'end': '419.84700', 'note': '발화겹침'}, {'id': 'SDRW2100000002.1.1.193', 'form': '응 응.', 'original_form': '응 응.', 'speaker_id': 'SD2100001', 'start': '419.41901', 'end': '420.11899', 'note': '발화겹침'}, {'id': 'SDRW2100000002.1.1.194', 'form': '근데 거기서 언제 하루는', 'original_form': '근데 거기서 언제 하루는', 'speaker_id': 'SD2100002', 'start': '419.84700', 'end': '423.05899', 'note': '발화겹침'}, {'id': 'SDRW2100000002.1.1.195', 'form': '포케를 다 나눠줬어.', 'original_form': '포케를 다 나눠줬어.', 'speaker_id': 'SD2100002', 'start': '423.28000', 'end': '425.50000', 'note': '발화겹침'}, {'id': 'SDRW2100000002.1.1.196', 'form': '응.', 'original_form': '응.', 'speaker_id': 'SD2100001', 'start': '425.32901', 'end': '425.87900', 'note': '발화겹침'}, {'id': 'SDRW2100000002.1.1.197', 'form': '근데 오빠가 두 개를 받아 가지고', 'original_form': '근데 오빠가 두 개를 받아 가지고', 'speaker_id': 'SD2100002', 'start': '425.68000', 'end': '428.30899', 'note': '발화겹침'}, {'id': 'SDRW2100000002.1.1.198', 'form': '그냥 집에 와서 나랑 같이 먹었거든.', 'original_form': '그냥 집에 와서 나랑 같이 먹었거든.', 'speaker_id': 'SD2100002', 'start': '428.59000', 'end': '430.74899', 'note': ''}, {'id': 'SDRW2100000002.1.1.199', 'form': '근데 알고 보니까 그거 먹은 사람', 'original_form': '근데 알고 보니까 그거 먹은 사람', 'speaker_id': 'SD2100002', 'start': '430.98000', 'end': '433.65677', 'note': ''}, {'id': 'SDRW2100000002.1.1.200', 'form': '다 식중독 걸린 거야.', 'original_form': '다 식중독 걸린 거야.', 'speaker_id': 'SD2100002', 'start': '433.65677', 'end': '435.74901', 'note': ''}, {'id': 'SDRW2100000002.1.1.201', 'form': '진짜?', 'original_form': '진짜?', 'speaker_id': 'SD2100001', 'start': '435.82899', 'end': '437.42900', 'note': '발화겹침'}, {'id': 'SDRW2100000002.1.1.202', 'form': '어 근데 그걸 먹은 외부인이 나밖에 없었어.', 'original_form': '어 근데 그걸 먹은 외부인이 나밖에 없었어.', 'speaker_id': 'SD2100002', 'start': '436.32000', 'end': '440.12901', 'note': '발화겹침'}, {'id': 'SDRW2100000002.1.1.203', 'form': '헐', 'original_form': '헐', 'speaker_id': 'SD2100001', 'start': '440.14900', 'end': '446.26272', 'note': '발화겹침'}, {'id': 'SDRW2100000002.1.1.204', 'form': '그래 가지고', 'original_form': '그래 가지고', 'speaker_id': 'SD2100002', 'start': '440.69000', 'end': '441.75017', 'note': '발화겹침'}, {'id': 'SDRW2100000002.1.1.205', 'form': '헐', 'original_form': '헐', 'speaker_id': 'SD2100001', 'start': '440.81901', 'end': '446.26272', 'note': '발화겹침'}, {'id': 'SDRW2100000002.1.1.206', 'form': '나는 이제 연구소 사람이 아니니까', 'original_form': '나는 이제 연구소 사람이 아니니까', 'speaker_id': 'SD2100002', 'start': '441.75017', 'end': '444.83776', 'note': '발화겹침'}, {'id': 'SDRW2100000002.1.1.207', 'form': '그 사실을 모르고 있었어. 근데 막 계속', 'original_form': '그 사실을 모르고 있었어. 근데 막 계속', 'speaker_id': 'SD2100002', 'start': '444.83776', 'end': '447.34000', 'note': '발화겹침'}, {'id': 'SDRW2100000002.1.1.208', 'form': '배 아프고', 'original_form': '배 아프고', 'speaker_id': 'SD2100001', 'start': '447.50988', 'end': '448.82899', 'note': '발화겹침'}, {'id': 'SDRW2100000002.1.1.209', 'form': '배 아프고 계속', 'original_form': '배 아프고 계속', 'speaker_id': 'SD2100002', 'start': '447.59901', 'end': '449.00000', 'note': '발화겹침'}, {'id': 'SDRW2100000002.1.1.210', 'form': '나 그 때 고3이었는데 막', 'original_form': '나 그 때 고 삼이었는데 막', 'speaker_id': 'SD2100002', 'start': '449.49000', 'end': '451.39000', 'note': '발화겹침'}, {'id': 'SDRW2100000002.1.1.211', 'form': '어.', 'original_form': '어.', 'speaker_id': 'SD2100001', 'start': '450.58900', 'end': '451.82899', 'note': '발화겹침'}, {'id': 'SDRW2100000002.1.1.212', 'form': '막 계속 왔다 갔 화장실 계속 왔다 갔다 하고', 'original_form': '막 계속 왔다 갔 화장실 계속 왔다 갔다 하고', 'speaker_id': 'SD2100002', 'start': '451.73000', 'end': '455.45900', 'note': '발화겹침'}, {'id': 'SDRW2100000002.1.1.213', 'form': '그러다가 나중에 알아 가지고', 'original_form': '그러다가 나중에 알아 가지고', 'speaker_id': 'SD2100002', 'start': '455.63000', 'end': '458.01899', 'note': ''}, {'id': 'SDRW2100000002.1.1.214', 'form': '연구소 사람들은 다 약간', 'original_form': '연구소 사람들은 다 약간', 'speaker_id': 'SD2100002', 'start': '458.42000', 'end': '460.68598', 'note': ''}, {'id': 'SDRW2100000002.1.1.215', 'form': '보상 같은 거 해 줬대.', 'original_form': '보상 같은 거 해 줬대.', 'speaker_id': 'SD2100002', 'start': '460.68598', 'end': '462.66000', 'note': '발화겹침'}, {'id': 'SDRW2100000002.1.1.216', 'form': '응.', 'original_form': '응.', 'speaker_id': 'SD2100001', 'start': '462.30899', 'end': '463.63901', 'note': '발화겹침'}, {'id': 'SDRW2100000002.1.1.217', 'form': '막 뭐 병원비라든가', 'original_form': '막 뭐 병원비라던가', 'speaker_id': 'SD2100002', 'start': '462.79901', 'end': '465.25900', 'note': '발화겹침'}, {'id': 'SDRW2100000002.1.1.218', 'form': '근데 난 아무것도 못 받았어.', 'original_form': '근데 난 아무것도 못 받았어.', 'speaker_id': 'SD2100002', 'start': '465.55000', 'end': '467.27000', 'note': '발화겹침'}, {'id': 'SDRW2100000002.1.1.219', 'form': '그냥 그렇게 끝났어?', 'original_form': '그냥 그렇게 끝났어?', 'speaker_id': 'SD2100001', 'start': '467.13901', 'end': '468.37900', 'note': '발화겹침'}, {'id': 'SDRW2100000002.1.1.220', 'form': '응.', 'original_form': '응.', 'speaker_id': 'SD2100002', 'start': '468.24899', 'end': '468.82901', 'note': '발화겹침'}, {'id': 'SDRW2100000002.1.1.221', 'form': '흐이', 'original_form': '흐이', 'speaker_id': 'SD2100001', 'start': '468.58000', 'end': '469.82000', 'note': '발화겹침'}, {'id': 'SDRW2100000002.1.1.222', 'form': '그냥 좀 아프고 끝났어 내가 그때', 'original_form': '그냥 좀 아프고 끝났어 내가 그때', 'speaker_id': 'SD2100002', 'start': '469.33000', 'end': '472.18900', 'note': '발화겹침'}, {'id': 'SDRW2100000002.1.1.223', 'form': '좀 아픈 게 아니었던 거 같은데?', 'original_form': '쫌 아픈 게 아니었던 거 같은데?', 'speaker_id': 'SD2100001', 'start': '471.05103', 'end': '473.17899', 'note': '발화겹침'}, {'id': 'SDRW2100000002.1.1.224', 'form': '그때 처음으로 장염', 'original_form': '그때 처음으로 장염', 'speaker_id': 'SD2100002', 'start': '472.46000', 'end': '474.55899', 'note': '발화겹침'}, {'id': 'SDRW2100000002.1.1.225', 'form': '두 번짼가 두 번째로 장염에 걸린 건데', 'original_form': '두 번짼가 두 번째로 장염에 걸린 건데', 'speaker_id': 'SD2100002', 'start': '474.95319', 'end': '477.91901', 'note': '발화겹침'}, {'id': 'SDRW2100000002.1.1.226', 'form': '어.', 'original_form': '어.', 'speaker_id': 'SD2100001', 'start': '477.69901', 'end': '478.75900', 'note': '발화겹침'}, {'id': 'SDRW2100000002.1.1.227', 'form': '진짜', 'original_form': '진짜', 'speaker_id': 'SD2100002', 'start': '479.55899', 'end': '480.53900', 'note': ''}, {'id': 'SDRW2100000002.1.1.228', 'form': '힘들었겠다.', 'original_form': '힘들었겠다.', 'speaker_id': 'SD2100001', 'start': '480.97900', 'end': '481.88900', 'note': '발화겹침'}, {'id': 'SDRW2100000002.1.1.229', 'form': '어.', 'original_form': '어.', 'speaker_id': 'SD2100002', 'start': '481.72900', 'end': '482.27899', 'note': '발화겹침'}, {'id': 'SDRW2100000002.1.1.230', 'form': '야 그러면 일단은 초밥이랑 회는 메뉴에서 빼자.', 'original_form': '야 그러면 일단은 초밥이랑 {laughing} 회는 메뉴에서 빼자.', 'speaker_id': 'SD2100001', 'start': '483.10900', 'end': '486.09661', 'note': ''}, {'id': 'SDRW2100000002.1.1.231', 'form': '지금 그 얘기를 듣고 먹을 수는 없을 것 같아.', 'original_form': '짐 그 얘기를 듣고 먹을 수는 없을 것 같애.', 'speaker_id': 'SD2100001', 'start': '486.09661', 'end': '488.94000', 'note': ''}, {'id': 'SDRW2100000002.1.1.232', 'form': '아 근데 난 그래도 일단 열어 두는 게 좋다고 봐.', 'original_form': '아 근데 난 그래도 일단 열어 두는 게 좋다고 봐.', 'speaker_id': 'SD2100002', 'start': '489.00901', 'end': '492.86899', 'note': ''}, {'id': 'SDRW2100000002.1.1.233', 'form': '아 모든 음식에 대해 관대한 거야?. 아', 'original_form': '아 모든 음식에 대해 관대한 거야?. 아', 'speaker_id': 'SD2100001', 'start': '492.97901', 'end': '495.74900', 'note': '발화겹침'}, {'id': 'SDRW2100000002.1.1.234', 'form': '', 'original_form': '(())', 'speaker_id': 'SD2100002', 'start': '493.40000', 'end': '495.21156', 'note': '발화겹침'}, {'id': 'SDRW2100000002.1.1.235', 'form': '', 'original_form': '(())', 'speaker_id': 'SD2100002', 'start': '494.90900', 'end': '495.21156', 'note': '발화겹침'}, {'id': 'SDRW2100000002.1.1.236', 'form': '난 다 좋아.', 'original_form': '난 다 좋아.', 'speaker_id': 'SD2100002', 'start': '495.03000', 'end': '496.13901', 'note': '발화겹침'}, {'id': 'SDRW2100000002.1.1.237', 'form': '그러면 좀 정리를 해 보자 지금 뭐 뭐 나왔지?', 'original_form': '그러면 좀 정리를 해 보자 지금 뭐 뭐 나왔지?', 'speaker_id': 'SD2100001', 'start': '496.75901', 'end': '499.83899', 'note': ''}, {'id': 'SDRW2100000002.1.1.238', 'form': '메뉴가', 'original_form': '메뉴가', 'speaker_id': 'SD2100001', 'start': '499.83899', 'end': '500.71899', 'note': ''}, {'id': 'SDRW2100000002.1.1.239', 'form': '생각해서 다 까먹었어?', 'original_form': '생각해서 {laughing} 다 까먹었어?', 'speaker_id': 'SD2100001', 'start': '502.51000', 'end': '504.50899', 'note': ''}, {'id': 'SDRW2100000002.1.1.240', 'form': '너 뭐지 너 기', 'original_form': '너 뭐지 너 -기-', 'speaker_id': 'SD2100002', 'start': '505.45900', 'end': '507.73000', 'note': '발화겹침'}, {'id': 'SDRW2100000002.1.1.241', 'form': '일식', 'original_form': '일식', 'speaker_id': 'SD2100001', 'start': '507.16899', 'end': '507.89901', 'note': '발화겹침'}, {'id': 'SDRW2100000002.1.1.242', 'form': '기숙사에서 나랑 맨날 저녁 뭐 먹을지', 'original_form': '기숙사에서 나랑 맨날 저녁 뭐 먹을지', 'speaker_id': 'SD2100002', 'start': '507.86901', 'end': '511.05572', 'note': '발화겹침'}, {'id': 'SDRW2100000002.1.1.243', 'form': '어.', 'original_form': '어.', 'speaker_id': 'SD2100001', 'start': '508.90000', 'end': '509.60900', 'note': '발화겹침'}, {'id': 'SDRW2100000002.1.1.244', 'form': '고민한 거 기억나?', 'original_form': '고민한 거 기억나?', 'speaker_id': 'SD2100002', 'start': '511.05572', 'end': '512.24901', 'note': '발화겹침'}, {'id': 'SDRW2100000002.1.1.245', 'form': '그게 진짜 유일한 고민이었어.', 'original_form': '그게 진짜 유일한 고민이었어.', 'speaker_id': 'SD2100001', 'start': '512.17000', 'end': '514.62042', 'note': '발화겹침'}, {'id': 'SDRW2100000002.1.1.246', 'form': '실습 가는 날 아침에 일어나자마자', 'original_form': '실습 가는 날 아침에 일어나자마자', 'speaker_id': 'SD2100001', 'start': '514.62042', 'end': '516.95043', 'note': ''}, {'id': 'SDRW2100000002.1.1.247', 'form': '오늘 실습보다 이따 저녁에 뭐 먹지가 더 중요했어 나는.', 'original_form': '오늘 실습보다 이따 저녁에 뭐 먹지가 더 중요했어 나는.', 'speaker_id': 'SD2100001', 'start': '516.95043', 'end': '520.33000', 'note': '발화겹침'}, {'id': 'SDRW2100000002.1.1.248', 'form': '우리 대면 수업 때도', 'original_form': '우리 대면 수업 때도', 'speaker_id': 'SD2100002', 'start': '520.25901', 'end': '521.85859', 'note': '발화겹침'}, {'id': 'SDRW2100000002.1.1.249', 'form': '일어나자마자 점심에 뭐 먹지', 'original_form': '일어나자마자 점심에 뭐 먹지', 'speaker_id': 'SD2100002', 'start': '521.85859', 'end': '524.22899', 'note': '발화겹침'}, {'id': 'SDRW2100000002.1.1.250', 'form': '맞아.', 'original_form': '{laughing} 맞아.', 'speaker_id': 'SD2100001', 'start': '523.31901', 'end': '525.24415', 'note': '발화겹침'}, {'id': 'SDRW2100000002.1.1.251', 'form': '그리고 식당 가서 음식 안 나왔는데', 'original_form': '그리고 식당 가서 음식 안 나왔는데', 'speaker_id': 'SD2100001', 'start': '525.24415', 'end': '527.23512', 'note': ''}, {'id': 'SDRW2100000002.1.1.252', 'form': '저녁은 또 뭐 먹지 이러면서', 'original_form': '저녁은 또 뭐 먹지 이러면서', 'speaker_id': 'SD2100001', 'start': '527.23512', 'end': '528.95898', 'note': ''}, {'id': 'SDRW2100000002.1.1.253', 'form': '아니 점심을 먹으면서 저녁에 뭐 먹을지 고민했잖아.', 'original_form': '아니 점심을 먹으면서 저녁에 뭐 먹을지 고민했잖아.', 'speaker_id': 'SD2100002', 'start': '529.09900', 'end': '532.97900', 'note': '발화겹침'}, {'id': 'SDRW2100000002.1.1.254', 'form': '맞아.', 'original_form': '맞아.', 'speaker_id': 'SD2100001', 'start': '532.78900', 'end': '533.36902', 'note': '발화겹침'}, {'id': 'SDRW2100000002.1.1.255', 'form': '그래 가지고 우리가', 'original_form': '그래 가지고 우리가', 'speaker_id': 'SD2100002', 'start': '534.49902', 'end': '537.06899', 'note': ''}, {'id': 'SDRW2100000002.1.1.256', 'form': '저녁에 실습 기간 때는 맨날 파리바게트 가서', 'original_form': '저녁에 실습 기간 때는 맨날 파리바게트 가서', 'speaker_id': 'SD2100002', 'start': '537.26000', 'end': '541.06000', 'note': '발화겹침'}, {'id': 'SDRW2100000002.1.1.257', 'form': '응.', 'original_form': '응.', 'speaker_id': 'SD2100001', 'start': '540.98898', 'end': '542.22903', 'note': '발화겹침'}, {'id': 'SDRW2100000002.1.1.258', 'form': '빵 먹고 근데 난 사실 그것도 좋았어.', 'original_form': '빵 먹고 근데 난 사실 그것도 좋았어.', 'speaker_id': 'SD2100002', 'start': '541.89000', 'end': '544.77902', 'note': '발화겹침'}, {'id': 'SDRW2100000002.1.1.259', 'form': '맞아 약간 그런 게 되게 뭐라 해야 되지?', 'original_form': '맞아 약간 그런 게 되게 뭐라 해야 되지?', 'speaker_id': 'SD2100001', 'start': '544.34902', 'end': '547.62900', 'note': '발화겹침'}, {'id': 'SDRW2100000002.1.1.260', 'form': '나의 그 한 학기의 유일한 학교의 추억이 그것밖에 없어.', 'original_form': '나의 그 한 학기에 유일한 학교에 추억이 그것밖에 없어.', 'speaker_id': 'SD2100001', 'start': '547.62900', 'end': '551.17900', 'note': ''}, {'id': 'SDRW2100000002.1.1.261', 'form': '우리 불닭볶음면에 감동란 사서 먹는 것도 맛있었어.', 'original_form': '우리 불닭볶음면에 감동란 사서 먹는 것도 맛있었어.', 'speaker_id': 'SD2100002', 'start': '551.94902', 'end': '555.80000', 'note': '발화겹침'}, {'id': 'SDRW2100000002.1.1.262', 'form': '맞아 그리고 그 스노우 화이트 치즈 케이크도 맛있었어.', 'original_form': '맞아 그리고 그 스노우 화이트 치즈 케이크도 맛있었어.', 'speaker_id': 'SD2100001', 'start': '555.66899', 'end': '559.31000', 'note': '발화겹침'}, {'id': 'SDRW2100000002.1.1.263', 'form': '맞아.', 'original_form': '맞아.', 'speaker_id': 'SD2100002', 'start': '559.80901', 'end': '560.54902', 'note': ''}, {'id': 'SDRW2100000002.1.1.264', 'form': '또 뭐 먹었지 뭐 엄청 먹었는데.', 'original_form': '또 뭐 먹었지 뭐 엄청 먹었는데.', 'speaker_id': 'SD2100001', 'start': '560.83900', 'end': '562.89902', 'note': ''}, {'id': 'SDRW2100000002.1.1.265', 'form': '우리 대면 기간에', 'original_form': '우리 대면 기간에', 'speaker_id': 'SD2100002', 'start': '562.94901', 'end': '565.06897', 'note': ''}, {'id': 'SDRW2100000002.1.1.266', 'form': '덮밥집 갔었잖아.', 'original_form': '덮밥집 갔었잖아.', 'speaker_id': 'SD2100002', 'start': '565.92000', 'end': '567.80898', 'note': ''}, {'id': 'SDRW2100000002.1.1.267', 'form': 'company-name2', 'original_form': '&company-name2&', 'speaker_id': 'SD2100002', 'start': '567.80898', 'end': '569.06899', 'note': '발화겹침'}, {'id': 'SDRW2100000002.1.1.268', 'form': '응 응 아 맞아 맞아.', 'original_form': '응 응 아 맞아 맞아.', 'speaker_id': 'SD2100001', 'start': '567.82900', 'end': '569.48898', 'note': '발화겹침'}, {'id': 'SDRW2100000002.1.1.269', 'form': 'company-name2이라고', 'original_form': '&company-name2&이라고', 'speaker_id': 'SD2100002', 'start': '569.53000', 'end': '571.23900', 'note': ''}, {'id': 'SDRW2100000002.1.1.270', 'form': '갔었는데 거기가', 'original_form': '갔었는데 거기가', 'speaker_id': 'SD2100002', 'start': '571.76000', 'end': '573.64900', 'note': ''}, {'id': 'SDRW2100000002.1.1.271', 'form': '우리 뭐 먹었지?', 'original_form': '우리 뭐 먹었지?', 'speaker_id': 'SD2100002', 'start': '574.16000', 'end': '575.48899', 'note': ''}, {'id': 'SDRW2100000002.1.1.272', 'form': '우리 무슨 가지 덮밥 뭐 이거 먹지 않았어?', 'original_form': '우리 무슨 가지 덮밥 뭐 이거 먹지 않았어?', 'speaker_id': 'SD2100001', 'start': '575.80900', 'end': '578.01688', 'note': ''}, {'id': 'SDRW2100000002.1.1.273', 'form': '가지 명란덮밥', 'original_form': '가지 명란덮밥', 'speaker_id': 'SD2100001', 'start': '578.01688', 'end': '579.27899', 'note': '발화겹침'}, {'id': 'SDRW2100000002.1.1.274', 'form': '무슨 소보로 소보로덮밥', 'original_form': '무슨 소보로 소보로덮밥', 'speaker_id': 'SD2100002', 'start': '578.26000', 'end': '580.71899', 'note': '발화겹침'}, {'id': 'SDRW2100000002.1.1.275', 'form': '아 어.', 'original_form': '아 어.', 'speaker_id': 'SD2100001', 'start': '579.69000', 'end': '580.77899', 'note': '발화겹침'}, {'id': 'SDRW2100000002.1.1.276', 'form': '그것도 맛있었어.', 'original_form': '그것도 맛있었어.', 'speaker_id': 'SD2100002', 'start': '581.47000', 'end': '582.79897', 'note': ''}, {'id': 'SDRW2100000002.1.1.277', 'form': '맞아.', 'original_form': '맞아.', 'speaker_id': 'SD2100001', 'start': '582.99899', 'end': '583.64897', 'note': ''}, {'id': 'SDRW2100000002.1.1.278', 'form': '근데 춘천 그 요새 맛집 되게 많이 생기더라.', 'original_form': '근데 춘천 그 요새 맛집 되게 많이 생기더라.', 'speaker_id': 'SD2100001', 'start': '583.64897', 'end': '586.98903', 'note': ''}, {'id': 'SDRW2100000002.1.1.279', 'form': 'company-name3라고 또 일식집 생겼다고', 'original_form': '&company-name3&라고 또 일식집 생겼다고', 'speaker_id': 'SD2100002', 'start': '587.69899', 'end': '590.89610', 'note': '발화겹침'}, {'id': 'SDRW2100000002.1.1.280', 'form': '응.', 'original_form': '응.', 'speaker_id': 'SD2100001', 'start': '590.78901', 'end': '591.30897', 'note': '발화겹침'}, {'id': 'SDRW2100000002.1.1.281', 'form': '들었는데 그게 인스타에서 많이 보이더라고.', 'original_form': '들었는데 그게 인스타에서 많이 보이더라고.', 'speaker_id': 'SD2100002', 'start': '590.89610', 'end': '594.33900', 'note': '발화겹침'}, {'id': 'SDRW2100000002.1.1.282', 'form': '오', 'original_form': '오', 'speaker_id': 'SD2100001', 'start': '593.98900', 'end': '595.41902', 'note': '발화겹침'}, {'id': 'SDRW2100000002.1.1.283', 'form': '애들이 먹는 거 근데 막상', 'original_form': '애들이 먹는 거 근데 막상', 'speaker_id': 'SD2100002', 'start': '594.42000', 'end': '597.63000', 'note': '발화겹침'}, {'id': 'SDRW2100000002.1.1.284', 'form': '그 name7 언니가 갔는데 그렇게', 'original_form': '그 &name7& 언니가 갔는데 그렇게', 'speaker_id': 'SD2100002', 'start': '598.03500', 'end': '601.00901', 'note': ''}, {'id': 'SDRW2100000002.1.1.285', 'form': '막 그 명성에 비해 맛있진 않다고 그랬어.', 'original_form': '막 그 명성에 비해 맛있진 않다고 그랬어.', 'speaker_id': 'SD2100002', 'start': '601.20000', 'end': '604.56000', 'note': ''}, {'id': 'SDRW2100000002.1.1.286', 'form': '아 또 학교 근처에 먹을 것도 없구만.', 'original_form': '아 또 학교 근처에 먹을 것도 없구만.', 'speaker_id': 'SD2100001', 'start': '605.50897', 'end': '608.08100', 'note': ''}, {'id': 'SDRW2100000002.1.1.287', 'form': '그냥 내가 보기엔 이제 본도시락 생겼으니까', 'original_form': '그냥 내가 보기엔 이제 본도시락 생겼으니까', 'speaker_id': 'SD2100001', 'start': '608.08100', 'end': '610.93028', 'note': ''}, {'id': 'SDRW2100000002.1.1.288', 'form': '그것만 주구장창 사 먹을 거 같아.', 'original_form': '그것만 주구장창 사 먹을 거 같애.', 'speaker_id': 'SD2100001', 'start': '610.93028', 'end': '613.07899', 'note': ''}, {'id': 'SDRW2100000002.1.1.289', 'form': '본도시락 나쁘지 않아.', 'original_form': '본도시락 나쁘지 않아.', 'speaker_id': 'SD2100002', 'start': '613.30897', 'end': '615.30900', 'note': ''}, {'id': 'SDRW2100000002.1.1.290', 'form': '먹어 봤어?.', 'original_form': '먹어 봤어?.', 'speaker_id': 'SD2100001', 'start': '616.43900', 'end': '617.12284', 'note': ''}, {'id': 'SDRW2100000002.1.1.291', 'form': '나 한번도 먹어 본 적이 없어.', 'original_form': '나 한번도 먹어 본 적이 없어.', 'speaker_id': 'SD2100001', 'start': '617.12284', 'end': '618.47903', 'note': ''}, {'id': 'SDRW2100000002.1.1.292', 'form': '나도 사실 안 먹어 봤어 나 본죽만 먹어 봤어.', 'original_form': '나도 사실 안 먹어 봤어 나 본죽만 먹어 봤어.', 'speaker_id': 'SD2100002', 'start': '619.45901', 'end': '621.75568', 'note': '발화겹침'}, {'id': 'SDRW2100000002.1.1.293', 'form': '너 근데 왜 괜찮다 그랬어?', 'original_form': '너 근데 왜 {laughing} 괜찮다 그랬어?', 'speaker_id': 'SD2100001', 'start': '621.67898', 'end': '623.63900', 'note': '발화겹침'}, {'id': 'SDRW2100000002.1.1.294', 'form': '아니 그냥 나쁘지 않을 것 같아서', 'original_form': '아니 그냥 나쁘지 않을 것 같아서', 'speaker_id': 'SD2100002', 'start': '623.67000', 'end': '626.03903', 'note': '발화겹침'}, {'id': 'SDRW2100000002.1.1.295', 'form': '', 'original_form': '{laughing}', 'speaker_id': 'SD2100001', 'start': '624.50000', 'end': '625.31899', 'note': '발화겹침'}, {'id': 'SDRW2100000002.1.1.296', 'form': '그냥 그 본 기업에 대한 믿음 같은 거야?', 'original_form': '그냥 그 본 기업에 대한 믿음 같은 거야?', 'speaker_id': 'SD2100001', 'start': '625.31899', 'end': '628.13900', 'note': '발화겹침'}, {'id': 'SDRW2100000002.1.1.297', 'form': '아 본죽도 맛있겠다.', 'original_form': '아 본죽도 맛있겠다.', 'speaker_id': 'SD2100001', 'start': '628.63000', 'end': '630.27898', 'note': ''}, {'id': 'SDRW2100000002.1.1.298', 'form': '본죽도 안 먹은 지 오래 됐는데', 'original_form': '본죽도 안 먹은 지 오래 됐는데', 'speaker_id': 'SD2100001', 'start': '630.96000', 'end': '632.77900', 'note': ''}, {'id': 'SDRW2100000002.1.1.299', 'form': '오늘 저녁을 그래서 뭐 먹을지', 'original_form': '오늘 저녁을 그래서 뭐 먹을지', 'speaker_id': 'SD2100001', 'start': '634.14900', 'end': '636.55876', 'note': ''}, {'id': 'SDRW2100000002.1.1.300', 'form': '좀 생각을 해 봐야 돼 지금 춘천 얘기할 때가 아니었어.', 'original_form': '쫌 생각을 해 봐야 돼 지금 춘천 얘기할 때가 아니었어.', 'speaker_id': 'SD2100001', 'start': '636.55876', 'end': '639.93903', 'note': ''}, {'id': 'SDRW2100000002.1.1.301', 'form': '응.', 'original_form': '응.', 'speaker_id': 'SD2100001', 'start': '640.71000', 'end': '641.86898', 'note': ''}, {'id': 'SDRW2100000002.1.1.302', 'form': '뭐 먹지?', 'original_form': '뭐 먹지?', 'speaker_id': 'SD2100001', 'start': '642.96902', 'end': '643.88903', 'note': ''}, {'id': 'SDRW2100000002.1.1.303', 'form': '감성타코 갈까?', 'original_form': '감성타코 갈까?', 'speaker_id': 'SD2100001', 'start': '644.74000', 'end': '646.20900', 'note': ''}, {'id': 'SDRW2100000002.1.1.304', 'form': '난 좋아.', 'original_form': '난 좋아.', 'speaker_id': 'SD2100002', 'start': '647.03901', 'end': '647.95902', 'note': ''}, {'id': 'SDRW2100000002.1.1.305', 'form': '감성타코도 있고', 'original_form': '감성타코도 있고', 'speaker_id': 'SD2100001', 'start': '648.48899', 'end': '650.09900', 'note': ''}, {'id': 'SDRW2100000002.1.1.306', 'form': '또 아니면', 'original_form': '또~ 아니면', 'speaker_id': 'SD2100001', 'start': '650.68000', 'end': '652.92898', 'note': ''}, {'id': 'SDRW2100000002.1.1.307', 'form': '아 내가 근데 오늘 오면서', 'original_form': '아 내가 근데 오늘 오면서', 'speaker_id': 'SD2100001', 'start': '653.26000', 'end': '654.98046', 'note': ''}, {'id': 'SDRW2100000002.1.1.308', 'form': '뭘 하나도 못 찾아 보고 왔는데', 'original_form': '뭘 하나도 못 찾아 보고 왔는데', 'speaker_id': 'SD2100001', 'start': '654.98046', 'end': '656.75220', 'note': ''}, {'id': 'SDRW2100000002.1.1.309', 'form': '너 뭐 인스타 같은 데서 가고 싶었던 데 없어?', 'original_form': '너 뭐 인스타 같은 데서 가고 싶었던 데 없어?', 'speaker_id': 'SD2100001', 'start': '656.75220', 'end': '659.34897', 'note': ''}, {'id': 'SDRW2100000002.1.1.310', 'form': '아 나 자기 전에 쪼금 봤는데', 'original_form': '아 나 자기 전에 쪼금 봤는데', 'speaker_id': 'SD2100002', 'start': '659.99900', 'end': '663.73901', 'note': ''}, {'id': 'SDRW2100000002.1.1.311', 'form': '그 까먹었네.', 'original_form': '그 까먹었네.', 'speaker_id': 'SD2100002', 'start': '664.12000', 'end': '665.20701', 'note': ''}, {'id': 'SDRW2100000002.1.1.312', 'form': '아 근데 그거 크레이지카츠라고', 'original_form': '아 근데 그거 크레이지카츠라고', 'speaker_id': 'SD2100002', 'start': '665.20701', 'end': '668.57548', 'note': '발화겹침'}, {'id': 'SDRW2100000002.1.1.313', 'form': '아 오', 'original_form': '아 오', 'speaker_id': 'SD2100001', 'start': '668.02902', 'end': '669.48000', 'note': '발화겹침'}, {'id': 'SDRW2100000002.1.1.314', 'form': '되게 유명한 데가 있대.', 'original_form': '되게 유명한 데가 있대.', 'speaker_id': 'SD2100002', 'start': '668.57548', 'end': '670.70901', 'note': '발화겹침'}, {'id': 'SDRW2100000002.1.1.315', 'form': '아 나 들어 본 것 같아.', 'original_form': '아 나 들어 본 것 같애.', 'speaker_id': 'SD2100001', 'start': '670.18261', 'end': '671.60897', 'note': '발화겹침'}, {'id': 'SDRW2100000002.1.1.316', 'form': '그래서 거기 거기도 괜찮고', 'original_form': '그래서 거기 거기도 괜찮고', 'speaker_id': 'SD2100002', 'start': '672.64901', 'end': '676.11901', 'note': ''}, {'id': 'SDRW2100000002.1.1.317', 'form': 'name1 언니가 짝 후배랑', 'original_form': '&name1& 언니가 짝 후배랑', 'speaker_id': 'SD2100002', 'start': '676.89286', 'end': '678.99901', 'note': '발화겹침'}, {'id': 'SDRW2100000002.1.1.318', 'form': '응.', 'original_form': '응.', 'speaker_id': 'SD2100001', 'start': '678.62902', 'end': '679.23900', 'note': '발화겹침'}, {'id': 'SDRW2100000002.1.1.319', 'form': '짝 후배 두 명에서 무슨 카레 집을 갔는데', 'original_form': '짝 후배 두 명에서 무슨 카레 집을 갔는데', 'speaker_id': 'SD2100002', 'start': '680.18901', 'end': '683.67900', 'note': '발화겹침'}, {'id': 'SDRW2100000002.1.1.320', 'form': '으 응.', 'original_form': '으 응.', 'speaker_id': 'SD2100001', 'start': '683.51897', 'end': '685.14897', 'note': '발화겹침'}, {'id': 'SDRW2100000002.1.1.321', 'form': '내 이름을 알았거든', 'original_form': '내 이름을 알았거든', 'speaker_id': 'SD2100002', 'start': '684.68901', 'end': '686.04900', 'note': '발화겹침'}, {'id': 'SDRW2100000002.1.1.322', 'form': '응.', 'original_form': '응.', 'speaker_id': 'SD2100001', 'start': '685.85647', 'end': '686.37902', 'note': '발화겹침'}, {'id': 'SDRW2100000002.1.1.323', 'form': '까먹었어 아 괜찮아?', 'original_form': '까먹었어 아 괜찮아?', 'speaker_id': 'SD2100001', 'start': '687.53899', 'end': '689.56000', 'note': '발화겹침'}, {'id': 'SDRW2100000002.1.1.324', 'form': '어 그런데 거기도 엄청 맛있었대.', 'original_form': '어 그런데 거기도 엄청 맛있었대.', 'speaker_id': 'SD2100002', 'start': '688.17000', 'end': '691.26897', 'note': '발화겹침'}, {'id': 'SDRW2100000002.1.1.325', 'form': '아니 내가 왜 그러냐면', 'original_form': '아니 내가 왜 그러냐면', 'speaker_id': 'SD2100001', 'start': '691.22899', 'end': '692.92000', 'note': '발화겹침'}, {'id': 'SDRW2100000002.1.1.326', 'form': '그냥 감성타코를 가기에는', 'original_form': '그냥 감성타코를 가기에는', 'speaker_id': 'SD2100001', 'start': '693.00902', 'end': '695.29300', 'note': ''}, {'id': 'SDRW2100000002.1.1.327', 'form': '여기까지 와서 프랜차이즈를 또 가는구나 싶은거야.', 'original_form': '여기까지 와서 프랜차이즈를 또 가는구나 싶은거야.', 'speaker_id': 'SD2100001', 'start': '695.29300', 'end': '698.40741', 'note': ''}, {'id': 'SDRW2100000002.1.1.328', 'form': '아니 왜 그러냐면 우리 동네가 완전 프랜차이즈 밭 밭이거든.', 'original_form': '아니 왜 그러냐면 우리 동네가 완전 프랜차이즈 -밭- 밭이거든.', 'speaker_id': 'SD2100001', 'start': '698.40741', 'end': '701.70898', 'note': ''}, {'id': 'SDRW2100000002.1.1.329', 'form': '그래 가지고 좀 다른 곳을 가고 싶었어.', 'original_form': '그래 가지고 좀 다른 곳을 가고 싶었어.', 'speaker_id': 'SD2100001', 'start': '702.41000', 'end': '705.08000', 'note': '발화겹침'}, {'id': 'SDRW2100000002.1.1.330', 'form': '우리 동네도 그래.', 'original_form': '우리 동네도 그래.', 'speaker_id': 'SD2100002', 'start': '704.96899', 'end': '706.32898', 'note': '발화겹침'}, {'id': 'SDRW2100000002.1.1.331', 'form': '맞아 이미 프랜차이즈에게 먹혀 버렸어 동네들이.', 'original_form': '맞아 이미 프랜차이즈에게 먹혀 버렸어 동네들이.', 'speaker_id': 'SD2100001', 'start': '706.64899', 'end': '709.87899', 'note': ''}, {'id': 'SDRW2100000002.1.1.332', 'form': '아 그래서 뭐 먹지?', 'original_form': '아 그래서 뭐 먹지?', 'speaker_id': 'SD2100001', 'start': '711.60897', 'end': '713.00902', 'note': ''}, {'id': 'SDRW2100000002.1.1.333', 'form': '밥 애기 하니까 배고프다.', 'original_form': '밥 애기 하니까 배고프다.', 'speaker_id': 'SD2100001', 'start': '713.45000', 'end': '714.96901', 'note': ''}, {'id': 'SDRW2100000002.1.1.334', 'form': '맞아.', 'original_form': '맞아.', 'speaker_id': 'SD2100002', 'start': '715.49897', 'end': '716.17899', 'note': ''}, {'id': 'SDRW2100000002.1.1.335', 'form': '생각해 봐.', 'original_form': '생각해 봐.', 'speaker_id': 'SD2100001', 'start': '717.30900', 'end': '718.21398', 'note': ''}, {'id': 'SDRW2100000002.1.1.336', 'form': '배고플 때 생각해야 가장 최선의 선택을 할 수가 있단 말이야.', 'original_form': '배고플 때 생각해야 가장 최선의 선택을 할 수가 있단 말이야.', 'speaker_id': 'SD2100001', 'start': '718.21398', 'end': '721.71902', 'note': ''}, {'id': 'SDRW2100000002.1.1.337', 'form': '그러면', 'original_form': '그러면', 'speaker_id': 'SD2100002', 'start': '723.44900', 'end': '724.51700', 'note': ''}, {'id': 'SDRW2100000002.1.1.338', 'form': '우리 그 멕시코 식당을 한번 가 보자.', 'original_form': '우리 그 멕시코 식당을 한번 가 보자.', 'speaker_id': 'SD2100002', 'start': '724.51700', 'end': '727.64900', 'note': ''}, {'id': 'SDRW2100000002.1.1.339', 'form': '멕시코 식당?', 'original_form': '멕시코 식당?', 'speaker_id': 'SD2100001', 'start': '728.08900', 'end': '729.05897', 'note': '발화겹침'}, {'id': 'SDRW2100000002.1.1.340', 'form': '어.', 'original_form': '어.', 'speaker_id': 'SD2100002', 'start': '728.80897', 'end': '729.48000', 'note': '발화겹침'}, {'id': 'SDRW2100000002.1.1.341', 'form': '그래 거기를 가 보자.', 'original_form': '그래 거기를 가 보자.', 'speaker_id': 'SD2100001', 'start': '729.22000', 'end': '730.55897', 'note': '발화겹침'}, {'id': 'SDRW2100000002.1.1.342', 'form': '거기서 네가', 'original_form': '거기서 너가', 'speaker_id': 'SD2100002', 'start': '730.88000', 'end': '732.32000', 'note': ''}, {'id': 'SDRW2100000002.1.1.343', 'form': '나한테 링크를 보내 줬잖아?', 'original_form': '나한테 링크를 보내 줬잖아?', 'speaker_id': 'SD2100002', 'start': '732.51902', 'end': '735.00901', 'note': '발화겹침'}, {'id': 'SDRW2100000002.1.1.344', 'form': '응.', 'original_form': '응.', 'speaker_id': 'SD2100001', 'start': '734.72898', 'end': '735.30900', 'note': '발화겹침'}, {'id': 'SDRW2100000002.1.1.345', 'form': '그래서 가', 'original_form': '그래서 가', 'speaker_id': 'SD2100002', 'start': '735.80776', 'end': '737.21176', 'note': ''}, {'id': 'SDRW2100000002.1.1.346', 'form': '들어가 봤는데 근데 뭔가 되게 맛있어 보이는 게 있는 거야.', 'original_form': '들어가 봤는데 근데 뭔가 되게 맛있어 보이는 게 있는 거야.', 'speaker_id': 'SD2100002', 'start': '737.21176', 'end': '741.04000', 'note': ''}, {'id': 'SDRW2100000002.1.1.347', 'form': '근데 그게 뭔지는 모르겠는데', 'original_form': '근데 그게 뭔지는 모르겠는데', 'speaker_id': 'SD2100002', 'start': '741.08000', 'end': '743.27000', 'note': ''}, {'id': 'SDRW2100000002.1.1.348', 'form': '후기를 보니까', 'original_form': '후기를 보니까', 'speaker_id': 'SD2100002', 'start': '743.83000', 'end': '745.63899', 'note': ''}, {'id': 'SDRW2100000002.1.1.349', 'form': '어 그걸 꼭 시켜야 된다 해서', 'original_form': '어 그걸 꼭 시켜야 된다 해서', 'speaker_id': 'SD2100002', 'start': '745.82000', 'end': '748.08390', 'note': ''}, {'id': 'SDRW2100000002.1.1.350', 'form': '만약에 가면 그걸 시키자.', 'original_form': '만약에 가면 그걸 시키자.', 'speaker_id': 'SD2100002', 'start': '748.08390', 'end': '750.42902', 'note': ''}, {'id': 'SDRW2100000002.1.1.351', 'form': '그 무슨 플레터 그거 아냐?', 'original_form': '그 무슨 플레터 그거 아냐?', 'speaker_id': 'SD2100001', 'start': '750.44897', 'end': '752.50900', 'note': ''}, {'id': 'SDRW2100000002.1.1.352', 'form': '', 'original_form': '(())', 'speaker_id': 'SD2100002', 'start': '752.61898', 'end': '755.07231', 'note': '발화겹침'}, {'id': 'SDRW2100000002.1.1.353', 'form': '아니야?', 'original_form': '아니야?', 'speaker_id': 'SD2100001', 'start': '753.31000', 'end': '753.93400', 'note': '발화겹침'}, {'id': 'SDRW2100000002.1.1.354', 'form': '', 'original_form': '(())', 'speaker_id': 'SD2100002', 'start': '753.88300', 'end': '756.02335', 'note': '발화겹침'}, {'id': 'SDRW2100000002.1.1.355', 'form': '아 아 나 본 것 같아. 네 글자짜리 아니야? 무슨 무슨 치킨 어쩌고 이런 거였던 것 같은데.', 'original_form': '아 아 나 본 것 같애. 네 글자짜리 아니야? 무슨 무슨 치킨 어쩌고 이런 거였던 것 같은데.', 'speaker_id': 'SD2100001', 'start': '753.93400', 'end': '758.44900', 'note': '발화겹침'}, {'id': 'SDRW2100000002.1.1.356', 'form': '', 'original_form': '(())', 'speaker_id': 'SD2100002', 'start': '755.07231', 'end': '756.02335', 'note': '발화겹침'}, {'id': 'SDRW2100000002.1.1.357', 'form': '어 맞아 맞아 어 어.', 'original_form': '어 맞아 맞아 어 어.', 'speaker_id': 'SD2100002', 'start': '755.45900', 'end': '758.77902', 'note': '발화겹침'}, {'id': 'SDRW2100000002.1.1.358', 'form': '아니면', 'original_form': '아니면', 'speaker_id': 'SD2100001', 'start': '759.21000', 'end': '760.43901', 'note': ''}, {'id': 'SDRW2100000002.1.1.359', 'form': '아 근데 그게 쪼금 지금 애매한 게', 'original_form': '아 근데 그게 쪼금 지금 애매한 게', 'speaker_id': 'SD2100001', 'start': '760.84356', 'end': '763.48075', 'note': ''}, {'id': 'SDRW2100000002.1.1.360', 'form': '우리가 저녁을 일찍 먹으면 브레이크 타임에 걸리거든.', 'original_form': '우리가 저녁을 일찍 먹으면 브레이크 타임에 걸리거든.', 'speaker_id': 'SD2100001', 'start': '763.48075', 'end': '766.48899', 'note': ''}, {'id': 'SDRW2100000002.1.1.361', 'form': '그래서 그냥', 'original_form': '그래서 그냥', 'speaker_id': 'SD2100001', 'start': '767.33000', 'end': '768.68903', 'note': ''}, {'id': 'SDRW2100000002.1.1.362', 'form': '그렇구나.', 'original_form': '그렇구나.', 'speaker_id': 'SD2100002', 'start': '767.53900', 'end': '768.53900', 'note': '발화겹침'}, {'id': 'SDRW2100000002.1.1.363', 'form': '가서 먹지 말고 사서 먹을까?', 'original_form': '가서 먹지 말고 사서 먹을까?', 'speaker_id': 'SD2100001', 'start': '769.28859', 'end': '772.62899', 'note': ''}, {'id': 'SDRW2100000002.1.1.364', 'form': '그게 더 편할 수도 있을 것 같은데 포장해서.', 'original_form': '그게 더 편할 수도 있을 것 같은데 포장해서.', 'speaker_id': 'SD2100001', 'start': '772.76000', 'end': '775.18901', 'note': ''}, {'id': 'SDRW2100000002.1.1.365', 'form': '그래.', 'original_form': '그래.', 'speaker_id': 'SD2100002', 'start': '775.32903', 'end': '776.12898', 'note': ''}, {'id': 'SDRW2100000002.1.1.366', 'form': '그래 그러면', 'original_form': '그래 그러면', 'speaker_id': 'SD2100001', 'start': '776.71901', 'end': '777.72771', 'note': ''}, {'id': 'SDRW2100000002.1.1.367', 'form': '그러면', 'original_form': '그러면', 'speaker_id': 'SD2100001', 'start': '778.27971', 'end': '779.37000', 'note': ''}, {'id': 'SDRW2100000002.1.1.368', 'form': '근데 그거는 포장 아 포장의 문제가 아니라', 'original_form': '근데 그거는 포장 아 포장의 문제가 아니라', 'speaker_id': 'SD2100001', 'start': '779.60000', 'end': '782.62784', 'note': ''}, {'id': 'SDRW2100000002.1.1.369', 'form': '브레이크 타임에 걸리니까 포장이 될 만한 메뉴가 뭐가 있지?', 'original_form': '브레이크 타임에 걸리니까 포장이 될 만한 메뉴가 뭐가 있지?', 'speaker_id': 'SD2100001', 'start': '782.62784', 'end': '786.51897', 'note': ''}, {'id': 'SDRW2100000002.1.1.370', 'form': '치킨?', 'original_form': '치킨?', 'speaker_id': 'SD2100002', 'start': '787.70897', 'end': '788.59901', 'note': ''}, {'id': 'SDRW2100000002.1.1.371', 'form': '치킨 치킨 좋지 어 떡볶이 떡볶이도 안 먹은지 오래됐다.', 'original_form': '치킨 치킨 좋지 어 떡볶이 떡볶이도 안 먹은지 오래됐다.', 'speaker_id': 'SD2100001', 'start': '788.67903', 'end': '792.11235', 'note': ''}, {'id': 'SDRW2100000002.1.1.372', 'form': '떡볶이?', 'original_form': '떡볶이?', 'speaker_id': 'SD2100002', 'start': '789.18240', 'end': '790.19840', 'note': '발화겹침'}, {'id': 'SDRW2100000002.1.1.373', 'form': '우리 실습 가서도 청년다방 갔었는데.', 'original_form': '우리 실습 가서도 청년다방 갔었는데.', 'speaker_id': 'SD2100001', 'start': '792.11235', 'end': '795.12903', 'note': ''}, {'id': 'SDRW2100000002.1.1.374', 'form': '와 맞아 name3이랑', 'original_form': '와 맞아 &name3&이랑', 'speaker_id': 'SD2100002', 'start': '796.40900', 'end': '798.94900', 'note': ''}, {'id': 'SDRW2100000002.1.1.375', 'form': '기억나?', 'original_form': '기억나?', 'speaker_id': 'SD2100001', 'start': '796.74899', 'end': '797.80898', 'note': '발화겹침'}, {'id': 'SDRW2100000002.1.1.376', 'form': '우리 버터갈릭이랑', 'original_form': '우리 버터갈릭이랑', 'speaker_id': 'SD2100002', 'start': '798.94900', 'end': '801.95897', 'note': ''}, {'id': 'SDRW2100000002.1.1.377', 'form': '뭐 뭐었지 차돌 먹었나?', 'original_form': '뭐 뭐었지 차돌 먹었나?', 'speaker_id': 'SD2100002', 'start': '802.47352', 'end': '804.21901', 'note': ''}, {'id': 'SDRW2100000002.1.1.378', 'form': '몰라 하여간 너무 많이 먹어서 기억은 잘 안 난다.', 'original_form': '몰라 하여간 너무 많이 먹어서 기억은 {laughing} 잘 안 난다.', 'speaker_id': 'SD2100001', 'start': '804.53901', 'end': '807.58903', 'note': ''}, {'id': 'SDRW2100000002.1.1.379', 'form': '그날도 진짜 좋았어.', 'original_form': '그날도 진짜 좋았어.', 'speaker_id': 'SD2100002', 'start': '808.08903', 'end': '810.10898', 'note': '발화겹침'}, {'id': 'SDRW2100000002.1.1.380', 'form': '맞아.', 'original_form': '맞아.', 'speaker_id': 'SD2100001', 'start': '810.00901', 'end': '810.49900', 'note': '발화겹침'}, {'id': 'SDRW2100000002.1.1.381', 'form': '실습 첫날이었나 그랬을 걸 그게.', 'original_form': '실습 첫날이었나 그랬을 걸 그게.', 'speaker_id': 'SD2100001', 'start': '810.98240', 'end': '813.19901', 'note': '발화겹침'}, {'id': 'SDRW2100000002.1.1.382', 'form': '근데 나 그것보다 우리 대면수업 끝나고 목요일에', 'original_form': '근데 나 그것보다 우리 대면수업 끝나고 목요일에', 'speaker_id': 'SD2100002', 'start': '813.12900', 'end': '816.88100', 'note': '발화겹침'}, {'id': 'SDRW2100000002.1.1.383', 'form': '배드', 'original_form': '((배드))', 'speaker_id': 'SD2100002', 'start': '816.88100', 'end': '817.76898', 'note': ''}, {'id': 'SDRW2100000002.1.1.384', 'form': '뭐야 뭐지?', 'original_form': '뭐야 뭐지?', 'speaker_id': 'SD2100002', 'start': '818.02000', 'end': '818.91897', 'note': ''}, {'id': 'SDRW2100000002.1.1.385', 'form': '로제떡볶이 먹었잖아.', 'original_form': '로제떡볶이 먹었잖아.', 'speaker_id': 'SD2100002', 'start': '819.04000', 'end': '820.96898', 'note': ''}, {'id': 'SDRW2100000002.1.1.386', 'form': '아 그 배달시켜서 어.', 'original_form': '아 그 배달시켜서 어.', 'speaker_id': 'SD2100001', 'start': '821.04900', 'end': '822.85900', 'note': '발화겹침'}, {'id': 'SDRW2100000002.1.1.387', 'form': '어.', 'original_form': '어.', 'speaker_id': 'SD2100002', 'start': '822.15898', 'end': '822.94902', 'note': '발화겹침'}, {'id': 'SDRW2100000002.1.1.388', 'form': '그것도 너무 맛있었어.', 'original_form': '그것도 너무 맛있었어.', 'speaker_id': 'SD2100002', 'start': '823.14000', 'end': '824.55000', 'note': '발화겹침'}, {'id': 'SDRW2100000002.1.1.389', 'form': '맞아.', 'original_form': '맞아.', 'speaker_id': 'SD2100001', 'start': '824.40898', 'end': '825.19902', 'note': '발화겹침'}, {'id': 'SDRW2100000002.1.1.390', 'form': '우리 진짜 잘 먹고 다녔다 대단하다.', 'original_form': '우리 진짜 잘 먹고 다녔다 대단하다.', 'speaker_id': 'SD2100001', 'start': '825.19902', 'end': '828.23903', 'note': ''}, {'id': 'SDRW2100000002.1.1.391', 'form': '그리고 또 뭐 시켜 먹은 적 또 없나?', 'original_form': '그리고 또 뭐 시켜 먹은 적 또 없나?', 'speaker_id': 'SD2100002', 'start': '829.42903', 'end': '832.17899', 'note': ''}, {'id': 'SDRW2100000002.1.1.392', 'form': '치킨 시켜 먹지 않았나 한번?', 'original_form': '치킨 시켜 먹지 않았나 한번?', 'speaker_id': 'SD2100001', 'start': '833.44000', 'end': '835.69897', 'note': ''}, {'id': 'SDRW2100000002.1.1.393', 'form': '어디서 어디서?', 'original_form': '어디서 어디서?', 'speaker_id': 'SD2100002', 'start': '836.46899', 'end': '837.71902', 'note': ''}, {'id': 'SDRW2100000002.1.1.394', 'form': '대면 때가 아니라 그냥 1학년 때였나 막', 'original_form': '대면 때가 아니라 그냥 일 학년 때였나 막', 'speaker_id': 'SD2100001', 'start': '838.06899', 'end': '840.75902', 'note': ''}, {'id': 'SDRW2100000002.1.1.395', 'form': '내가 그때 생일 선물로 막 그런 거 받아 갖고', 'original_form': '내가 그때 생일 선물로 막 그런 거 받아 갖고', 'speaker_id': 'SD2100001', 'start': '841.02000', 'end': '843.93900', 'note': ''}, {'id': 'SDRW2100000002.1.1.396', 'form': '치킨 기프티콘 우리 수요일엔가', 'original_form': '치킨 기프티콘 우리 수요일엔가', 'speaker_id': 'SD2100001', 'start': '843.93900', 'end': '846.91900', 'note': ''}, {'id': 'SDRW2100000002.1.1.397', 'form': '마지막 시간이 체육이었잖아.', 'original_form': '마지막 시간이 체육이었잖아.', 'speaker_id': 'SD2100001', 'start': '846.91900', 'end': '848.70703', 'note': ''}, {'id': 'SDRW2100000002.1.1.398', 'form': '같이 맨날 아무나 붙잡고 혹시 나랑 치킨 먹을래', 'original_form': '같이 맨날 아무나 붙잡고 혹시 나랑 치킨 먹을래', 'speaker_id': 'SD2100001', 'start': '848.70703', 'end': '851.51733', 'note': ''}, {'id': 'SDRW2100000002.1.1.399', 'form': '이러면서 4명 만들어서 먹고 그랬었는데.', 'original_form': '이러면서 네 명 만들어서 먹고 그랬었는데.', 'speaker_id': 'SD2100001', 'start': '851.51733', 'end': '854.37000', 'note': '발화겹침'}, {'id': 'SDRW2100000002.1.1.400', 'form': '학생 휴게실에서 우리', 'original_form': '학생 휴게실에서 우리', 'speaker_id': 'SD2100002', 'start': '854.19370', 'end': '856.08000', 'note': '발화겹침'}, {'id': 'SDRW2100000002.1.1.401', 'form': '닭강정 같은 거 같이 먹었잖아.', 'original_form': '닭강정 같은 거 같이 먹었잖아.', 'speaker_id': 'SD2100002', 'start': '856.44000', 'end': '859.19902', 'note': ''}, {'id': 'SDRW2100000002.1.1.402', 'form': '어.', 'original_form': '어.', 'speaker_id': 'SD2100001', 'start': '857.92900', 'end': '859.01897', 'note': '발화겹침'}, {'id': 'SDRW2100000002.1.1.403', 'form': '아 추억이다.', 'original_form': '아 추억이다.', 'speaker_id': 'SD2100001', 'start': '859.45468', 'end': '860.88899', 'note': ''}, {'id': 'SDRW2100000002.1.1.404', 'form': '근데 내가 그때 막 뭐지.', 'original_form': '근데 내가 그때 막 뭐지.', 'speaker_id': 'SD2100002', 'start': '861.42000', 'end': '864.40000', 'note': ''}, {'id': 'SDRW2100000002.1.1.405', 'form': '그래 엉.', 'original_form': '그래 엉.', 'speaker_id': 'SD2100001', 'start': '861.54917', 'end': '862.48070', 'note': '발화겹침'}, {'id': 'SDRW2100000002.1.1.406', 'form': '잘', 'original_form': '잘', 'speaker_id': 'SD2100002', 'start': '864.84659', 'end': '865.55000', 'note': ''}, {'id': 'SDRW2100000002.1.1.407', 'form': '우리 학교 이야기 잘 모르는데 너희가', 'original_form': '우리 학교 이야기 잘 모르는데 너네가', 'speaker_id': 'SD2100002', 'start': '865.76000', 'end': '868.86898', 'note': ''}, {'id': 'SDRW2100000002.1.1.408', 'form': '뭔가 많이 알려 줘 가지고', 'original_form': '뭔가 많이 알려 줘 가지고', 'speaker_id': 'SD2100002', 'start': '869.54100', 'end': '871.93901', 'note': ''}, {'id': 'SDRW2100000002.1.1.409', 'form': '응.', 'original_form': '응.', 'speaker_id': 'SD2100001', 'start': '872.28899', 'end': '873.50898', 'note': ''}, {'id': 'SDRW2100000002.1.1.410', 'form': '좋았어.', 'original_form': '좋았어.', 'speaker_id': 'SD2100002', 'start': '873.91902', 'end': '874.73903', 'note': '발화겹침'}, {'id': 'SDRW2100000002.1.1.411', 'form': '다 추억이구만 그러면', 'original_form': '다 추억이구만 그러면', 'speaker_id': 'SD2100001', 'start': '874.06000', 'end': '876.17903', 'note': '발화겹침'}, {'id': 'SDRW2100000002.1.1.412', 'form': '얘기 나온 김에 메뉴를 추려보자.', 'original_form': '얘기 나온 김에 메뉴를 추려보자.', 'speaker_id': 'SD2100001', 'start': '876.49643', 'end': '878.95900', 'note': ''}, {'id': 'SDRW2100000002.1.1.413', 'form': '그 치킨이랑 떡볶이랑', 'original_form': '그 치킨이랑 떡볶이랑', 'speaker_id': 'SD2100001', 'start': '878.95900', 'end': '881.92902', 'note': ''}, {'id': 'SDRW2100000002.1.1.414', 'form': '아니 갑자기 너무 패스트푸드 위주로 됐는데?', 'original_form': '아니 갑자기 너무 패스트푸드 위주로 됐는데?', 'speaker_id': 'SD2100001', 'start': '882.53273', 'end': '884.95898', 'note': '발화겹침'}, {'id': 'SDRW2100000002.1.1.415', 'form': '왜 난 치킨 좋아 치킨은 건강 음식이라 생각해.', 'original_form': '왜 난 치킨 좋아 치킨은 건강 음식이라 생각해.', 'speaker_id': 'SD2100002', 'start': '884.82898', 'end': '888.52899', 'note': '발화겹침'}, {'id': 'SDRW2100000002.1.1.416', 'form': '그래 맞아 단백질이니까.', 'original_form': '그래 맞아 단백질이니까.', 'speaker_id': 'SD2100001', 'start': '889.05902', 'end': '891.08901', 'note': ''}, {'id': 'SDRW2100000002.1.1.417', 'form': '맞아.', 'original_form': '맞아.', 'speaker_id': 'SD2100002', 'start': '891.52902', 'end': '892.25900', 'note': '발화겹침'}, {'id': 'SDRW2100000002.1.1.418', 'form': '맞아.', 'original_form': '맞아.', 'speaker_id': 'SD2100001', 'start': '892.09902', 'end': '892.58901', 'note': '발화겹침'}, {'id': 'SDRW2100000002.1.1.419', 'form': '그리고 구운 치킨을 먹으면 괜찮아.', 'original_form': '그리고 구운 치킨을 먹으면 괜찮아.', 'speaker_id': 'SD2100002', 'start': '892.55000', 'end': '896.15902', 'note': '발화겹침'}, {'id': 'SDRW2100000002.1.1.420', 'form': '그러면 굽네 배달해서 먹자.', 'original_form': '그러면 굽네 배달해서 먹자.', 'speaker_id': 'SD2100001', 'start': '896.44900', 'end': '899.01897', 'note': ''}, {'id': 'SDRW2100000002.1.1.421', 'form': '그래.', 'original_form': '그래.', 'speaker_id': 'SD2100002', 'start': '899.03899', 'end': '899.71901', 'note': ''}]}]}\n",
      "================================================================================================================================================================================================================================================================================================================================================================================================================================================================================================================================================================================================================================================================================================================================================================================================================================================================================================================================================================================================================================================================================================================================================================================================================================================================================================================================================================================================================================================================================================================================================================================================================================================================================================================================================================================================================================================================================================================================================================================================================================================================================================================================================================================================================================================================================================================================================================================================================================================================================================================================================================================================================================================================================================================================================================================================================================================================================================================================================================================================================================================================================================================================================================================================================================================================================================================================================================================================================================================================================================================================================================================================================================================================================================================================================================================================================================================================================================================================================================================================================================================================================================================================================================\n"
     ]
    }
   ],
   "source": [
    "import json\n",
    "import pandas as pd\n",
    "\n",
    "for file in glob.glob('data/*[12].json'):\n",
    "    with open(file, encoding=\"utf8\") as f:\n",
    "        docs = json.loads(f.read())\n",
    "    print(type(docs))\n",
    "    print(docs)\n",
    "    print(\"=\"*4000)\n"
   ]
  },
  {
   "cell_type": "markdown",
   "id": "05dabd68",
   "metadata": {},
   "source": [
    "## (appendix) transcript을 별도의 file로 저장"
   ]
  },
  {
   "cell_type": "code",
   "execution_count": 206,
   "id": "8201fafd",
   "metadata": {},
   "outputs": [
    {
     "name": "stdout",
     "output_type": "stream",
     "text": [
      "SDRW2100000001\n",
      "SDRW2100000001 SDRW2100000001.1.1.1 너 그래 가지고 우리 저번에 호텔 갔을 때\n",
      "SDRW2100000001 SDRW2100000001.1.1.421 스트리밍 하는 게 나을 것 같아.\n",
      "SDRW2100000001 SDRW2100000001.1.1.422 음\n"
     ]
    }
   ],
   "source": [
    "print(docs_id)\n",
    "\n",
    "directory = 'data/' + docs_id\n",
    "# UTTERANCES\n",
    "###################\n",
    "utt_docs_id = []; # merge할 때 사용하기 위해 \n",
    "utt_ids = []; utt_forms = []\n",
    "for doc in docs['document']:\n",
    "    utts = doc['utterance']\n",
    "    utt_index = 1\n",
    "    for utt in utts:\n",
    "        utt_id = utt['id']\n",
    "        utt_form = utt['form']\n",
    "        utt_index += 1\n",
    "        #print(utt_id, utt_speaker_id, utt_form, '|', utt_oform, '|', utt_start, utt_end, utt_note)\n",
    "        utt_docs_id.append(docs_id)\n",
    "        utt_ids.append(utt_id); utt_forms.append(utt_form); \n",
    "        print(docs_id, utt_id, utt_form)\n",
    "        with open(directory+'/'+utt_id+\".txt\", 'w') as f:\n",
    "            f.write(utt_form)\n"
   ]
  },
  {
   "cell_type": "code",
   "execution_count": null,
   "id": "a7c6a34e",
   "metadata": {},
   "outputs": [],
   "source": []
  }
 ],
 "metadata": {
  "kernelspec": {
   "display_name": "Python 3 (ipykernel)",
   "language": "python",
   "name": "python3"
  },
  "language_info": {
   "codemirror_mode": {
    "name": "ipython",
    "version": 3
   },
   "file_extension": ".py",
   "mimetype": "text/x-python",
   "name": "python",
   "nbconvert_exporter": "python",
   "pygments_lexer": "ipython3",
   "version": "3.10.9"
  }
 },
 "nbformat": 4,
 "nbformat_minor": 5
}
