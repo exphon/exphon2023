{
 "cells": [
  {
   "cell_type": "markdown",
   "id": "64248552",
   "metadata": {},
   "source": [
    "# 실험음성학 연구회 2023"
   ]
  },
  {
   "cell_type": "code",
   "execution_count": null,
   "id": "c6ceb0c2",
   "metadata": {},
   "outputs": [],
   "source": [
    "capital_letter_list = []\n",
    "words = ['Alice', 'alice', 'ALICE', 'aLIce', 'aLICE']\n",
    "\n",
    "for word in words:\n",
    "    capital = word.upper()\n",
    "    capital_letter_list.append(capital)\n",
    "\n",
    "print(capital_letter_list)\n"
   ]
  },
  {
   "cell_type": "code",
   "execution_count": null,
   "id": "d73c3010",
   "metadata": {},
   "outputs": [],
   "source": [
    "fname = \"./data/SDRW2100000001_test.json\"\n",
    "f = open(fname)\n",
    "text = f.read()\n",
    "f.close()\n",
    "print(type(text))\n",
    "print(text)"
   ]
  },
  {
   "cell_type": "code",
   "execution_count": null,
   "id": "98b4c081",
   "metadata": {},
   "outputs": [],
   "source": [
    "with open(\"./data/SDRW2100000001_test.json\") as f:\n",
    "    text = f.read()\n",
    "print(type(text))\n",
    "print(text)"
   ]
  },
  {
   "cell_type": "code",
   "execution_count": null,
   "id": "da750981",
   "metadata": {},
   "outputs": [],
   "source": []
  },
  {
   "cell_type": "code",
   "execution_count": null,
   "id": "77013f26",
   "metadata": {},
   "outputs": [],
   "source": [
    "# 절대 경로 vs. 상대 경로\n",
    "fname = \"/Users/tyoo/Dropbox/work/실험음성학연구회2023/data/SDRW2100000001_test.json\"\n",
    "fname = \"./data/SDRW2100000001_test.json\""
   ]
  },
  {
   "cell_type": "code",
   "execution_count": null,
   "id": "21e278f0",
   "metadata": {},
   "outputs": [],
   "source": [
    "fname = \"./data/SDRW2100000001_test.json\"\n",
    "with open(fname) as f:\n",
    "    text = f.read()\n",
    "print(type(text))\n",
    "print(text)"
   ]
  },
  {
   "cell_type": "code",
   "execution_count": null,
   "id": "68007da8",
   "metadata": {},
   "outputs": [],
   "source": []
  },
  {
   "cell_type": "code",
   "execution_count": null,
   "id": "2ee87d07",
   "metadata": {},
   "outputs": [],
   "source": [
    "import json\n",
    "with open(file) as f:\n",
    "    docs = json.loads(f.read())\n",
    "print(type(docs))\n",
    "print(docs)"
   ]
  },
  {
   "cell_type": "code",
   "execution_count": null,
   "id": "a26f8dbc",
   "metadata": {},
   "outputs": [],
   "source": [
    "json_formatted_str = json.dumps(docs, indent=2, ensure_ascii=False)\n",
    "print(json_formatted_str)"
   ]
  },
  {
   "cell_type": "code",
   "execution_count": null,
   "id": "f15c6d9b",
   "metadata": {},
   "outputs": [],
   "source": [
    "# p 31. dict\n",
    "dict_ex = {'하나':'one', '둘':{'two': 'duo'}, '셋': {\"삼\": 'trio'}}\n",
    "dict_ex['하나']"
   ]
  },
  {
   "cell_type": "code",
   "execution_count": null,
   "id": "c39dc127",
   "metadata": {},
   "outputs": [],
   "source": [
    "dict_ex['둘']"
   ]
  },
  {
   "cell_type": "code",
   "execution_count": null,
   "id": "2f8f0035",
   "metadata": {},
   "outputs": [],
   "source": [
    "dict_ex['셋']['삼']"
   ]
  },
  {
   "cell_type": "markdown",
   "id": "59f25f9f",
   "metadata": {},
   "source": [
    "## Handling JSON data like a dict"
   ]
  },
  {
   "cell_type": "code",
   "execution_count": null,
   "id": "13737185",
   "metadata": {},
   "outputs": [],
   "source": [
    "docs['id']"
   ]
  },
  {
   "cell_type": "code",
   "execution_count": null,
   "id": "4f07b2d7",
   "metadata": {},
   "outputs": [],
   "source": [
    "print(\"***metadata***\")\n",
    "print(docs['metadata'])\n",
    "print(\"***metadata/title***\")\n",
    "print(docs['metadata']['title'])\n",
    "\n",
    "docs_id = docs['id']\n",
    "docs_meta = docs['metadata']\n",
    "docs_title = docs['metadata']['title']\n"
   ]
  },
  {
   "cell_type": "markdown",
   "id": "6a17e88b",
   "metadata": {},
   "source": [
    "- p. 32 Pandas 소개"
   ]
  },
  {
   "cell_type": "markdown",
   "id": "76623156",
   "metadata": {},
   "source": [
    "### From List to DataFrame\n"
   ]
  },
  {
   "cell_type": "code",
   "execution_count": null,
   "id": "a579db93",
   "metadata": {},
   "outputs": [],
   "source": [
    "import pandas as pd\n",
    "sample_list = ['phonetics', 'phonology', 'syntax', 'morphology']\n",
    "df = pd.DataFrame(sample_list, columns=['subject'])\n",
    "df"
   ]
  },
  {
   "cell_type": "code",
   "execution_count": null,
   "id": "dec077f7",
   "metadata": {},
   "outputs": [],
   "source": [
    "import pandas as pd\n",
    "docs_id_list = []\n",
    "docs_id_list.append(docs['id'])\n",
    "docs_id_df = pd.DataFrame(docs_list, columns = ['doc_id'])\n",
    "docs_id_df"
   ]
  },
  {
   "cell_type": "markdown",
   "id": "2d9ac358",
   "metadata": {},
   "source": [
    "## metadata 처리하기"
   ]
  },
  {
   "cell_type": "code",
   "execution_count": null,
   "id": "3856e16b",
   "metadata": {},
   "outputs": [],
   "source": [
    "docs['metadata']"
   ]
  },
  {
   "cell_type": "code",
   "execution_count": null,
   "id": "2a8b115e",
   "metadata": {},
   "outputs": [],
   "source": [
    "docs['metadata']['title']"
   ]
  },
  {
   "cell_type": "code",
   "execution_count": null,
   "id": "4c4a90db",
   "metadata": {},
   "outputs": [],
   "source": [
    "docs_title = docs['metadata']['title']"
   ]
  },
  {
   "cell_type": "code",
   "execution_count": null,
   "id": "8f2095de",
   "metadata": {},
   "outputs": [],
   "source": [
    "docs['metadata']['creator']"
   ]
  },
  {
   "cell_type": "code",
   "execution_count": null,
   "id": "6836a818",
   "metadata": {},
   "outputs": [],
   "source": [
    "docs_creator = docs['metadata']['creator']"
   ]
  },
  {
   "cell_type": "markdown",
   "id": "bcab28f7",
   "metadata": {},
   "source": [
    "### From JSON to LIST"
   ]
  },
  {
   "cell_type": "code",
   "execution_count": null,
   "id": "e1155c42",
   "metadata": {},
   "outputs": [],
   "source": [
    "docs_title_list = []; docs_creator_list = []\n",
    "docs_title_list.append(docs_title)\n",
    "docs_creator_list.append(docs_creator)\n",
    "print(\"TITLE:\", docs_title_list)\n",
    "print(\"CREATOR:\", docs_creator_list)"
   ]
  },
  {
   "cell_type": "markdown",
   "id": "d71ae895",
   "metadata": {},
   "source": [
    "### FROM LISTS to DataFrames"
   ]
  },
  {
   "cell_type": "code",
   "execution_count": null,
   "id": "5305bceb",
   "metadata": {},
   "outputs": [],
   "source": [
    "docs_title_df = pd.DataFrame(docs_title_list, \n",
    "                             columns = ['docs_title'])\n",
    "docs_title_df"
   ]
  },
  {
   "cell_type": "code",
   "execution_count": null,
   "id": "f4d8be45",
   "metadata": {},
   "outputs": [],
   "source": [
    "docs_creator_df = pd.DataFrame(docs_creator_list, \n",
    "                               columns = ['docs_creator'])\n",
    "docs_creator_df"
   ]
  },
  {
   "cell_type": "markdown",
   "id": "17d041d9",
   "metadata": {},
   "source": [
    "### Concatenating two DataFrames"
   ]
  },
  {
   "cell_type": "code",
   "execution_count": null,
   "id": "08552c2b",
   "metadata": {},
   "outputs": [],
   "source": [
    "docs_metadata_df = pd.concat([docs_title_df, docs_creator_df], \n",
    "                             axis=1)\n",
    "docs_metadata_df"
   ]
  },
  {
   "cell_type": "markdown",
   "id": "ae105190",
   "metadata": {},
   "source": [
    "### DIY\n",
    "\n",
    "- docs['metadata']\n",
    "\n",
    "```\n",
    "{'title': '국립국어원 구어 말뭉치 SDRW2100000001', \n",
    " 'creator': '국립국어원',\n",
    " 'distributor': '국립국어원',\n",
    " 'year': '2021',\n",
    " 'category': '구어 > 사적대화 > 일상대화',\n",
    " 'annotation_level': ['원시'],\n",
    " 'sampling': '본문 전체'}\n",
    "```"
   ]
  },
  {
   "cell_type": "code",
   "execution_count": null,
   "id": "29c32d98",
   "metadata": {},
   "outputs": [],
   "source": [
    "docs['metadata']"
   ]
  },
  {
   "cell_type": "markdown",
   "id": "f194231d",
   "metadata": {},
   "source": [
    "### DIY Answer Key"
   ]
  },
  {
   "cell_type": "code",
   "execution_count": null,
   "id": "d8a090ff",
   "metadata": {},
   "outputs": [],
   "source": []
  },
  {
   "cell_type": "markdown",
   "id": "9f9155ef",
   "metadata": {},
   "source": [
    "## document 처리하기"
   ]
  },
  {
   "cell_type": "code",
   "execution_count": null,
   "id": "9fc57923",
   "metadata": {},
   "outputs": [],
   "source": [
    "docs['document']"
   ]
  },
  {
   "cell_type": "code",
   "execution_count": null,
   "id": "b302d46b",
   "metadata": {},
   "outputs": [],
   "source": [
    "docs['document']['metadata']['speaker']"
   ]
  },
  {
   "cell_type": "code",
   "execution_count": null,
   "id": "9f5876bf",
   "metadata": {},
   "outputs": [],
   "source": [
    "print(type(docs['document']))\n"
   ]
  },
  {
   "cell_type": "code",
   "execution_count": null,
   "id": "0114c48d",
   "metadata": {},
   "outputs": [],
   "source": [
    "docs['document'][0]"
   ]
  },
  {
   "cell_type": "code",
   "execution_count": null,
   "id": "08c4220f",
   "metadata": {},
   "outputs": [],
   "source": [
    "docs['document'][0]['metadata']['speaker']"
   ]
  },
  {
   "cell_type": "code",
   "execution_count": null,
   "id": "696914e5",
   "metadata": {},
   "outputs": [],
   "source": [
    "for doc in docs['document']: \n",
    "    print(doc)\n",
    "    print('--'*10)\n",
    "    print(doc['id'])\n",
    "    print('---'*10)\n",
    "    print(doc['metadata'])"
   ]
  },
  {
   "cell_type": "markdown",
   "id": "518ab5cb",
   "metadata": {},
   "source": [
    "## Speaker Processing"
   ]
  },
  {
   "cell_type": "code",
   "execution_count": null,
   "id": "146e3897",
   "metadata": {},
   "outputs": [],
   "source": [
    "speaker = docs['document'][0]['metadata']['speaker']\n",
    "print(speaker)"
   ]
  },
  {
   "cell_type": "code",
   "execution_count": null,
   "id": "62c93cfd",
   "metadata": {},
   "outputs": [],
   "source": [
    "for doc in docs['document']:\n",
    "    speakers = doc['metadata']['speaker']\n",
    "    print(speakers)\n"
   ]
  },
  {
   "cell_type": "code",
   "execution_count": null,
   "id": "d8f3ee6d",
   "metadata": {},
   "outputs": [],
   "source": [
    "for doc in docs['document']:\n",
    "    speakers = doc['metadata']['speaker']\n",
    "    print(speakers)\n",
    "    print('='*20)\n",
    "    speaker_index = 1\n",
    "    for sp in speakers:\n",
    "        print(f\"speaker_{speaker_index}\", \n",
    "              sp['id'], \n",
    "              sp['age'], \n",
    "              sp['occupation'], \n",
    "              sp['sex'], \n",
    "              sp['birthplace'])\n",
    "        speaker_index += 1"
   ]
  },
  {
   "cell_type": "code",
   "execution_count": null,
   "id": "5e1f2800",
   "metadata": {},
   "outputs": [],
   "source": [
    "for doc in docs['document']:\n",
    "    #speakers = doc['metadata']['speaker']\n",
    "    speaker_index = 1\n",
    "    for sp in speakers:\n",
    "        print(f\"speaker_{speaker_index}\", \n",
    "              sp['id'], \n",
    "              sp['age'], \n",
    "              sp['occupation'], \n",
    "              sp['sex'], \n",
    "              sp['birthplace'], end=\" \")\n",
    "        print(sp['principal_residence'], \n",
    "              sp['current_residence'], \n",
    "              sp['education'])\n",
    "        speaker_index += 1"
   ]
  },
  {
   "cell_type": "markdown",
   "id": "9c75e1e0",
   "metadata": {},
   "source": [
    "### Speakers: From JSON to LIST\n"
   ]
  },
  {
   "cell_type": "code",
   "execution_count": null,
   "id": "b7521f8e",
   "metadata": {},
   "outputs": [],
   "source": [
    "speaker_indices = []; speaker_ids = []; speaker_ages = []\n",
    "speaker_occupations = []; speaker_principal_residences = []\n",
    "speaker_sexes = []; speaker_birthplaces = []\n",
    "speaker_current_residences = []; speaker_educations = []\n",
    "\n",
    "for doc in docs['document']:\n",
    "    #print(doc['metadata']['speaker'])\n",
    "    speakers = doc['metadata']['speaker']\n",
    "    #print(type(speakers), dir(list(speakers)))\n",
    "    #print(speakers)\n",
    "    speaker_index = 1\n",
    "    \n",
    "    speaker_list = []\n",
    "    \n",
    "    for sp in speakers:\n",
    "        print(f\"speaker_{speaker_index}\", sp['id'], sp['age'], end=\" \") \n",
    "        print(sp['occupation'], sp['sex'], sp['birthplace'], end=\" \")\n",
    "        print(sp['principal_residence'], sp['current_residence'], end=\" \")\n",
    "        print(sp['education'])\n",
    "        speaker_indices.append(f\"speaker_{speaker_index}\")\n",
    "        speaker_ids.append(sp['id'])\n",
    "        \n",
    "        speaker_index += 1\n",
    "print(speaker_indices, speaker_ids)"
   ]
  },
  {
   "cell_type": "markdown",
   "id": "8633d3d2",
   "metadata": {},
   "source": [
    "### Speakers: From List to DataFrame"
   ]
  },
  {
   "cell_type": "code",
   "execution_count": null,
   "id": "2af43803",
   "metadata": {},
   "outputs": [],
   "source": [
    "speaker_index_df = pd.DataFrame(speaker_indices, \n",
    "                                columns = ['speaker_index'])\n",
    "speaker_id_df = pd.DataFrame(speaker_ids, \n",
    "                             columns = ['speaker_id'])"
   ]
  },
  {
   "cell_type": "code",
   "execution_count": null,
   "id": "f40d7778",
   "metadata": {},
   "outputs": [],
   "source": [
    "speaker_index_df"
   ]
  },
  {
   "cell_type": "code",
   "execution_count": null,
   "id": "4b034d43",
   "metadata": {},
   "outputs": [],
   "source": [
    "speaker_id_df"
   ]
  },
  {
   "cell_type": "code",
   "execution_count": null,
   "id": "f68628c3",
   "metadata": {},
   "outputs": [],
   "source": [
    "speaker_df = pd.concat([speaker_index_df, speaker_id_df], axis=1)\n",
    "speaker_df"
   ]
  },
  {
   "cell_type": "markdown",
   "id": "f4fc4c08",
   "metadata": {},
   "source": [
    "### Speakers: to_csv()"
   ]
  },
  {
   "cell_type": "code",
   "execution_count": null,
   "id": "78f25254",
   "metadata": {},
   "outputs": [],
   "source": [
    "speaker_df.to_csv('speaker.csv')"
   ]
  },
  {
   "cell_type": "markdown",
   "id": "855cf6fe",
   "metadata": {},
   "source": [
    "### Speakers: DIY \n",
    "\n",
    "다른 화자 정보들도 DataFrame의 columns로 만들어 보기\n",
    "\n",
    "- speaker_1 SD2100001 20대 학생 여성 서울 경기 서울 대재\n",
    "- speaker_2 SD2100002 20대 학생 여성 전남 서울 서울 대재\n",
    "\n"
   ]
  },
  {
   "cell_type": "markdown",
   "id": "06990666",
   "metadata": {},
   "source": [
    "### DIY \n",
    "\n",
    "setting 처리하기?\n",
    "```\n",
    "'setting': {'relation': '친구'}},\n",
    "```\n",
    "\n"
   ]
  },
  {
   "cell_type": "code",
   "execution_count": null,
   "id": "c7705efa",
   "metadata": {},
   "outputs": [],
   "source": [
    "#docs"
   ]
  },
  {
   "cell_type": "markdown",
   "id": "d34fdf85",
   "metadata": {},
   "source": [
    "`docs['documnet']`의 데이터타입은 list"
   ]
  },
  {
   "cell_type": "code",
   "execution_count": null,
   "id": "246d1fa4",
   "metadata": {},
   "outputs": [],
   "source": [
    "docs['document'][0]"
   ]
  },
  {
   "cell_type": "code",
   "execution_count": null,
   "id": "775c0c1a",
   "metadata": {},
   "outputs": [],
   "source": [
    "docs['document'][0]['metadata']['setting']"
   ]
  },
  {
   "cell_type": "code",
   "execution_count": null,
   "id": "be0f95d1",
   "metadata": {},
   "outputs": [],
   "source": [
    "for doc in docs['document']:\n",
    "    setting = doc['metadata']['setting']\n",
    "    print(setting)"
   ]
  },
  {
   "cell_type": "markdown",
   "id": "60241299",
   "metadata": {},
   "source": [
    "## Utterance Processing"
   ]
  },
  {
   "cell_type": "code",
   "execution_count": null,
   "id": "1a6bab9b",
   "metadata": {},
   "outputs": [],
   "source": [
    "docs['document'][0]['utterance']"
   ]
  },
  {
   "cell_type": "code",
   "execution_count": null,
   "id": "faeaed69",
   "metadata": {},
   "outputs": [],
   "source": [
    "for doc in docs['document']:\n",
    "    #print(doc['utterance'])\n",
    "    utts = doc['utterance']\n",
    "    utt_index = 1\n",
    "    for utt in utts:\n",
    "        print(utt)\n",
    "        print('-'*60)\n",
    "        utt_id = utt['id']\n",
    "        utt_form = utt['form']\n",
    "        utt_oform = utt['original_form']\n",
    "        # for merge \n",
    "        speaker_id = utt['speaker_id']\n",
    "        utt_start = utt['start']\n",
    "        utt_end = utt['end']\n",
    "        utt_note = utt['note']\n",
    "        utt_index += 1\n",
    "        print(utt_id, '|', utt_speaker_id, '|', utt_form, '|', \n",
    "              utt_oform, '|', utt_start, '|', utt_end, '|',\n",
    "              utt_note, '|' )\n",
    "        print('-'*60)"
   ]
  },
  {
   "cell_type": "code",
   "execution_count": null,
   "id": "137f4011",
   "metadata": {},
   "outputs": [],
   "source": [
    "utt_ids = []; utt_forms = []; utt_oforms = []\n",
    "utt_speaker_ids = []; utt_starts = []; utt_ends = []\n",
    "utt_notes = []; utt_indices = []\n",
    "for doc in docs['document']:\n",
    "    #print(doc['utterance'])\n",
    "    utts = doc['utterance']\n",
    "    utt_index = 1\n",
    "    for utt in utts:\n",
    "        #print(utt)\n",
    "        utt_id = utt['id']\n",
    "        utt_form = utt['form']\n",
    "        utt_oform = utt['original_form']\n",
    "        speaker_id = utt['speaker_id']\n",
    "        utt_start = utt['start']\n",
    "        utt_end = utt['end']\n",
    "        if utt['note'] == '': utt['note'] = \"NA\"\n",
    "        utt_note = utt['note']\n",
    "        utt_index += 1\n",
    "        #print(utt_id, utt_speaker_id, utt_form, '|', utt_oform, '|', utt_start, utt_end, utt_note)\n",
    "        utt_ids.append(utt_id); utt_forms.append(utt_form); \n",
    "        utt_oforms.append(utt_oform)\n",
    "        utt_speaker_ids.append(utt_speaker_id); \n",
    "        utt_starts.append(utt_start)\n",
    "        utt_ends.append(utt_end); utt_notes.append(utt_note); utt_indices.append('utt_index')\n",
    "print(utt_ids)\n",
    "print(utt_speaker_ids)\n",
    "print(utt_forms)\n",
    "print(utt_oforms)\n"
   ]
  },
  {
   "cell_type": "code",
   "execution_count": null,
   "id": "6ee4d316",
   "metadata": {},
   "outputs": [],
   "source": [
    "utt_ids = []; utt_forms = []; utt_oforms = []\n",
    "utt_speaker_ids = []; utt_starts = []; utt_ends = []\n",
    "utt_notes = []; utt_indices = []\n",
    "for doc in docs['document']:\n",
    "    utts = doc['utterance']\n",
    "    utt_index = 1\n",
    "    for utt in utts:\n",
    "        utt_id = utt['id']\n",
    "        utt_form = utt['form']\n",
    "        utt_oform = utt['original_form']\n",
    "        utt_speaker_id = utt['speaker_id']\n",
    "        utt_start = utt['start']\n",
    "        utt_end = utt['end']\n",
    "        if utt['note'] == '': utt['note'] = \"NA\"\n",
    "        utt_note = utt['note']\n",
    "        utt_index += 1\n",
    "        #print(utt_id, utt_speaker_id, utt_form, '|', utt_oform, '|', utt_start, utt_end, utt_note)\n",
    "        utt_ids.append(utt_id); utt_forms.append(utt_form); \n",
    "        utt_oforms.append(utt_oform)\n",
    "        utt_speaker_ids.append(utt_speaker_id); \n",
    "        utt_starts.append(utt_start)\n",
    "        utt_ends.append(utt_end); \n",
    "        utt_notes.append(utt_note); \n",
    "        utt_indices.append('utt_index')\n",
    "utt_ids_df = pd.DataFrame(utt_ids, columns = ['utt_id'])\n",
    "utt_forms_df = pd.DataFrame(utt_forms, columns = ['utt_form'])\n",
    "utt_speaker_ids_df = pd.DataFrame(utt_speaker_ids, \n",
    "                                  columns = ['speaker_id'])\n"
   ]
  },
  {
   "cell_type": "code",
   "execution_count": null,
   "id": "545a4a34",
   "metadata": {},
   "outputs": [],
   "source": [
    "utt_ids_df"
   ]
  },
  {
   "cell_type": "code",
   "execution_count": null,
   "id": "5ac8de06",
   "metadata": {},
   "outputs": [],
   "source": [
    "utt_forms_df"
   ]
  },
  {
   "cell_type": "code",
   "execution_count": null,
   "id": "f5b7ede4",
   "metadata": {},
   "outputs": [],
   "source": [
    "utt_speaker_ids_df"
   ]
  },
  {
   "cell_type": "code",
   "execution_count": null,
   "id": "29fe2ebc",
   "metadata": {},
   "outputs": [],
   "source": [
    "utt_df = pd.concat([utt_ids_df, utt_speaker_ids_df, utt_forms_df], axis=1)"
   ]
  },
  {
   "cell_type": "code",
   "execution_count": null,
   "id": "ec5257dd",
   "metadata": {},
   "outputs": [],
   "source": [
    "utt_df"
   ]
  },
  {
   "cell_type": "code",
   "execution_count": null,
   "id": "f843c4a5",
   "metadata": {},
   "outputs": [],
   "source": [
    "utt_df.to_csv('utterance.csv')"
   ]
  },
  {
   "cell_type": "markdown",
   "id": "7cdcfe99",
   "metadata": {},
   "source": [
    "## doc의 metadata와 utterance의 metadata 합치기"
   ]
  },
  {
   "cell_type": "markdown",
   "id": "73032cef",
   "metadata": {},
   "source": [
    "- pd.join() "
   ]
  },
  {
   "cell_type": "markdown",
   "id": "ab997e6d",
   "metadata": {},
   "source": [
    "## speaker & utterance 합치기 "
   ]
  },
  {
   "cell_type": "markdown",
   "id": "e60edf59",
   "metadata": {},
   "source": [
    "1. utterance dataframe에는 utt_speaker가 있고, 이를 토대로 speaker에 대한 정보를 붙여야 하지 않을까\n",
    "2. 그렇다면 utt_df와 spk_df를 따로 처리한 후, utt_df의 speaker_id 정보를 토대로 spk_df의 speaker_id에 대한 정보를 가지고 와서 병합해야 하지 않을까?\n",
    "3. 따라서 utt_df를 만들 때 우리가 utt_speaker_id라고 했던 column name을 speaker_id로 수정할 필요가 있음."
   ]
  },
  {
   "cell_type": "markdown",
   "id": "e4d39371",
   "metadata": {},
   "source": [
    "### merge "
   ]
  },
  {
   "cell_type": "code",
   "execution_count": null,
   "id": "e9ac349c",
   "metadata": {},
   "outputs": [],
   "source": [
    "utt_df.merge(speaker_df, on=\"speaker_id\")"
   ]
  },
  {
   "cell_type": "markdown",
   "id": "06517e63",
   "metadata": {},
   "source": [
    "## metadata 정보는 utt_df 혹은 speaker_df 에 columns로 첨가할 필요가 있음. "
   ]
  },
  {
   "cell_type": "markdown",
   "id": "ab44d815",
   "metadata": {},
   "source": [
    "- 잘못된 예"
   ]
  },
  {
   "cell_type": "code",
   "execution_count": null,
   "id": "75216121",
   "metadata": {},
   "outputs": [],
   "source": [
    "pd.concat([docs_df, utt_df], axis=1)"
   ]
  },
  {
   "cell_type": "code",
   "execution_count": null,
   "id": "4d56d194",
   "metadata": {},
   "outputs": [],
   "source": [
    "doc_ids = []\n",
    "utt_ids = []; utt_forms = []; utt_oforms = []\n",
    "utt_speaker_ids = []; utt_starts = []; utt_ends = []\n",
    "utt_notes = []; utt_indices = []\n",
    "for doc in docs['document']:\n",
    "    #print(doc['utterance'])\n",
    "    utts = doc['utterance']\n",
    "    utt_index = 1\n",
    "    for utt in utts:\n",
    "        #print(utt)\n",
    "        utt_id = utt['id']\n",
    "        utt_form = utt['form']\n",
    "        utt_oform = utt['original_form']\n",
    "        utt_speaker_id = utt['speaker_id']\n",
    "        utt_start = utt['start']\n",
    "        utt_end = utt['end']\n",
    "        if utt['note'] == '': utt['note'] = \"NA\"\n",
    "        utt_note = utt['note']\n",
    "        utt_index += 1\n",
    "        #print(utt_id, utt_speaker_id, utt_form, '|', utt_oform, '|', utt_start, utt_end, utt_note)\n",
    "        utt_ids.append(utt_id); utt_forms.append(utt_form); utt_oforms.append(utt_oform)\n",
    "        utt_speaker_ids.append(utt_speaker_id); utt_starts.append(utt_start)\n",
    "        utt_ends.append(utt_end); utt_notes.append(utt_note); utt_indices.append('utt_index')\n",
    "        # 기존의 docs_id\n",
    "        doc_ids.append(docs['id'])\n",
    "        \n",
    "doc_ids_df = pd.DataFrame(doc_ids, columns = ['doc_id'])\n",
    "utt_ids_df = pd.DataFrame(utt_ids, columns = ['utt_id'])\n",
    "utt_forms_df = pd.DataFrame(utt_forms, columns = ['utt_form'])\n",
    "utt_speaker_ids_df = pd.DataFrame(utt_speaker_ids, columns = ['utt_speaker_id'])"
   ]
  },
  {
   "cell_type": "code",
   "execution_count": null,
   "id": "e3882a6d",
   "metadata": {},
   "outputs": [],
   "source": [
    "utt_df = pd.concat([doc_ids_df, utt_ids_df, utt_speaker_ids_df, utt_forms_df], axis=1)"
   ]
  },
  {
   "cell_type": "code",
   "execution_count": null,
   "id": "9799170f",
   "metadata": {},
   "outputs": [],
   "source": [
    "utt_df"
   ]
  },
  {
   "cell_type": "markdown",
   "id": "1a8e877b",
   "metadata": {},
   "source": [
    "## DIY \n",
    "- Can you do similarly with the other metadata?"
   ]
  },
  {
   "cell_type": "markdown",
   "id": "3c9a1e17",
   "metadata": {},
   "source": [
    "## Handling files in a directory"
   ]
  },
  {
   "cell_type": "code",
   "execution_count": null,
   "id": "3ec70c25",
   "metadata": {},
   "outputs": [],
   "source": [
    "import glob\n",
    "glob.glob(\"data/*\")"
   ]
  },
  {
   "cell_type": "code",
   "execution_count": null,
   "id": "88a0b79f",
   "metadata": {},
   "outputs": [],
   "source": [
    "for file in glob.glob('data/*.json'):\n",
    "    print(file)"
   ]
  },
  {
   "cell_type": "code",
   "execution_count": null,
   "id": "f628f0d2",
   "metadata": {},
   "outputs": [],
   "source": [
    "for file in glob.glob('data/*[12].json'):\n",
    "    print(file)"
   ]
  },
  {
   "cell_type": "code",
   "execution_count": null,
   "id": "ffec4a04",
   "metadata": {},
   "outputs": [],
   "source": [
    "for file in glob.glob('data/*[12].json'):\n",
    "    with open(file) as f:\n",
    "        docs = json.loads(f.read())\n",
    "    print(type(docs))\n",
    "    print(docs)\n",
    "    print(\"=\"*4000)"
   ]
  },
  {
   "cell_type": "markdown",
   "id": "85032694",
   "metadata": {},
   "source": [
    "# Putting All Together"
   ]
  },
  {
   "cell_type": "markdown",
   "id": "39042b1c",
   "metadata": {},
   "source": [
    "## Processing a single file"
   ]
  },
  {
   "cell_type": "code",
   "execution_count": null,
   "id": "1193ee56",
   "metadata": {},
   "outputs": [],
   "source": [
    "file = \"./data/SDRW2100000001.json\"\n",
    "import json\n",
    "with open(file) as f:\n",
    "    docs = json.loads(f.read())\n",
    "#print(type(docs))\n",
    "#print(docs)\n",
    "\n",
    "json_formatted_str = json.dumps(docs, indent=2, ensure_ascii=False)\n",
    "print(json_formatted_str)\n"
   ]
  },
  {
   "cell_type": "code",
   "execution_count": null,
   "id": "289e4ff0",
   "metadata": {},
   "outputs": [],
   "source": [
    "# ID\n",
    "############\n",
    "\n",
    "docs_id = docs['id']\n",
    "docs_meta = docs['metadata']\n",
    "\n",
    "docs_id_list = []\n",
    "docs_id_list.append(docs['id'])\n",
    "docs_id_df = pd.DataFrame(docs_list, columns = ['doc_id'])\n",
    "\n",
    "# METADATE\n",
    "############\n",
    "docs_title = docs['metadata']['title']\n",
    "docs_creator = docs['metadata']['creator']\n",
    "docs_distributor = docs['metadata']['distributor']\n",
    "docs_year =  docs['metadata']['year']\n",
    "docs_category =  docs['metadata']['category']\n",
    "# annotation_level - list ['원시'] --> [0]을 사용하여 str로 \n",
    "docs_annotation_level =  docs['metadata']['annotation_level'][0]\n",
    "docs_sampling =  docs['metadata']['sampling']\n",
    "\n",
    "docs_title_list = []; docs_creator_list = []\n",
    "docs_distributor_list = []; docs_year_list = []\n",
    "docs_category_list = []; docs_annotation_level_list = []\n",
    "docs_sampling_list = []\n",
    "\n",
    "docs_title_list.append(docs_title)\n",
    "docs_creator_list.append(docs_creator)\n",
    "docs_distributor_list.append(docs_distributor)\n",
    "docs_year_list.append(docs_year)\n",
    "docs_category_list.append(docs_category)\n",
    "docs_annotation_level_list.append(docs_annotation_level)\n",
    "docs_sampling_list.append(docs_sampling)\n",
    "\n",
    "\n",
    "docs_title_df = pd.DataFrame(docs_title_list, columns = ['docs_title'])\n",
    "docs_creator_df = pd.DataFrame(docs_creator_list, columns = ['docs_creator'])\n",
    "docs_distributor_df = pd.DataFrame(docs_distributor_list, columns = ['docs_distributor'])\n",
    "docs_year_df = pd.DataFrame(docs_year_list, columns = ['docs_year'])\n",
    "docs_category_df = pd.DataFrame(docs_category_list, columns = ['docs_category'])\n",
    "docs_annotation_level_df = pd.DataFrame(docs_annotation_level_list, \n",
    "                                        columns = ['docs_annotation_level'])\n",
    "docs_sampling_df = pd.DataFrame(docs_sampling_list, columns = ['docs_sampling'])\n",
    "\n",
    "\n",
    "\n",
    "docs_metadata_df = pd.concat([docs_id_df, docs_title_df, docs_creator_df, \n",
    "                             docs_distributor_df, docs_year_df, docs_category_df,\n",
    "                             docs_annotation_level_df, docs_sampling_df], \n",
    "                             axis=1)\n",
    "# to_csv\n",
    "docs_metadata_df.to_csv(\"docs_metadata.csv\")\n",
    "\n",
    "docs_metadata_df"
   ]
  },
  {
   "cell_type": "code",
   "execution_count": null,
   "id": "51e13064",
   "metadata": {},
   "outputs": [],
   "source": [
    "# UTTERANCE LEVEL\n",
    "# - metadata\n",
    "# - speakers\n",
    "# - setting\n",
    "# - utterance\n",
    "####################\n",
    "\n",
    "# UTTERANCE METADATA\n",
    "#############\n",
    "\n",
    "utt_meta_id_list = []; utt_title_list = []\n",
    "utt_publisher_list = []; utt_date_list = []\n",
    "utt_topic_list = []; utt_setting_list = []\n",
    "\n",
    "utt_meta_id = docs['document'][0]['id']\n",
    "utt_title = docs['document'][0]['metadata']['title']\n",
    "utt_publisher = docs['document'][0]['metadata']['publisher']\n",
    "utt_date = docs['document'][0]['metadata']['date']\n",
    "utt_topic = docs['document'][0]['metadata']['topic']\n",
    "utt_setting = docs['document'][0]['metadata']['setting']['relation']\n",
    "\n",
    "print(utt_meta_id, utt_title, utt_publisher, utt_date, utt_topic, utt_setting)\n",
    "\n",
    "utt_meta_id_list.append(utt_meta_id)\n",
    "utt_title_list.append(utt_title)\n",
    "utt_publisher_list.append(utt_publisher)\n",
    "utt_date_list.append(utt_date)\n",
    "utt_topic_list.append(utt_topic)\n",
    "utt_setting_list.append(utt_setting)\n",
    "\n",
    "utt_meta_df = pd.DataFrame(utt_meta_id_list, columns = ['utt_meta_id'])\n",
    "utt_title_df = pd.DataFrame(utt_title_list, columns = ['utt_title'])\n",
    "utt_publisher_df = pd.DataFrame(utt_publisher_list, columns = ['utt_publisher'])\n",
    "utt_date_df = pd.DataFrame(utt_date_list, columns = ['utt_date'])\n",
    "utt_topic_df = pd.DataFrame(utt_topic_list, columns = ['utt_topic'])\n",
    "utt_setting_df = pd.DataFrame(utt_setting_list, columns = ['utt_setting'])\n",
    "\n",
    "\n",
    "utt_meta_df = pd.concat([utt_meta_df, utt_title_df, \n",
    "                        utt_publisher_df, utt_date_df,\n",
    "                        utt_topic_df, utt_setting_df], axis=1)\n",
    "utt_meta_df\n"
   ]
  },
  {
   "cell_type": "code",
   "execution_count": null,
   "id": "c7039c5f",
   "metadata": {},
   "outputs": [],
   "source": [
    "docs_meta_final = docs_metadata_df.join(utt_meta_df)\n",
    "docs_meta_final"
   ]
  },
  {
   "cell_type": "code",
   "execution_count": null,
   "id": "e8cd8be6",
   "metadata": {},
   "outputs": [],
   "source": [
    "# SPEAKERS\n",
    "################\n",
    "\n",
    "speaker_index_list = []; speaker_id_list = []; speaker_age_list = []\n",
    "speaker_occupation_list = []; speaker_principal_residence_list= []\n",
    "speaker_current_residence_list = []; speaker_sex_list = []\n",
    "speaker_birthplace_list = []; speaker_education_list = []\n",
    "\n",
    "for doc in docs['document']:\n",
    "    #print(doc['metadata']['speaker'])\n",
    "    speakers = doc['metadata']['speaker']\n",
    "    #print(type(speakers), dir(list(speakers)))\n",
    "    #print(speakers)\n",
    "    speaker_index = 1\n",
    "    \n",
    "    speaker_list = []\n",
    "    \n",
    "    for sp in speakers:\n",
    "        print(f\"speaker_{speaker_index}\", sp['id'], sp['age'], end=\" \") \n",
    "        print(sp['occupation'], sp['sex'], sp['birthplace'], end=\" \")\n",
    "        print(sp['principal_residence'], sp['current_residence'], end=\" \")\n",
    "        print(sp['education'])\n",
    "        speaker_index_list.append(f\"speaker_{speaker_index}\")\n",
    "        speaker_id_list.append(sp['id'])\n",
    "        speaker_age_list.append(sp['age'])\n",
    "        speaker_occupation_list.append(sp['occupation'])\n",
    "        speaker_principal_residence_list.append(sp['principal_residence'])\n",
    "        speaker_current_residence_list.append(sp['current_residence'])\n",
    "        speaker_sex_list.append(sp['sex'])\n",
    "        speaker_birthplace_list.append(sp['birthplace'])\n",
    "        speaker_education_list.append(sp['education'])\n",
    "        speaker_index += 1\n",
    "print(speaker_indices, speaker_ids)\n",
    "\n",
    "speaker_index_df = pd.DataFrame(speaker_index_list, \n",
    "                                columns = ['speaker_index'])\n",
    "speaker_id_df = pd.DataFrame(speaker_id_list, \n",
    "                             columns = ['speaker_id'])\n",
    "speaker_age_df = pd.DataFrame(speaker_age_list, \n",
    "                             columns = ['speaker_age'])\n",
    "speaker_occupation_df = pd.DataFrame(speaker_occupation_list, \n",
    "                             columns = ['speaker_occupation'])\n",
    "speaker_sex_df = pd.DataFrame(speaker_sex_list, \n",
    "                             columns = ['speaker_sex'])\n",
    "speaker_birthplace_df = pd.DataFrame(speaker_birthplace_list, \n",
    "                             columns = ['speaker_birthplace'])\n",
    "speaker_principal_residence_df = pd.DataFrame(speaker_principal_residence_list, \n",
    "                             columns = ['speaker_principal_residence'])\n",
    "speaker_current_residence_df = pd.DataFrame(speaker_current_residence_list, \n",
    "                             columns = ['speaker_current_residence'])\n",
    "speaker_education_df = pd.DataFrame(speaker_education_list, \n",
    "                             columns = ['speaker_education'])\n",
    "\n",
    "speaker_df = pd.concat([speaker_index_df, speaker_id_df, \n",
    "                       speaker_age_df, speaker_occupation_df,\n",
    "                       speaker_sex_df, speaker_birthplace_df,\n",
    "                       speaker_principal_residence_df, \n",
    "                       speaker_current_residence_df,\n",
    "                       speaker_education_df], axis=1)\n",
    "speaker_df\n"
   ]
  },
  {
   "cell_type": "code",
   "execution_count": null,
   "id": "a92f96d8",
   "metadata": {},
   "outputs": [],
   "source": []
  },
  {
   "cell_type": "code",
   "execution_count": null,
   "id": "bd65b1ad",
   "metadata": {},
   "outputs": [],
   "source": [
    "print(docs_id)"
   ]
  },
  {
   "cell_type": "code",
   "execution_count": null,
   "id": "e0eadcf1",
   "metadata": {},
   "outputs": [],
   "source": [
    "# UTTERANCES\n",
    "###################\n",
    "utt_docs_id = []; # merge할 때 사용하기 위해 \n",
    "utt_ids = []; utt_forms = []; utt_oforms = []\n",
    "utt_speaker_ids = []; utt_starts = []; utt_ends = []\n",
    "utt_notes = []; utt_indices = []\n",
    "for doc in docs['document']:\n",
    "    utts = doc['utterance']\n",
    "    utt_index = 1\n",
    "    for utt in utts:\n",
    "        utt_id = utt['id']\n",
    "        utt_form = utt['form']\n",
    "        utt_oform = utt['original_form']\n",
    "        utt_speaker_id = utt['speaker_id']\n",
    "        utt_start = utt['start']\n",
    "        utt_end = utt['end']\n",
    "        if utt['note'] == '': utt['note'] = \"NA\"\n",
    "        utt_note = utt['note']\n",
    "        utt_index += 1\n",
    "        #print(utt_id, utt_speaker_id, utt_form, '|', utt_oform, '|', utt_start, utt_end, utt_note)\n",
    "        utt_docs_id.append(docs_id)\n",
    "        utt_ids.append(utt_id); utt_forms.append(utt_form); \n",
    "        utt_oforms.append(utt_oform)\n",
    "        utt_speaker_ids.append(utt_speaker_id); \n",
    "        utt_starts.append(utt_start)\n",
    "        utt_ends.append(utt_end); \n",
    "        utt_notes.append(utt_note); \n",
    "        utt_indices.append('utt_index')\n",
    "\n",
    "        print(docs_id, utt_id, utt_form, utt_oform, utt_speaker_id, utt_start, utt_end, utt_note)\n",
    "\n",
    "utt_docs_id_df = pd.DataFrame(utt_docs_id, columns = ['doc_id'])\n",
    "\n",
    "utt_ids_df = pd.DataFrame(utt_ids, columns = ['utt_id'])\n",
    "utt_forms_df = pd.DataFrame(utt_forms, columns = ['utt_form'])\n",
    "utt_original_forms_df = pd.DataFrame(utt_oforms, columns = ['utt_original_form'])\n",
    "\n",
    "utt_speaker_ids_df = pd.DataFrame(utt_speaker_ids, \n",
    "                                  columns = ['speaker_id'])\n",
    "utt_df = pd.concat([utt_docs_id_df, utt_ids_df, utt_speaker_ids_df, utt_forms_df, \n",
    "                    utt_original_forms_df], axis=1)\n",
    "utt_df\n",
    "\n",
    "\n"
   ]
  },
  {
   "cell_type": "code",
   "execution_count": null,
   "id": "8f802781",
   "metadata": {},
   "outputs": [],
   "source": [
    "utt_docs_id_df"
   ]
  },
  {
   "cell_type": "code",
   "execution_count": null,
   "id": "29602a03",
   "metadata": {},
   "outputs": [],
   "source": [
    "## MERGE\n",
    "##############\n",
    "\n",
    "utt_df_final = utt_df.merge(speaker_df, on=\"speaker_id\")\n",
    "utt_df_final"
   ]
  },
  {
   "cell_type": "code",
   "execution_count": null,
   "id": "020fa16d",
   "metadata": {},
   "outputs": [],
   "source": [
    "docs_meta_final"
   ]
  },
  {
   "cell_type": "code",
   "execution_count": null,
   "id": "fb949296",
   "metadata": {},
   "outputs": [],
   "source": [
    "### final result"
   ]
  },
  {
   "cell_type": "code",
   "execution_count": null,
   "id": "3c7ec07a",
   "metadata": {},
   "outputs": [],
   "source": [
    "df_final = docs_meta_final.merge(utt_df_final, on=\"doc_id\")\n",
    "df_final"
   ]
  },
  {
   "cell_type": "code",
   "execution_count": null,
   "id": "3bd4b090",
   "metadata": {},
   "outputs": [],
   "source": [
    "df_final[['utt_form']]"
   ]
  },
  {
   "cell_type": "markdown",
   "id": "6c33ea96",
   "metadata": {},
   "source": [
    "## Processing multiple files"
   ]
  },
  {
   "cell_type": "code",
   "execution_count": null,
   "id": "3349f97a",
   "metadata": {},
   "outputs": [],
   "source": [
    "import json\n",
    "import pandas as pd\n",
    "\n",
    "for file in glob.glob('data/*[12].json'):\n",
    "    with open(file) as f:\n",
    "        docs = json.loads(f.read())\n",
    "    print(type(docs))\n",
    "    print(docs)\n",
    "    print(\"=\"*4000)\n"
   ]
  },
  {
   "cell_type": "code",
   "execution_count": null,
   "id": "d391aaeb",
   "metadata": {},
   "outputs": [],
   "source": []
  },
  {
   "cell_type": "code",
   "execution_count": null,
   "id": "8201fafd",
   "metadata": {},
   "outputs": [],
   "source": []
  }
 ],
 "metadata": {
  "kernelspec": {
   "display_name": "Python 3 (ipykernel)",
   "language": "python",
   "name": "python3"
  },
  "language_info": {
   "codemirror_mode": {
    "name": "ipython",
    "version": 3
   },
   "file_extension": ".py",
   "mimetype": "text/x-python",
   "name": "python",
   "nbconvert_exporter": "python",
   "pygments_lexer": "ipython3",
   "version": "3.10.9"
  }
 },
 "nbformat": 4,
 "nbformat_minor": 5
}
